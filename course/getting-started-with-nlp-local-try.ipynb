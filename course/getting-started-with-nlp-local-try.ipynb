{
  "cells": [
    {
      "cell_type": "markdown",
      "id": "ece9e8d9",
      "metadata": {
        "id": "ece9e8d9",
        "papermill": {
          "duration": 0.102825,
          "end_time": "2022-05-16T23:18:18.905047",
          "exception": false,
          "start_time": "2022-05-16T23:18:18.802222",
          "status": "completed"
        },
        "tags": []
      },
      "source": [
        "## Introduction"
      ]
    },
    {
      "cell_type": "markdown",
      "id": "0407b5a9",
      "metadata": {
        "id": "0407b5a9",
        "papermill": {
          "duration": 0.098538,
          "end_time": "2022-05-16T23:18:19.107274",
          "exception": false,
          "start_time": "2022-05-16T23:18:19.008736",
          "status": "completed"
        },
        "tags": []
      },
      "source": [
        "One area where deep learning has dramatically improved in the last couple of years is natural language processing (NLP). Computers can now generate text, translate automatically from one language to another, analyze comments, label words in sentences, and much more.\n",
        "\n",
        "Perhaps the most widely practically useful application of NLP is *classification* -- that is, classifying a document automatically into some category. This can be used, for instance, for:\n",
        "\n",
        "- Sentiment analysis (e.g are people saying *positive* or *negative* things about your product)\n",
        "- Author identification (what author most likely wrote some document)\n",
        "- Legal discovery (which documents are in scope for a trial)\n",
        "- Organizing documents by topic\n",
        "- Triaging inbound emails\n",
        "- ...and much more!\n",
        "\n",
        "Classification models can also be used to solve problems that are not, at first, obviously appropriate. For instance, consider the Kaggle [U.S. Patent Phrase to Phrase Matching](https://www.kaggle.com/competitions/us-patent-phrase-to-phrase-matching/) competition. In this, we are tasked with comparing two words or short phrases, and scoring them based on whether they're similar or not, based on which patent class they were used in. With a score of `1` it is considered that the two inputs have identical meaning, and `0` means they have totally different meaning. For instance, *abatement* and *eliminating process* have a score of `0.5`, meaning they're somewhat similar, but not identical.\n",
        "\n",
        "It turns out that this can be represented as a classification problem. How? By representing the question like this:\n",
        "\n",
        "> For the following text...: \"TEXT1: abatement; TEXT2: eliminating process\" ...chose a category of meaning similarity: \"Different; Similar; Identical\".\n",
        "\n",
        "In this notebook we'll see how to solve the Patent Phrase Matching problem by treating it as a classification task, by representing it in a very similar way to that shown above."
      ]
    },
    {
      "cell_type": "markdown",
      "id": "72aef3e5",
      "metadata": {
        "id": "72aef3e5",
        "papermill": {
          "duration": 0.096761,
          "end_time": "2022-05-16T23:18:19.299885",
          "exception": false,
          "start_time": "2022-05-16T23:18:19.203124",
          "status": "completed"
        },
        "tags": []
      },
      "source": [
        "### On Kaggle"
      ]
    },
    {
      "cell_type": "markdown",
      "id": "d7ba1b00",
      "metadata": {
        "id": "d7ba1b00",
        "papermill": {
          "duration": 0.095382,
          "end_time": "2022-05-16T23:18:19.492836",
          "exception": false,
          "start_time": "2022-05-16T23:18:19.397454",
          "status": "completed"
        },
        "tags": []
      },
      "source": [
        "Kaggle is an awesome resource for aspiring data scientists or anyone looking to improve their machine learning skills. There is nothing like being able to get hands-on practice and receiving real-time feedback to help you improve your skills. It provides:\n",
        "\n",
        "1. Interesting data sets\n",
        "1. Feedback on how you're doing\n",
        "1. A leader board to see what's good, what's possible, and what's state-of-art\n",
        "1. Notebooks and blog posts by winning contestants share useful tips and techniques.\n",
        "\n",
        "The dataset we will be using here is only available from Kaggle. Therefore, you will need to register on the site, then go to the [page for the competition](https://www.kaggle.com/c/us-patent-phrase-to-phrase-matching). On that page click \"Rules,\" then \"I Understand and Accept.\" (Although the competition has finished, and you will not be entering it, you still have to agree to the rules to be allowed to download the data.)\n",
        "\n",
        "There are two ways to then use this data:\n",
        "\n",
        "- Easiest: run this notebook directly on Kaggle, or\n",
        "- Most flexible: download the data locally and run it on your PC or GPU server\n",
        "\n",
        "If you are running this on Kaggle.com, you can skip the next section. Just make sure that on Kaggle you've selected to use a GPU during your session, by clicking on the hamburger menu (3 dots in the top right) and clicking \"Accelerator\" -- it should look like this:"
      ]
    },
    {
      "cell_type": "markdown",
      "id": "f7de75fb",
      "metadata": {
        "id": "f7de75fb",
        "papermill": {
          "duration": 0.095452,
          "end_time": "2022-05-16T23:18:19.683195",
          "exception": false,
          "start_time": "2022-05-16T23:18:19.587743",
          "status": "completed"
        },
        "tags": []
      },
      "source": [
        "![image.png](attachment:9af4e875-1f2a-468c-b233-8c91531e4c40.png)!"
      ]
    },
    {
      "cell_type": "markdown",
      "id": "bfd7f80a",
      "metadata": {
        "id": "bfd7f80a",
        "papermill": {
          "duration": 0.094882,
          "end_time": "2022-05-16T23:18:19.873521",
          "exception": false,
          "start_time": "2022-05-16T23:18:19.778639",
          "status": "completed"
        },
        "tags": []
      },
      "source": [
        "We'll need slightly different code depending on whether we're running on Kaggle or not, so we'll use this variable to track where we are:"
      ]
    },
    {
      "cell_type": "code",
      "execution_count": 1,
      "id": "33a0787e",
      "metadata": {},
      "outputs": [],
      "source": [
        "#pip install --upgrade pip"
      ]
    },
    {
      "cell_type": "code",
      "execution_count": 2,
      "id": "a2fd6427",
      "metadata": {
        "execution": {
          "iopub.execute_input": "2022-05-16T23:18:20.069718Z",
          "iopub.status.busy": "2022-05-16T23:18:20.068198Z",
          "iopub.status.idle": "2022-05-16T23:18:20.077629Z",
          "shell.execute_reply": "2022-05-16T23:18:20.078082Z",
          "shell.execute_reply.started": "2022-04-19T22:50:15.58802Z"
        },
        "id": "a2fd6427",
        "papermill": {
          "duration": 0.110699,
          "end_time": "2022-05-16T23:18:20.078308",
          "exception": false,
          "start_time": "2022-05-16T23:18:19.967609",
          "status": "completed"
        },
        "tags": []
      },
      "outputs": [],
      "source": [
        "import os\n",
        "iskaggle = os.environ.get('KAGGLE_KERNEL_RUN_TYPE', '')"
      ]
    },
    {
      "cell_type": "code",
      "execution_count": 3,
      "id": "54e6c511",
      "metadata": {},
      "outputs": [],
      "source": [
        "#!pip install kaggle"
      ]
    },
    {
      "cell_type": "code",
      "execution_count": 4,
      "id": "06d92852",
      "metadata": {},
      "outputs": [],
      "source": [
        "#!pip install datasets"
      ]
    },
    {
      "cell_type": "code",
      "execution_count": 5,
      "id": "ba873705",
      "metadata": {},
      "outputs": [],
      "source": [
        "#!pip install transformers[sentencepiece]"
      ]
    },
    {
      "cell_type": "markdown",
      "id": "48759fa0",
      "metadata": {
        "id": "48759fa0",
        "papermill": {
          "duration": 0.088837,
          "end_time": "2022-05-16T23:18:20.263924",
          "exception": false,
          "start_time": "2022-05-16T23:18:20.175087",
          "status": "completed"
        },
        "tags": []
      },
      "source": [
        "### Using Kaggle data on your own machine"
      ]
    },
    {
      "cell_type": "markdown",
      "id": "8b1ca433",
      "metadata": {
        "id": "8b1ca433",
        "papermill": {
          "duration": 0.15651,
          "end_time": "2022-05-16T23:18:20.564625",
          "exception": false,
          "start_time": "2022-05-16T23:18:20.408115",
          "status": "completed"
        },
        "tags": []
      },
      "source": [
        "Kaggle limits your weekly time using a GPU machine. The limits are very generous, but you may well still find it's not enough! In that case, you'll want to use your own GPU server, or a cloud server such as Colab, Paperspace Gradient, or SageMaker Studio Lab (all of which have free options). To do so, you'll need to be able to download Kaggle datasets.\n",
        "\n",
        "The easiest way to download Kaggle datasets is to use the Kaggle API. You can install this using `pip` by running this in a notebook cell:\n",
        "\n",
        "    !pip install kaggle\n",
        "\n",
        "You need an API key to use the Kaggle API; to get one, click on your profile picture on the Kaggle website, and choose My Account, then click Create New API Token. This will save a file called *kaggle.json* to your PC. You need to copy this key on your GPU server. To do so, open the file you downloaded, copy the contents, and paste them in the following cell (e.g., `creds = '{\"username\":\"xxx\",\"key\":\"xxx\"}'`):"
      ]
    },
    {
      "cell_type": "code",
      "execution_count": 6,
      "id": "xK115jSDoI2l",
      "metadata": {
        "colab": {
          "base_uri": "https://localhost:8080/"
        },
        "id": "xK115jSDoI2l",
        "outputId": "e677c029-22fc-47d3-b280-21a95ba8f6d1"
      },
      "outputs": [],
      "source": [
        "#!pip install kaggle"
      ]
    },
    {
      "cell_type": "code",
      "execution_count": 7,
      "id": "6c52e24b",
      "metadata": {
        "execution": {
          "iopub.execute_input": "2022-05-16T23:18:20.878123Z",
          "iopub.status.busy": "2022-05-16T23:18:20.877241Z",
          "iopub.status.idle": "2022-05-16T23:18:20.879522Z",
          "shell.execute_reply": "2022-05-16T23:18:20.878859Z",
          "shell.execute_reply.started": "2022-04-19T22:50:15.619534Z"
        },
        "id": "6c52e24b",
        "papermill": {
          "duration": 0.161714,
          "end_time": "2022-05-16T23:18:20.879673",
          "exception": false,
          "start_time": "2022-05-16T23:18:20.717959",
          "status": "completed"
        },
        "tags": []
      },
      "outputs": [],
      "source": [
        "creds = '{\"username\":\"artbogdanov\",\"key\":\"c896dcbee655a8f2bf17e34fc875f65b\"}'"
      ]
    },
    {
      "cell_type": "code",
      "execution_count": 8,
      "id": "_HyRyls6oSL_",
      "metadata": {
        "colab": {
          "base_uri": "https://localhost:8080/",
          "height": 35
        },
        "id": "_HyRyls6oSL_",
        "outputId": "59caf920-6a06-46e5-bd01-76c9e31bb960"
      },
      "outputs": [
        {
          "data": {
            "text/plain": [
              "'{\"username\":\"artbogdanov\",\"key\":\"c896dcbee655a8f2bf17e34fc875f65b\"}'"
            ]
          },
          "execution_count": 8,
          "metadata": {},
          "output_type": "execute_result"
        }
      ],
      "source": [
        "creds"
      ]
    },
    {
      "cell_type": "markdown",
      "id": "f73d2a77",
      "metadata": {
        "id": "f73d2a77",
        "papermill": {
          "duration": 0.091829,
          "end_time": "2022-05-16T23:18:21.075422",
          "exception": false,
          "start_time": "2022-05-16T23:18:20.983593",
          "status": "completed"
        },
        "tags": []
      },
      "source": [
        "Then execute this cell (this only needs to be run once):"
      ]
    },
    {
      "cell_type": "code",
      "execution_count": 9,
      "id": "41a7fe66",
      "metadata": {
        "execution": {
          "iopub.execute_input": "2022-05-16T23:18:21.273100Z",
          "iopub.status.busy": "2022-05-16T23:18:21.272324Z",
          "iopub.status.idle": "2022-05-16T23:18:21.275167Z",
          "shell.execute_reply": "2022-05-16T23:18:21.274735Z",
          "shell.execute_reply.started": "2022-04-19T22:50:15.625454Z"
        },
        "id": "41a7fe66",
        "papermill": {
          "duration": 0.105467,
          "end_time": "2022-05-16T23:18:21.275293",
          "exception": false,
          "start_time": "2022-05-16T23:18:21.169826",
          "status": "completed"
        },
        "tags": []
      },
      "outputs": [],
      "source": [
        "# for working with paths in Python, I recommend using `pathlib.Path`\n",
        "from pathlib import Path\n",
        "\n",
        "cred_path = Path('~/.kaggle/kaggle.json').expanduser()\n",
        "if not cred_path.exists():\n",
        "    cred_path.parent.mkdir(exist_ok=True)\n",
        "    cred_path.write_text(creds)\n",
        "    cred_path.chmod(0o600)"
      ]
    },
    {
      "cell_type": "markdown",
      "id": "8cc398d8",
      "metadata": {
        "id": "8cc398d8",
        "papermill": {
          "duration": 0.096152,
          "end_time": "2022-05-16T23:18:21.470375",
          "exception": false,
          "start_time": "2022-05-16T23:18:21.374223",
          "status": "completed"
        },
        "tags": []
      },
      "source": [
        "Now you can download datasets from Kaggle."
      ]
    },
    {
      "cell_type": "code",
      "execution_count": 10,
      "id": "f9240dd6",
      "metadata": {
        "execution": {
          "iopub.execute_input": "2022-05-16T23:18:21.669472Z",
          "iopub.status.busy": "2022-05-16T23:18:21.668423Z",
          "iopub.status.idle": "2022-05-16T23:18:21.671180Z",
          "shell.execute_reply": "2022-05-16T23:18:21.670701Z",
          "shell.execute_reply.started": "2022-04-19T22:50:15.636168Z"
        },
        "id": "f9240dd6",
        "papermill": {
          "duration": 0.104227,
          "end_time": "2022-05-16T23:18:21.671310",
          "exception": false,
          "start_time": "2022-05-16T23:18:21.567083",
          "status": "completed"
        },
        "tags": []
      },
      "outputs": [],
      "source": [
        "path = Path('us-patent-phrase-to-phrase-matching')"
      ]
    },
    {
      "cell_type": "markdown",
      "id": "d3a9b31d",
      "metadata": {
        "id": "d3a9b31d",
        "papermill": {
          "duration": 0.097029,
          "end_time": "2022-05-16T23:18:21.865372",
          "exception": false,
          "start_time": "2022-05-16T23:18:21.768343",
          "status": "completed"
        },
        "tags": []
      },
      "source": [
        "And use the Kaggle API to download the dataset to that path, and extract it:"
      ]
    },
    {
      "cell_type": "code",
      "execution_count": 11,
      "id": "76cd493d",
      "metadata": {
        "execution": {
          "iopub.execute_input": "2022-05-16T23:18:22.063705Z",
          "iopub.status.busy": "2022-05-16T23:18:22.062698Z",
          "iopub.status.idle": "2022-05-16T23:18:22.065286Z",
          "shell.execute_reply": "2022-05-16T23:18:22.064712Z",
          "shell.execute_reply.started": "2022-04-19T22:50:15.645742Z"
        },
        "id": "76cd493d",
        "papermill": {
          "duration": 0.105373,
          "end_time": "2022-05-16T23:18:22.065424",
          "exception": false,
          "start_time": "2022-05-16T23:18:21.960051",
          "status": "completed"
        },
        "tags": []
      },
      "outputs": [],
      "source": [
        "if not iskaggle and not path.exists():\n",
        "    import zipfile,kaggle\n",
        "    kaggle.api.competition_download_cli(str(path))\n",
        "    zipfile.ZipFile(f'{path}.zip').extractall(path)"
      ]
    },
    {
      "cell_type": "markdown",
      "id": "1d234710",
      "metadata": {
        "id": "1d234710",
        "papermill": {
          "duration": 0.096966,
          "end_time": "2022-05-16T23:18:22.259134",
          "exception": false,
          "start_time": "2022-05-16T23:18:22.162168",
          "status": "completed"
        },
        "tags": []
      },
      "source": [
        "Note that you can easily download notebooks from Kaggle and upload them to other cloud services. So if you're low on Kaggle GPU credits, give this a try!"
      ]
    },
    {
      "cell_type": "markdown",
      "id": "04d27700",
      "metadata": {
        "id": "04d27700",
        "papermill": {
          "duration": 0.096057,
          "end_time": "2022-05-16T23:18:22.452686",
          "exception": false,
          "start_time": "2022-05-16T23:18:22.356629",
          "status": "completed"
        },
        "tags": []
      },
      "source": [
        "## Import and EDA"
      ]
    },
    {
      "cell_type": "code",
      "execution_count": 12,
      "id": "7eC3dtRIpusz",
      "metadata": {
        "colab": {
          "base_uri": "https://localhost:8080/"
        },
        "id": "7eC3dtRIpusz",
        "outputId": "c8c68f11-8d7c-4606-8551-be5ea869f794"
      },
      "outputs": [],
      "source": [
        "#!pip install datasets"
      ]
    },
    {
      "cell_type": "code",
      "execution_count": 13,
      "id": "e7d21aca",
      "metadata": {
        "execution": {
          "iopub.execute_input": "2022-05-16T23:18:22.653940Z",
          "iopub.status.busy": "2022-05-16T23:18:22.653136Z",
          "iopub.status.idle": "2022-05-16T23:18:31.317348Z",
          "shell.execute_reply": "2022-05-16T23:18:31.316520Z",
          "shell.execute_reply.started": "2022-04-19T22:50:15.653623Z"
        },
        "id": "e7d21aca",
        "papermill": {
          "duration": 8.767461,
          "end_time": "2022-05-16T23:18:31.317539",
          "exception": false,
          "start_time": "2022-05-16T23:18:22.550078",
          "status": "completed"
        },
        "tags": []
      },
      "outputs": [],
      "source": [
        "if iskaggle:\n",
        "    path = Path('../input/us-patent-phrase-to-phrase-matching')\n"
      ]
    },
    {
      "cell_type": "markdown",
      "id": "e33c3324",
      "metadata": {
        "id": "e33c3324",
        "papermill": {
          "duration": 0.148707,
          "end_time": "2022-05-16T23:18:31.616056",
          "exception": false,
          "start_time": "2022-05-16T23:18:31.467349",
          "status": "completed"
        },
        "tags": []
      },
      "source": [
        "Documents in NLP datasets are generally in one of two main forms:\n",
        "\n",
        "- **Larger documents**: One text file per document, often organised into one folder per category\n",
        "- **Smaller documents**: One document (or document pair, optionally with metadata) per row in a [CSV file](https://realpython.com/python-csv/).\n",
        "\n",
        "Let's look at our data and see what we've got. In Jupyter you can use any bash/shell command by starting a line with a `!`, and use `{}` to include python variables, like so:"
      ]
    },
    {
      "cell_type": "code",
      "execution_count": 14,
      "id": "abd6e692",
      "metadata": {
        "colab": {
          "base_uri": "https://localhost:8080/"
        },
        "execution": {
          "iopub.execute_input": "2022-05-16T23:18:31.900273Z",
          "iopub.status.busy": "2022-05-16T23:18:31.899522Z",
          "iopub.status.idle": "2022-05-16T23:18:32.550557Z",
          "shell.execute_reply": "2022-05-16T23:18:32.550032Z",
          "shell.execute_reply.started": "2022-04-19T22:50:24.320172Z"
        },
        "id": "abd6e692",
        "outputId": "586d8b35-1212-4e88-9d2f-968ffd449802",
        "papermill": {
          "duration": 0.789889,
          "end_time": "2022-05-16T23:18:32.550692",
          "exception": false,
          "start_time": "2022-05-16T23:18:31.760803",
          "status": "completed"
        },
        "tags": []
      },
      "outputs": [
        {
          "name": "stdout",
          "output_type": "stream",
          "text": [
            "sample_submission.csv  test.csv  train.csv\n"
          ]
        }
      ],
      "source": [
        "!ls {path}"
      ]
    },
    {
      "cell_type": "markdown",
      "id": "925425fe",
      "metadata": {
        "id": "925425fe",
        "papermill": {
          "duration": 0.086033,
          "end_time": "2022-05-16T23:18:32.724591",
          "exception": false,
          "start_time": "2022-05-16T23:18:32.638558",
          "status": "completed"
        },
        "tags": []
      },
      "source": [
        "It looks like this competition uses CSV files. For opening, manipulating, and viewing CSV files, it's generally best to use the Pandas library, which is explained brilliantly in [this book](https://wesmckinney.com/book/) by the lead developer (it's also an excellent introduction to matplotlib and numpy, both of which I use in this notebook). Generally it's imported as the abbreviation `pd`."
      ]
    },
    {
      "cell_type": "code",
      "execution_count": 15,
      "id": "1ccad14f",
      "metadata": {
        "execution": {
          "iopub.execute_input": "2022-05-16T23:18:32.903526Z",
          "iopub.status.busy": "2022-05-16T23:18:32.902787Z",
          "iopub.status.idle": "2022-05-16T23:18:32.904904Z",
          "shell.execute_reply": "2022-05-16T23:18:32.905273Z",
          "shell.execute_reply.started": "2022-04-19T22:50:25.029375Z"
        },
        "id": "1ccad14f",
        "papermill": {
          "duration": 0.094094,
          "end_time": "2022-05-16T23:18:32.905420",
          "exception": false,
          "start_time": "2022-05-16T23:18:32.811326",
          "status": "completed"
        },
        "tags": []
      },
      "outputs": [],
      "source": [
        "import pandas as pd"
      ]
    },
    {
      "cell_type": "markdown",
      "id": "b8f0f88b",
      "metadata": {
        "id": "b8f0f88b",
        "papermill": {
          "duration": 0.088323,
          "end_time": "2022-05-16T23:18:33.079444",
          "exception": false,
          "start_time": "2022-05-16T23:18:32.991121",
          "status": "completed"
        },
        "tags": []
      },
      "source": [
        "Let's set a path to our data:"
      ]
    },
    {
      "cell_type": "code",
      "execution_count": 16,
      "id": "410bf8a8",
      "metadata": {
        "execution": {
          "iopub.execute_input": "2022-05-16T23:18:33.257861Z",
          "iopub.status.busy": "2022-05-16T23:18:33.257213Z",
          "iopub.status.idle": "2022-05-16T23:18:33.338741Z",
          "shell.execute_reply": "2022-05-16T23:18:33.338223Z",
          "shell.execute_reply.started": "2022-04-19T22:50:25.036197Z"
        },
        "id": "410bf8a8",
        "papermill": {
          "duration": 0.173142,
          "end_time": "2022-05-16T23:18:33.338883",
          "exception": false,
          "start_time": "2022-05-16T23:18:33.165741",
          "status": "completed"
        },
        "tags": []
      },
      "outputs": [],
      "source": [
        "df = pd.read_csv(path/'train.csv')"
      ]
    },
    {
      "cell_type": "markdown",
      "id": "121e2210",
      "metadata": {
        "id": "121e2210",
        "papermill": {
          "duration": 0.087101,
          "end_time": "2022-05-16T23:18:33.513985",
          "exception": false,
          "start_time": "2022-05-16T23:18:33.426884",
          "status": "completed"
        },
        "tags": []
      },
      "source": [
        "This creates a [DataFrame](https://pandas.pydata.org/docs/user_guide/10min.html), which is a table of named columns, a bit like a database table. To view the first and last rows, and row count of a DataFrame, just type its name:"
      ]
    },
    {
      "cell_type": "code",
      "execution_count": 17,
      "id": "4b298ff1",
      "metadata": {
        "colab": {
          "base_uri": "https://localhost:8080/",
          "height": 424
        },
        "execution": {
          "iopub.execute_input": "2022-05-16T23:18:33.700493Z",
          "iopub.status.busy": "2022-05-16T23:18:33.699888Z",
          "iopub.status.idle": "2022-05-16T23:18:33.715083Z",
          "shell.execute_reply": "2022-05-16T23:18:33.715531Z",
          "shell.execute_reply.started": "2022-04-19T22:50:25.122204Z"
        },
        "id": "4b298ff1",
        "outputId": "11d69fb5-59ed-4d5f-8cd2-2a08ff41f7a6",
        "papermill": {
          "duration": 0.114426,
          "end_time": "2022-05-16T23:18:33.715685",
          "exception": false,
          "start_time": "2022-05-16T23:18:33.601259",
          "status": "completed"
        },
        "tags": []
      },
      "outputs": [
        {
          "data": {
            "text/html": [
              "<div>\n",
              "<style scoped>\n",
              "    .dataframe tbody tr th:only-of-type {\n",
              "        vertical-align: middle;\n",
              "    }\n",
              "\n",
              "    .dataframe tbody tr th {\n",
              "        vertical-align: top;\n",
              "    }\n",
              "\n",
              "    .dataframe thead th {\n",
              "        text-align: right;\n",
              "    }\n",
              "</style>\n",
              "<table border=\"1\" class=\"dataframe\">\n",
              "  <thead>\n",
              "    <tr style=\"text-align: right;\">\n",
              "      <th></th>\n",
              "      <th>id</th>\n",
              "      <th>anchor</th>\n",
              "      <th>target</th>\n",
              "      <th>context</th>\n",
              "      <th>score</th>\n",
              "    </tr>\n",
              "  </thead>\n",
              "  <tbody>\n",
              "    <tr>\n",
              "      <th>0</th>\n",
              "      <td>37d61fd2272659b1</td>\n",
              "      <td>abatement</td>\n",
              "      <td>abatement of pollution</td>\n",
              "      <td>A47</td>\n",
              "      <td>0.50</td>\n",
              "    </tr>\n",
              "    <tr>\n",
              "      <th>1</th>\n",
              "      <td>7b9652b17b68b7a4</td>\n",
              "      <td>abatement</td>\n",
              "      <td>act of abating</td>\n",
              "      <td>A47</td>\n",
              "      <td>0.75</td>\n",
              "    </tr>\n",
              "    <tr>\n",
              "      <th>2</th>\n",
              "      <td>36d72442aefd8232</td>\n",
              "      <td>abatement</td>\n",
              "      <td>active catalyst</td>\n",
              "      <td>A47</td>\n",
              "      <td>0.25</td>\n",
              "    </tr>\n",
              "    <tr>\n",
              "      <th>3</th>\n",
              "      <td>5296b0c19e1ce60e</td>\n",
              "      <td>abatement</td>\n",
              "      <td>eliminating process</td>\n",
              "      <td>A47</td>\n",
              "      <td>0.50</td>\n",
              "    </tr>\n",
              "    <tr>\n",
              "      <th>4</th>\n",
              "      <td>54c1e3b9184cb5b6</td>\n",
              "      <td>abatement</td>\n",
              "      <td>forest region</td>\n",
              "      <td>A47</td>\n",
              "      <td>0.00</td>\n",
              "    </tr>\n",
              "    <tr>\n",
              "      <th>...</th>\n",
              "      <td>...</td>\n",
              "      <td>...</td>\n",
              "      <td>...</td>\n",
              "      <td>...</td>\n",
              "      <td>...</td>\n",
              "    </tr>\n",
              "    <tr>\n",
              "      <th>36468</th>\n",
              "      <td>8e1386cbefd7f245</td>\n",
              "      <td>wood article</td>\n",
              "      <td>wooden article</td>\n",
              "      <td>B44</td>\n",
              "      <td>1.00</td>\n",
              "    </tr>\n",
              "    <tr>\n",
              "      <th>36469</th>\n",
              "      <td>42d9e032d1cd3242</td>\n",
              "      <td>wood article</td>\n",
              "      <td>wooden box</td>\n",
              "      <td>B44</td>\n",
              "      <td>0.50</td>\n",
              "    </tr>\n",
              "    <tr>\n",
              "      <th>36470</th>\n",
              "      <td>208654ccb9e14fa3</td>\n",
              "      <td>wood article</td>\n",
              "      <td>wooden handle</td>\n",
              "      <td>B44</td>\n",
              "      <td>0.50</td>\n",
              "    </tr>\n",
              "    <tr>\n",
              "      <th>36471</th>\n",
              "      <td>756ec035e694722b</td>\n",
              "      <td>wood article</td>\n",
              "      <td>wooden material</td>\n",
              "      <td>B44</td>\n",
              "      <td>0.75</td>\n",
              "    </tr>\n",
              "    <tr>\n",
              "      <th>36472</th>\n",
              "      <td>8d135da0b55b8c88</td>\n",
              "      <td>wood article</td>\n",
              "      <td>wooden substrate</td>\n",
              "      <td>B44</td>\n",
              "      <td>0.50</td>\n",
              "    </tr>\n",
              "  </tbody>\n",
              "</table>\n",
              "<p>36473 rows × 5 columns</p>\n",
              "</div>"
            ],
            "text/plain": [
              "                     id        anchor                  target context  score\n",
              "0      37d61fd2272659b1     abatement  abatement of pollution     A47   0.50\n",
              "1      7b9652b17b68b7a4     abatement          act of abating     A47   0.75\n",
              "2      36d72442aefd8232     abatement         active catalyst     A47   0.25\n",
              "3      5296b0c19e1ce60e     abatement     eliminating process     A47   0.50\n",
              "4      54c1e3b9184cb5b6     abatement           forest region     A47   0.00\n",
              "...                 ...           ...                     ...     ...    ...\n",
              "36468  8e1386cbefd7f245  wood article          wooden article     B44   1.00\n",
              "36469  42d9e032d1cd3242  wood article              wooden box     B44   0.50\n",
              "36470  208654ccb9e14fa3  wood article           wooden handle     B44   0.50\n",
              "36471  756ec035e694722b  wood article         wooden material     B44   0.75\n",
              "36472  8d135da0b55b8c88  wood article        wooden substrate     B44   0.50\n",
              "\n",
              "[36473 rows x 5 columns]"
            ]
          },
          "execution_count": 17,
          "metadata": {},
          "output_type": "execute_result"
        }
      ],
      "source": [
        "df"
      ]
    },
    {
      "cell_type": "markdown",
      "id": "14efc19d",
      "metadata": {
        "id": "14efc19d",
        "papermill": {
          "duration": 0.087104,
          "end_time": "2022-05-16T23:18:33.890429",
          "exception": false,
          "start_time": "2022-05-16T23:18:33.803325",
          "status": "completed"
        },
        "tags": []
      },
      "source": [
        "It's important to carefully read the [dataset description](https://www.kaggle.com/competitions/us-patent-phrase-to-phrase-matching/data) to understand how each of these columns is used.\n",
        "\n",
        "One of the most useful features of `DataFrame` is the `describe()` method:"
      ]
    },
    {
      "cell_type": "code",
      "execution_count": 18,
      "id": "21982274",
      "metadata": {
        "colab": {
          "base_uri": "https://localhost:8080/",
          "height": 175
        },
        "execution": {
          "iopub.execute_input": "2022-05-16T23:18:34.098355Z",
          "iopub.status.busy": "2022-05-16T23:18:34.097454Z",
          "iopub.status.idle": "2022-05-16T23:18:34.145806Z",
          "shell.execute_reply": "2022-05-16T23:18:34.146201Z",
          "shell.execute_reply.started": "2022-04-19T22:50:25.149735Z"
        },
        "id": "21982274",
        "outputId": "ec1a0f11-4d44-4cc1-ccd2-6ea30387ab21",
        "papermill": {
          "duration": 0.16831,
          "end_time": "2022-05-16T23:18:34.146345",
          "exception": false,
          "start_time": "2022-05-16T23:18:33.978035",
          "status": "completed"
        },
        "tags": []
      },
      "outputs": [
        {
          "data": {
            "text/html": [
              "<div>\n",
              "<style scoped>\n",
              "    .dataframe tbody tr th:only-of-type {\n",
              "        vertical-align: middle;\n",
              "    }\n",
              "\n",
              "    .dataframe tbody tr th {\n",
              "        vertical-align: top;\n",
              "    }\n",
              "\n",
              "    .dataframe thead th {\n",
              "        text-align: right;\n",
              "    }\n",
              "</style>\n",
              "<table border=\"1\" class=\"dataframe\">\n",
              "  <thead>\n",
              "    <tr style=\"text-align: right;\">\n",
              "      <th></th>\n",
              "      <th>id</th>\n",
              "      <th>anchor</th>\n",
              "      <th>target</th>\n",
              "      <th>context</th>\n",
              "    </tr>\n",
              "  </thead>\n",
              "  <tbody>\n",
              "    <tr>\n",
              "      <th>count</th>\n",
              "      <td>36473</td>\n",
              "      <td>36473</td>\n",
              "      <td>36473</td>\n",
              "      <td>36473</td>\n",
              "    </tr>\n",
              "    <tr>\n",
              "      <th>unique</th>\n",
              "      <td>36473</td>\n",
              "      <td>733</td>\n",
              "      <td>29340</td>\n",
              "      <td>106</td>\n",
              "    </tr>\n",
              "    <tr>\n",
              "      <th>top</th>\n",
              "      <td>37d61fd2272659b1</td>\n",
              "      <td>component composite coating</td>\n",
              "      <td>composition</td>\n",
              "      <td>H01</td>\n",
              "    </tr>\n",
              "    <tr>\n",
              "      <th>freq</th>\n",
              "      <td>1</td>\n",
              "      <td>152</td>\n",
              "      <td>24</td>\n",
              "      <td>2186</td>\n",
              "    </tr>\n",
              "  </tbody>\n",
              "</table>\n",
              "</div>"
            ],
            "text/plain": [
              "                      id                       anchor       target context\n",
              "count              36473                        36473        36473   36473\n",
              "unique             36473                          733        29340     106\n",
              "top     37d61fd2272659b1  component composite coating  composition     H01\n",
              "freq                   1                          152           24    2186"
            ]
          },
          "execution_count": 18,
          "metadata": {},
          "output_type": "execute_result"
        }
      ],
      "source": [
        "df.describe(include='object')"
      ]
    },
    {
      "cell_type": "markdown",
      "id": "625b4e8b",
      "metadata": {
        "id": "625b4e8b",
        "papermill": {
          "duration": 0.08891,
          "end_time": "2022-05-16T23:18:34.323267",
          "exception": false,
          "start_time": "2022-05-16T23:18:34.234357",
          "status": "completed"
        },
        "tags": []
      },
      "source": [
        "We can see that in the 36473 rows, there are 733 unique anchors, 106 contexts, and nearly 30000 targets. Some anchors are very common, with \"component composite coating\" for instance appearing 152 times.\n",
        "\n",
        "Earlier, I suggested we could represent the input to the model as something like \"*TEXT1: abatement; TEXT2: eliminating process*\". We'll need to add the context to this too. In Pandas, we just use `+` to concatenate, like so:"
      ]
    },
    {
      "cell_type": "code",
      "execution_count": 19,
      "id": "d950dfad",
      "metadata": {
        "execution": {
          "iopub.execute_input": "2022-05-16T23:18:34.525187Z",
          "iopub.status.busy": "2022-05-16T23:18:34.509818Z",
          "iopub.status.idle": "2022-05-16T23:18:34.535058Z",
          "shell.execute_reply": "2022-05-16T23:18:34.534144Z",
          "shell.execute_reply.started": "2022-04-19T22:50:25.226549Z"
        },
        "id": "d950dfad",
        "papermill": {
          "duration": 0.123242,
          "end_time": "2022-05-16T23:18:34.535176",
          "exception": false,
          "start_time": "2022-05-16T23:18:34.411934",
          "status": "completed"
        },
        "tags": []
      },
      "outputs": [],
      "source": [
        "df['input'] = 'TEXT1: ' + df.context + '; TEXT2: ' + df.target + '; ANC1: ' + df.anchor"
      ]
    },
    {
      "cell_type": "markdown",
      "id": "7e74bcd3",
      "metadata": {
        "id": "7e74bcd3",
        "papermill": {
          "duration": 0.088484,
          "end_time": "2022-05-16T23:18:34.712258",
          "exception": false,
          "start_time": "2022-05-16T23:18:34.623774",
          "status": "completed"
        },
        "tags": []
      },
      "source": [
        "We can refer to a column (also known as a *series*) either using regular python \"dotted\" notation, or access it like a dictionary. To get the first few rows, use `head()`:"
      ]
    },
    {
      "cell_type": "code",
      "execution_count": 20,
      "id": "c9bbe94c",
      "metadata": {
        "colab": {
          "base_uri": "https://localhost:8080/"
        },
        "execution": {
          "iopub.execute_input": "2022-05-16T23:18:34.896887Z",
          "iopub.status.busy": "2022-05-16T23:18:34.896259Z",
          "iopub.status.idle": "2022-05-16T23:18:34.899014Z",
          "shell.execute_reply": "2022-05-16T23:18:34.899432Z",
          "shell.execute_reply.started": "2022-04-19T22:50:25.25829Z"
        },
        "id": "c9bbe94c",
        "outputId": "e42cfe23-0aeb-4b1f-bfd6-f41923675e8c",
        "papermill": {
          "duration": 0.09874,
          "end_time": "2022-05-16T23:18:34.899569",
          "exception": false,
          "start_time": "2022-05-16T23:18:34.800829",
          "status": "completed"
        },
        "tags": []
      },
      "outputs": [
        {
          "data": {
            "text/plain": [
              "0    TEXT1: A47; TEXT2: abatement of pollution; ANC...\n",
              "1    TEXT1: A47; TEXT2: act of abating; ANC1: abate...\n",
              "2    TEXT1: A47; TEXT2: active catalyst; ANC1: abat...\n",
              "3    TEXT1: A47; TEXT2: eliminating process; ANC1: ...\n",
              "4    TEXT1: A47; TEXT2: forest region; ANC1: abatement\n",
              "Name: input, dtype: object"
            ]
          },
          "execution_count": 20,
          "metadata": {},
          "output_type": "execute_result"
        }
      ],
      "source": [
        "df.input.head()"
      ]
    },
    {
      "cell_type": "markdown",
      "id": "528ae2cf",
      "metadata": {
        "id": "528ae2cf",
        "papermill": {
          "duration": 0.090197,
          "end_time": "2022-05-16T23:18:35.078246",
          "exception": false,
          "start_time": "2022-05-16T23:18:34.988049",
          "status": "completed"
        },
        "tags": []
      },
      "source": [
        "## Tokenization"
      ]
    },
    {
      "cell_type": "markdown",
      "id": "ff7d7a2a",
      "metadata": {
        "id": "ff7d7a2a",
        "papermill": {
          "duration": 0.08786,
          "end_time": "2022-05-16T23:18:35.254344",
          "exception": false,
          "start_time": "2022-05-16T23:18:35.166484",
          "status": "completed"
        },
        "tags": []
      },
      "source": [
        "Transformers uses a `Dataset` object for storing a... well a dataset, of course! We can create one like so:"
      ]
    },
    {
      "cell_type": "code",
      "execution_count": 21,
      "id": "46fe2b83",
      "metadata": {
        "execution": {
          "iopub.execute_input": "2022-05-16T23:18:35.438352Z",
          "iopub.status.busy": "2022-05-16T23:18:35.437675Z",
          "iopub.status.idle": "2022-05-16T23:18:37.535196Z",
          "shell.execute_reply": "2022-05-16T23:18:37.534706Z",
          "shell.execute_reply.started": "2022-04-19T22:50:25.267906Z"
        },
        "id": "46fe2b83",
        "papermill": {
          "duration": 2.190631,
          "end_time": "2022-05-16T23:18:37.535330",
          "exception": false,
          "start_time": "2022-05-16T23:18:35.344699",
          "status": "completed"
        },
        "tags": []
      },
      "outputs": [
        {
          "name": "stderr",
          "output_type": "stream",
          "text": [
            "/usr/local/lib/python3.8/dist-packages/tqdm/auto.py:22: TqdmWarning: IProgress not found. Please update jupyter and ipywidgets. See https://ipywidgets.readthedocs.io/en/stable/user_install.html\n",
            "  from .autonotebook import tqdm as notebook_tqdm\n"
          ]
        }
      ],
      "source": [
        "from datasets import Dataset,DatasetDict\n",
        "\n",
        "ds = Dataset.from_pandas(df)"
      ]
    },
    {
      "cell_type": "markdown",
      "id": "2a9712b2",
      "metadata": {
        "id": "2a9712b2",
        "papermill": {
          "duration": 0.094487,
          "end_time": "2022-05-16T23:18:37.724881",
          "exception": false,
          "start_time": "2022-05-16T23:18:37.630394",
          "status": "completed"
        },
        "tags": []
      },
      "source": [
        "Here's how it's displayed in a notebook:"
      ]
    },
    {
      "cell_type": "code",
      "execution_count": 22,
      "id": "26089735",
      "metadata": {
        "colab": {
          "base_uri": "https://localhost:8080/"
        },
        "execution": {
          "iopub.execute_input": "2022-05-16T23:18:37.917875Z",
          "iopub.status.busy": "2022-05-16T23:18:37.916717Z",
          "iopub.status.idle": "2022-05-16T23:18:37.920232Z",
          "shell.execute_reply": "2022-05-16T23:18:37.919832Z",
          "shell.execute_reply.started": "2022-04-19T22:50:27.331754Z"
        },
        "id": "26089735",
        "outputId": "4d9fb256-88cf-41bb-d935-3105a221dcae",
        "papermill": {
          "duration": 0.097799,
          "end_time": "2022-05-16T23:18:37.920352",
          "exception": false,
          "start_time": "2022-05-16T23:18:37.822553",
          "status": "completed"
        },
        "tags": []
      },
      "outputs": [
        {
          "data": {
            "text/plain": [
              "Dataset({\n",
              "    features: ['id', 'anchor', 'target', 'context', 'score', 'input'],\n",
              "    num_rows: 36473\n",
              "})"
            ]
          },
          "execution_count": 22,
          "metadata": {},
          "output_type": "execute_result"
        }
      ],
      "source": [
        "ds"
      ]
    },
    {
      "cell_type": "markdown",
      "id": "73bff7b1",
      "metadata": {
        "id": "73bff7b1",
        "papermill": {
          "duration": 0.090915,
          "end_time": "2022-05-16T23:18:38.100934",
          "exception": false,
          "start_time": "2022-05-16T23:18:38.010019",
          "status": "completed"
        },
        "tags": []
      },
      "source": [
        "But we can't pass the texts directly into a model. A deep learning model expects numbers as inputs, not English sentences! So we need to do two things:\n",
        "\n",
        "- *Tokenization*: Split each text up into words (or actually, as we'll see, into *tokens*)\n",
        "- *Numericalization*: Convert each word (or token) into a number.\n",
        "\n",
        "The details about how this is done actually depend on the particular model we use. So first we'll need to pick a model. There are thousands of models available, but a reasonable starting point for nearly any NLP problem is to use this (replace \"small\" with \"large\" for a slower but more accurate model, once you've finished exploring):"
      ]
    },
    {
      "cell_type": "code",
      "execution_count": 23,
      "id": "94f04956",
      "metadata": {
        "execution": {
          "iopub.execute_input": "2022-05-16T23:18:38.291309Z",
          "iopub.status.busy": "2022-05-16T23:18:38.290399Z",
          "iopub.status.idle": "2022-05-16T23:18:38.292739Z",
          "shell.execute_reply": "2022-05-16T23:18:38.292199Z",
          "shell.execute_reply.started": "2022-04-19T22:50:27.345436Z"
        },
        "id": "94f04956",
        "papermill": {
          "duration": 0.103204,
          "end_time": "2022-05-16T23:18:38.292884",
          "exception": false,
          "start_time": "2022-05-16T23:18:38.189680",
          "status": "completed"
        },
        "tags": []
      },
      "outputs": [],
      "source": [
        "model_nm = 'microsoft/deberta-v3-small'"
      ]
    },
    {
      "cell_type": "markdown",
      "id": "f8a437e9",
      "metadata": {
        "id": "f8a437e9",
        "papermill": {
          "duration": 0.08842,
          "end_time": "2022-05-16T23:18:38.471586",
          "exception": false,
          "start_time": "2022-05-16T23:18:38.383166",
          "status": "completed"
        },
        "tags": []
      },
      "source": [
        "`AutoTokenizer` will create a tokenizer appropriate for a given model:"
      ]
    },
    {
      "cell_type": "code",
      "execution_count": 24,
      "id": "poZS44xMsTRw",
      "metadata": {
        "colab": {
          "base_uri": "https://localhost:8080/"
        },
        "id": "poZS44xMsTRw",
        "outputId": "9ed18ec6-e3aa-4428-e15b-84292bbbd34c"
      },
      "outputs": [],
      "source": [
        "#!pip install --upgrade pip"
      ]
    },
    {
      "cell_type": "code",
      "execution_count": 25,
      "id": "OgCuWhxPr-yf",
      "metadata": {
        "colab": {
          "base_uri": "https://localhost:8080/"
        },
        "id": "OgCuWhxPr-yf",
        "outputId": "6954c154-632b-44f8-ea8b-aa4fb16eb475"
      },
      "outputs": [],
      "source": [
        "#!pip install transformers[sentencepiece]"
      ]
    },
    {
      "cell_type": "code",
      "execution_count": 26,
      "id": "80338b5f",
      "metadata": {},
      "outputs": [],
      "source": [
        "#!conda install -c conda-forge ipywidgets -y"
      ]
    },
    {
      "cell_type": "code",
      "execution_count": 27,
      "id": "fcba9623",
      "metadata": {},
      "outputs": [],
      "source": [
        "#!jupyter nbextension enable --py widgetsnbextension"
      ]
    },
    {
      "cell_type": "code",
      "execution_count": 28,
      "id": "9a7191a0",
      "metadata": {
        "colab": {
          "base_uri": "https://localhost:8080/"
        },
        "execution": {
          "iopub.execute_input": "2022-05-16T23:18:38.655835Z",
          "iopub.status.busy": "2022-05-16T23:18:38.655114Z",
          "iopub.status.idle": "2022-05-16T23:18:44.932165Z",
          "shell.execute_reply": "2022-05-16T23:18:44.931194Z",
          "shell.execute_reply.started": "2022-04-19T22:50:27.353989Z"
        },
        "id": "9a7191a0",
        "outputId": "edbdc2f9-6640-4b8d-967a-28d2a62a36a4",
        "papermill": {
          "duration": 6.371289,
          "end_time": "2022-05-16T23:18:44.932308",
          "exception": false,
          "start_time": "2022-05-16T23:18:38.561019",
          "status": "completed"
        },
        "tags": []
      },
      "outputs": [
        {
          "name": "stderr",
          "output_type": "stream",
          "text": [
            "Special tokens have been added in the vocabulary, make sure the associated word embeddings are fine-tuned or trained.\n",
            "/usr/local/lib/python3.8/dist-packages/transformers/convert_slow_tokenizer.py:446: UserWarning: The sentencepiece tokenizer that you are converting to a fast tokenizer uses the byte fallback option which is not implemented in the fast tokenizers. In practice this means that the fast version of the tokenizer can produce unknown tokens whereas the sentencepiece version would have converted these unknown tokens into a sequence of byte tokens matching the original piece of text.\n",
            "  warnings.warn(\n",
            "Special tokens have been added in the vocabulary, make sure the associated word embeddings are fine-tuned or trained.\n"
          ]
        }
      ],
      "source": [
        "from transformers import AutoModelForSequenceClassification,AutoTokenizer\n",
        "tokz = AutoTokenizer.from_pretrained(model_nm)"
      ]
    },
    {
      "cell_type": "markdown",
      "id": "bd495e28",
      "metadata": {
        "id": "bd495e28",
        "papermill": {
          "duration": 0.095077,
          "end_time": "2022-05-16T23:18:45.131869",
          "exception": false,
          "start_time": "2022-05-16T23:18:45.036792",
          "status": "completed"
        },
        "tags": []
      },
      "source": [
        "Here's an example of how the tokenizer splits a text into \"tokens\" (which are like words, but can be sub-word pieces, as you see below):"
      ]
    },
    {
      "cell_type": "code",
      "execution_count": 29,
      "id": "2c972cb4",
      "metadata": {
        "colab": {
          "base_uri": "https://localhost:8080/"
        },
        "execution": {
          "iopub.execute_input": "2022-05-16T23:18:45.320094Z",
          "iopub.status.busy": "2022-05-16T23:18:45.319492Z",
          "iopub.status.idle": "2022-05-16T23:18:45.322225Z",
          "shell.execute_reply": "2022-05-16T23:18:45.322660Z",
          "shell.execute_reply.started": "2022-04-19T22:50:32.889936Z"
        },
        "id": "2c972cb4",
        "outputId": "620645bf-4c96-496f-968f-be6d80f0b38f",
        "papermill": {
          "duration": 0.099704,
          "end_time": "2022-05-16T23:18:45.322809",
          "exception": false,
          "start_time": "2022-05-16T23:18:45.223105",
          "status": "completed"
        },
        "tags": []
      },
      "outputs": [
        {
          "data": {
            "text/plain": [
              "['▁TEXT',\n",
              " '1',\n",
              " ':',\n",
              " '▁A',\n",
              " '47',\n",
              " ';',\n",
              " '▁TEXT',\n",
              " '2',\n",
              " ':',\n",
              " '▁abatement',\n",
              " '▁of',\n",
              " '▁pollution',\n",
              " ';',\n",
              " '▁ANC',\n",
              " '1',\n",
              " ':',\n",
              " '▁abatement']"
            ]
          },
          "execution_count": 29,
          "metadata": {},
          "output_type": "execute_result"
        }
      ],
      "source": [
        "tokz.tokenize(\"TEXT1: A47; TEXT2: abatement of pollution; ANC1: abatement\")"
      ]
    },
    {
      "cell_type": "markdown",
      "id": "e3d6eacc",
      "metadata": {
        "id": "e3d6eacc",
        "papermill": {
          "duration": 0.100207,
          "end_time": "2022-05-16T23:18:45.513113",
          "exception": false,
          "start_time": "2022-05-16T23:18:45.412906",
          "status": "completed"
        },
        "tags": []
      },
      "source": [
        "Uncommon words will be split into pieces. The start of a new word is represented by `▁`:"
      ]
    },
    {
      "cell_type": "code",
      "execution_count": 30,
      "id": "a577550d",
      "metadata": {
        "colab": {
          "base_uri": "https://localhost:8080/"
        },
        "execution": {
          "iopub.execute_input": "2022-05-16T23:18:45.709111Z",
          "iopub.status.busy": "2022-05-16T23:18:45.708496Z",
          "iopub.status.idle": "2022-05-16T23:18:45.711119Z",
          "shell.execute_reply": "2022-05-16T23:18:45.711568Z",
          "shell.execute_reply.started": "2022-04-19T22:50:32.904456Z"
        },
        "id": "a577550d",
        "outputId": "5128d7fc-ead6-4e90-af09-9617a74c120d",
        "papermill": {
          "duration": 0.098427,
          "end_time": "2022-05-16T23:18:45.711709",
          "exception": false,
          "start_time": "2022-05-16T23:18:45.613282",
          "status": "completed"
        },
        "tags": []
      },
      "outputs": [
        {
          "data": {
            "text/plain": [
              "['▁A',\n",
              " '▁platypus',\n",
              " '▁is',\n",
              " '▁an',\n",
              " '▁or',\n",
              " 'ni',\n",
              " 'tho',\n",
              " 'rhynch',\n",
              " 'us',\n",
              " '▁an',\n",
              " 'at',\n",
              " 'inus',\n",
              " '.']"
            ]
          },
          "execution_count": 30,
          "metadata": {},
          "output_type": "execute_result"
        }
      ],
      "source": [
        "tokz.tokenize(\"A platypus is an ornithorhynchus anatinus.\")"
      ]
    },
    {
      "cell_type": "markdown",
      "id": "9b98a677",
      "metadata": {
        "id": "9b98a677",
        "papermill": {
          "duration": 0.090466,
          "end_time": "2022-05-16T23:18:45.892899",
          "exception": false,
          "start_time": "2022-05-16T23:18:45.802433",
          "status": "completed"
        },
        "tags": []
      },
      "source": [
        "Here's a simple function which tokenizes our inputs:"
      ]
    },
    {
      "cell_type": "code",
      "execution_count": 31,
      "id": "5b4df894",
      "metadata": {
        "execution": {
          "iopub.execute_input": "2022-05-16T23:18:46.081044Z",
          "iopub.status.busy": "2022-05-16T23:18:46.079465Z",
          "iopub.status.idle": "2022-05-16T23:18:46.081698Z",
          "shell.execute_reply": "2022-05-16T23:18:46.082102Z",
          "shell.execute_reply.started": "2022-04-19T22:50:32.9125Z"
        },
        "id": "5b4df894",
        "papermill": {
          "duration": 0.098195,
          "end_time": "2022-05-16T23:18:46.082230",
          "exception": false,
          "start_time": "2022-05-16T23:18:45.984035",
          "status": "completed"
        },
        "tags": []
      },
      "outputs": [],
      "source": [
        "def tok_func(x): return tokz(x[\"input\"])"
      ]
    },
    {
      "cell_type": "markdown",
      "id": "5fc5b51f",
      "metadata": {
        "id": "5fc5b51f",
        "papermill": {
          "duration": 0.08984,
          "end_time": "2022-05-16T23:18:46.263955",
          "exception": false,
          "start_time": "2022-05-16T23:18:46.174115",
          "status": "completed"
        },
        "tags": []
      },
      "source": [
        "To run this quickly in parallel on every row in our dataset, use `map`:"
      ]
    },
    {
      "cell_type": "code",
      "execution_count": 32,
      "id": "9dcae86d",
      "metadata": {
        "colab": {
          "base_uri": "https://localhost:8080/",
          "height": 49,
          "referenced_widgets": [
            "921eaeb827034fae91b2d021f4d02448",
            "73cbdc8a401a41ec910a38ceb0114c87",
            "bd9f0204543c410c92d8e51a5418f6cb",
            "e3e3e8bcd31d494fa6d1c502660e4091",
            "6cc667fd2fa843c394aacaa4b68d23b3",
            "a442211255ed4013901bc6ee0a6ee455",
            "ef1c8105b3e549219471807344617216",
            "cab0bd4b226541a2963f6fe64adc2657",
            "ac1c5e4853e049549dc0ef7fcea11007",
            "e265ac64147144679368726435c7b0a7",
            "bcb3d2496cf24fc6820568a252c818ba"
          ]
        },
        "execution": {
          "iopub.execute_input": "2022-05-16T23:18:46.454144Z",
          "iopub.status.busy": "2022-05-16T23:18:46.453303Z",
          "iopub.status.idle": "2022-05-16T23:18:54.033052Z",
          "shell.execute_reply": "2022-05-16T23:18:54.032576Z",
          "shell.execute_reply.started": "2022-04-19T22:50:32.920244Z"
        },
        "id": "9dcae86d",
        "outputId": "b962d5cf-695f-4e44-f6fc-5cc47960f599",
        "papermill": {
          "duration": 7.678097,
          "end_time": "2022-05-16T23:18:54.033180",
          "exception": false,
          "start_time": "2022-05-16T23:18:46.355083",
          "status": "completed"
        },
        "tags": []
      },
      "outputs": [
        {
          "name": "stderr",
          "output_type": "stream",
          "text": [
            "100%|███████████████████████████████████████████| 37/37 [00:02<00:00, 17.29ba/s]\n"
          ]
        }
      ],
      "source": [
        "tok_ds = ds.map(tok_func, batched=True)"
      ]
    },
    {
      "cell_type": "markdown",
      "id": "0dd77a16",
      "metadata": {
        "id": "0dd77a16",
        "papermill": {
          "duration": 0.094896,
          "end_time": "2022-05-16T23:18:54.222495",
          "exception": false,
          "start_time": "2022-05-16T23:18:54.127599",
          "status": "completed"
        },
        "tags": []
      },
      "source": [
        "This adds a new item to our dataset called `input_ids`. For instance, here is the input and IDs for the first row of our data:"
      ]
    },
    {
      "cell_type": "code",
      "execution_count": 33,
      "id": "ef6401c5",
      "metadata": {
        "colab": {
          "base_uri": "https://localhost:8080/"
        },
        "execution": {
          "iopub.execute_input": "2022-05-16T23:18:54.427236Z",
          "iopub.status.busy": "2022-05-16T23:18:54.426628Z",
          "iopub.status.idle": "2022-05-16T23:18:54.429396Z",
          "shell.execute_reply": "2022-05-16T23:18:54.429872Z",
          "shell.execute_reply.started": "2022-04-19T22:50:40.025726Z"
        },
        "id": "ef6401c5",
        "outputId": "ac9ed717-6705-461d-e872-586a92c16eb1",
        "papermill": {
          "duration": 0.10725,
          "end_time": "2022-05-16T23:18:54.430009",
          "exception": false,
          "start_time": "2022-05-16T23:18:54.322759",
          "status": "completed"
        },
        "tags": []
      },
      "outputs": [
        {
          "data": {
            "text/plain": [
              "('TEXT1: A47; TEXT2: abatement of pollution; ANC1: abatement',\n",
              " [1,\n",
              "  54453,\n",
              "  435,\n",
              "  294,\n",
              "  336,\n",
              "  5753,\n",
              "  346,\n",
              "  54453,\n",
              "  445,\n",
              "  294,\n",
              "  47284,\n",
              "  265,\n",
              "  6435,\n",
              "  346,\n",
              "  23702,\n",
              "  435,\n",
              "  294,\n",
              "  47284,\n",
              "  2])"
            ]
          },
          "execution_count": 33,
          "metadata": {},
          "output_type": "execute_result"
        }
      ],
      "source": [
        "row = tok_ds[0]\n",
        "row['input'], row['input_ids']"
      ]
    },
    {
      "cell_type": "markdown",
      "id": "b5dafa61",
      "metadata": {
        "id": "b5dafa61",
        "papermill": {
          "duration": 0.096597,
          "end_time": "2022-05-16T23:18:54.624153",
          "exception": false,
          "start_time": "2022-05-16T23:18:54.527556",
          "status": "completed"
        },
        "tags": []
      },
      "source": [
        "So, what are those IDs and where do they come from? The secret is that there's a list called `vocab` in the tokenizer which contains a unique integer for every possible token string. We can look them up like this, for instance to find the token for the word \"of\":"
      ]
    },
    {
      "cell_type": "code",
      "execution_count": 34,
      "id": "d15fe108",
      "metadata": {
        "colab": {
          "base_uri": "https://localhost:8080/"
        },
        "execution": {
          "iopub.execute_input": "2022-05-16T23:18:54.834285Z",
          "iopub.status.busy": "2022-05-16T23:18:54.833617Z",
          "iopub.status.idle": "2022-05-16T23:18:54.836600Z",
          "shell.execute_reply": "2022-05-16T23:18:54.837081Z",
          "shell.execute_reply.started": "2022-04-19T22:50:40.035118Z"
        },
        "id": "d15fe108",
        "outputId": "a54d5020-5244-47d3-93ad-cf9e6690f440",
        "papermill": {
          "duration": 0.114718,
          "end_time": "2022-05-16T23:18:54.837222",
          "exception": false,
          "start_time": "2022-05-16T23:18:54.722504",
          "status": "completed"
        },
        "tags": []
      },
      "outputs": [
        {
          "data": {
            "text/plain": [
              "273"
            ]
          },
          "execution_count": 34,
          "metadata": {},
          "output_type": "execute_result"
        }
      ],
      "source": [
        "tokz.vocab['▁I']"
      ]
    },
    {
      "cell_type": "markdown",
      "id": "eb58e8bc",
      "metadata": {
        "id": "eb58e8bc",
        "papermill": {
          "duration": 0.105436,
          "end_time": "2022-05-16T23:18:55.050112",
          "exception": false,
          "start_time": "2022-05-16T23:18:54.944676",
          "status": "completed"
        },
        "tags": []
      },
      "source": [
        "Looking above at our input IDs, we do indeed see that `265` appears as expected.\n",
        "\n",
        "Finally, we need to prepare our labels. Transformers always assumes that your labels has the column name `labels`, but in our dataset it's currently `score`. Therefore, we need to rename it:"
      ]
    },
    {
      "cell_type": "code",
      "execution_count": 35,
      "id": "1872e8aa",
      "metadata": {
        "execution": {
          "iopub.execute_input": "2022-05-16T23:18:55.247145Z",
          "iopub.status.busy": "2022-05-16T23:18:55.246268Z",
          "iopub.status.idle": "2022-05-16T23:18:55.249927Z",
          "shell.execute_reply": "2022-05-16T23:18:55.249454Z",
          "shell.execute_reply.started": "2022-04-19T22:50:40.045156Z"
        },
        "id": "1872e8aa",
        "papermill": {
          "duration": 0.101969,
          "end_time": "2022-05-16T23:18:55.250039",
          "exception": false,
          "start_time": "2022-05-16T23:18:55.148070",
          "status": "completed"
        },
        "tags": []
      },
      "outputs": [],
      "source": [
        "tok_ds = tok_ds.rename_columns({'score':'labels'})"
      ]
    },
    {
      "cell_type": "markdown",
      "id": "e458a967",
      "metadata": {
        "id": "e458a967",
        "papermill": {
          "duration": 0.091676,
          "end_time": "2022-05-16T23:18:55.433347",
          "exception": false,
          "start_time": "2022-05-16T23:18:55.341671",
          "status": "completed"
        },
        "tags": []
      },
      "source": [
        "Now that we've prepared our tokens and labels, we need to create our validation set."
      ]
    },
    {
      "cell_type": "markdown",
      "id": "66c7a56c",
      "metadata": {
        "id": "66c7a56c",
        "papermill": {
          "duration": 0.091929,
          "end_time": "2022-05-16T23:18:55.616679",
          "exception": false,
          "start_time": "2022-05-16T23:18:55.524750",
          "status": "completed"
        },
        "tags": []
      },
      "source": [
        "## Test and validation sets"
      ]
    },
    {
      "cell_type": "markdown",
      "id": "64dd7b30",
      "metadata": {
        "id": "64dd7b30",
        "papermill": {
          "duration": 0.105152,
          "end_time": "2022-05-16T23:18:55.814337",
          "exception": false,
          "start_time": "2022-05-16T23:18:55.709185",
          "status": "completed"
        },
        "tags": []
      },
      "source": [
        "You may have noticed that our directory contained another file:"
      ]
    },
    {
      "cell_type": "code",
      "execution_count": 36,
      "id": "6d8868dd",
      "metadata": {},
      "outputs": [
        {
          "data": {
            "text/html": [
              "<div>\n",
              "<style scoped>\n",
              "    .dataframe tbody tr th:only-of-type {\n",
              "        vertical-align: middle;\n",
              "    }\n",
              "\n",
              "    .dataframe tbody tr th {\n",
              "        vertical-align: top;\n",
              "    }\n",
              "\n",
              "    .dataframe thead th {\n",
              "        text-align: right;\n",
              "    }\n",
              "</style>\n",
              "<table border=\"1\" class=\"dataframe\">\n",
              "  <thead>\n",
              "    <tr style=\"text-align: right;\">\n",
              "      <th></th>\n",
              "      <th>id</th>\n",
              "      <th>anchor</th>\n",
              "      <th>target</th>\n",
              "      <th>context</th>\n",
              "    </tr>\n",
              "  </thead>\n",
              "  <tbody>\n",
              "    <tr>\n",
              "      <th>count</th>\n",
              "      <td>36</td>\n",
              "      <td>36</td>\n",
              "      <td>36</td>\n",
              "      <td>36</td>\n",
              "    </tr>\n",
              "    <tr>\n",
              "      <th>unique</th>\n",
              "      <td>36</td>\n",
              "      <td>34</td>\n",
              "      <td>36</td>\n",
              "      <td>29</td>\n",
              "    </tr>\n",
              "    <tr>\n",
              "      <th>top</th>\n",
              "      <td>4112d61851461f60</td>\n",
              "      <td>el display</td>\n",
              "      <td>inorganic photoconductor drum</td>\n",
              "      <td>G02</td>\n",
              "    </tr>\n",
              "    <tr>\n",
              "      <th>freq</th>\n",
              "      <td>1</td>\n",
              "      <td>2</td>\n",
              "      <td>1</td>\n",
              "      <td>3</td>\n",
              "    </tr>\n",
              "  </tbody>\n",
              "</table>\n",
              "</div>"
            ],
            "text/plain": [
              "                      id      anchor                         target context\n",
              "count                 36          36                             36      36\n",
              "unique                36          34                             36      29\n",
              "top     4112d61851461f60  el display  inorganic photoconductor drum     G02\n",
              "freq                   1           2                              1       3"
            ]
          },
          "execution_count": 36,
          "metadata": {},
          "output_type": "execute_result"
        }
      ],
      "source": [
        "eval_df = pd.read_csv(path/'test.csv')\n",
        "eval_df.describe()"
      ]
    },
    {
      "cell_type": "markdown",
      "id": "b72de683",
      "metadata": {
        "id": "b72de683",
        "papermill": {
          "duration": 0.093872,
          "end_time": "2022-05-16T23:18:56.237423",
          "exception": false,
          "start_time": "2022-05-16T23:18:56.143551",
          "status": "completed"
        },
        "tags": []
      },
      "source": [
        "This is the *test set*. Possibly the most important idea in machine learning is that of having separate training, validation, and test data sets."
      ]
    },
    {
      "cell_type": "code",
      "execution_count": 37,
      "id": "d42c9610",
      "metadata": {},
      "outputs": [
        {
          "data": {
            "text/plain": [
              "DatasetDict({\n",
              "    train: Dataset({\n",
              "        features: ['id', 'anchor', 'target', 'context', 'labels', 'input', 'input_ids', 'token_type_ids', 'attention_mask'],\n",
              "        num_rows: 27354\n",
              "    })\n",
              "    test: Dataset({\n",
              "        features: ['id', 'anchor', 'target', 'context', 'labels', 'input', 'input_ids', 'token_type_ids', 'attention_mask'],\n",
              "        num_rows: 9119\n",
              "    })\n",
              "})"
            ]
          },
          "execution_count": 37,
          "metadata": {},
          "output_type": "execute_result"
        }
      ],
      "source": [
        "dds = tok_ds.train_test_split(0.25, seed=42)\n",
        "dds"
      ]
    },
    {
      "cell_type": "code",
      "execution_count": 38,
      "id": "c669b3e1",
      "metadata": {},
      "outputs": [
        {
          "name": "stderr",
          "output_type": "stream",
          "text": [
            "100%|████████████████████████████████████████████| 1/1 [00:00<00:00, 101.02ba/s]\n"
          ]
        }
      ],
      "source": [
        "eval_df['input'] = 'TEXT1: ' + eval_df.context + '; TEXT2: ' + eval_df.target + '; ANC1: ' + eval_df.anchor\n",
        "eval_ds = Dataset.from_pandas(eval_df).map(tok_func, batched=True)"
      ]
    },
    {
      "cell_type": "markdown",
      "id": "ce158a24",
      "metadata": {
        "hidden": true,
        "id": "ce158a24",
        "papermill": {
          "duration": 0.103658,
          "end_time": "2022-05-16T23:19:13.401756",
          "exception": false,
          "start_time": "2022-05-16T23:19:13.298098",
          "status": "completed"
        },
        "tags": []
      },
      "source": [
        "As you see here, a correlation of -0.2 shows a very weak negative trend.\n",
        "\n",
        "We've seen now examples of a variety of levels of correlation coefficient, so hopefully you're getting a good sense of what this metric means.\n",
        "\n",
        "Transformers expects metrics to be returned as a `dict`, since that way the trainer knows what label to use, so let's create a function to do that:"
      ]
    },
    {
      "cell_type": "code",
      "execution_count": 39,
      "id": "a5ff917b",
      "metadata": {
        "execution": {
          "iopub.execute_input": "2022-05-16T23:19:13.612237Z",
          "iopub.status.busy": "2022-05-16T23:19:13.611377Z",
          "iopub.status.idle": "2022-05-16T23:19:13.614160Z",
          "shell.execute_reply": "2022-05-16T23:19:13.613658Z",
          "shell.execute_reply.started": "2022-04-19T22:50:46.715707Z"
        },
        "hidden": true,
        "id": "a5ff917b",
        "papermill": {
          "duration": 0.109782,
          "end_time": "2022-05-16T23:19:13.614283",
          "exception": false,
          "start_time": "2022-05-16T23:19:13.504501",
          "status": "completed"
        },
        "tags": []
      },
      "outputs": [],
      "source": [
        "def corr_d(eval_pred): return {'pearson': corr(*eval_pred)}"
      ]
    },
    {
      "cell_type": "markdown",
      "id": "ed983c51",
      "metadata": {
        "id": "ed983c51",
        "papermill": {
          "duration": 0.102797,
          "end_time": "2022-05-16T23:19:13.819824",
          "exception": false,
          "start_time": "2022-05-16T23:19:13.717027",
          "status": "completed"
        },
        "tags": []
      },
      "source": [
        "## Training"
      ]
    },
    {
      "cell_type": "markdown",
      "id": "352007a6",
      "metadata": {
        "id": "352007a6",
        "papermill": {
          "duration": 0.118052,
          "end_time": "2022-05-16T23:19:14.047292",
          "exception": false,
          "start_time": "2022-05-16T23:19:13.929240",
          "status": "completed"
        },
        "tags": []
      },
      "source": [
        "## Training our model"
      ]
    },
    {
      "cell_type": "markdown",
      "id": "7cc0a49a",
      "metadata": {
        "id": "7cc0a49a",
        "papermill": {
          "duration": 0.102335,
          "end_time": "2022-05-16T23:19:14.253540",
          "exception": false,
          "start_time": "2022-05-16T23:19:14.151205",
          "status": "completed"
        },
        "tags": []
      },
      "source": [
        "To train a model in Transformers we'll need this:"
      ]
    },
    {
      "cell_type": "code",
      "execution_count": 40,
      "id": "811f584f",
      "metadata": {
        "execution": {
          "iopub.execute_input": "2022-05-16T23:19:14.466565Z",
          "iopub.status.busy": "2022-05-16T23:19:14.465852Z",
          "iopub.status.idle": "2022-05-16T23:19:18.918169Z",
          "shell.execute_reply": "2022-05-16T23:19:18.917243Z",
          "shell.execute_reply.started": "2022-04-19T22:50:46.722181Z"
        },
        "id": "811f584f",
        "papermill": {
          "duration": 4.55931,
          "end_time": "2022-05-16T23:19:18.918306",
          "exception": false,
          "start_time": "2022-05-16T23:19:14.358996",
          "status": "completed"
        },
        "tags": []
      },
      "outputs": [],
      "source": [
        "from transformers import TrainingArguments,Trainer"
      ]
    },
    {
      "cell_type": "markdown",
      "id": "bef40f65",
      "metadata": {
        "id": "bef40f65",
        "papermill": {
          "duration": 0.103363,
          "end_time": "2022-05-16T23:19:19.125535",
          "exception": false,
          "start_time": "2022-05-16T23:19:19.022172",
          "status": "completed"
        },
        "tags": []
      },
      "source": [
        "We pick a batch size that fits our GPU, and small number of epochs so we can run experiments quickly:"
      ]
    },
    {
      "cell_type": "code",
      "execution_count": 41,
      "id": "9a7f73b8",
      "metadata": {
        "execution": {
          "iopub.execute_input": "2022-05-16T23:19:19.336295Z",
          "iopub.status.busy": "2022-05-16T23:19:19.334700Z",
          "iopub.status.idle": "2022-05-16T23:19:19.336896Z",
          "shell.execute_reply": "2022-05-16T23:19:19.337294Z",
          "shell.execute_reply.started": "2022-04-19T22:50:50.493351Z"
        },
        "id": "9a7f73b8",
        "papermill": {
          "duration": 0.109762,
          "end_time": "2022-05-16T23:19:19.337450",
          "exception": false,
          "start_time": "2022-05-16T23:19:19.227688",
          "status": "completed"
        },
        "tags": []
      },
      "outputs": [],
      "source": [
        "bs = 48\n",
        "epochs = 1"
      ]
    },
    {
      "cell_type": "markdown",
      "id": "1b9defba",
      "metadata": {
        "id": "1b9defba",
        "papermill": {
          "duration": 0.104127,
          "end_time": "2022-05-16T23:19:19.544960",
          "exception": false,
          "start_time": "2022-05-16T23:19:19.440833",
          "status": "completed"
        },
        "tags": []
      },
      "source": [
        "The most important hyperparameter is the learning rate. fastai provides a learning rate finder to help you figure this out, but Transformers doesn't, so you'll just have to use trial and error. The idea is to find the largest value you can, but which doesn't result in training failing."
      ]
    },
    {
      "cell_type": "code",
      "execution_count": 42,
      "id": "95d56aa8",
      "metadata": {
        "execution": {
          "iopub.execute_input": "2022-05-16T23:19:19.756018Z",
          "iopub.status.busy": "2022-05-16T23:19:19.755174Z",
          "iopub.status.idle": "2022-05-16T23:19:19.757522Z",
          "shell.execute_reply": "2022-05-16T23:19:19.756988Z",
          "shell.execute_reply.started": "2022-04-19T22:50:50.499493Z"
        },
        "id": "95d56aa8",
        "papermill": {
          "duration": 0.109843,
          "end_time": "2022-05-16T23:19:19.757641",
          "exception": false,
          "start_time": "2022-05-16T23:19:19.647798",
          "status": "completed"
        },
        "tags": []
      },
      "outputs": [],
      "source": [
        "lr = 8e-5"
      ]
    },
    {
      "cell_type": "markdown",
      "id": "456eba4a",
      "metadata": {
        "id": "456eba4a",
        "papermill": {
          "duration": 0.104473,
          "end_time": "2022-05-16T23:19:19.964659",
          "exception": false,
          "start_time": "2022-05-16T23:19:19.860186",
          "status": "completed"
        },
        "tags": []
      },
      "source": [
        "Transformers uses the `TrainingArguments` class to set up arguments. Don't worry too much about the values we're using here -- they should generally work fine in most cases. It's just the 3 parameters above that you may need to change for different models."
      ]
    },
    {
      "cell_type": "code",
      "execution_count": 43,
      "id": "e009173f",
      "metadata": {
        "execution": {
          "iopub.execute_input": "2022-05-16T23:19:20.241601Z",
          "iopub.status.busy": "2022-05-16T23:19:20.178470Z",
          "iopub.status.idle": "2022-05-16T23:19:20.247751Z",
          "shell.execute_reply": "2022-05-16T23:19:20.247289Z",
          "shell.execute_reply.started": "2022-04-19T22:50:50.511653Z"
        },
        "id": "e009173f",
        "papermill": {
          "duration": 0.178531,
          "end_time": "2022-05-16T23:19:20.247877",
          "exception": false,
          "start_time": "2022-05-16T23:19:20.069346",
          "status": "completed"
        },
        "tags": []
      },
      "outputs": [],
      "source": [
        "args = TrainingArguments('outputs', learning_rate=lr, warmup_ratio=0.1, lr_scheduler_type='cosine', fp16=True,\n",
        "    evaluation_strategy=\"epoch\", per_device_train_batch_size=bs, per_device_eval_batch_size=bs*2,\n",
        "    num_train_epochs=epochs, weight_decay=0.01, report_to='none')"
      ]
    },
    {
      "cell_type": "markdown",
      "id": "c6f09673",
      "metadata": {
        "id": "c6f09673",
        "papermill": {
          "duration": 0.10325,
          "end_time": "2022-05-16T23:19:20.455326",
          "exception": false,
          "start_time": "2022-05-16T23:19:20.352076",
          "status": "completed"
        },
        "tags": []
      },
      "source": [
        "We can now create our model, and `Trainer`, which is a class which combines the data and model together (just like `Learner` in fastai):"
      ]
    },
    {
      "cell_type": "code",
      "execution_count": 44,
      "id": "c242e16d",
      "metadata": {
        "colab": {
          "referenced_widgets": [
            "06f16c9f0e074c379a708f0fefb12ada"
          ]
        },
        "execution": {
          "iopub.execute_input": "2022-05-16T23:19:20.669564Z",
          "iopub.status.busy": "2022-05-16T23:19:20.668967Z",
          "iopub.status.idle": "2022-05-16T23:19:41.632888Z",
          "shell.execute_reply": "2022-05-16T23:19:41.632215Z",
          "shell.execute_reply.started": "2022-04-19T22:50:50.57276Z"
        },
        "id": "c242e16d",
        "outputId": "9bcbecab-8ec2-437a-a9cf-5242cf6f00fa",
        "papermill": {
          "duration": 21.075395,
          "end_time": "2022-05-16T23:19:41.633043",
          "exception": false,
          "start_time": "2022-05-16T23:19:20.557648",
          "status": "completed"
        },
        "tags": []
      },
      "outputs": [
        {
          "name": "stderr",
          "output_type": "stream",
          "text": [
            "Some weights of the model checkpoint at microsoft/deberta-v3-small were not used when initializing DebertaV2ForSequenceClassification: ['mask_predictions.dense.weight', 'lm_predictions.lm_head.dense.bias', 'mask_predictions.classifier.bias', 'lm_predictions.lm_head.LayerNorm.weight', 'mask_predictions.classifier.weight', 'lm_predictions.lm_head.dense.weight', 'mask_predictions.LayerNorm.bias', 'mask_predictions.dense.bias', 'lm_predictions.lm_head.LayerNorm.bias', 'mask_predictions.LayerNorm.weight', 'lm_predictions.lm_head.bias']\n",
            "- This IS expected if you are initializing DebertaV2ForSequenceClassification from the checkpoint of a model trained on another task or with another architecture (e.g. initializing a BertForSequenceClassification model from a BertForPreTraining model).\n",
            "- This IS NOT expected if you are initializing DebertaV2ForSequenceClassification from the checkpoint of a model that you expect to be exactly identical (initializing a BertForSequenceClassification model from a BertForSequenceClassification model).\n",
            "Some weights of DebertaV2ForSequenceClassification were not initialized from the model checkpoint at microsoft/deberta-v3-small and are newly initialized: ['classifier.weight', 'pooler.dense.weight', 'pooler.dense.bias', 'classifier.bias']\n",
            "You should probably TRAIN this model on a down-stream task to be able to use it for predictions and inference.\n",
            "Using cuda_amp half precision backend\n"
          ]
        }
      ],
      "source": [
        "model = AutoModelForSequenceClassification.from_pretrained(model_nm, num_labels=1)\n",
        "trainer = Trainer(model, args, train_dataset=dds['train'], eval_dataset=dds['test'],\n",
        "                  tokenizer=tokz, compute_metrics=corr_d)"
      ]
    },
    {
      "cell_type": "markdown",
      "id": "e88b0728",
      "metadata": {
        "id": "e88b0728",
        "papermill": {
          "duration": 0.103838,
          "end_time": "2022-05-16T23:19:41.843310",
          "exception": false,
          "start_time": "2022-05-16T23:19:41.739472",
          "status": "completed"
        },
        "tags": []
      },
      "source": [
        "As you see, Transformers spits out lots of warnings. You can safely ignore them.\n",
        "\n",
        "Let's train our model!"
      ]
    },
    {
      "cell_type": "code",
      "execution_count": 45,
      "id": "1a8f21fc",
      "metadata": {
        "execution": {
          "iopub.execute_input": "2022-05-16T23:19:42.058507Z",
          "iopub.status.busy": "2022-05-16T23:19:42.057901Z",
          "iopub.status.idle": "2022-05-16T23:24:41.844317Z",
          "shell.execute_reply": "2022-05-16T23:24:41.843875Z",
          "shell.execute_reply.started": "2022-04-19T22:51:06.370314Z"
        },
        "id": "1a8f21fc",
        "outputId": "b399f942-872f-468f-d9b2-8225e8b77f77",
        "papermill": {
          "duration": 299.896532,
          "end_time": "2022-05-16T23:24:41.844469",
          "exception": false,
          "start_time": "2022-05-16T23:19:41.947937",
          "status": "completed"
        },
        "tags": []
      },
      "outputs": [
        {
          "name": "stderr",
          "output_type": "stream",
          "text": [
            "The following columns in the training set don't have a corresponding argument in `DebertaV2ForSequenceClassification.forward` and have been ignored: target, context, anchor, id, input. If target, context, anchor, id, input are not expected by `DebertaV2ForSequenceClassification.forward`,  you can safely ignore this message.\n",
            "/usr/local/lib/python3.8/dist-packages/transformers/optimization.py:306: FutureWarning: This implementation of AdamW is deprecated and will be removed in a future version. Use the PyTorch implementation torch.optim.AdamW instead, or set `no_deprecation_warning=True` to disable this warning\n",
            "  warnings.warn(\n",
            "***** Running training *****\n",
            "  Num examples = 27354\n",
            "  Num Epochs = 1\n",
            "  Instantaneous batch size per device = 48\n",
            "  Total train batch size (w. parallel, distributed & accumulation) = 48\n",
            "  Gradient Accumulation steps = 1\n",
            "  Total optimization steps = 570\n",
            "  Number of trainable parameters = 141895681\n",
            "You're using a DebertaV2TokenizerFast tokenizer. Please note that with a fast tokenizer, using the `__call__` method is faster than using a method to encode the text followed by a call to the `pad` method to get a padded encoding.\n"
          ]
        },
        {
          "data": {
            "text/html": [
              "\n",
              "    <div>\n",
              "      \n",
              "      <progress value='45' max='570' style='width:300px; height:20px; vertical-align: middle;'></progress>\n",
              "      [ 45/570 01:06 < 13:37, 0.64 it/s, Epoch 0.08/1]\n",
              "    </div>\n",
              "    <table border=\"1\" class=\"dataframe\">\n",
              "  <thead>\n",
              " <tr style=\"text-align: left;\">\n",
              "      <th>Epoch</th>\n",
              "      <th>Training Loss</th>\n",
              "      <th>Validation Loss</th>\n",
              "    </tr>\n",
              "  </thead>\n",
              "  <tbody>\n",
              "  </tbody>\n",
              "</table><p>"
            ],
            "text/plain": [
              "<IPython.core.display.HTML object>"
            ]
          },
          "metadata": {},
          "output_type": "display_data"
        }
      ],
      "source": [
        "trainer.train();"
      ]
    },
    {
      "cell_type": "markdown",
      "id": "f71e4a43",
      "metadata": {
        "id": "f71e4a43",
        "papermill": {
          "duration": 0.128839,
          "end_time": "2022-05-16T23:24:42.089146",
          "exception": false,
          "start_time": "2022-05-16T23:24:41.960307",
          "status": "completed"
        },
        "tags": []
      },
      "source": [
        "Lots more warning from Transformers again -- you can ignore these as before.\n",
        "\n",
        "The key thing to look at is the \"Pearson\" value in table above. As you see, it's increasing, and is already above 0.8. That's great news! We can now submit our predictions to Kaggle if we want them to be scored on the official leaderboard. Let's get some predictions on the test set:"
      ]
    },
    {
      "cell_type": "code",
      "execution_count": null,
      "id": "cc9ff8a9",
      "metadata": {
        "execution": {
          "iopub.execute_input": "2022-05-16T23:24:42.337547Z",
          "iopub.status.busy": "2022-05-16T23:24:42.336666Z",
          "iopub.status.idle": "2022-05-16T23:24:42.387175Z",
          "shell.execute_reply": "2022-05-16T23:24:42.387621Z",
          "shell.execute_reply.started": "2022-04-19T22:56:03.886175Z"
        },
        "id": "cc9ff8a9",
        "outputId": "9da2cae1-e3fe-4c34-f0a0-68ddab97fb90",
        "papermill": {
          "duration": 0.176198,
          "end_time": "2022-05-16T23:24:42.387780",
          "exception": false,
          "start_time": "2022-05-16T23:24:42.211582",
          "status": "completed"
        },
        "tags": []
      },
      "outputs": [
        {
          "name": "stderr",
          "output_type": "stream",
          "text": [
            "The following columns in the test set  don't have a corresponding argument in `DebertaV2ForSequenceClassification.forward` and have been ignored: context, id, target, anchor, input.\n",
            "***** Running Prediction *****\n",
            "  Num examples = 36\n",
            "  Batch size = 256\n"
          ]
        },
        {
          "data": {
            "text/html": [
              "\n",
              "    <div>\n",
              "      \n",
              "      <progress value='1' max='1' style='width:300px; height:20px; vertical-align: middle;'></progress>\n",
              "      [1/1 : < :]\n",
              "    </div>\n",
              "    "
            ],
            "text/plain": [
              "<IPython.core.display.HTML object>"
            ]
          },
          "metadata": {},
          "output_type": "display_data"
        },
        {
          "data": {
            "text/plain": [
              "array([[ 0.51],\n",
              "       [ 0.65],\n",
              "       [ 0.5 ],\n",
              "       [ 0.32],\n",
              "       [-0.04],\n",
              "       [ 0.52],\n",
              "       [ 0.52],\n",
              "       [ 0.07],\n",
              "       [ 0.28],\n",
              "       [ 1.11],\n",
              "       [ 0.25],\n",
              "       [ 0.22],\n",
              "       [ 0.71],\n",
              "       [ 0.88],\n",
              "       [ 0.73],\n",
              "       [ 0.41],\n",
              "       [ 0.33],\n",
              "       [ 0.  ],\n",
              "       [ 0.69],\n",
              "       [ 0.35],\n",
              "       [ 0.4 ],\n",
              "       [ 0.25],\n",
              "       [ 0.12],\n",
              "       [ 0.27],\n",
              "       [ 0.56],\n",
              "       [-0.  ],\n",
              "       [-0.03],\n",
              "       [-0.01],\n",
              "       [-0.03],\n",
              "       [ 0.59],\n",
              "       [ 0.29],\n",
              "       [ 0.03],\n",
              "       [ 0.74],\n",
              "       [ 0.57],\n",
              "       [ 0.46],\n",
              "       [ 0.21]])"
            ]
          },
          "execution_count": 55,
          "metadata": {},
          "output_type": "execute_result"
        }
      ],
      "source": [
        "preds = trainer.predict(eval_ds).predictions.astype(float)\n",
        "preds"
      ]
    },
    {
      "cell_type": "markdown",
      "id": "e7f99fe2",
      "metadata": {
        "id": "e7f99fe2",
        "papermill": {
          "duration": 0.118083,
          "end_time": "2022-05-16T23:24:42.627541",
          "exception": false,
          "start_time": "2022-05-16T23:24:42.509458",
          "status": "completed"
        },
        "tags": []
      },
      "source": [
        "Look out - some of our predictions are <0, or >1! This once again shows the value of remember to actually *look* at your data. Let's fix those out-of-bounds predictions:"
      ]
    },
    {
      "cell_type": "code",
      "execution_count": null,
      "id": "87e31c26",
      "metadata": {
        "execution": {
          "iopub.execute_input": "2022-05-16T23:24:42.887528Z",
          "iopub.status.busy": "2022-05-16T23:24:42.886610Z",
          "iopub.status.idle": "2022-05-16T23:24:42.888262Z",
          "shell.execute_reply": "2022-05-16T23:24:42.888836Z",
          "shell.execute_reply.started": "2022-04-19T22:56:03.940986Z"
        },
        "id": "87e31c26",
        "papermill": {
          "duration": 0.130653,
          "end_time": "2022-05-16T23:24:42.888988",
          "exception": false,
          "start_time": "2022-05-16T23:24:42.758335",
          "status": "completed"
        },
        "tags": []
      },
      "outputs": [],
      "source": [
        "preds = np.clip(preds, 0, 1)"
      ]
    },
    {
      "cell_type": "code",
      "execution_count": null,
      "id": "73ce77ef",
      "metadata": {
        "execution": {
          "iopub.execute_input": "2022-05-16T23:24:43.130852Z",
          "iopub.status.busy": "2022-05-16T23:24:43.130226Z",
          "iopub.status.idle": "2022-05-16T23:24:43.133011Z",
          "shell.execute_reply": "2022-05-16T23:24:43.133433Z",
          "shell.execute_reply.started": "2022-04-19T22:56:03.946586Z"
        },
        "id": "73ce77ef",
        "outputId": "a4618374-e718-48f3-9282-3dc0fc1416c5",
        "papermill": {
          "duration": 0.126485,
          "end_time": "2022-05-16T23:24:43.133567",
          "exception": false,
          "start_time": "2022-05-16T23:24:43.007082",
          "status": "completed"
        },
        "tags": []
      },
      "outputs": [
        {
          "data": {
            "text/plain": [
              "array([[0.51],\n",
              "       [0.65],\n",
              "       [0.5 ],\n",
              "       [0.32],\n",
              "       [0.  ],\n",
              "       [0.52],\n",
              "       [0.52],\n",
              "       [0.07],\n",
              "       [0.28],\n",
              "       [1.  ],\n",
              "       [0.25],\n",
              "       [0.22],\n",
              "       [0.71],\n",
              "       [0.88],\n",
              "       [0.73],\n",
              "       [0.41],\n",
              "       [0.33],\n",
              "       [0.  ],\n",
              "       [0.69],\n",
              "       [0.35],\n",
              "       [0.4 ],\n",
              "       [0.25],\n",
              "       [0.12],\n",
              "       [0.27],\n",
              "       [0.56],\n",
              "       [0.  ],\n",
              "       [0.  ],\n",
              "       [0.  ],\n",
              "       [0.  ],\n",
              "       [0.59],\n",
              "       [0.29],\n",
              "       [0.03],\n",
              "       [0.74],\n",
              "       [0.57],\n",
              "       [0.46],\n",
              "       [0.21]])"
            ]
          },
          "execution_count": 57,
          "metadata": {},
          "output_type": "execute_result"
        }
      ],
      "source": [
        "preds"
      ]
    },
    {
      "cell_type": "markdown",
      "id": "613fd9ce",
      "metadata": {
        "id": "613fd9ce",
        "papermill": {
          "duration": 0.1167,
          "end_time": "2022-05-16T23:24:43.367254",
          "exception": false,
          "start_time": "2022-05-16T23:24:43.250554",
          "status": "completed"
        },
        "tags": []
      },
      "source": [
        "OK, now we're ready to create our submission file. If you save a CSV in your notebook, you will get the option to submit it later."
      ]
    },
    {
      "cell_type": "code",
      "execution_count": null,
      "id": "7b89fb1f",
      "metadata": {
        "colab": {
          "referenced_widgets": [
            "69e68b83bfe144bb95d01c779834cf18"
          ]
        },
        "execution": {
          "iopub.execute_input": "2022-05-16T23:24:43.662645Z",
          "iopub.status.busy": "2022-05-16T23:24:43.661829Z",
          "iopub.status.idle": "2022-05-16T23:24:43.714350Z",
          "shell.execute_reply": "2022-05-16T23:24:43.712706Z",
          "shell.execute_reply.started": "2022-04-19T22:56:03.959351Z"
        },
        "id": "7b89fb1f",
        "outputId": "e91aaee7-9ebc-4203-e146-e3863fe196b0",
        "papermill": {
          "duration": 0.173814,
          "end_time": "2022-05-16T23:24:43.714480",
          "exception": false,
          "start_time": "2022-05-16T23:24:43.540666",
          "status": "completed"
        },
        "tags": []
      },
      "outputs": [
        {
          "data": {
            "application/vnd.jupyter.widget-view+json": {
              "model_id": "69e68b83bfe144bb95d01c779834cf18",
              "version_major": 2,
              "version_minor": 0
            },
            "text/plain": [
              "Creating CSV from Arrow format:   0%|          | 0/1 [00:00<?, ?ba/s]"
            ]
          },
          "metadata": {},
          "output_type": "display_data"
        },
        {
          "data": {
            "text/plain": [
              "857"
            ]
          },
          "execution_count": 58,
          "metadata": {},
          "output_type": "execute_result"
        }
      ],
      "source": [
        "import datasets\n",
        "\n",
        "submission = datasets.Dataset.from_dict({\n",
        "    'id': eval_ds['id'],\n",
        "    'score': preds\n",
        "})\n",
        "\n",
        "submission.to_csv('submission.csv', index=False)"
      ]
    },
    {
      "cell_type": "markdown",
      "id": "b4b0e3cf",
      "metadata": {
        "id": "b4b0e3cf",
        "papermill": {
          "duration": 0.118094,
          "end_time": "2022-05-16T23:24:43.950959",
          "exception": false,
          "start_time": "2022-05-16T23:24:43.832865",
          "status": "completed"
        },
        "tags": []
      },
      "source": [
        "Unfortunately this is a *code competition* and internet access is disabled. That means the `pip install datasets` command we used above won't work if you want to submit to Kaggle. To fix this, you'll need to download the pip installers to Kaggle first, as [described here](https://www.kaggle.com/c/severstal-steel-defect-detection/discussion/113195). Once you've done that, disable internet in your notebook, go to the Kaggle leaderboards page, and click the *Submission* button."
      ]
    },
    {
      "cell_type": "markdown",
      "id": "5cfab1d5",
      "metadata": {
        "id": "5cfab1d5",
        "papermill": {
          "duration": 0.118314,
          "end_time": "2022-05-16T23:24:44.201057",
          "exception": false,
          "start_time": "2022-05-16T23:24:44.082743",
          "status": "completed"
        },
        "tags": []
      },
      "source": [
        "## The end"
      ]
    },
    {
      "cell_type": "markdown",
      "id": "59e989c1",
      "metadata": {
        "id": "59e989c1",
        "papermill": {
          "duration": 0.11781,
          "end_time": "2022-05-16T23:24:44.439635",
          "exception": false,
          "start_time": "2022-05-16T23:24:44.321825",
          "status": "completed"
        },
        "tags": []
      },
      "source": [
        "Once you're ready to go deeper, take a look at my [Iterate Like a Grandmaster](https://www.kaggle.com/code/jhoward/iterate-like-a-grandmaster/) notebook.\n",
        "\n",
        "Thanks for reading! This has been a bit of an experiment for me -- I've never done an \"absolute beginners\" guide before on Kaggle. I hope you like it! If you do, I'd greatly appreciate an upvote. Don't hesitate to add a comment if you have any questions or thoughts to add."
      ]
    }
  ],
  "metadata": {
    "accelerator": "GPU",
    "colab": {
      "provenance": []
    },
    "gpuClass": "standard",
    "kernelspec": {
      "display_name": "Python 3 (ipykernel)",
      "language": "python",
      "name": "python3"
    },
    "language_info": {
      "codemirror_mode": {
        "name": "ipython",
        "version": 3
      },
      "file_extension": ".py",
      "mimetype": "text/x-python",
      "name": "python",
      "nbconvert_exporter": "python",
      "pygments_lexer": "ipython3",
      "version": "3.8.10"
    },
    "papermill": {
      "default_parameters": {},
      "duration": 396.918297,
      "end_time": "2022-05-16T23:24:47.551396",
      "environment_variables": {},
      "exception": null,
      "input_path": "__notebook__.ipynb",
      "output_path": "__notebook__.ipynb",
      "parameters": {},
      "start_time": "2022-05-16T23:18:10.633099",
      "version": "2.3.3"
    },
    "widgets": {
      "application/vnd.jupyter.widget-state+json": {
        "105e16af4bb64ba08a63bc45162c5504": {
          "model_module": "@jupyter-widgets/controls",
          "model_module_version": "1.5.0",
          "model_name": "HTMLModel",
          "state": {
            "_dom_classes": [],
            "_model_module": "@jupyter-widgets/controls",
            "_model_module_version": "1.5.0",
            "_model_name": "HTMLModel",
            "_view_count": null,
            "_view_module": "@jupyter-widgets/controls",
            "_view_module_version": "1.5.0",
            "_view_name": "HTMLView",
            "description": "",
            "description_tooltip": null,
            "layout": "IPY_MODEL_c7dfc4aaf77446bebe9f784ef03a6e64",
            "placeholder": "​",
            "style": "IPY_MODEL_f92dbe14b2fa4d3c982a73b083681263",
            "value": "100%"
          }
        },
        "1103ffd0e3ab4752a7a339237fc92693": {
          "model_module": "@jupyter-widgets/base",
          "model_module_version": "1.2.0",
          "model_name": "LayoutModel",
          "state": {
            "_model_module": "@jupyter-widgets/base",
            "_model_module_version": "1.2.0",
            "_model_name": "LayoutModel",
            "_view_count": null,
            "_view_module": "@jupyter-widgets/base",
            "_view_module_version": "1.2.0",
            "_view_name": "LayoutView",
            "align_content": null,
            "align_items": null,
            "align_self": null,
            "border": null,
            "bottom": null,
            "display": null,
            "flex": null,
            "flex_flow": null,
            "grid_area": null,
            "grid_auto_columns": null,
            "grid_auto_flow": null,
            "grid_auto_rows": null,
            "grid_column": null,
            "grid_gap": null,
            "grid_row": null,
            "grid_template_areas": null,
            "grid_template_columns": null,
            "grid_template_rows": null,
            "height": null,
            "justify_content": null,
            "justify_items": null,
            "left": null,
            "margin": null,
            "max_height": null,
            "max_width": null,
            "min_height": null,
            "min_width": null,
            "object_fit": null,
            "object_position": null,
            "order": null,
            "overflow": null,
            "overflow_x": null,
            "overflow_y": null,
            "padding": null,
            "right": null,
            "top": null,
            "visibility": null,
            "width": null
          }
        },
        "2825142d65484fac959c5cd1c5c84419": {
          "model_module": "@jupyter-widgets/base",
          "model_module_version": "1.2.0",
          "model_name": "LayoutModel",
          "state": {
            "_model_module": "@jupyter-widgets/base",
            "_model_module_version": "1.2.0",
            "_model_name": "LayoutModel",
            "_view_count": null,
            "_view_module": "@jupyter-widgets/base",
            "_view_module_version": "1.2.0",
            "_view_name": "LayoutView",
            "align_content": null,
            "align_items": null,
            "align_self": null,
            "border": null,
            "bottom": null,
            "display": null,
            "flex": null,
            "flex_flow": null,
            "grid_area": null,
            "grid_auto_columns": null,
            "grid_auto_flow": null,
            "grid_auto_rows": null,
            "grid_column": null,
            "grid_gap": null,
            "grid_row": null,
            "grid_template_areas": null,
            "grid_template_columns": null,
            "grid_template_rows": null,
            "height": null,
            "justify_content": null,
            "justify_items": null,
            "left": null,
            "margin": null,
            "max_height": null,
            "max_width": null,
            "min_height": null,
            "min_width": null,
            "object_fit": null,
            "object_position": null,
            "order": null,
            "overflow": null,
            "overflow_x": null,
            "overflow_y": null,
            "padding": null,
            "right": null,
            "top": null,
            "visibility": null,
            "width": null
          }
        },
        "343a79d5b30845edbfba78c3fa9326f1": {
          "model_module": "@jupyter-widgets/controls",
          "model_module_version": "1.5.0",
          "model_name": "FloatProgressModel",
          "state": {
            "_dom_classes": [],
            "_model_module": "@jupyter-widgets/controls",
            "_model_module_version": "1.5.0",
            "_model_name": "FloatProgressModel",
            "_view_count": null,
            "_view_module": "@jupyter-widgets/controls",
            "_view_module_version": "1.5.0",
            "_view_name": "ProgressView",
            "bar_style": "success",
            "description": "",
            "description_tooltip": null,
            "layout": "IPY_MODEL_ea2e4ee141e74bdaa9aa4952565dd1b1",
            "max": 1,
            "min": 0,
            "orientation": "horizontal",
            "style": "IPY_MODEL_6c4c076dd3e74b7a855765da8551b410",
            "value": 1
          }
        },
        "6c4c076dd3e74b7a855765da8551b410": {
          "model_module": "@jupyter-widgets/controls",
          "model_module_version": "1.5.0",
          "model_name": "ProgressStyleModel",
          "state": {
            "_model_module": "@jupyter-widgets/controls",
            "_model_module_version": "1.5.0",
            "_model_name": "ProgressStyleModel",
            "_view_count": null,
            "_view_module": "@jupyter-widgets/base",
            "_view_module_version": "1.2.0",
            "_view_name": "StyleView",
            "bar_color": null,
            "description_width": ""
          }
        },
        "6cc667fd2fa843c394aacaa4b68d23b3": {
          "model_module": "@jupyter-widgets/base",
          "model_module_version": "1.2.0",
          "model_name": "LayoutModel",
          "state": {
            "_model_module": "@jupyter-widgets/base",
            "_model_module_version": "1.2.0",
            "_model_name": "LayoutModel",
            "_view_count": null,
            "_view_module": "@jupyter-widgets/base",
            "_view_module_version": "1.2.0",
            "_view_name": "LayoutView",
            "align_content": null,
            "align_items": null,
            "align_self": null,
            "border": null,
            "bottom": null,
            "display": null,
            "flex": null,
            "flex_flow": null,
            "grid_area": null,
            "grid_auto_columns": null,
            "grid_auto_flow": null,
            "grid_auto_rows": null,
            "grid_column": null,
            "grid_gap": null,
            "grid_row": null,
            "grid_template_areas": null,
            "grid_template_columns": null,
            "grid_template_rows": null,
            "height": null,
            "justify_content": null,
            "justify_items": null,
            "left": null,
            "margin": null,
            "max_height": null,
            "max_width": null,
            "min_height": null,
            "min_width": null,
            "object_fit": null,
            "object_position": null,
            "order": null,
            "overflow": null,
            "overflow_x": null,
            "overflow_y": null,
            "padding": null,
            "right": null,
            "top": null,
            "visibility": null,
            "width": null
          }
        },
        "6e37197d67404a7b9371ffd4dba5f735": {
          "model_module": "@jupyter-widgets/controls",
          "model_module_version": "1.5.0",
          "model_name": "HTMLModel",
          "state": {
            "_dom_classes": [],
            "_model_module": "@jupyter-widgets/controls",
            "_model_module_version": "1.5.0",
            "_model_name": "HTMLModel",
            "_view_count": null,
            "_view_module": "@jupyter-widgets/controls",
            "_view_module_version": "1.5.0",
            "_view_name": "HTMLView",
            "description": "",
            "description_tooltip": null,
            "layout": "IPY_MODEL_2825142d65484fac959c5cd1c5c84419",
            "placeholder": "​",
            "style": "IPY_MODEL_733f9d25a6094e14afc631b7f4171b67",
            "value": " 1/1 [00:00&lt;00:00, 27.60ba/s]"
          }
        },
        "733f9d25a6094e14afc631b7f4171b67": {
          "model_module": "@jupyter-widgets/controls",
          "model_module_version": "1.5.0",
          "model_name": "DescriptionStyleModel",
          "state": {
            "_model_module": "@jupyter-widgets/controls",
            "_model_module_version": "1.5.0",
            "_model_name": "DescriptionStyleModel",
            "_view_count": null,
            "_view_module": "@jupyter-widgets/base",
            "_view_module_version": "1.2.0",
            "_view_name": "StyleView",
            "description_width": ""
          }
        },
        "73cbdc8a401a41ec910a38ceb0114c87": {
          "model_module": "@jupyter-widgets/controls",
          "model_module_version": "1.5.0",
          "model_name": "HTMLModel",
          "state": {
            "_dom_classes": [],
            "_model_module": "@jupyter-widgets/controls",
            "_model_module_version": "1.5.0",
            "_model_name": "HTMLModel",
            "_view_count": null,
            "_view_module": "@jupyter-widgets/controls",
            "_view_module_version": "1.5.0",
            "_view_name": "HTMLView",
            "description": "",
            "description_tooltip": null,
            "layout": "IPY_MODEL_a442211255ed4013901bc6ee0a6ee455",
            "placeholder": "​",
            "style": "IPY_MODEL_ef1c8105b3e549219471807344617216",
            "value": "100%"
          }
        },
        "921eaeb827034fae91b2d021f4d02448": {
          "model_module": "@jupyter-widgets/controls",
          "model_module_version": "1.5.0",
          "model_name": "HBoxModel",
          "state": {
            "_dom_classes": [],
            "_model_module": "@jupyter-widgets/controls",
            "_model_module_version": "1.5.0",
            "_model_name": "HBoxModel",
            "_view_count": null,
            "_view_module": "@jupyter-widgets/controls",
            "_view_module_version": "1.5.0",
            "_view_name": "HBoxView",
            "box_style": "",
            "children": [
              "IPY_MODEL_73cbdc8a401a41ec910a38ceb0114c87",
              "IPY_MODEL_bd9f0204543c410c92d8e51a5418f6cb",
              "IPY_MODEL_e3e3e8bcd31d494fa6d1c502660e4091"
            ],
            "layout": "IPY_MODEL_6cc667fd2fa843c394aacaa4b68d23b3"
          }
        },
        "a37209a50a7445529c08d49f5abbc8e6": {
          "model_module": "@jupyter-widgets/controls",
          "model_module_version": "1.5.0",
          "model_name": "HBoxModel",
          "state": {
            "_dom_classes": [],
            "_model_module": "@jupyter-widgets/controls",
            "_model_module_version": "1.5.0",
            "_model_name": "HBoxModel",
            "_view_count": null,
            "_view_module": "@jupyter-widgets/controls",
            "_view_module_version": "1.5.0",
            "_view_name": "HBoxView",
            "box_style": "",
            "children": [
              "IPY_MODEL_105e16af4bb64ba08a63bc45162c5504",
              "IPY_MODEL_343a79d5b30845edbfba78c3fa9326f1",
              "IPY_MODEL_6e37197d67404a7b9371ffd4dba5f735"
            ],
            "layout": "IPY_MODEL_1103ffd0e3ab4752a7a339237fc92693"
          }
        },
        "a442211255ed4013901bc6ee0a6ee455": {
          "model_module": "@jupyter-widgets/base",
          "model_module_version": "1.2.0",
          "model_name": "LayoutModel",
          "state": {
            "_model_module": "@jupyter-widgets/base",
            "_model_module_version": "1.2.0",
            "_model_name": "LayoutModel",
            "_view_count": null,
            "_view_module": "@jupyter-widgets/base",
            "_view_module_version": "1.2.0",
            "_view_name": "LayoutView",
            "align_content": null,
            "align_items": null,
            "align_self": null,
            "border": null,
            "bottom": null,
            "display": null,
            "flex": null,
            "flex_flow": null,
            "grid_area": null,
            "grid_auto_columns": null,
            "grid_auto_flow": null,
            "grid_auto_rows": null,
            "grid_column": null,
            "grid_gap": null,
            "grid_row": null,
            "grid_template_areas": null,
            "grid_template_columns": null,
            "grid_template_rows": null,
            "height": null,
            "justify_content": null,
            "justify_items": null,
            "left": null,
            "margin": null,
            "max_height": null,
            "max_width": null,
            "min_height": null,
            "min_width": null,
            "object_fit": null,
            "object_position": null,
            "order": null,
            "overflow": null,
            "overflow_x": null,
            "overflow_y": null,
            "padding": null,
            "right": null,
            "top": null,
            "visibility": null,
            "width": null
          }
        },
        "ac1c5e4853e049549dc0ef7fcea11007": {
          "model_module": "@jupyter-widgets/controls",
          "model_module_version": "1.5.0",
          "model_name": "ProgressStyleModel",
          "state": {
            "_model_module": "@jupyter-widgets/controls",
            "_model_module_version": "1.5.0",
            "_model_name": "ProgressStyleModel",
            "_view_count": null,
            "_view_module": "@jupyter-widgets/base",
            "_view_module_version": "1.2.0",
            "_view_name": "StyleView",
            "bar_color": null,
            "description_width": ""
          }
        },
        "bcb3d2496cf24fc6820568a252c818ba": {
          "model_module": "@jupyter-widgets/controls",
          "model_module_version": "1.5.0",
          "model_name": "DescriptionStyleModel",
          "state": {
            "_model_module": "@jupyter-widgets/controls",
            "_model_module_version": "1.5.0",
            "_model_name": "DescriptionStyleModel",
            "_view_count": null,
            "_view_module": "@jupyter-widgets/base",
            "_view_module_version": "1.2.0",
            "_view_name": "StyleView",
            "description_width": ""
          }
        },
        "bd9f0204543c410c92d8e51a5418f6cb": {
          "model_module": "@jupyter-widgets/controls",
          "model_module_version": "1.5.0",
          "model_name": "FloatProgressModel",
          "state": {
            "_dom_classes": [],
            "_model_module": "@jupyter-widgets/controls",
            "_model_module_version": "1.5.0",
            "_model_name": "FloatProgressModel",
            "_view_count": null,
            "_view_module": "@jupyter-widgets/controls",
            "_view_module_version": "1.5.0",
            "_view_name": "ProgressView",
            "bar_style": "success",
            "description": "",
            "description_tooltip": null,
            "layout": "IPY_MODEL_cab0bd4b226541a2963f6fe64adc2657",
            "max": 37,
            "min": 0,
            "orientation": "horizontal",
            "style": "IPY_MODEL_ac1c5e4853e049549dc0ef7fcea11007",
            "value": 37
          }
        },
        "c7dfc4aaf77446bebe9f784ef03a6e64": {
          "model_module": "@jupyter-widgets/base",
          "model_module_version": "1.2.0",
          "model_name": "LayoutModel",
          "state": {
            "_model_module": "@jupyter-widgets/base",
            "_model_module_version": "1.2.0",
            "_model_name": "LayoutModel",
            "_view_count": null,
            "_view_module": "@jupyter-widgets/base",
            "_view_module_version": "1.2.0",
            "_view_name": "LayoutView",
            "align_content": null,
            "align_items": null,
            "align_self": null,
            "border": null,
            "bottom": null,
            "display": null,
            "flex": null,
            "flex_flow": null,
            "grid_area": null,
            "grid_auto_columns": null,
            "grid_auto_flow": null,
            "grid_auto_rows": null,
            "grid_column": null,
            "grid_gap": null,
            "grid_row": null,
            "grid_template_areas": null,
            "grid_template_columns": null,
            "grid_template_rows": null,
            "height": null,
            "justify_content": null,
            "justify_items": null,
            "left": null,
            "margin": null,
            "max_height": null,
            "max_width": null,
            "min_height": null,
            "min_width": null,
            "object_fit": null,
            "object_position": null,
            "order": null,
            "overflow": null,
            "overflow_x": null,
            "overflow_y": null,
            "padding": null,
            "right": null,
            "top": null,
            "visibility": null,
            "width": null
          }
        },
        "cab0bd4b226541a2963f6fe64adc2657": {
          "model_module": "@jupyter-widgets/base",
          "model_module_version": "1.2.0",
          "model_name": "LayoutModel",
          "state": {
            "_model_module": "@jupyter-widgets/base",
            "_model_module_version": "1.2.0",
            "_model_name": "LayoutModel",
            "_view_count": null,
            "_view_module": "@jupyter-widgets/base",
            "_view_module_version": "1.2.0",
            "_view_name": "LayoutView",
            "align_content": null,
            "align_items": null,
            "align_self": null,
            "border": null,
            "bottom": null,
            "display": null,
            "flex": null,
            "flex_flow": null,
            "grid_area": null,
            "grid_auto_columns": null,
            "grid_auto_flow": null,
            "grid_auto_rows": null,
            "grid_column": null,
            "grid_gap": null,
            "grid_row": null,
            "grid_template_areas": null,
            "grid_template_columns": null,
            "grid_template_rows": null,
            "height": null,
            "justify_content": null,
            "justify_items": null,
            "left": null,
            "margin": null,
            "max_height": null,
            "max_width": null,
            "min_height": null,
            "min_width": null,
            "object_fit": null,
            "object_position": null,
            "order": null,
            "overflow": null,
            "overflow_x": null,
            "overflow_y": null,
            "padding": null,
            "right": null,
            "top": null,
            "visibility": null,
            "width": null
          }
        },
        "e265ac64147144679368726435c7b0a7": {
          "model_module": "@jupyter-widgets/base",
          "model_module_version": "1.2.0",
          "model_name": "LayoutModel",
          "state": {
            "_model_module": "@jupyter-widgets/base",
            "_model_module_version": "1.2.0",
            "_model_name": "LayoutModel",
            "_view_count": null,
            "_view_module": "@jupyter-widgets/base",
            "_view_module_version": "1.2.0",
            "_view_name": "LayoutView",
            "align_content": null,
            "align_items": null,
            "align_self": null,
            "border": null,
            "bottom": null,
            "display": null,
            "flex": null,
            "flex_flow": null,
            "grid_area": null,
            "grid_auto_columns": null,
            "grid_auto_flow": null,
            "grid_auto_rows": null,
            "grid_column": null,
            "grid_gap": null,
            "grid_row": null,
            "grid_template_areas": null,
            "grid_template_columns": null,
            "grid_template_rows": null,
            "height": null,
            "justify_content": null,
            "justify_items": null,
            "left": null,
            "margin": null,
            "max_height": null,
            "max_width": null,
            "min_height": null,
            "min_width": null,
            "object_fit": null,
            "object_position": null,
            "order": null,
            "overflow": null,
            "overflow_x": null,
            "overflow_y": null,
            "padding": null,
            "right": null,
            "top": null,
            "visibility": null,
            "width": null
          }
        },
        "e3e3e8bcd31d494fa6d1c502660e4091": {
          "model_module": "@jupyter-widgets/controls",
          "model_module_version": "1.5.0",
          "model_name": "HTMLModel",
          "state": {
            "_dom_classes": [],
            "_model_module": "@jupyter-widgets/controls",
            "_model_module_version": "1.5.0",
            "_model_name": "HTMLModel",
            "_view_count": null,
            "_view_module": "@jupyter-widgets/controls",
            "_view_module_version": "1.5.0",
            "_view_name": "HTMLView",
            "description": "",
            "description_tooltip": null,
            "layout": "IPY_MODEL_e265ac64147144679368726435c7b0a7",
            "placeholder": "​",
            "style": "IPY_MODEL_bcb3d2496cf24fc6820568a252c818ba",
            "value": " 37/37 [00:02&lt;00:00, 17.98ba/s]"
          }
        },
        "ea2e4ee141e74bdaa9aa4952565dd1b1": {
          "model_module": "@jupyter-widgets/base",
          "model_module_version": "1.2.0",
          "model_name": "LayoutModel",
          "state": {
            "_model_module": "@jupyter-widgets/base",
            "_model_module_version": "1.2.0",
            "_model_name": "LayoutModel",
            "_view_count": null,
            "_view_module": "@jupyter-widgets/base",
            "_view_module_version": "1.2.0",
            "_view_name": "LayoutView",
            "align_content": null,
            "align_items": null,
            "align_self": null,
            "border": null,
            "bottom": null,
            "display": null,
            "flex": null,
            "flex_flow": null,
            "grid_area": null,
            "grid_auto_columns": null,
            "grid_auto_flow": null,
            "grid_auto_rows": null,
            "grid_column": null,
            "grid_gap": null,
            "grid_row": null,
            "grid_template_areas": null,
            "grid_template_columns": null,
            "grid_template_rows": null,
            "height": null,
            "justify_content": null,
            "justify_items": null,
            "left": null,
            "margin": null,
            "max_height": null,
            "max_width": null,
            "min_height": null,
            "min_width": null,
            "object_fit": null,
            "object_position": null,
            "order": null,
            "overflow": null,
            "overflow_x": null,
            "overflow_y": null,
            "padding": null,
            "right": null,
            "top": null,
            "visibility": null,
            "width": null
          }
        },
        "ef1c8105b3e549219471807344617216": {
          "model_module": "@jupyter-widgets/controls",
          "model_module_version": "1.5.0",
          "model_name": "DescriptionStyleModel",
          "state": {
            "_model_module": "@jupyter-widgets/controls",
            "_model_module_version": "1.5.0",
            "_model_name": "DescriptionStyleModel",
            "_view_count": null,
            "_view_module": "@jupyter-widgets/base",
            "_view_module_version": "1.2.0",
            "_view_name": "StyleView",
            "description_width": ""
          }
        },
        "f92dbe14b2fa4d3c982a73b083681263": {
          "model_module": "@jupyter-widgets/controls",
          "model_module_version": "1.5.0",
          "model_name": "DescriptionStyleModel",
          "state": {
            "_model_module": "@jupyter-widgets/controls",
            "_model_module_version": "1.5.0",
            "_model_name": "DescriptionStyleModel",
            "_view_count": null,
            "_view_module": "@jupyter-widgets/base",
            "_view_module_version": "1.2.0",
            "_view_name": "StyleView",
            "description_width": ""
          }
        }
      }
    }
  },
  "nbformat": 4,
  "nbformat_minor": 5
}
