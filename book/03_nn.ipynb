{
 "cells": [
  {
   "cell_type": "code",
   "execution_count": 1,
   "metadata": {},
   "outputs": [],
   "source": [
    "import torch\n",
    "import pandas as pd\n",
    "import numpy as np"
   ]
  },
  {
   "cell_type": "code",
   "execution_count": 2,
   "metadata": {},
   "outputs": [],
   "source": [
    "df = pd.read_csv('mnist_train.csv')"
   ]
  },
  {
   "cell_type": "code",
   "execution_count": 3,
   "metadata": {},
   "outputs": [],
   "source": [
    "#df.iloc[0]"
   ]
  },
  {
   "cell_type": "code",
   "execution_count": 7,
   "metadata": {},
   "outputs": [
    {
     "data": {
      "text/plain": [
       "False"
      ]
     },
     "execution_count": 7,
     "metadata": {},
     "output_type": "execute_result"
    }
   ],
   "source": [
    "torch.cuda.is_available()"
   ]
  },
  {
   "cell_type": "code",
   "execution_count": 6,
   "metadata": {},
   "outputs": [],
   "source": [
    "cuda0 = torch.device('cuda:0')"
   ]
  },
  {
   "cell_type": "code",
   "execution_count": 9,
   "metadata": {},
   "outputs": [],
   "source": [
    "one = torch.from_numpy(df.iloc[0].values).int()"
   ]
  },
  {
   "cell_type": "code",
   "execution_count": 10,
   "metadata": {},
   "outputs": [
    {
     "data": {
      "text/plain": [
       "torch.Size([785])"
      ]
     },
     "execution_count": 10,
     "metadata": {},
     "output_type": "execute_result"
    }
   ],
   "source": [
    "one.shape"
   ]
  },
  {
   "cell_type": "code",
   "execution_count": 11,
   "metadata": {},
   "outputs": [],
   "source": [
    "one = torch.reshape(one[1:], (28,28))"
   ]
  },
  {
   "cell_type": "code",
   "execution_count": 12,
   "metadata": {},
   "outputs": [
    {
     "data": {
      "text/plain": [
       "torch.Size([28, 28])"
      ]
     },
     "execution_count": 12,
     "metadata": {},
     "output_type": "execute_result"
    }
   ],
   "source": [
    "one.shape"
   ]
  },
  {
   "cell_type": "code",
   "execution_count": 13,
   "metadata": {},
   "outputs": [
    {
     "data": {
      "text/plain": [
       "tensor([[  0,   0,   0,   0,   0,   0,   0,   0,   0,   0],\n",
       "        [  0,   0,   0,   0,   0,   0,   0,   0,   3,  18],\n",
       "        [  0,   0,   0,   0,  30,  36,  94, 154, 170, 253]], dtype=torch.int32)"
      ]
     },
     "execution_count": 13,
     "metadata": {},
     "output_type": "execute_result"
    }
   ],
   "source": [
    "one[4:7,4:14]"
   ]
  },
  {
   "cell_type": "code",
   "execution_count": 14,
   "metadata": {},
   "outputs": [],
   "source": [
    "df_one = pd.DataFrame(one)\n",
    "df_one = df_one.astype(float)"
   ]
  },
  {
   "cell_type": "code",
   "execution_count": 15,
   "metadata": {},
   "outputs": [
    {
     "data": {
      "text/html": [
       "<style  type=\"text/css\" >\n",
       "    #T_4df571d6_9973_11ed_8dd7_0242ac110002row0_col0 {\n",
       "            background-color:  #ffffff;\n",
       "            color:  #000000;\n",
       "        }    #T_4df571d6_9973_11ed_8dd7_0242ac110002row0_col1 {\n",
       "            background-color:  #ffffff;\n",
       "            color:  #000000;\n",
       "        }    #T_4df571d6_9973_11ed_8dd7_0242ac110002row0_col2 {\n",
       "            background-color:  #ffffff;\n",
       "            color:  #000000;\n",
       "        }    #T_4df571d6_9973_11ed_8dd7_0242ac110002row0_col3 {\n",
       "            background-color:  #ffffff;\n",
       "            color:  #000000;\n",
       "        }    #T_4df571d6_9973_11ed_8dd7_0242ac110002row0_col4 {\n",
       "            background-color:  #ffffff;\n",
       "            color:  #000000;\n",
       "        }    #T_4df571d6_9973_11ed_8dd7_0242ac110002row0_col5 {\n",
       "            background-color:  #ffffff;\n",
       "            color:  #000000;\n",
       "        }    #T_4df571d6_9973_11ed_8dd7_0242ac110002row0_col6 {\n",
       "            background-color:  #ffffff;\n",
       "            color:  #000000;\n",
       "        }    #T_4df571d6_9973_11ed_8dd7_0242ac110002row0_col7 {\n",
       "            background-color:  #ffffff;\n",
       "            color:  #000000;\n",
       "        }    #T_4df571d6_9973_11ed_8dd7_0242ac110002row0_col8 {\n",
       "            background-color:  #ffffff;\n",
       "            color:  #000000;\n",
       "        }    #T_4df571d6_9973_11ed_8dd7_0242ac110002row0_col9 {\n",
       "            background-color:  #ffffff;\n",
       "            color:  #000000;\n",
       "        }    #T_4df571d6_9973_11ed_8dd7_0242ac110002row0_col10 {\n",
       "            background-color:  #ffffff;\n",
       "            color:  #000000;\n",
       "        }    #T_4df571d6_9973_11ed_8dd7_0242ac110002row0_col11 {\n",
       "            background-color:  #ffffff;\n",
       "            color:  #000000;\n",
       "        }    #T_4df571d6_9973_11ed_8dd7_0242ac110002row0_col12 {\n",
       "            background-color:  #ffffff;\n",
       "            color:  #000000;\n",
       "        }    #T_4df571d6_9973_11ed_8dd7_0242ac110002row0_col13 {\n",
       "            background-color:  #ffffff;\n",
       "            color:  #000000;\n",
       "        }    #T_4df571d6_9973_11ed_8dd7_0242ac110002row0_col14 {\n",
       "            background-color:  #ffffff;\n",
       "            color:  #000000;\n",
       "        }    #T_4df571d6_9973_11ed_8dd7_0242ac110002row0_col15 {\n",
       "            background-color:  #ffffff;\n",
       "            color:  #000000;\n",
       "        }    #T_4df571d6_9973_11ed_8dd7_0242ac110002row0_col16 {\n",
       "            background-color:  #ffffff;\n",
       "            color:  #000000;\n",
       "        }    #T_4df571d6_9973_11ed_8dd7_0242ac110002row0_col17 {\n",
       "            background-color:  #ffffff;\n",
       "            color:  #000000;\n",
       "        }    #T_4df571d6_9973_11ed_8dd7_0242ac110002row0_col18 {\n",
       "            background-color:  #ffffff;\n",
       "            color:  #000000;\n",
       "        }    #T_4df571d6_9973_11ed_8dd7_0242ac110002row0_col19 {\n",
       "            background-color:  #ffffff;\n",
       "            color:  #000000;\n",
       "        }    #T_4df571d6_9973_11ed_8dd7_0242ac110002row0_col20 {\n",
       "            background-color:  #ffffff;\n",
       "            color:  #000000;\n",
       "        }    #T_4df571d6_9973_11ed_8dd7_0242ac110002row0_col21 {\n",
       "            background-color:  #ffffff;\n",
       "            color:  #000000;\n",
       "        }    #T_4df571d6_9973_11ed_8dd7_0242ac110002row0_col22 {\n",
       "            background-color:  #ffffff;\n",
       "            color:  #000000;\n",
       "        }    #T_4df571d6_9973_11ed_8dd7_0242ac110002row0_col23 {\n",
       "            background-color:  #ffffff;\n",
       "            color:  #000000;\n",
       "        }    #T_4df571d6_9973_11ed_8dd7_0242ac110002row0_col24 {\n",
       "            background-color:  #ffffff;\n",
       "            color:  #000000;\n",
       "        }    #T_4df571d6_9973_11ed_8dd7_0242ac110002row0_col25 {\n",
       "            background-color:  #ffffff;\n",
       "            color:  #000000;\n",
       "        }    #T_4df571d6_9973_11ed_8dd7_0242ac110002row0_col26 {\n",
       "            background-color:  #ffffff;\n",
       "            color:  #000000;\n",
       "        }    #T_4df571d6_9973_11ed_8dd7_0242ac110002row0_col27 {\n",
       "            background-color:  #ffffff;\n",
       "            color:  #000000;\n",
       "        }    #T_4df571d6_9973_11ed_8dd7_0242ac110002row1_col0 {\n",
       "            background-color:  #ffffff;\n",
       "            color:  #000000;\n",
       "        }    #T_4df571d6_9973_11ed_8dd7_0242ac110002row1_col1 {\n",
       "            background-color:  #ffffff;\n",
       "            color:  #000000;\n",
       "        }    #T_4df571d6_9973_11ed_8dd7_0242ac110002row1_col2 {\n",
       "            background-color:  #ffffff;\n",
       "            color:  #000000;\n",
       "        }    #T_4df571d6_9973_11ed_8dd7_0242ac110002row1_col3 {\n",
       "            background-color:  #ffffff;\n",
       "            color:  #000000;\n",
       "        }    #T_4df571d6_9973_11ed_8dd7_0242ac110002row1_col4 {\n",
       "            background-color:  #ffffff;\n",
       "            color:  #000000;\n",
       "        }    #T_4df571d6_9973_11ed_8dd7_0242ac110002row1_col5 {\n",
       "            background-color:  #ffffff;\n",
       "            color:  #000000;\n",
       "        }    #T_4df571d6_9973_11ed_8dd7_0242ac110002row1_col6 {\n",
       "            background-color:  #ffffff;\n",
       "            color:  #000000;\n",
       "        }    #T_4df571d6_9973_11ed_8dd7_0242ac110002row1_col7 {\n",
       "            background-color:  #ffffff;\n",
       "            color:  #000000;\n",
       "        }    #T_4df571d6_9973_11ed_8dd7_0242ac110002row1_col8 {\n",
       "            background-color:  #ffffff;\n",
       "            color:  #000000;\n",
       "        }    #T_4df571d6_9973_11ed_8dd7_0242ac110002row1_col9 {\n",
       "            background-color:  #ffffff;\n",
       "            color:  #000000;\n",
       "        }    #T_4df571d6_9973_11ed_8dd7_0242ac110002row1_col10 {\n",
       "            background-color:  #ffffff;\n",
       "            color:  #000000;\n",
       "        }    #T_4df571d6_9973_11ed_8dd7_0242ac110002row1_col11 {\n",
       "            background-color:  #ffffff;\n",
       "            color:  #000000;\n",
       "        }    #T_4df571d6_9973_11ed_8dd7_0242ac110002row1_col12 {\n",
       "            background-color:  #ffffff;\n",
       "            color:  #000000;\n",
       "        }    #T_4df571d6_9973_11ed_8dd7_0242ac110002row1_col13 {\n",
       "            background-color:  #ffffff;\n",
       "            color:  #000000;\n",
       "        }    #T_4df571d6_9973_11ed_8dd7_0242ac110002row1_col14 {\n",
       "            background-color:  #ffffff;\n",
       "            color:  #000000;\n",
       "        }    #T_4df571d6_9973_11ed_8dd7_0242ac110002row1_col15 {\n",
       "            background-color:  #ffffff;\n",
       "            color:  #000000;\n",
       "        }    #T_4df571d6_9973_11ed_8dd7_0242ac110002row1_col16 {\n",
       "            background-color:  #ffffff;\n",
       "            color:  #000000;\n",
       "        }    #T_4df571d6_9973_11ed_8dd7_0242ac110002row1_col17 {\n",
       "            background-color:  #ffffff;\n",
       "            color:  #000000;\n",
       "        }    #T_4df571d6_9973_11ed_8dd7_0242ac110002row1_col18 {\n",
       "            background-color:  #ffffff;\n",
       "            color:  #000000;\n",
       "        }    #T_4df571d6_9973_11ed_8dd7_0242ac110002row1_col19 {\n",
       "            background-color:  #ffffff;\n",
       "            color:  #000000;\n",
       "        }    #T_4df571d6_9973_11ed_8dd7_0242ac110002row1_col20 {\n",
       "            background-color:  #ffffff;\n",
       "            color:  #000000;\n",
       "        }    #T_4df571d6_9973_11ed_8dd7_0242ac110002row1_col21 {\n",
       "            background-color:  #ffffff;\n",
       "            color:  #000000;\n",
       "        }    #T_4df571d6_9973_11ed_8dd7_0242ac110002row1_col22 {\n",
       "            background-color:  #ffffff;\n",
       "            color:  #000000;\n",
       "        }    #T_4df571d6_9973_11ed_8dd7_0242ac110002row1_col23 {\n",
       "            background-color:  #ffffff;\n",
       "            color:  #000000;\n",
       "        }    #T_4df571d6_9973_11ed_8dd7_0242ac110002row1_col24 {\n",
       "            background-color:  #ffffff;\n",
       "            color:  #000000;\n",
       "        }    #T_4df571d6_9973_11ed_8dd7_0242ac110002row1_col25 {\n",
       "            background-color:  #ffffff;\n",
       "            color:  #000000;\n",
       "        }    #T_4df571d6_9973_11ed_8dd7_0242ac110002row1_col26 {\n",
       "            background-color:  #ffffff;\n",
       "            color:  #000000;\n",
       "        }    #T_4df571d6_9973_11ed_8dd7_0242ac110002row1_col27 {\n",
       "            background-color:  #ffffff;\n",
       "            color:  #000000;\n",
       "        }    #T_4df571d6_9973_11ed_8dd7_0242ac110002row2_col0 {\n",
       "            background-color:  #ffffff;\n",
       "            color:  #000000;\n",
       "        }    #T_4df571d6_9973_11ed_8dd7_0242ac110002row2_col1 {\n",
       "            background-color:  #ffffff;\n",
       "            color:  #000000;\n",
       "        }    #T_4df571d6_9973_11ed_8dd7_0242ac110002row2_col2 {\n",
       "            background-color:  #ffffff;\n",
       "            color:  #000000;\n",
       "        }    #T_4df571d6_9973_11ed_8dd7_0242ac110002row2_col3 {\n",
       "            background-color:  #ffffff;\n",
       "            color:  #000000;\n",
       "        }    #T_4df571d6_9973_11ed_8dd7_0242ac110002row2_col4 {\n",
       "            background-color:  #ffffff;\n",
       "            color:  #000000;\n",
       "        }    #T_4df571d6_9973_11ed_8dd7_0242ac110002row2_col5 {\n",
       "            background-color:  #ffffff;\n",
       "            color:  #000000;\n",
       "        }    #T_4df571d6_9973_11ed_8dd7_0242ac110002row2_col6 {\n",
       "            background-color:  #ffffff;\n",
       "            color:  #000000;\n",
       "        }    #T_4df571d6_9973_11ed_8dd7_0242ac110002row2_col7 {\n",
       "            background-color:  #ffffff;\n",
       "            color:  #000000;\n",
       "        }    #T_4df571d6_9973_11ed_8dd7_0242ac110002row2_col8 {\n",
       "            background-color:  #ffffff;\n",
       "            color:  #000000;\n",
       "        }    #T_4df571d6_9973_11ed_8dd7_0242ac110002row2_col9 {\n",
       "            background-color:  #ffffff;\n",
       "            color:  #000000;\n",
       "        }    #T_4df571d6_9973_11ed_8dd7_0242ac110002row2_col10 {\n",
       "            background-color:  #ffffff;\n",
       "            color:  #000000;\n",
       "        }    #T_4df571d6_9973_11ed_8dd7_0242ac110002row2_col11 {\n",
       "            background-color:  #ffffff;\n",
       "            color:  #000000;\n",
       "        }    #T_4df571d6_9973_11ed_8dd7_0242ac110002row2_col12 {\n",
       "            background-color:  #ffffff;\n",
       "            color:  #000000;\n",
       "        }    #T_4df571d6_9973_11ed_8dd7_0242ac110002row2_col13 {\n",
       "            background-color:  #ffffff;\n",
       "            color:  #000000;\n",
       "        }    #T_4df571d6_9973_11ed_8dd7_0242ac110002row2_col14 {\n",
       "            background-color:  #ffffff;\n",
       "            color:  #000000;\n",
       "        }    #T_4df571d6_9973_11ed_8dd7_0242ac110002row2_col15 {\n",
       "            background-color:  #ffffff;\n",
       "            color:  #000000;\n",
       "        }    #T_4df571d6_9973_11ed_8dd7_0242ac110002row2_col16 {\n",
       "            background-color:  #ffffff;\n",
       "            color:  #000000;\n",
       "        }    #T_4df571d6_9973_11ed_8dd7_0242ac110002row2_col17 {\n",
       "            background-color:  #ffffff;\n",
       "            color:  #000000;\n",
       "        }    #T_4df571d6_9973_11ed_8dd7_0242ac110002row2_col18 {\n",
       "            background-color:  #ffffff;\n",
       "            color:  #000000;\n",
       "        }    #T_4df571d6_9973_11ed_8dd7_0242ac110002row2_col19 {\n",
       "            background-color:  #ffffff;\n",
       "            color:  #000000;\n",
       "        }    #T_4df571d6_9973_11ed_8dd7_0242ac110002row2_col20 {\n",
       "            background-color:  #ffffff;\n",
       "            color:  #000000;\n",
       "        }    #T_4df571d6_9973_11ed_8dd7_0242ac110002row2_col21 {\n",
       "            background-color:  #ffffff;\n",
       "            color:  #000000;\n",
       "        }    #T_4df571d6_9973_11ed_8dd7_0242ac110002row2_col22 {\n",
       "            background-color:  #ffffff;\n",
       "            color:  #000000;\n",
       "        }    #T_4df571d6_9973_11ed_8dd7_0242ac110002row2_col23 {\n",
       "            background-color:  #ffffff;\n",
       "            color:  #000000;\n",
       "        }    #T_4df571d6_9973_11ed_8dd7_0242ac110002row2_col24 {\n",
       "            background-color:  #ffffff;\n",
       "            color:  #000000;\n",
       "        }    #T_4df571d6_9973_11ed_8dd7_0242ac110002row2_col25 {\n",
       "            background-color:  #ffffff;\n",
       "            color:  #000000;\n",
       "        }    #T_4df571d6_9973_11ed_8dd7_0242ac110002row2_col26 {\n",
       "            background-color:  #ffffff;\n",
       "            color:  #000000;\n",
       "        }    #T_4df571d6_9973_11ed_8dd7_0242ac110002row2_col27 {\n",
       "            background-color:  #ffffff;\n",
       "            color:  #000000;\n",
       "        }    #T_4df571d6_9973_11ed_8dd7_0242ac110002row3_col0 {\n",
       "            background-color:  #ffffff;\n",
       "            color:  #000000;\n",
       "        }    #T_4df571d6_9973_11ed_8dd7_0242ac110002row3_col1 {\n",
       "            background-color:  #ffffff;\n",
       "            color:  #000000;\n",
       "        }    #T_4df571d6_9973_11ed_8dd7_0242ac110002row3_col2 {\n",
       "            background-color:  #ffffff;\n",
       "            color:  #000000;\n",
       "        }    #T_4df571d6_9973_11ed_8dd7_0242ac110002row3_col3 {\n",
       "            background-color:  #ffffff;\n",
       "            color:  #000000;\n",
       "        }    #T_4df571d6_9973_11ed_8dd7_0242ac110002row3_col4 {\n",
       "            background-color:  #ffffff;\n",
       "            color:  #000000;\n",
       "        }    #T_4df571d6_9973_11ed_8dd7_0242ac110002row3_col5 {\n",
       "            background-color:  #ffffff;\n",
       "            color:  #000000;\n",
       "        }    #T_4df571d6_9973_11ed_8dd7_0242ac110002row3_col6 {\n",
       "            background-color:  #ffffff;\n",
       "            color:  #000000;\n",
       "        }    #T_4df571d6_9973_11ed_8dd7_0242ac110002row3_col7 {\n",
       "            background-color:  #ffffff;\n",
       "            color:  #000000;\n",
       "        }    #T_4df571d6_9973_11ed_8dd7_0242ac110002row3_col8 {\n",
       "            background-color:  #ffffff;\n",
       "            color:  #000000;\n",
       "        }    #T_4df571d6_9973_11ed_8dd7_0242ac110002row3_col9 {\n",
       "            background-color:  #ffffff;\n",
       "            color:  #000000;\n",
       "        }    #T_4df571d6_9973_11ed_8dd7_0242ac110002row3_col10 {\n",
       "            background-color:  #ffffff;\n",
       "            color:  #000000;\n",
       "        }    #T_4df571d6_9973_11ed_8dd7_0242ac110002row3_col11 {\n",
       "            background-color:  #ffffff;\n",
       "            color:  #000000;\n",
       "        }    #T_4df571d6_9973_11ed_8dd7_0242ac110002row3_col12 {\n",
       "            background-color:  #ffffff;\n",
       "            color:  #000000;\n",
       "        }    #T_4df571d6_9973_11ed_8dd7_0242ac110002row3_col13 {\n",
       "            background-color:  #ffffff;\n",
       "            color:  #000000;\n",
       "        }    #T_4df571d6_9973_11ed_8dd7_0242ac110002row3_col14 {\n",
       "            background-color:  #ffffff;\n",
       "            color:  #000000;\n",
       "        }    #T_4df571d6_9973_11ed_8dd7_0242ac110002row3_col15 {\n",
       "            background-color:  #ffffff;\n",
       "            color:  #000000;\n",
       "        }    #T_4df571d6_9973_11ed_8dd7_0242ac110002row3_col16 {\n",
       "            background-color:  #ffffff;\n",
       "            color:  #000000;\n",
       "        }    #T_4df571d6_9973_11ed_8dd7_0242ac110002row3_col17 {\n",
       "            background-color:  #ffffff;\n",
       "            color:  #000000;\n",
       "        }    #T_4df571d6_9973_11ed_8dd7_0242ac110002row3_col18 {\n",
       "            background-color:  #ffffff;\n",
       "            color:  #000000;\n",
       "        }    #T_4df571d6_9973_11ed_8dd7_0242ac110002row3_col19 {\n",
       "            background-color:  #ffffff;\n",
       "            color:  #000000;\n",
       "        }    #T_4df571d6_9973_11ed_8dd7_0242ac110002row3_col20 {\n",
       "            background-color:  #ffffff;\n",
       "            color:  #000000;\n",
       "        }    #T_4df571d6_9973_11ed_8dd7_0242ac110002row3_col21 {\n",
       "            background-color:  #ffffff;\n",
       "            color:  #000000;\n",
       "        }    #T_4df571d6_9973_11ed_8dd7_0242ac110002row3_col22 {\n",
       "            background-color:  #ffffff;\n",
       "            color:  #000000;\n",
       "        }    #T_4df571d6_9973_11ed_8dd7_0242ac110002row3_col23 {\n",
       "            background-color:  #ffffff;\n",
       "            color:  #000000;\n",
       "        }    #T_4df571d6_9973_11ed_8dd7_0242ac110002row3_col24 {\n",
       "            background-color:  #ffffff;\n",
       "            color:  #000000;\n",
       "        }    #T_4df571d6_9973_11ed_8dd7_0242ac110002row3_col25 {\n",
       "            background-color:  #ffffff;\n",
       "            color:  #000000;\n",
       "        }    #T_4df571d6_9973_11ed_8dd7_0242ac110002row3_col26 {\n",
       "            background-color:  #ffffff;\n",
       "            color:  #000000;\n",
       "        }    #T_4df571d6_9973_11ed_8dd7_0242ac110002row3_col27 {\n",
       "            background-color:  #ffffff;\n",
       "            color:  #000000;\n",
       "        }    #T_4df571d6_9973_11ed_8dd7_0242ac110002row4_col0 {\n",
       "            background-color:  #ffffff;\n",
       "            color:  #000000;\n",
       "        }    #T_4df571d6_9973_11ed_8dd7_0242ac110002row4_col1 {\n",
       "            background-color:  #ffffff;\n",
       "            color:  #000000;\n",
       "        }    #T_4df571d6_9973_11ed_8dd7_0242ac110002row4_col2 {\n",
       "            background-color:  #ffffff;\n",
       "            color:  #000000;\n",
       "        }    #T_4df571d6_9973_11ed_8dd7_0242ac110002row4_col3 {\n",
       "            background-color:  #ffffff;\n",
       "            color:  #000000;\n",
       "        }    #T_4df571d6_9973_11ed_8dd7_0242ac110002row4_col4 {\n",
       "            background-color:  #ffffff;\n",
       "            color:  #000000;\n",
       "        }    #T_4df571d6_9973_11ed_8dd7_0242ac110002row4_col5 {\n",
       "            background-color:  #ffffff;\n",
       "            color:  #000000;\n",
       "        }    #T_4df571d6_9973_11ed_8dd7_0242ac110002row4_col6 {\n",
       "            background-color:  #ffffff;\n",
       "            color:  #000000;\n",
       "        }    #T_4df571d6_9973_11ed_8dd7_0242ac110002row4_col7 {\n",
       "            background-color:  #ffffff;\n",
       "            color:  #000000;\n",
       "        }    #T_4df571d6_9973_11ed_8dd7_0242ac110002row4_col8 {\n",
       "            background-color:  #ffffff;\n",
       "            color:  #000000;\n",
       "        }    #T_4df571d6_9973_11ed_8dd7_0242ac110002row4_col9 {\n",
       "            background-color:  #ffffff;\n",
       "            color:  #000000;\n",
       "        }    #T_4df571d6_9973_11ed_8dd7_0242ac110002row4_col10 {\n",
       "            background-color:  #ffffff;\n",
       "            color:  #000000;\n",
       "        }    #T_4df571d6_9973_11ed_8dd7_0242ac110002row4_col11 {\n",
       "            background-color:  #ffffff;\n",
       "            color:  #000000;\n",
       "        }    #T_4df571d6_9973_11ed_8dd7_0242ac110002row4_col12 {\n",
       "            background-color:  #ffffff;\n",
       "            color:  #000000;\n",
       "        }    #T_4df571d6_9973_11ed_8dd7_0242ac110002row4_col13 {\n",
       "            background-color:  #ffffff;\n",
       "            color:  #000000;\n",
       "        }    #T_4df571d6_9973_11ed_8dd7_0242ac110002row4_col14 {\n",
       "            background-color:  #ffffff;\n",
       "            color:  #000000;\n",
       "        }    #T_4df571d6_9973_11ed_8dd7_0242ac110002row4_col15 {\n",
       "            background-color:  #ffffff;\n",
       "            color:  #000000;\n",
       "        }    #T_4df571d6_9973_11ed_8dd7_0242ac110002row4_col16 {\n",
       "            background-color:  #ffffff;\n",
       "            color:  #000000;\n",
       "        }    #T_4df571d6_9973_11ed_8dd7_0242ac110002row4_col17 {\n",
       "            background-color:  #ffffff;\n",
       "            color:  #000000;\n",
       "        }    #T_4df571d6_9973_11ed_8dd7_0242ac110002row4_col18 {\n",
       "            background-color:  #ffffff;\n",
       "            color:  #000000;\n",
       "        }    #T_4df571d6_9973_11ed_8dd7_0242ac110002row4_col19 {\n",
       "            background-color:  #ffffff;\n",
       "            color:  #000000;\n",
       "        }    #T_4df571d6_9973_11ed_8dd7_0242ac110002row4_col20 {\n",
       "            background-color:  #ffffff;\n",
       "            color:  #000000;\n",
       "        }    #T_4df571d6_9973_11ed_8dd7_0242ac110002row4_col21 {\n",
       "            background-color:  #ffffff;\n",
       "            color:  #000000;\n",
       "        }    #T_4df571d6_9973_11ed_8dd7_0242ac110002row4_col22 {\n",
       "            background-color:  #ffffff;\n",
       "            color:  #000000;\n",
       "        }    #T_4df571d6_9973_11ed_8dd7_0242ac110002row4_col23 {\n",
       "            background-color:  #ffffff;\n",
       "            color:  #000000;\n",
       "        }    #T_4df571d6_9973_11ed_8dd7_0242ac110002row4_col24 {\n",
       "            background-color:  #ffffff;\n",
       "            color:  #000000;\n",
       "        }    #T_4df571d6_9973_11ed_8dd7_0242ac110002row4_col25 {\n",
       "            background-color:  #ffffff;\n",
       "            color:  #000000;\n",
       "        }    #T_4df571d6_9973_11ed_8dd7_0242ac110002row4_col26 {\n",
       "            background-color:  #ffffff;\n",
       "            color:  #000000;\n",
       "        }    #T_4df571d6_9973_11ed_8dd7_0242ac110002row4_col27 {\n",
       "            background-color:  #ffffff;\n",
       "            color:  #000000;\n",
       "        }    #T_4df571d6_9973_11ed_8dd7_0242ac110002row5_col0 {\n",
       "            background-color:  #ffffff;\n",
       "            color:  #000000;\n",
       "        }    #T_4df571d6_9973_11ed_8dd7_0242ac110002row5_col1 {\n",
       "            background-color:  #ffffff;\n",
       "            color:  #000000;\n",
       "        }    #T_4df571d6_9973_11ed_8dd7_0242ac110002row5_col2 {\n",
       "            background-color:  #ffffff;\n",
       "            color:  #000000;\n",
       "        }    #T_4df571d6_9973_11ed_8dd7_0242ac110002row5_col3 {\n",
       "            background-color:  #ffffff;\n",
       "            color:  #000000;\n",
       "        }    #T_4df571d6_9973_11ed_8dd7_0242ac110002row5_col4 {\n",
       "            background-color:  #ffffff;\n",
       "            color:  #000000;\n",
       "        }    #T_4df571d6_9973_11ed_8dd7_0242ac110002row5_col5 {\n",
       "            background-color:  #ffffff;\n",
       "            color:  #000000;\n",
       "        }    #T_4df571d6_9973_11ed_8dd7_0242ac110002row5_col6 {\n",
       "            background-color:  #ffffff;\n",
       "            color:  #000000;\n",
       "        }    #T_4df571d6_9973_11ed_8dd7_0242ac110002row5_col7 {\n",
       "            background-color:  #ffffff;\n",
       "            color:  #000000;\n",
       "        }    #T_4df571d6_9973_11ed_8dd7_0242ac110002row5_col8 {\n",
       "            background-color:  #ffffff;\n",
       "            color:  #000000;\n",
       "        }    #T_4df571d6_9973_11ed_8dd7_0242ac110002row5_col9 {\n",
       "            background-color:  #ffffff;\n",
       "            color:  #000000;\n",
       "        }    #T_4df571d6_9973_11ed_8dd7_0242ac110002row5_col10 {\n",
       "            background-color:  #ffffff;\n",
       "            color:  #000000;\n",
       "        }    #T_4df571d6_9973_11ed_8dd7_0242ac110002row5_col11 {\n",
       "            background-color:  #ffffff;\n",
       "            color:  #000000;\n",
       "        }    #T_4df571d6_9973_11ed_8dd7_0242ac110002row5_col12 {\n",
       "            background-color:  #fefefe;\n",
       "            color:  #000000;\n",
       "        }    #T_4df571d6_9973_11ed_8dd7_0242ac110002row5_col13 {\n",
       "            background-color:  #f7f7f7;\n",
       "            color:  #000000;\n",
       "        }    #T_4df571d6_9973_11ed_8dd7_0242ac110002row5_col14 {\n",
       "            background-color:  #f7f7f7;\n",
       "            color:  #000000;\n",
       "        }    #T_4df571d6_9973_11ed_8dd7_0242ac110002row5_col15 {\n",
       "            background-color:  #f7f7f7;\n",
       "            color:  #000000;\n",
       "        }    #T_4df571d6_9973_11ed_8dd7_0242ac110002row5_col16 {\n",
       "            background-color:  #979797;\n",
       "            color:  #000000;\n",
       "        }    #T_4df571d6_9973_11ed_8dd7_0242ac110002row5_col17 {\n",
       "            background-color:  #8c8c8c;\n",
       "            color:  #000000;\n",
       "        }    #T_4df571d6_9973_11ed_8dd7_0242ac110002row5_col18 {\n",
       "            background-color:  #616161;\n",
       "            color:  #f1f1f1;\n",
       "        }    #T_4df571d6_9973_11ed_8dd7_0242ac110002row5_col19 {\n",
       "            background-color:  #f3f3f3;\n",
       "            color:  #000000;\n",
       "        }    #T_4df571d6_9973_11ed_8dd7_0242ac110002row5_col20 {\n",
       "            background-color:  #6b6b6b;\n",
       "            color:  #000000;\n",
       "        }    #T_4df571d6_9973_11ed_8dd7_0242ac110002row5_col21 {\n",
       "            background-color:  #000000;\n",
       "            color:  #f1f1f1;\n",
       "        }    #T_4df571d6_9973_11ed_8dd7_0242ac110002row5_col22 {\n",
       "            background-color:  #000000;\n",
       "            color:  #f1f1f1;\n",
       "        }    #T_4df571d6_9973_11ed_8dd7_0242ac110002row5_col23 {\n",
       "            background-color:  #000000;\n",
       "            color:  #f1f1f1;\n",
       "        }    #T_4df571d6_9973_11ed_8dd7_0242ac110002row5_col24 {\n",
       "            background-color:  #ffffff;\n",
       "            color:  #000000;\n",
       "        }    #T_4df571d6_9973_11ed_8dd7_0242ac110002row5_col25 {\n",
       "            background-color:  #ffffff;\n",
       "            color:  #000000;\n",
       "        }    #T_4df571d6_9973_11ed_8dd7_0242ac110002row5_col26 {\n",
       "            background-color:  #ffffff;\n",
       "            color:  #000000;\n",
       "        }    #T_4df571d6_9973_11ed_8dd7_0242ac110002row5_col27 {\n",
       "            background-color:  #ffffff;\n",
       "            color:  #000000;\n",
       "        }    #T_4df571d6_9973_11ed_8dd7_0242ac110002row6_col0 {\n",
       "            background-color:  #ffffff;\n",
       "            color:  #000000;\n",
       "        }    #T_4df571d6_9973_11ed_8dd7_0242ac110002row6_col1 {\n",
       "            background-color:  #ffffff;\n",
       "            color:  #000000;\n",
       "        }    #T_4df571d6_9973_11ed_8dd7_0242ac110002row6_col2 {\n",
       "            background-color:  #ffffff;\n",
       "            color:  #000000;\n",
       "        }    #T_4df571d6_9973_11ed_8dd7_0242ac110002row6_col3 {\n",
       "            background-color:  #ffffff;\n",
       "            color:  #000000;\n",
       "        }    #T_4df571d6_9973_11ed_8dd7_0242ac110002row6_col4 {\n",
       "            background-color:  #ffffff;\n",
       "            color:  #000000;\n",
       "        }    #T_4df571d6_9973_11ed_8dd7_0242ac110002row6_col5 {\n",
       "            background-color:  #ffffff;\n",
       "            color:  #000000;\n",
       "        }    #T_4df571d6_9973_11ed_8dd7_0242ac110002row6_col6 {\n",
       "            background-color:  #ffffff;\n",
       "            color:  #000000;\n",
       "        }    #T_4df571d6_9973_11ed_8dd7_0242ac110002row6_col7 {\n",
       "            background-color:  #ffffff;\n",
       "            color:  #000000;\n",
       "        }    #T_4df571d6_9973_11ed_8dd7_0242ac110002row6_col8 {\n",
       "            background-color:  #f1f1f1;\n",
       "            color:  #000000;\n",
       "        }    #T_4df571d6_9973_11ed_8dd7_0242ac110002row6_col9 {\n",
       "            background-color:  #ededed;\n",
       "            color:  #000000;\n",
       "        }    #T_4df571d6_9973_11ed_8dd7_0242ac110002row6_col10 {\n",
       "            background-color:  #bebebe;\n",
       "            color:  #000000;\n",
       "        }    #T_4df571d6_9973_11ed_8dd7_0242ac110002row6_col11 {\n",
       "            background-color:  #787878;\n",
       "            color:  #000000;\n",
       "        }    #T_4df571d6_9973_11ed_8dd7_0242ac110002row6_col12 {\n",
       "            background-color:  #666666;\n",
       "            color:  #f1f1f1;\n",
       "        }    #T_4df571d6_9973_11ed_8dd7_0242ac110002row6_col13 {\n",
       "            background-color:  #000000;\n",
       "            color:  #f1f1f1;\n",
       "        }    #T_4df571d6_9973_11ed_8dd7_0242ac110002row6_col14 {\n",
       "            background-color:  #000000;\n",
       "            color:  #f1f1f1;\n",
       "        }    #T_4df571d6_9973_11ed_8dd7_0242ac110002row6_col15 {\n",
       "            background-color:  #000000;\n",
       "            color:  #f1f1f1;\n",
       "        }    #T_4df571d6_9973_11ed_8dd7_0242ac110002row6_col16 {\n",
       "            background-color:  #000000;\n",
       "            color:  #f1f1f1;\n",
       "        }    #T_4df571d6_9973_11ed_8dd7_0242ac110002row6_col17 {\n",
       "            background-color:  #000000;\n",
       "            color:  #f1f1f1;\n",
       "        }    #T_4df571d6_9973_11ed_8dd7_0242ac110002row6_col18 {\n",
       "            background-color:  #212121;\n",
       "            color:  #f1f1f1;\n",
       "        }    #T_4df571d6_9973_11ed_8dd7_0242ac110002row6_col19 {\n",
       "            background-color:  #626262;\n",
       "            color:  #f1f1f1;\n",
       "        }    #T_4df571d6_9973_11ed_8dd7_0242ac110002row6_col20 {\n",
       "            background-color:  #000000;\n",
       "            color:  #f1f1f1;\n",
       "        }    #T_4df571d6_9973_11ed_8dd7_0242ac110002row6_col21 {\n",
       "            background-color:  #0f0f0f;\n",
       "            color:  #f1f1f1;\n",
       "        }    #T_4df571d6_9973_11ed_8dd7_0242ac110002row6_col22 {\n",
       "            background-color:  #434343;\n",
       "            color:  #f1f1f1;\n",
       "        }    #T_4df571d6_9973_11ed_8dd7_0242ac110002row6_col23 {\n",
       "            background-color:  #949494;\n",
       "            color:  #000000;\n",
       "        }    #T_4df571d6_9973_11ed_8dd7_0242ac110002row6_col24 {\n",
       "            background-color:  #ffffff;\n",
       "            color:  #000000;\n",
       "        }    #T_4df571d6_9973_11ed_8dd7_0242ac110002row6_col25 {\n",
       "            background-color:  #ffffff;\n",
       "            color:  #000000;\n",
       "        }    #T_4df571d6_9973_11ed_8dd7_0242ac110002row6_col26 {\n",
       "            background-color:  #ffffff;\n",
       "            color:  #000000;\n",
       "        }    #T_4df571d6_9973_11ed_8dd7_0242ac110002row6_col27 {\n",
       "            background-color:  #ffffff;\n",
       "            color:  #000000;\n",
       "        }    #T_4df571d6_9973_11ed_8dd7_0242ac110002row7_col0 {\n",
       "            background-color:  #ffffff;\n",
       "            color:  #000000;\n",
       "        }    #T_4df571d6_9973_11ed_8dd7_0242ac110002row7_col1 {\n",
       "            background-color:  #ffffff;\n",
       "            color:  #000000;\n",
       "        }    #T_4df571d6_9973_11ed_8dd7_0242ac110002row7_col2 {\n",
       "            background-color:  #ffffff;\n",
       "            color:  #000000;\n",
       "        }    #T_4df571d6_9973_11ed_8dd7_0242ac110002row7_col3 {\n",
       "            background-color:  #ffffff;\n",
       "            color:  #000000;\n",
       "        }    #T_4df571d6_9973_11ed_8dd7_0242ac110002row7_col4 {\n",
       "            background-color:  #ffffff;\n",
       "            color:  #000000;\n",
       "        }    #T_4df571d6_9973_11ed_8dd7_0242ac110002row7_col5 {\n",
       "            background-color:  #ffffff;\n",
       "            color:  #000000;\n",
       "        }    #T_4df571d6_9973_11ed_8dd7_0242ac110002row7_col6 {\n",
       "            background-color:  #ffffff;\n",
       "            color:  #000000;\n",
       "        }    #T_4df571d6_9973_11ed_8dd7_0242ac110002row7_col7 {\n",
       "            background-color:  #e4e4e4;\n",
       "            color:  #000000;\n",
       "        }    #T_4df571d6_9973_11ed_8dd7_0242ac110002row7_col8 {\n",
       "            background-color:  #111111;\n",
       "            color:  #f1f1f1;\n",
       "        }    #T_4df571d6_9973_11ed_8dd7_0242ac110002row7_col9 {\n",
       "            background-color:  #000000;\n",
       "            color:  #f1f1f1;\n",
       "        }    #T_4df571d6_9973_11ed_8dd7_0242ac110002row7_col10 {\n",
       "            background-color:  #000000;\n",
       "            color:  #f1f1f1;\n",
       "        }    #T_4df571d6_9973_11ed_8dd7_0242ac110002row7_col11 {\n",
       "            background-color:  #000000;\n",
       "            color:  #f1f1f1;\n",
       "        }    #T_4df571d6_9973_11ed_8dd7_0242ac110002row7_col12 {\n",
       "            background-color:  #000000;\n",
       "            color:  #f1f1f1;\n",
       "        }    #T_4df571d6_9973_11ed_8dd7_0242ac110002row7_col13 {\n",
       "            background-color:  #000000;\n",
       "            color:  #f1f1f1;\n",
       "        }    #T_4df571d6_9973_11ed_8dd7_0242ac110002row7_col14 {\n",
       "            background-color:  #000000;\n",
       "            color:  #f1f1f1;\n",
       "        }    #T_4df571d6_9973_11ed_8dd7_0242ac110002row7_col15 {\n",
       "            background-color:  #000000;\n",
       "            color:  #f1f1f1;\n",
       "        }    #T_4df571d6_9973_11ed_8dd7_0242ac110002row7_col16 {\n",
       "            background-color:  #000000;\n",
       "            color:  #f1f1f1;\n",
       "        }    #T_4df571d6_9973_11ed_8dd7_0242ac110002row7_col17 {\n",
       "            background-color:  #020202;\n",
       "            color:  #f1f1f1;\n",
       "        }    #T_4df571d6_9973_11ed_8dd7_0242ac110002row7_col18 {\n",
       "            background-color:  #bebebe;\n",
       "            color:  #000000;\n",
       "        }    #T_4df571d6_9973_11ed_8dd7_0242ac110002row7_col19 {\n",
       "            background-color:  #c7c7c7;\n",
       "            color:  #000000;\n",
       "        }    #T_4df571d6_9973_11ed_8dd7_0242ac110002row7_col20 {\n",
       "            background-color:  #c9c9c9;\n",
       "            color:  #000000;\n",
       "        }    #T_4df571d6_9973_11ed_8dd7_0242ac110002row7_col21 {\n",
       "            background-color:  #dfdfdf;\n",
       "            color:  #000000;\n",
       "        }    #T_4df571d6_9973_11ed_8dd7_0242ac110002row7_col22 {\n",
       "            background-color:  #eaeaea;\n",
       "            color:  #000000;\n",
       "        }    #T_4df571d6_9973_11ed_8dd7_0242ac110002row7_col23 {\n",
       "            background-color:  #ffffff;\n",
       "            color:  #000000;\n",
       "        }    #T_4df571d6_9973_11ed_8dd7_0242ac110002row7_col24 {\n",
       "            background-color:  #ffffff;\n",
       "            color:  #000000;\n",
       "        }    #T_4df571d6_9973_11ed_8dd7_0242ac110002row7_col25 {\n",
       "            background-color:  #ffffff;\n",
       "            color:  #000000;\n",
       "        }    #T_4df571d6_9973_11ed_8dd7_0242ac110002row7_col26 {\n",
       "            background-color:  #ffffff;\n",
       "            color:  #000000;\n",
       "        }    #T_4df571d6_9973_11ed_8dd7_0242ac110002row7_col27 {\n",
       "            background-color:  #ffffff;\n",
       "            color:  #000000;\n",
       "        }    #T_4df571d6_9973_11ed_8dd7_0242ac110002row8_col0 {\n",
       "            background-color:  #ffffff;\n",
       "            color:  #000000;\n",
       "        }    #T_4df571d6_9973_11ed_8dd7_0242ac110002row8_col1 {\n",
       "            background-color:  #ffffff;\n",
       "            color:  #000000;\n",
       "        }    #T_4df571d6_9973_11ed_8dd7_0242ac110002row8_col2 {\n",
       "            background-color:  #ffffff;\n",
       "            color:  #000000;\n",
       "        }    #T_4df571d6_9973_11ed_8dd7_0242ac110002row8_col3 {\n",
       "            background-color:  #ffffff;\n",
       "            color:  #000000;\n",
       "        }    #T_4df571d6_9973_11ed_8dd7_0242ac110002row8_col4 {\n",
       "            background-color:  #ffffff;\n",
       "            color:  #000000;\n",
       "        }    #T_4df571d6_9973_11ed_8dd7_0242ac110002row8_col5 {\n",
       "            background-color:  #ffffff;\n",
       "            color:  #000000;\n",
       "        }    #T_4df571d6_9973_11ed_8dd7_0242ac110002row8_col6 {\n",
       "            background-color:  #ffffff;\n",
       "            color:  #000000;\n",
       "        }    #T_4df571d6_9973_11ed_8dd7_0242ac110002row8_col7 {\n",
       "            background-color:  #f7f7f7;\n",
       "            color:  #000000;\n",
       "        }    #T_4df571d6_9973_11ed_8dd7_0242ac110002row8_col8 {\n",
       "            background-color:  #282828;\n",
       "            color:  #f1f1f1;\n",
       "        }    #T_4df571d6_9973_11ed_8dd7_0242ac110002row8_col9 {\n",
       "            background-color:  #000000;\n",
       "            color:  #f1f1f1;\n",
       "        }    #T_4df571d6_9973_11ed_8dd7_0242ac110002row8_col10 {\n",
       "            background-color:  #000000;\n",
       "            color:  #f1f1f1;\n",
       "        }    #T_4df571d6_9973_11ed_8dd7_0242ac110002row8_col11 {\n",
       "            background-color:  #000000;\n",
       "            color:  #f1f1f1;\n",
       "        }    #T_4df571d6_9973_11ed_8dd7_0242ac110002row8_col12 {\n",
       "            background-color:  #000000;\n",
       "            color:  #f1f1f1;\n",
       "        }    #T_4df571d6_9973_11ed_8dd7_0242ac110002row8_col13 {\n",
       "            background-color:  #000000;\n",
       "            color:  #f1f1f1;\n",
       "        }    #T_4df571d6_9973_11ed_8dd7_0242ac110002row8_col14 {\n",
       "            background-color:  #464646;\n",
       "            color:  #f1f1f1;\n",
       "        }    #T_4df571d6_9973_11ed_8dd7_0242ac110002row8_col15 {\n",
       "            background-color:  #5a5a5a;\n",
       "            color:  #f1f1f1;\n",
       "        }    #T_4df571d6_9973_11ed_8dd7_0242ac110002row8_col16 {\n",
       "            background-color:  #070707;\n",
       "            color:  #f1f1f1;\n",
       "        }    #T_4df571d6_9973_11ed_8dd7_0242ac110002row8_col17 {\n",
       "            background-color:  #0e0e0e;\n",
       "            color:  #f1f1f1;\n",
       "        }    #T_4df571d6_9973_11ed_8dd7_0242ac110002row8_col18 {\n",
       "            background-color:  #ffffff;\n",
       "            color:  #000000;\n",
       "        }    #T_4df571d6_9973_11ed_8dd7_0242ac110002row8_col19 {\n",
       "            background-color:  #ffffff;\n",
       "            color:  #000000;\n",
       "        }    #T_4df571d6_9973_11ed_8dd7_0242ac110002row8_col20 {\n",
       "            background-color:  #ffffff;\n",
       "            color:  #000000;\n",
       "        }    #T_4df571d6_9973_11ed_8dd7_0242ac110002row8_col21 {\n",
       "            background-color:  #ffffff;\n",
       "            color:  #000000;\n",
       "        }    #T_4df571d6_9973_11ed_8dd7_0242ac110002row8_col22 {\n",
       "            background-color:  #ffffff;\n",
       "            color:  #000000;\n",
       "        }    #T_4df571d6_9973_11ed_8dd7_0242ac110002row8_col23 {\n",
       "            background-color:  #ffffff;\n",
       "            color:  #000000;\n",
       "        }    #T_4df571d6_9973_11ed_8dd7_0242ac110002row8_col24 {\n",
       "            background-color:  #ffffff;\n",
       "            color:  #000000;\n",
       "        }    #T_4df571d6_9973_11ed_8dd7_0242ac110002row8_col25 {\n",
       "            background-color:  #ffffff;\n",
       "            color:  #000000;\n",
       "        }    #T_4df571d6_9973_11ed_8dd7_0242ac110002row8_col26 {\n",
       "            background-color:  #ffffff;\n",
       "            color:  #000000;\n",
       "        }    #T_4df571d6_9973_11ed_8dd7_0242ac110002row8_col27 {\n",
       "            background-color:  #ffffff;\n",
       "            color:  #000000;\n",
       "        }    #T_4df571d6_9973_11ed_8dd7_0242ac110002row9_col0 {\n",
       "            background-color:  #ffffff;\n",
       "            color:  #000000;\n",
       "        }    #T_4df571d6_9973_11ed_8dd7_0242ac110002row9_col1 {\n",
       "            background-color:  #ffffff;\n",
       "            color:  #000000;\n",
       "        }    #T_4df571d6_9973_11ed_8dd7_0242ac110002row9_col2 {\n",
       "            background-color:  #ffffff;\n",
       "            color:  #000000;\n",
       "        }    #T_4df571d6_9973_11ed_8dd7_0242ac110002row9_col3 {\n",
       "            background-color:  #ffffff;\n",
       "            color:  #000000;\n",
       "        }    #T_4df571d6_9973_11ed_8dd7_0242ac110002row9_col4 {\n",
       "            background-color:  #ffffff;\n",
       "            color:  #000000;\n",
       "        }    #T_4df571d6_9973_11ed_8dd7_0242ac110002row9_col5 {\n",
       "            background-color:  #ffffff;\n",
       "            color:  #000000;\n",
       "        }    #T_4df571d6_9973_11ed_8dd7_0242ac110002row9_col6 {\n",
       "            background-color:  #ffffff;\n",
       "            color:  #000000;\n",
       "        }    #T_4df571d6_9973_11ed_8dd7_0242ac110002row9_col7 {\n",
       "            background-color:  #ffffff;\n",
       "            color:  #000000;\n",
       "        }    #T_4df571d6_9973_11ed_8dd7_0242ac110002row9_col8 {\n",
       "            background-color:  #cbcbcb;\n",
       "            color:  #000000;\n",
       "        }    #T_4df571d6_9973_11ed_8dd7_0242ac110002row9_col9 {\n",
       "            background-color:  #767676;\n",
       "            color:  #000000;\n",
       "        }    #T_4df571d6_9973_11ed_8dd7_0242ac110002row9_col10 {\n",
       "            background-color:  #aeaeae;\n",
       "            color:  #000000;\n",
       "        }    #T_4df571d6_9973_11ed_8dd7_0242ac110002row9_col11 {\n",
       "            background-color:  #000000;\n",
       "            color:  #f1f1f1;\n",
       "        }    #T_4df571d6_9973_11ed_8dd7_0242ac110002row9_col12 {\n",
       "            background-color:  #000000;\n",
       "            color:  #f1f1f1;\n",
       "        }    #T_4df571d6_9973_11ed_8dd7_0242ac110002row9_col13 {\n",
       "            background-color:  #3c3c3c;\n",
       "            color:  #f1f1f1;\n",
       "        }    #T_4df571d6_9973_11ed_8dd7_0242ac110002row9_col14 {\n",
       "            background-color:  #fafafa;\n",
       "            color:  #000000;\n",
       "        }    #T_4df571d6_9973_11ed_8dd7_0242ac110002row9_col15 {\n",
       "            background-color:  #ffffff;\n",
       "            color:  #000000;\n",
       "        }    #T_4df571d6_9973_11ed_8dd7_0242ac110002row9_col16 {\n",
       "            background-color:  #e8e8e8;\n",
       "            color:  #000000;\n",
       "        }    #T_4df571d6_9973_11ed_8dd7_0242ac110002row9_col17 {\n",
       "            background-color:  #787878;\n",
       "            color:  #000000;\n",
       "        }    #T_4df571d6_9973_11ed_8dd7_0242ac110002row9_col18 {\n",
       "            background-color:  #ffffff;\n",
       "            color:  #000000;\n",
       "        }    #T_4df571d6_9973_11ed_8dd7_0242ac110002row9_col19 {\n",
       "            background-color:  #ffffff;\n",
       "            color:  #000000;\n",
       "        }    #T_4df571d6_9973_11ed_8dd7_0242ac110002row9_col20 {\n",
       "            background-color:  #ffffff;\n",
       "            color:  #000000;\n",
       "        }    #T_4df571d6_9973_11ed_8dd7_0242ac110002row9_col21 {\n",
       "            background-color:  #ffffff;\n",
       "            color:  #000000;\n",
       "        }    #T_4df571d6_9973_11ed_8dd7_0242ac110002row9_col22 {\n",
       "            background-color:  #ffffff;\n",
       "            color:  #000000;\n",
       "        }    #T_4df571d6_9973_11ed_8dd7_0242ac110002row9_col23 {\n",
       "            background-color:  #ffffff;\n",
       "            color:  #000000;\n",
       "        }    #T_4df571d6_9973_11ed_8dd7_0242ac110002row9_col24 {\n",
       "            background-color:  #ffffff;\n",
       "            color:  #000000;\n",
       "        }    #T_4df571d6_9973_11ed_8dd7_0242ac110002row9_col25 {\n",
       "            background-color:  #ffffff;\n",
       "            color:  #000000;\n",
       "        }    #T_4df571d6_9973_11ed_8dd7_0242ac110002row9_col26 {\n",
       "            background-color:  #ffffff;\n",
       "            color:  #000000;\n",
       "        }    #T_4df571d6_9973_11ed_8dd7_0242ac110002row9_col27 {\n",
       "            background-color:  #ffffff;\n",
       "            color:  #000000;\n",
       "        }    #T_4df571d6_9973_11ed_8dd7_0242ac110002row10_col0 {\n",
       "            background-color:  #ffffff;\n",
       "            color:  #000000;\n",
       "        }    #T_4df571d6_9973_11ed_8dd7_0242ac110002row10_col1 {\n",
       "            background-color:  #ffffff;\n",
       "            color:  #000000;\n",
       "        }    #T_4df571d6_9973_11ed_8dd7_0242ac110002row10_col2 {\n",
       "            background-color:  #ffffff;\n",
       "            color:  #000000;\n",
       "        }    #T_4df571d6_9973_11ed_8dd7_0242ac110002row10_col3 {\n",
       "            background-color:  #ffffff;\n",
       "            color:  #000000;\n",
       "        }    #T_4df571d6_9973_11ed_8dd7_0242ac110002row10_col4 {\n",
       "            background-color:  #ffffff;\n",
       "            color:  #000000;\n",
       "        }    #T_4df571d6_9973_11ed_8dd7_0242ac110002row10_col5 {\n",
       "            background-color:  #ffffff;\n",
       "            color:  #000000;\n",
       "        }    #T_4df571d6_9973_11ed_8dd7_0242ac110002row10_col6 {\n",
       "            background-color:  #ffffff;\n",
       "            color:  #000000;\n",
       "        }    #T_4df571d6_9973_11ed_8dd7_0242ac110002row10_col7 {\n",
       "            background-color:  #ffffff;\n",
       "            color:  #000000;\n",
       "        }    #T_4df571d6_9973_11ed_8dd7_0242ac110002row10_col8 {\n",
       "            background-color:  #ffffff;\n",
       "            color:  #000000;\n",
       "        }    #T_4df571d6_9973_11ed_8dd7_0242ac110002row10_col9 {\n",
       "            background-color:  #f8f8f8;\n",
       "            color:  #000000;\n",
       "        }    #T_4df571d6_9973_11ed_8dd7_0242ac110002row10_col10 {\n",
       "            background-color:  #ffffff;\n",
       "            color:  #000000;\n",
       "        }    #T_4df571d6_9973_11ed_8dd7_0242ac110002row10_col11 {\n",
       "            background-color:  #787878;\n",
       "            color:  #000000;\n",
       "        }    #T_4df571d6_9973_11ed_8dd7_0242ac110002row10_col12 {\n",
       "            background-color:  #000000;\n",
       "            color:  #f1f1f1;\n",
       "        }    #T_4df571d6_9973_11ed_8dd7_0242ac110002row10_col13 {\n",
       "            background-color:  #c1c1c1;\n",
       "            color:  #000000;\n",
       "        }    #T_4df571d6_9973_11ed_8dd7_0242ac110002row10_col14 {\n",
       "            background-color:  #ffffff;\n",
       "            color:  #000000;\n",
       "        }    #T_4df571d6_9973_11ed_8dd7_0242ac110002row10_col15 {\n",
       "            background-color:  #ffffff;\n",
       "            color:  #000000;\n",
       "        }    #T_4df571d6_9973_11ed_8dd7_0242ac110002row10_col16 {\n",
       "            background-color:  #ffffff;\n",
       "            color:  #000000;\n",
       "        }    #T_4df571d6_9973_11ed_8dd7_0242ac110002row10_col17 {\n",
       "            background-color:  #ffffff;\n",
       "            color:  #000000;\n",
       "        }    #T_4df571d6_9973_11ed_8dd7_0242ac110002row10_col18 {\n",
       "            background-color:  #ffffff;\n",
       "            color:  #000000;\n",
       "        }    #T_4df571d6_9973_11ed_8dd7_0242ac110002row10_col19 {\n",
       "            background-color:  #ffffff;\n",
       "            color:  #000000;\n",
       "        }    #T_4df571d6_9973_11ed_8dd7_0242ac110002row10_col20 {\n",
       "            background-color:  #ffffff;\n",
       "            color:  #000000;\n",
       "        }    #T_4df571d6_9973_11ed_8dd7_0242ac110002row10_col21 {\n",
       "            background-color:  #ffffff;\n",
       "            color:  #000000;\n",
       "        }    #T_4df571d6_9973_11ed_8dd7_0242ac110002row10_col22 {\n",
       "            background-color:  #ffffff;\n",
       "            color:  #000000;\n",
       "        }    #T_4df571d6_9973_11ed_8dd7_0242ac110002row10_col23 {\n",
       "            background-color:  #ffffff;\n",
       "            color:  #000000;\n",
       "        }    #T_4df571d6_9973_11ed_8dd7_0242ac110002row10_col24 {\n",
       "            background-color:  #ffffff;\n",
       "            color:  #000000;\n",
       "        }    #T_4df571d6_9973_11ed_8dd7_0242ac110002row10_col25 {\n",
       "            background-color:  #ffffff;\n",
       "            color:  #000000;\n",
       "        }    #T_4df571d6_9973_11ed_8dd7_0242ac110002row10_col26 {\n",
       "            background-color:  #ffffff;\n",
       "            color:  #000000;\n",
       "        }    #T_4df571d6_9973_11ed_8dd7_0242ac110002row10_col27 {\n",
       "            background-color:  #ffffff;\n",
       "            color:  #000000;\n",
       "        }    #T_4df571d6_9973_11ed_8dd7_0242ac110002row11_col0 {\n",
       "            background-color:  #ffffff;\n",
       "            color:  #000000;\n",
       "        }    #T_4df571d6_9973_11ed_8dd7_0242ac110002row11_col1 {\n",
       "            background-color:  #ffffff;\n",
       "            color:  #000000;\n",
       "        }    #T_4df571d6_9973_11ed_8dd7_0242ac110002row11_col2 {\n",
       "            background-color:  #ffffff;\n",
       "            color:  #000000;\n",
       "        }    #T_4df571d6_9973_11ed_8dd7_0242ac110002row11_col3 {\n",
       "            background-color:  #ffffff;\n",
       "            color:  #000000;\n",
       "        }    #T_4df571d6_9973_11ed_8dd7_0242ac110002row11_col4 {\n",
       "            background-color:  #ffffff;\n",
       "            color:  #000000;\n",
       "        }    #T_4df571d6_9973_11ed_8dd7_0242ac110002row11_col5 {\n",
       "            background-color:  #ffffff;\n",
       "            color:  #000000;\n",
       "        }    #T_4df571d6_9973_11ed_8dd7_0242ac110002row11_col6 {\n",
       "            background-color:  #ffffff;\n",
       "            color:  #000000;\n",
       "        }    #T_4df571d6_9973_11ed_8dd7_0242ac110002row11_col7 {\n",
       "            background-color:  #ffffff;\n",
       "            color:  #000000;\n",
       "        }    #T_4df571d6_9973_11ed_8dd7_0242ac110002row11_col8 {\n",
       "            background-color:  #ffffff;\n",
       "            color:  #000000;\n",
       "        }    #T_4df571d6_9973_11ed_8dd7_0242ac110002row11_col9 {\n",
       "            background-color:  #ffffff;\n",
       "            color:  #000000;\n",
       "        }    #T_4df571d6_9973_11ed_8dd7_0242ac110002row11_col10 {\n",
       "            background-color:  #ffffff;\n",
       "            color:  #000000;\n",
       "        }    #T_4df571d6_9973_11ed_8dd7_0242ac110002row11_col11 {\n",
       "            background-color:  #888888;\n",
       "            color:  #000000;\n",
       "        }    #T_4df571d6_9973_11ed_8dd7_0242ac110002row11_col12 {\n",
       "            background-color:  #000000;\n",
       "            color:  #f1f1f1;\n",
       "        }    #T_4df571d6_9973_11ed_8dd7_0242ac110002row11_col13 {\n",
       "            background-color:  #515151;\n",
       "            color:  #f1f1f1;\n",
       "        }    #T_4df571d6_9973_11ed_8dd7_0242ac110002row11_col14 {\n",
       "            background-color:  #fefefe;\n",
       "            color:  #000000;\n",
       "        }    #T_4df571d6_9973_11ed_8dd7_0242ac110002row11_col15 {\n",
       "            background-color:  #ffffff;\n",
       "            color:  #000000;\n",
       "        }    #T_4df571d6_9973_11ed_8dd7_0242ac110002row11_col16 {\n",
       "            background-color:  #ffffff;\n",
       "            color:  #000000;\n",
       "        }    #T_4df571d6_9973_11ed_8dd7_0242ac110002row11_col17 {\n",
       "            background-color:  #ffffff;\n",
       "            color:  #000000;\n",
       "        }    #T_4df571d6_9973_11ed_8dd7_0242ac110002row11_col18 {\n",
       "            background-color:  #ffffff;\n",
       "            color:  #000000;\n",
       "        }    #T_4df571d6_9973_11ed_8dd7_0242ac110002row11_col19 {\n",
       "            background-color:  #ffffff;\n",
       "            color:  #000000;\n",
       "        }    #T_4df571d6_9973_11ed_8dd7_0242ac110002row11_col20 {\n",
       "            background-color:  #ffffff;\n",
       "            color:  #000000;\n",
       "        }    #T_4df571d6_9973_11ed_8dd7_0242ac110002row11_col21 {\n",
       "            background-color:  #ffffff;\n",
       "            color:  #000000;\n",
       "        }    #T_4df571d6_9973_11ed_8dd7_0242ac110002row11_col22 {\n",
       "            background-color:  #ffffff;\n",
       "            color:  #000000;\n",
       "        }    #T_4df571d6_9973_11ed_8dd7_0242ac110002row11_col23 {\n",
       "            background-color:  #ffffff;\n",
       "            color:  #000000;\n",
       "        }    #T_4df571d6_9973_11ed_8dd7_0242ac110002row11_col24 {\n",
       "            background-color:  #ffffff;\n",
       "            color:  #000000;\n",
       "        }    #T_4df571d6_9973_11ed_8dd7_0242ac110002row11_col25 {\n",
       "            background-color:  #ffffff;\n",
       "            color:  #000000;\n",
       "        }    #T_4df571d6_9973_11ed_8dd7_0242ac110002row11_col26 {\n",
       "            background-color:  #ffffff;\n",
       "            color:  #000000;\n",
       "        }    #T_4df571d6_9973_11ed_8dd7_0242ac110002row11_col27 {\n",
       "            background-color:  #ffffff;\n",
       "            color:  #000000;\n",
       "        }    #T_4df571d6_9973_11ed_8dd7_0242ac110002row12_col0 {\n",
       "            background-color:  #ffffff;\n",
       "            color:  #000000;\n",
       "        }    #T_4df571d6_9973_11ed_8dd7_0242ac110002row12_col1 {\n",
       "            background-color:  #ffffff;\n",
       "            color:  #000000;\n",
       "        }    #T_4df571d6_9973_11ed_8dd7_0242ac110002row12_col2 {\n",
       "            background-color:  #ffffff;\n",
       "            color:  #000000;\n",
       "        }    #T_4df571d6_9973_11ed_8dd7_0242ac110002row12_col3 {\n",
       "            background-color:  #ffffff;\n",
       "            color:  #000000;\n",
       "        }    #T_4df571d6_9973_11ed_8dd7_0242ac110002row12_col4 {\n",
       "            background-color:  #ffffff;\n",
       "            color:  #000000;\n",
       "        }    #T_4df571d6_9973_11ed_8dd7_0242ac110002row12_col5 {\n",
       "            background-color:  #ffffff;\n",
       "            color:  #000000;\n",
       "        }    #T_4df571d6_9973_11ed_8dd7_0242ac110002row12_col6 {\n",
       "            background-color:  #ffffff;\n",
       "            color:  #000000;\n",
       "        }    #T_4df571d6_9973_11ed_8dd7_0242ac110002row12_col7 {\n",
       "            background-color:  #ffffff;\n",
       "            color:  #000000;\n",
       "        }    #T_4df571d6_9973_11ed_8dd7_0242ac110002row12_col8 {\n",
       "            background-color:  #ffffff;\n",
       "            color:  #000000;\n",
       "        }    #T_4df571d6_9973_11ed_8dd7_0242ac110002row12_col9 {\n",
       "            background-color:  #ffffff;\n",
       "            color:  #000000;\n",
       "        }    #T_4df571d6_9973_11ed_8dd7_0242ac110002row12_col10 {\n",
       "            background-color:  #ffffff;\n",
       "            color:  #000000;\n",
       "        }    #T_4df571d6_9973_11ed_8dd7_0242ac110002row12_col11 {\n",
       "            background-color:  #fafafa;\n",
       "            color:  #000000;\n",
       "        }    #T_4df571d6_9973_11ed_8dd7_0242ac110002row12_col12 {\n",
       "            background-color:  #515151;\n",
       "            color:  #f1f1f1;\n",
       "        }    #T_4df571d6_9973_11ed_8dd7_0242ac110002row12_col13 {\n",
       "            background-color:  #000000;\n",
       "            color:  #f1f1f1;\n",
       "        }    #T_4df571d6_9973_11ed_8dd7_0242ac110002row12_col14 {\n",
       "            background-color:  #d4d4d4;\n",
       "            color:  #000000;\n",
       "        }    #T_4df571d6_9973_11ed_8dd7_0242ac110002row12_col15 {\n",
       "            background-color:  #ffffff;\n",
       "            color:  #000000;\n",
       "        }    #T_4df571d6_9973_11ed_8dd7_0242ac110002row12_col16 {\n",
       "            background-color:  #ffffff;\n",
       "            color:  #000000;\n",
       "        }    #T_4df571d6_9973_11ed_8dd7_0242ac110002row12_col17 {\n",
       "            background-color:  #ffffff;\n",
       "            color:  #000000;\n",
       "        }    #T_4df571d6_9973_11ed_8dd7_0242ac110002row12_col18 {\n",
       "            background-color:  #ffffff;\n",
       "            color:  #000000;\n",
       "        }    #T_4df571d6_9973_11ed_8dd7_0242ac110002row12_col19 {\n",
       "            background-color:  #ffffff;\n",
       "            color:  #000000;\n",
       "        }    #T_4df571d6_9973_11ed_8dd7_0242ac110002row12_col20 {\n",
       "            background-color:  #ffffff;\n",
       "            color:  #000000;\n",
       "        }    #T_4df571d6_9973_11ed_8dd7_0242ac110002row12_col21 {\n",
       "            background-color:  #ffffff;\n",
       "            color:  #000000;\n",
       "        }    #T_4df571d6_9973_11ed_8dd7_0242ac110002row12_col22 {\n",
       "            background-color:  #ffffff;\n",
       "            color:  #000000;\n",
       "        }    #T_4df571d6_9973_11ed_8dd7_0242ac110002row12_col23 {\n",
       "            background-color:  #ffffff;\n",
       "            color:  #000000;\n",
       "        }    #T_4df571d6_9973_11ed_8dd7_0242ac110002row12_col24 {\n",
       "            background-color:  #ffffff;\n",
       "            color:  #000000;\n",
       "        }    #T_4df571d6_9973_11ed_8dd7_0242ac110002row12_col25 {\n",
       "            background-color:  #ffffff;\n",
       "            color:  #000000;\n",
       "        }    #T_4df571d6_9973_11ed_8dd7_0242ac110002row12_col26 {\n",
       "            background-color:  #ffffff;\n",
       "            color:  #000000;\n",
       "        }    #T_4df571d6_9973_11ed_8dd7_0242ac110002row12_col27 {\n",
       "            background-color:  #ffffff;\n",
       "            color:  #000000;\n",
       "        }    #T_4df571d6_9973_11ed_8dd7_0242ac110002row13_col0 {\n",
       "            background-color:  #ffffff;\n",
       "            color:  #000000;\n",
       "        }    #T_4df571d6_9973_11ed_8dd7_0242ac110002row13_col1 {\n",
       "            background-color:  #ffffff;\n",
       "            color:  #000000;\n",
       "        }    #T_4df571d6_9973_11ed_8dd7_0242ac110002row13_col2 {\n",
       "            background-color:  #ffffff;\n",
       "            color:  #000000;\n",
       "        }    #T_4df571d6_9973_11ed_8dd7_0242ac110002row13_col3 {\n",
       "            background-color:  #ffffff;\n",
       "            color:  #000000;\n",
       "        }    #T_4df571d6_9973_11ed_8dd7_0242ac110002row13_col4 {\n",
       "            background-color:  #ffffff;\n",
       "            color:  #000000;\n",
       "        }    #T_4df571d6_9973_11ed_8dd7_0242ac110002row13_col5 {\n",
       "            background-color:  #ffffff;\n",
       "            color:  #000000;\n",
       "        }    #T_4df571d6_9973_11ed_8dd7_0242ac110002row13_col6 {\n",
       "            background-color:  #ffffff;\n",
       "            color:  #000000;\n",
       "        }    #T_4df571d6_9973_11ed_8dd7_0242ac110002row13_col7 {\n",
       "            background-color:  #ffffff;\n",
       "            color:  #000000;\n",
       "        }    #T_4df571d6_9973_11ed_8dd7_0242ac110002row13_col8 {\n",
       "            background-color:  #ffffff;\n",
       "            color:  #000000;\n",
       "        }    #T_4df571d6_9973_11ed_8dd7_0242ac110002row13_col9 {\n",
       "            background-color:  #ffffff;\n",
       "            color:  #000000;\n",
       "        }    #T_4df571d6_9973_11ed_8dd7_0242ac110002row13_col10 {\n",
       "            background-color:  #ffffff;\n",
       "            color:  #000000;\n",
       "        }    #T_4df571d6_9973_11ed_8dd7_0242ac110002row13_col11 {\n",
       "            background-color:  #ffffff;\n",
       "            color:  #000000;\n",
       "        }    #T_4df571d6_9973_11ed_8dd7_0242ac110002row13_col12 {\n",
       "            background-color:  #eeeeee;\n",
       "            color:  #000000;\n",
       "        }    #T_4df571d6_9973_11ed_8dd7_0242ac110002row13_col13 {\n",
       "            background-color:  #0e0e0e;\n",
       "            color:  #f1f1f1;\n",
       "        }    #T_4df571d6_9973_11ed_8dd7_0242ac110002row13_col14 {\n",
       "            background-color:  #212121;\n",
       "            color:  #f1f1f1;\n",
       "        }    #T_4df571d6_9973_11ed_8dd7_0242ac110002row13_col15 {\n",
       "            background-color:  #717171;\n",
       "            color:  #000000;\n",
       "        }    #T_4df571d6_9973_11ed_8dd7_0242ac110002row13_col16 {\n",
       "            background-color:  #adadad;\n",
       "            color:  #000000;\n",
       "        }    #T_4df571d6_9973_11ed_8dd7_0242ac110002row13_col17 {\n",
       "            background-color:  #ffffff;\n",
       "            color:  #000000;\n",
       "        }    #T_4df571d6_9973_11ed_8dd7_0242ac110002row13_col18 {\n",
       "            background-color:  #ffffff;\n",
       "            color:  #000000;\n",
       "        }    #T_4df571d6_9973_11ed_8dd7_0242ac110002row13_col19 {\n",
       "            background-color:  #ffffff;\n",
       "            color:  #000000;\n",
       "        }    #T_4df571d6_9973_11ed_8dd7_0242ac110002row13_col20 {\n",
       "            background-color:  #ffffff;\n",
       "            color:  #000000;\n",
       "        }    #T_4df571d6_9973_11ed_8dd7_0242ac110002row13_col21 {\n",
       "            background-color:  #ffffff;\n",
       "            color:  #000000;\n",
       "        }    #T_4df571d6_9973_11ed_8dd7_0242ac110002row13_col22 {\n",
       "            background-color:  #ffffff;\n",
       "            color:  #000000;\n",
       "        }    #T_4df571d6_9973_11ed_8dd7_0242ac110002row13_col23 {\n",
       "            background-color:  #ffffff;\n",
       "            color:  #000000;\n",
       "        }    #T_4df571d6_9973_11ed_8dd7_0242ac110002row13_col24 {\n",
       "            background-color:  #ffffff;\n",
       "            color:  #000000;\n",
       "        }    #T_4df571d6_9973_11ed_8dd7_0242ac110002row13_col25 {\n",
       "            background-color:  #ffffff;\n",
       "            color:  #000000;\n",
       "        }    #T_4df571d6_9973_11ed_8dd7_0242ac110002row13_col26 {\n",
       "            background-color:  #ffffff;\n",
       "            color:  #000000;\n",
       "        }    #T_4df571d6_9973_11ed_8dd7_0242ac110002row13_col27 {\n",
       "            background-color:  #ffffff;\n",
       "            color:  #000000;\n",
       "        }    #T_4df571d6_9973_11ed_8dd7_0242ac110002row14_col0 {\n",
       "            background-color:  #ffffff;\n",
       "            color:  #000000;\n",
       "        }    #T_4df571d6_9973_11ed_8dd7_0242ac110002row14_col1 {\n",
       "            background-color:  #ffffff;\n",
       "            color:  #000000;\n",
       "        }    #T_4df571d6_9973_11ed_8dd7_0242ac110002row14_col2 {\n",
       "            background-color:  #ffffff;\n",
       "            color:  #000000;\n",
       "        }    #T_4df571d6_9973_11ed_8dd7_0242ac110002row14_col3 {\n",
       "            background-color:  #ffffff;\n",
       "            color:  #000000;\n",
       "        }    #T_4df571d6_9973_11ed_8dd7_0242ac110002row14_col4 {\n",
       "            background-color:  #ffffff;\n",
       "            color:  #000000;\n",
       "        }    #T_4df571d6_9973_11ed_8dd7_0242ac110002row14_col5 {\n",
       "            background-color:  #ffffff;\n",
       "            color:  #000000;\n",
       "        }    #T_4df571d6_9973_11ed_8dd7_0242ac110002row14_col6 {\n",
       "            background-color:  #ffffff;\n",
       "            color:  #000000;\n",
       "        }    #T_4df571d6_9973_11ed_8dd7_0242ac110002row14_col7 {\n",
       "            background-color:  #ffffff;\n",
       "            color:  #000000;\n",
       "        }    #T_4df571d6_9973_11ed_8dd7_0242ac110002row14_col8 {\n",
       "            background-color:  #ffffff;\n",
       "            color:  #000000;\n",
       "        }    #T_4df571d6_9973_11ed_8dd7_0242ac110002row14_col9 {\n",
       "            background-color:  #ffffff;\n",
       "            color:  #000000;\n",
       "        }    #T_4df571d6_9973_11ed_8dd7_0242ac110002row14_col10 {\n",
       "            background-color:  #ffffff;\n",
       "            color:  #000000;\n",
       "        }    #T_4df571d6_9973_11ed_8dd7_0242ac110002row14_col11 {\n",
       "            background-color:  #ffffff;\n",
       "            color:  #000000;\n",
       "        }    #T_4df571d6_9973_11ed_8dd7_0242ac110002row14_col12 {\n",
       "            background-color:  #ffffff;\n",
       "            color:  #000000;\n",
       "        }    #T_4df571d6_9973_11ed_8dd7_0242ac110002row14_col13 {\n",
       "            background-color:  #cacaca;\n",
       "            color:  #000000;\n",
       "        }    #T_4df571d6_9973_11ed_8dd7_0242ac110002row14_col14 {\n",
       "            background-color:  #0f0f0f;\n",
       "            color:  #f1f1f1;\n",
       "        }    #T_4df571d6_9973_11ed_8dd7_0242ac110002row14_col15 {\n",
       "            background-color:  #000000;\n",
       "            color:  #f1f1f1;\n",
       "        }    #T_4df571d6_9973_11ed_8dd7_0242ac110002row14_col16 {\n",
       "            background-color:  #000000;\n",
       "            color:  #f1f1f1;\n",
       "        }    #T_4df571d6_9973_11ed_8dd7_0242ac110002row14_col17 {\n",
       "            background-color:  #9f9f9f;\n",
       "            color:  #000000;\n",
       "        }    #T_4df571d6_9973_11ed_8dd7_0242ac110002row14_col18 {\n",
       "            background-color:  #f3f3f3;\n",
       "            color:  #000000;\n",
       "        }    #T_4df571d6_9973_11ed_8dd7_0242ac110002row14_col19 {\n",
       "            background-color:  #ffffff;\n",
       "            color:  #000000;\n",
       "        }    #T_4df571d6_9973_11ed_8dd7_0242ac110002row14_col20 {\n",
       "            background-color:  #ffffff;\n",
       "            color:  #000000;\n",
       "        }    #T_4df571d6_9973_11ed_8dd7_0242ac110002row14_col21 {\n",
       "            background-color:  #ffffff;\n",
       "            color:  #000000;\n",
       "        }    #T_4df571d6_9973_11ed_8dd7_0242ac110002row14_col22 {\n",
       "            background-color:  #ffffff;\n",
       "            color:  #000000;\n",
       "        }    #T_4df571d6_9973_11ed_8dd7_0242ac110002row14_col23 {\n",
       "            background-color:  #ffffff;\n",
       "            color:  #000000;\n",
       "        }    #T_4df571d6_9973_11ed_8dd7_0242ac110002row14_col24 {\n",
       "            background-color:  #ffffff;\n",
       "            color:  #000000;\n",
       "        }    #T_4df571d6_9973_11ed_8dd7_0242ac110002row14_col25 {\n",
       "            background-color:  #ffffff;\n",
       "            color:  #000000;\n",
       "        }    #T_4df571d6_9973_11ed_8dd7_0242ac110002row14_col26 {\n",
       "            background-color:  #ffffff;\n",
       "            color:  #000000;\n",
       "        }    #T_4df571d6_9973_11ed_8dd7_0242ac110002row14_col27 {\n",
       "            background-color:  #ffffff;\n",
       "            color:  #000000;\n",
       "        }    #T_4df571d6_9973_11ed_8dd7_0242ac110002row15_col0 {\n",
       "            background-color:  #ffffff;\n",
       "            color:  #000000;\n",
       "        }    #T_4df571d6_9973_11ed_8dd7_0242ac110002row15_col1 {\n",
       "            background-color:  #ffffff;\n",
       "            color:  #000000;\n",
       "        }    #T_4df571d6_9973_11ed_8dd7_0242ac110002row15_col2 {\n",
       "            background-color:  #ffffff;\n",
       "            color:  #000000;\n",
       "        }    #T_4df571d6_9973_11ed_8dd7_0242ac110002row15_col3 {\n",
       "            background-color:  #ffffff;\n",
       "            color:  #000000;\n",
       "        }    #T_4df571d6_9973_11ed_8dd7_0242ac110002row15_col4 {\n",
       "            background-color:  #ffffff;\n",
       "            color:  #000000;\n",
       "        }    #T_4df571d6_9973_11ed_8dd7_0242ac110002row15_col5 {\n",
       "            background-color:  #ffffff;\n",
       "            color:  #000000;\n",
       "        }    #T_4df571d6_9973_11ed_8dd7_0242ac110002row15_col6 {\n",
       "            background-color:  #ffffff;\n",
       "            color:  #000000;\n",
       "        }    #T_4df571d6_9973_11ed_8dd7_0242ac110002row15_col7 {\n",
       "            background-color:  #ffffff;\n",
       "            color:  #000000;\n",
       "        }    #T_4df571d6_9973_11ed_8dd7_0242ac110002row15_col8 {\n",
       "            background-color:  #ffffff;\n",
       "            color:  #000000;\n",
       "        }    #T_4df571d6_9973_11ed_8dd7_0242ac110002row15_col9 {\n",
       "            background-color:  #ffffff;\n",
       "            color:  #000000;\n",
       "        }    #T_4df571d6_9973_11ed_8dd7_0242ac110002row15_col10 {\n",
       "            background-color:  #ffffff;\n",
       "            color:  #000000;\n",
       "        }    #T_4df571d6_9973_11ed_8dd7_0242ac110002row15_col11 {\n",
       "            background-color:  #ffffff;\n",
       "            color:  #000000;\n",
       "        }    #T_4df571d6_9973_11ed_8dd7_0242ac110002row15_col12 {\n",
       "            background-color:  #ffffff;\n",
       "            color:  #000000;\n",
       "        }    #T_4df571d6_9973_11ed_8dd7_0242ac110002row15_col13 {\n",
       "            background-color:  #ffffff;\n",
       "            color:  #000000;\n",
       "        }    #T_4df571d6_9973_11ed_8dd7_0242ac110002row15_col14 {\n",
       "            background-color:  #e7e7e7;\n",
       "            color:  #000000;\n",
       "        }    #T_4df571d6_9973_11ed_8dd7_0242ac110002row15_col15 {\n",
       "            background-color:  #555555;\n",
       "            color:  #f1f1f1;\n",
       "        }    #T_4df571d6_9973_11ed_8dd7_0242ac110002row15_col16 {\n",
       "            background-color:  #000000;\n",
       "            color:  #f1f1f1;\n",
       "        }    #T_4df571d6_9973_11ed_8dd7_0242ac110002row15_col17 {\n",
       "            background-color:  #000000;\n",
       "            color:  #f1f1f1;\n",
       "        }    #T_4df571d6_9973_11ed_8dd7_0242ac110002row15_col18 {\n",
       "            background-color:  #7c7c7c;\n",
       "            color:  #000000;\n",
       "        }    #T_4df571d6_9973_11ed_8dd7_0242ac110002row15_col19 {\n",
       "            background-color:  #f2f2f2;\n",
       "            color:  #000000;\n",
       "        }    #T_4df571d6_9973_11ed_8dd7_0242ac110002row15_col20 {\n",
       "            background-color:  #ffffff;\n",
       "            color:  #000000;\n",
       "        }    #T_4df571d6_9973_11ed_8dd7_0242ac110002row15_col21 {\n",
       "            background-color:  #ffffff;\n",
       "            color:  #000000;\n",
       "        }    #T_4df571d6_9973_11ed_8dd7_0242ac110002row15_col22 {\n",
       "            background-color:  #ffffff;\n",
       "            color:  #000000;\n",
       "        }    #T_4df571d6_9973_11ed_8dd7_0242ac110002row15_col23 {\n",
       "            background-color:  #ffffff;\n",
       "            color:  #000000;\n",
       "        }    #T_4df571d6_9973_11ed_8dd7_0242ac110002row15_col24 {\n",
       "            background-color:  #ffffff;\n",
       "            color:  #000000;\n",
       "        }    #T_4df571d6_9973_11ed_8dd7_0242ac110002row15_col25 {\n",
       "            background-color:  #ffffff;\n",
       "            color:  #000000;\n",
       "        }    #T_4df571d6_9973_11ed_8dd7_0242ac110002row15_col26 {\n",
       "            background-color:  #ffffff;\n",
       "            color:  #000000;\n",
       "        }    #T_4df571d6_9973_11ed_8dd7_0242ac110002row15_col27 {\n",
       "            background-color:  #ffffff;\n",
       "            color:  #000000;\n",
       "        }    #T_4df571d6_9973_11ed_8dd7_0242ac110002row16_col0 {\n",
       "            background-color:  #ffffff;\n",
       "            color:  #000000;\n",
       "        }    #T_4df571d6_9973_11ed_8dd7_0242ac110002row16_col1 {\n",
       "            background-color:  #ffffff;\n",
       "            color:  #000000;\n",
       "        }    #T_4df571d6_9973_11ed_8dd7_0242ac110002row16_col2 {\n",
       "            background-color:  #ffffff;\n",
       "            color:  #000000;\n",
       "        }    #T_4df571d6_9973_11ed_8dd7_0242ac110002row16_col3 {\n",
       "            background-color:  #ffffff;\n",
       "            color:  #000000;\n",
       "        }    #T_4df571d6_9973_11ed_8dd7_0242ac110002row16_col4 {\n",
       "            background-color:  #ffffff;\n",
       "            color:  #000000;\n",
       "        }    #T_4df571d6_9973_11ed_8dd7_0242ac110002row16_col5 {\n",
       "            background-color:  #ffffff;\n",
       "            color:  #000000;\n",
       "        }    #T_4df571d6_9973_11ed_8dd7_0242ac110002row16_col6 {\n",
       "            background-color:  #ffffff;\n",
       "            color:  #000000;\n",
       "        }    #T_4df571d6_9973_11ed_8dd7_0242ac110002row16_col7 {\n",
       "            background-color:  #ffffff;\n",
       "            color:  #000000;\n",
       "        }    #T_4df571d6_9973_11ed_8dd7_0242ac110002row16_col8 {\n",
       "            background-color:  #ffffff;\n",
       "            color:  #000000;\n",
       "        }    #T_4df571d6_9973_11ed_8dd7_0242ac110002row16_col9 {\n",
       "            background-color:  #ffffff;\n",
       "            color:  #000000;\n",
       "        }    #T_4df571d6_9973_11ed_8dd7_0242ac110002row16_col10 {\n",
       "            background-color:  #ffffff;\n",
       "            color:  #000000;\n",
       "        }    #T_4df571d6_9973_11ed_8dd7_0242ac110002row16_col11 {\n",
       "            background-color:  #ffffff;\n",
       "            color:  #000000;\n",
       "        }    #T_4df571d6_9973_11ed_8dd7_0242ac110002row16_col12 {\n",
       "            background-color:  #ffffff;\n",
       "            color:  #000000;\n",
       "        }    #T_4df571d6_9973_11ed_8dd7_0242ac110002row16_col13 {\n",
       "            background-color:  #ffffff;\n",
       "            color:  #000000;\n",
       "        }    #T_4df571d6_9973_11ed_8dd7_0242ac110002row16_col14 {\n",
       "            background-color:  #ffffff;\n",
       "            color:  #000000;\n",
       "        }    #T_4df571d6_9973_11ed_8dd7_0242ac110002row16_col15 {\n",
       "            background-color:  #f7f7f7;\n",
       "            color:  #000000;\n",
       "        }    #T_4df571d6_9973_11ed_8dd7_0242ac110002row16_col16 {\n",
       "            background-color:  #bebebe;\n",
       "            color:  #000000;\n",
       "        }    #T_4df571d6_9973_11ed_8dd7_0242ac110002row16_col17 {\n",
       "            background-color:  #010101;\n",
       "            color:  #f1f1f1;\n",
       "        }    #T_4df571d6_9973_11ed_8dd7_0242ac110002row16_col18 {\n",
       "            background-color:  #000000;\n",
       "            color:  #f1f1f1;\n",
       "        }    #T_4df571d6_9973_11ed_8dd7_0242ac110002row16_col19 {\n",
       "            background-color:  #515151;\n",
       "            color:  #f1f1f1;\n",
       "        }    #T_4df571d6_9973_11ed_8dd7_0242ac110002row16_col20 {\n",
       "            background-color:  #ffffff;\n",
       "            color:  #000000;\n",
       "        }    #T_4df571d6_9973_11ed_8dd7_0242ac110002row16_col21 {\n",
       "            background-color:  #ffffff;\n",
       "            color:  #000000;\n",
       "        }    #T_4df571d6_9973_11ed_8dd7_0242ac110002row16_col22 {\n",
       "            background-color:  #ffffff;\n",
       "            color:  #000000;\n",
       "        }    #T_4df571d6_9973_11ed_8dd7_0242ac110002row16_col23 {\n",
       "            background-color:  #ffffff;\n",
       "            color:  #000000;\n",
       "        }    #T_4df571d6_9973_11ed_8dd7_0242ac110002row16_col24 {\n",
       "            background-color:  #ffffff;\n",
       "            color:  #000000;\n",
       "        }    #T_4df571d6_9973_11ed_8dd7_0242ac110002row16_col25 {\n",
       "            background-color:  #ffffff;\n",
       "            color:  #000000;\n",
       "        }    #T_4df571d6_9973_11ed_8dd7_0242ac110002row16_col26 {\n",
       "            background-color:  #ffffff;\n",
       "            color:  #000000;\n",
       "        }    #T_4df571d6_9973_11ed_8dd7_0242ac110002row16_col27 {\n",
       "            background-color:  #ffffff;\n",
       "            color:  #000000;\n",
       "        }    #T_4df571d6_9973_11ed_8dd7_0242ac110002row17_col0 {\n",
       "            background-color:  #ffffff;\n",
       "            color:  #000000;\n",
       "        }    #T_4df571d6_9973_11ed_8dd7_0242ac110002row17_col1 {\n",
       "            background-color:  #ffffff;\n",
       "            color:  #000000;\n",
       "        }    #T_4df571d6_9973_11ed_8dd7_0242ac110002row17_col2 {\n",
       "            background-color:  #ffffff;\n",
       "            color:  #000000;\n",
       "        }    #T_4df571d6_9973_11ed_8dd7_0242ac110002row17_col3 {\n",
       "            background-color:  #ffffff;\n",
       "            color:  #000000;\n",
       "        }    #T_4df571d6_9973_11ed_8dd7_0242ac110002row17_col4 {\n",
       "            background-color:  #ffffff;\n",
       "            color:  #000000;\n",
       "        }    #T_4df571d6_9973_11ed_8dd7_0242ac110002row17_col5 {\n",
       "            background-color:  #ffffff;\n",
       "            color:  #000000;\n",
       "        }    #T_4df571d6_9973_11ed_8dd7_0242ac110002row17_col6 {\n",
       "            background-color:  #ffffff;\n",
       "            color:  #000000;\n",
       "        }    #T_4df571d6_9973_11ed_8dd7_0242ac110002row17_col7 {\n",
       "            background-color:  #ffffff;\n",
       "            color:  #000000;\n",
       "        }    #T_4df571d6_9973_11ed_8dd7_0242ac110002row17_col8 {\n",
       "            background-color:  #ffffff;\n",
       "            color:  #000000;\n",
       "        }    #T_4df571d6_9973_11ed_8dd7_0242ac110002row17_col9 {\n",
       "            background-color:  #ffffff;\n",
       "            color:  #000000;\n",
       "        }    #T_4df571d6_9973_11ed_8dd7_0242ac110002row17_col10 {\n",
       "            background-color:  #ffffff;\n",
       "            color:  #000000;\n",
       "        }    #T_4df571d6_9973_11ed_8dd7_0242ac110002row17_col11 {\n",
       "            background-color:  #ffffff;\n",
       "            color:  #000000;\n",
       "        }    #T_4df571d6_9973_11ed_8dd7_0242ac110002row17_col12 {\n",
       "            background-color:  #ffffff;\n",
       "            color:  #000000;\n",
       "        }    #T_4df571d6_9973_11ed_8dd7_0242ac110002row17_col13 {\n",
       "            background-color:  #ffffff;\n",
       "            color:  #000000;\n",
       "        }    #T_4df571d6_9973_11ed_8dd7_0242ac110002row17_col14 {\n",
       "            background-color:  #ffffff;\n",
       "            color:  #000000;\n",
       "        }    #T_4df571d6_9973_11ed_8dd7_0242ac110002row17_col15 {\n",
       "            background-color:  #ffffff;\n",
       "            color:  #000000;\n",
       "        }    #T_4df571d6_9973_11ed_8dd7_0242ac110002row17_col16 {\n",
       "            background-color:  #ffffff;\n",
       "            color:  #000000;\n",
       "        }    #T_4df571d6_9973_11ed_8dd7_0242ac110002row17_col17 {\n",
       "            background-color:  #050505;\n",
       "            color:  #f1f1f1;\n",
       "        }    #T_4df571d6_9973_11ed_8dd7_0242ac110002row17_col18 {\n",
       "            background-color:  #000000;\n",
       "            color:  #f1f1f1;\n",
       "        }    #T_4df571d6_9973_11ed_8dd7_0242ac110002row17_col19 {\n",
       "            background-color:  #000000;\n",
       "            color:  #f1f1f1;\n",
       "        }    #T_4df571d6_9973_11ed_8dd7_0242ac110002row17_col20 {\n",
       "            background-color:  #d9d9d9;\n",
       "            color:  #000000;\n",
       "        }    #T_4df571d6_9973_11ed_8dd7_0242ac110002row17_col21 {\n",
       "            background-color:  #ffffff;\n",
       "            color:  #000000;\n",
       "        }    #T_4df571d6_9973_11ed_8dd7_0242ac110002row17_col22 {\n",
       "            background-color:  #ffffff;\n",
       "            color:  #000000;\n",
       "        }    #T_4df571d6_9973_11ed_8dd7_0242ac110002row17_col23 {\n",
       "            background-color:  #ffffff;\n",
       "            color:  #000000;\n",
       "        }    #T_4df571d6_9973_11ed_8dd7_0242ac110002row17_col24 {\n",
       "            background-color:  #ffffff;\n",
       "            color:  #000000;\n",
       "        }    #T_4df571d6_9973_11ed_8dd7_0242ac110002row17_col25 {\n",
       "            background-color:  #ffffff;\n",
       "            color:  #000000;\n",
       "        }    #T_4df571d6_9973_11ed_8dd7_0242ac110002row17_col26 {\n",
       "            background-color:  #ffffff;\n",
       "            color:  #000000;\n",
       "        }    #T_4df571d6_9973_11ed_8dd7_0242ac110002row17_col27 {\n",
       "            background-color:  #ffffff;\n",
       "            color:  #000000;\n",
       "        }    #T_4df571d6_9973_11ed_8dd7_0242ac110002row18_col0 {\n",
       "            background-color:  #ffffff;\n",
       "            color:  #000000;\n",
       "        }    #T_4df571d6_9973_11ed_8dd7_0242ac110002row18_col1 {\n",
       "            background-color:  #ffffff;\n",
       "            color:  #000000;\n",
       "        }    #T_4df571d6_9973_11ed_8dd7_0242ac110002row18_col2 {\n",
       "            background-color:  #ffffff;\n",
       "            color:  #000000;\n",
       "        }    #T_4df571d6_9973_11ed_8dd7_0242ac110002row18_col3 {\n",
       "            background-color:  #ffffff;\n",
       "            color:  #000000;\n",
       "        }    #T_4df571d6_9973_11ed_8dd7_0242ac110002row18_col4 {\n",
       "            background-color:  #ffffff;\n",
       "            color:  #000000;\n",
       "        }    #T_4df571d6_9973_11ed_8dd7_0242ac110002row18_col5 {\n",
       "            background-color:  #ffffff;\n",
       "            color:  #000000;\n",
       "        }    #T_4df571d6_9973_11ed_8dd7_0242ac110002row18_col6 {\n",
       "            background-color:  #ffffff;\n",
       "            color:  #000000;\n",
       "        }    #T_4df571d6_9973_11ed_8dd7_0242ac110002row18_col7 {\n",
       "            background-color:  #ffffff;\n",
       "            color:  #000000;\n",
       "        }    #T_4df571d6_9973_11ed_8dd7_0242ac110002row18_col8 {\n",
       "            background-color:  #ffffff;\n",
       "            color:  #000000;\n",
       "        }    #T_4df571d6_9973_11ed_8dd7_0242ac110002row18_col9 {\n",
       "            background-color:  #ffffff;\n",
       "            color:  #000000;\n",
       "        }    #T_4df571d6_9973_11ed_8dd7_0242ac110002row18_col10 {\n",
       "            background-color:  #ffffff;\n",
       "            color:  #000000;\n",
       "        }    #T_4df571d6_9973_11ed_8dd7_0242ac110002row18_col11 {\n",
       "            background-color:  #ffffff;\n",
       "            color:  #000000;\n",
       "        }    #T_4df571d6_9973_11ed_8dd7_0242ac110002row18_col12 {\n",
       "            background-color:  #ffffff;\n",
       "            color:  #000000;\n",
       "        }    #T_4df571d6_9973_11ed_8dd7_0242ac110002row18_col13 {\n",
       "            background-color:  #ffffff;\n",
       "            color:  #000000;\n",
       "        }    #T_4df571d6_9973_11ed_8dd7_0242ac110002row18_col14 {\n",
       "            background-color:  #e6e6e6;\n",
       "            color:  #000000;\n",
       "        }    #T_4df571d6_9973_11ed_8dd7_0242ac110002row18_col15 {\n",
       "            background-color:  #929292;\n",
       "            color:  #000000;\n",
       "        }    #T_4df571d6_9973_11ed_8dd7_0242ac110002row18_col16 {\n",
       "            background-color:  #585858;\n",
       "            color:  #f1f1f1;\n",
       "        }    #T_4df571d6_9973_11ed_8dd7_0242ac110002row18_col17 {\n",
       "            background-color:  #000000;\n",
       "            color:  #f1f1f1;\n",
       "        }    #T_4df571d6_9973_11ed_8dd7_0242ac110002row18_col18 {\n",
       "            background-color:  #000000;\n",
       "            color:  #f1f1f1;\n",
       "        }    #T_4df571d6_9973_11ed_8dd7_0242ac110002row18_col19 {\n",
       "            background-color:  #353535;\n",
       "            color:  #f1f1f1;\n",
       "        }    #T_4df571d6_9973_11ed_8dd7_0242ac110002row18_col20 {\n",
       "            background-color:  #fefefe;\n",
       "            color:  #000000;\n",
       "        }    #T_4df571d6_9973_11ed_8dd7_0242ac110002row18_col21 {\n",
       "            background-color:  #ffffff;\n",
       "            color:  #000000;\n",
       "        }    #T_4df571d6_9973_11ed_8dd7_0242ac110002row18_col22 {\n",
       "            background-color:  #ffffff;\n",
       "            color:  #000000;\n",
       "        }    #T_4df571d6_9973_11ed_8dd7_0242ac110002row18_col23 {\n",
       "            background-color:  #ffffff;\n",
       "            color:  #000000;\n",
       "        }    #T_4df571d6_9973_11ed_8dd7_0242ac110002row18_col24 {\n",
       "            background-color:  #ffffff;\n",
       "            color:  #000000;\n",
       "        }    #T_4df571d6_9973_11ed_8dd7_0242ac110002row18_col25 {\n",
       "            background-color:  #ffffff;\n",
       "            color:  #000000;\n",
       "        }    #T_4df571d6_9973_11ed_8dd7_0242ac110002row18_col26 {\n",
       "            background-color:  #ffffff;\n",
       "            color:  #000000;\n",
       "        }    #T_4df571d6_9973_11ed_8dd7_0242ac110002row18_col27 {\n",
       "            background-color:  #ffffff;\n",
       "            color:  #000000;\n",
       "        }    #T_4df571d6_9973_11ed_8dd7_0242ac110002row19_col0 {\n",
       "            background-color:  #ffffff;\n",
       "            color:  #000000;\n",
       "        }    #T_4df571d6_9973_11ed_8dd7_0242ac110002row19_col1 {\n",
       "            background-color:  #ffffff;\n",
       "            color:  #000000;\n",
       "        }    #T_4df571d6_9973_11ed_8dd7_0242ac110002row19_col2 {\n",
       "            background-color:  #ffffff;\n",
       "            color:  #000000;\n",
       "        }    #T_4df571d6_9973_11ed_8dd7_0242ac110002row19_col3 {\n",
       "            background-color:  #ffffff;\n",
       "            color:  #000000;\n",
       "        }    #T_4df571d6_9973_11ed_8dd7_0242ac110002row19_col4 {\n",
       "            background-color:  #ffffff;\n",
       "            color:  #000000;\n",
       "        }    #T_4df571d6_9973_11ed_8dd7_0242ac110002row19_col5 {\n",
       "            background-color:  #ffffff;\n",
       "            color:  #000000;\n",
       "        }    #T_4df571d6_9973_11ed_8dd7_0242ac110002row19_col6 {\n",
       "            background-color:  #ffffff;\n",
       "            color:  #000000;\n",
       "        }    #T_4df571d6_9973_11ed_8dd7_0242ac110002row19_col7 {\n",
       "            background-color:  #ffffff;\n",
       "            color:  #000000;\n",
       "        }    #T_4df571d6_9973_11ed_8dd7_0242ac110002row19_col8 {\n",
       "            background-color:  #ffffff;\n",
       "            color:  #000000;\n",
       "        }    #T_4df571d6_9973_11ed_8dd7_0242ac110002row19_col9 {\n",
       "            background-color:  #ffffff;\n",
       "            color:  #000000;\n",
       "        }    #T_4df571d6_9973_11ed_8dd7_0242ac110002row19_col10 {\n",
       "            background-color:  #ffffff;\n",
       "            color:  #000000;\n",
       "        }    #T_4df571d6_9973_11ed_8dd7_0242ac110002row19_col11 {\n",
       "            background-color:  #ffffff;\n",
       "            color:  #000000;\n",
       "        }    #T_4df571d6_9973_11ed_8dd7_0242ac110002row19_col12 {\n",
       "            background-color:  #ebebeb;\n",
       "            color:  #000000;\n",
       "        }    #T_4df571d6_9973_11ed_8dd7_0242ac110002row19_col13 {\n",
       "            background-color:  #7e7e7e;\n",
       "            color:  #000000;\n",
       "        }    #T_4df571d6_9973_11ed_8dd7_0242ac110002row19_col14 {\n",
       "            background-color:  #1c1c1c;\n",
       "            color:  #f1f1f1;\n",
       "        }    #T_4df571d6_9973_11ed_8dd7_0242ac110002row19_col15 {\n",
       "            background-color:  #000000;\n",
       "            color:  #f1f1f1;\n",
       "        }    #T_4df571d6_9973_11ed_8dd7_0242ac110002row19_col16 {\n",
       "            background-color:  #000000;\n",
       "            color:  #f1f1f1;\n",
       "        }    #T_4df571d6_9973_11ed_8dd7_0242ac110002row19_col17 {\n",
       "            background-color:  #000000;\n",
       "            color:  #f1f1f1;\n",
       "        }    #T_4df571d6_9973_11ed_8dd7_0242ac110002row19_col18 {\n",
       "            background-color:  #030303;\n",
       "            color:  #f1f1f1;\n",
       "        }    #T_4df571d6_9973_11ed_8dd7_0242ac110002row19_col19 {\n",
       "            background-color:  #565656;\n",
       "            color:  #f1f1f1;\n",
       "        }    #T_4df571d6_9973_11ed_8dd7_0242ac110002row19_col20 {\n",
       "            background-color:  #ffffff;\n",
       "            color:  #000000;\n",
       "        }    #T_4df571d6_9973_11ed_8dd7_0242ac110002row19_col21 {\n",
       "            background-color:  #ffffff;\n",
       "            color:  #000000;\n",
       "        }    #T_4df571d6_9973_11ed_8dd7_0242ac110002row19_col22 {\n",
       "            background-color:  #ffffff;\n",
       "            color:  #000000;\n",
       "        }    #T_4df571d6_9973_11ed_8dd7_0242ac110002row19_col23 {\n",
       "            background-color:  #ffffff;\n",
       "            color:  #000000;\n",
       "        }    #T_4df571d6_9973_11ed_8dd7_0242ac110002row19_col24 {\n",
       "            background-color:  #ffffff;\n",
       "            color:  #000000;\n",
       "        }    #T_4df571d6_9973_11ed_8dd7_0242ac110002row19_col25 {\n",
       "            background-color:  #ffffff;\n",
       "            color:  #000000;\n",
       "        }    #T_4df571d6_9973_11ed_8dd7_0242ac110002row19_col26 {\n",
       "            background-color:  #ffffff;\n",
       "            color:  #000000;\n",
       "        }    #T_4df571d6_9973_11ed_8dd7_0242ac110002row19_col27 {\n",
       "            background-color:  #ffffff;\n",
       "            color:  #000000;\n",
       "        }    #T_4df571d6_9973_11ed_8dd7_0242ac110002row20_col0 {\n",
       "            background-color:  #ffffff;\n",
       "            color:  #000000;\n",
       "        }    #T_4df571d6_9973_11ed_8dd7_0242ac110002row20_col1 {\n",
       "            background-color:  #ffffff;\n",
       "            color:  #000000;\n",
       "        }    #T_4df571d6_9973_11ed_8dd7_0242ac110002row20_col2 {\n",
       "            background-color:  #ffffff;\n",
       "            color:  #000000;\n",
       "        }    #T_4df571d6_9973_11ed_8dd7_0242ac110002row20_col3 {\n",
       "            background-color:  #ffffff;\n",
       "            color:  #000000;\n",
       "        }    #T_4df571d6_9973_11ed_8dd7_0242ac110002row20_col4 {\n",
       "            background-color:  #ffffff;\n",
       "            color:  #000000;\n",
       "        }    #T_4df571d6_9973_11ed_8dd7_0242ac110002row20_col5 {\n",
       "            background-color:  #ffffff;\n",
       "            color:  #000000;\n",
       "        }    #T_4df571d6_9973_11ed_8dd7_0242ac110002row20_col6 {\n",
       "            background-color:  #ffffff;\n",
       "            color:  #000000;\n",
       "        }    #T_4df571d6_9973_11ed_8dd7_0242ac110002row20_col7 {\n",
       "            background-color:  #ffffff;\n",
       "            color:  #000000;\n",
       "        }    #T_4df571d6_9973_11ed_8dd7_0242ac110002row20_col8 {\n",
       "            background-color:  #ffffff;\n",
       "            color:  #000000;\n",
       "        }    #T_4df571d6_9973_11ed_8dd7_0242ac110002row20_col9 {\n",
       "            background-color:  #ffffff;\n",
       "            color:  #000000;\n",
       "        }    #T_4df571d6_9973_11ed_8dd7_0242ac110002row20_col10 {\n",
       "            background-color:  #f4f4f4;\n",
       "            color:  #000000;\n",
       "        }    #T_4df571d6_9973_11ed_8dd7_0242ac110002row20_col11 {\n",
       "            background-color:  #a5a5a5;\n",
       "            color:  #000000;\n",
       "        }    #T_4df571d6_9973_11ed_8dd7_0242ac110002row20_col12 {\n",
       "            background-color:  #252525;\n",
       "            color:  #f1f1f1;\n",
       "        }    #T_4df571d6_9973_11ed_8dd7_0242ac110002row20_col13 {\n",
       "            background-color:  #000000;\n",
       "            color:  #f1f1f1;\n",
       "        }    #T_4df571d6_9973_11ed_8dd7_0242ac110002row20_col14 {\n",
       "            background-color:  #000000;\n",
       "            color:  #f1f1f1;\n",
       "        }    #T_4df571d6_9973_11ed_8dd7_0242ac110002row20_col15 {\n",
       "            background-color:  #000000;\n",
       "            color:  #f1f1f1;\n",
       "        }    #T_4df571d6_9973_11ed_8dd7_0242ac110002row20_col16 {\n",
       "            background-color:  #000000;\n",
       "            color:  #f1f1f1;\n",
       "        }    #T_4df571d6_9973_11ed_8dd7_0242ac110002row20_col17 {\n",
       "            background-color:  #414141;\n",
       "            color:  #f1f1f1;\n",
       "        }    #T_4df571d6_9973_11ed_8dd7_0242ac110002row20_col18 {\n",
       "            background-color:  #cccccc;\n",
       "            color:  #000000;\n",
       "        }    #T_4df571d6_9973_11ed_8dd7_0242ac110002row20_col19 {\n",
       "            background-color:  #ffffff;\n",
       "            color:  #000000;\n",
       "        }    #T_4df571d6_9973_11ed_8dd7_0242ac110002row20_col20 {\n",
       "            background-color:  #ffffff;\n",
       "            color:  #000000;\n",
       "        }    #T_4df571d6_9973_11ed_8dd7_0242ac110002row20_col21 {\n",
       "            background-color:  #ffffff;\n",
       "            color:  #000000;\n",
       "        }    #T_4df571d6_9973_11ed_8dd7_0242ac110002row20_col22 {\n",
       "            background-color:  #ffffff;\n",
       "            color:  #000000;\n",
       "        }    #T_4df571d6_9973_11ed_8dd7_0242ac110002row20_col23 {\n",
       "            background-color:  #ffffff;\n",
       "            color:  #000000;\n",
       "        }    #T_4df571d6_9973_11ed_8dd7_0242ac110002row20_col24 {\n",
       "            background-color:  #ffffff;\n",
       "            color:  #000000;\n",
       "        }    #T_4df571d6_9973_11ed_8dd7_0242ac110002row20_col25 {\n",
       "            background-color:  #ffffff;\n",
       "            color:  #000000;\n",
       "        }    #T_4df571d6_9973_11ed_8dd7_0242ac110002row20_col26 {\n",
       "            background-color:  #ffffff;\n",
       "            color:  #000000;\n",
       "        }    #T_4df571d6_9973_11ed_8dd7_0242ac110002row20_col27 {\n",
       "            background-color:  #ffffff;\n",
       "            color:  #000000;\n",
       "        }    #T_4df571d6_9973_11ed_8dd7_0242ac110002row21_col0 {\n",
       "            background-color:  #ffffff;\n",
       "            color:  #000000;\n",
       "        }    #T_4df571d6_9973_11ed_8dd7_0242ac110002row21_col1 {\n",
       "            background-color:  #ffffff;\n",
       "            color:  #000000;\n",
       "        }    #T_4df571d6_9973_11ed_8dd7_0242ac110002row21_col2 {\n",
       "            background-color:  #ffffff;\n",
       "            color:  #000000;\n",
       "        }    #T_4df571d6_9973_11ed_8dd7_0242ac110002row21_col3 {\n",
       "            background-color:  #ffffff;\n",
       "            color:  #000000;\n",
       "        }    #T_4df571d6_9973_11ed_8dd7_0242ac110002row21_col4 {\n",
       "            background-color:  #ffffff;\n",
       "            color:  #000000;\n",
       "        }    #T_4df571d6_9973_11ed_8dd7_0242ac110002row21_col5 {\n",
       "            background-color:  #ffffff;\n",
       "            color:  #000000;\n",
       "        }    #T_4df571d6_9973_11ed_8dd7_0242ac110002row21_col6 {\n",
       "            background-color:  #ffffff;\n",
       "            color:  #000000;\n",
       "        }    #T_4df571d6_9973_11ed_8dd7_0242ac110002row21_col7 {\n",
       "            background-color:  #ffffff;\n",
       "            color:  #000000;\n",
       "        }    #T_4df571d6_9973_11ed_8dd7_0242ac110002row21_col8 {\n",
       "            background-color:  #f4f4f4;\n",
       "            color:  #000000;\n",
       "        }    #T_4df571d6_9973_11ed_8dd7_0242ac110002row21_col9 {\n",
       "            background-color:  #d7d7d7;\n",
       "            color:  #000000;\n",
       "        }    #T_4df571d6_9973_11ed_8dd7_0242ac110002row21_col10 {\n",
       "            background-color:  #303030;\n",
       "            color:  #f1f1f1;\n",
       "        }    #T_4df571d6_9973_11ed_8dd7_0242ac110002row21_col11 {\n",
       "            background-color:  #000000;\n",
       "            color:  #f1f1f1;\n",
       "        }    #T_4df571d6_9973_11ed_8dd7_0242ac110002row21_col12 {\n",
       "            background-color:  #000000;\n",
       "            color:  #f1f1f1;\n",
       "        }    #T_4df571d6_9973_11ed_8dd7_0242ac110002row21_col13 {\n",
       "            background-color:  #000000;\n",
       "            color:  #f1f1f1;\n",
       "        }    #T_4df571d6_9973_11ed_8dd7_0242ac110002row21_col14 {\n",
       "            background-color:  #000000;\n",
       "            color:  #f1f1f1;\n",
       "        }    #T_4df571d6_9973_11ed_8dd7_0242ac110002row21_col15 {\n",
       "            background-color:  #464646;\n",
       "            color:  #f1f1f1;\n",
       "        }    #T_4df571d6_9973_11ed_8dd7_0242ac110002row21_col16 {\n",
       "            background-color:  #cacaca;\n",
       "            color:  #000000;\n",
       "        }    #T_4df571d6_9973_11ed_8dd7_0242ac110002row21_col17 {\n",
       "            background-color:  #fefefe;\n",
       "            color:  #000000;\n",
       "        }    #T_4df571d6_9973_11ed_8dd7_0242ac110002row21_col18 {\n",
       "            background-color:  #ffffff;\n",
       "            color:  #000000;\n",
       "        }    #T_4df571d6_9973_11ed_8dd7_0242ac110002row21_col19 {\n",
       "            background-color:  #ffffff;\n",
       "            color:  #000000;\n",
       "        }    #T_4df571d6_9973_11ed_8dd7_0242ac110002row21_col20 {\n",
       "            background-color:  #ffffff;\n",
       "            color:  #000000;\n",
       "        }    #T_4df571d6_9973_11ed_8dd7_0242ac110002row21_col21 {\n",
       "            background-color:  #ffffff;\n",
       "            color:  #000000;\n",
       "        }    #T_4df571d6_9973_11ed_8dd7_0242ac110002row21_col22 {\n",
       "            background-color:  #ffffff;\n",
       "            color:  #000000;\n",
       "        }    #T_4df571d6_9973_11ed_8dd7_0242ac110002row21_col23 {\n",
       "            background-color:  #ffffff;\n",
       "            color:  #000000;\n",
       "        }    #T_4df571d6_9973_11ed_8dd7_0242ac110002row21_col24 {\n",
       "            background-color:  #ffffff;\n",
       "            color:  #000000;\n",
       "        }    #T_4df571d6_9973_11ed_8dd7_0242ac110002row21_col25 {\n",
       "            background-color:  #ffffff;\n",
       "            color:  #000000;\n",
       "        }    #T_4df571d6_9973_11ed_8dd7_0242ac110002row21_col26 {\n",
       "            background-color:  #ffffff;\n",
       "            color:  #000000;\n",
       "        }    #T_4df571d6_9973_11ed_8dd7_0242ac110002row21_col27 {\n",
       "            background-color:  #ffffff;\n",
       "            color:  #000000;\n",
       "        }    #T_4df571d6_9973_11ed_8dd7_0242ac110002row22_col0 {\n",
       "            background-color:  #ffffff;\n",
       "            color:  #000000;\n",
       "        }    #T_4df571d6_9973_11ed_8dd7_0242ac110002row22_col1 {\n",
       "            background-color:  #ffffff;\n",
       "            color:  #000000;\n",
       "        }    #T_4df571d6_9973_11ed_8dd7_0242ac110002row22_col2 {\n",
       "            background-color:  #ffffff;\n",
       "            color:  #000000;\n",
       "        }    #T_4df571d6_9973_11ed_8dd7_0242ac110002row22_col3 {\n",
       "            background-color:  #ffffff;\n",
       "            color:  #000000;\n",
       "        }    #T_4df571d6_9973_11ed_8dd7_0242ac110002row22_col4 {\n",
       "            background-color:  #ffffff;\n",
       "            color:  #000000;\n",
       "        }    #T_4df571d6_9973_11ed_8dd7_0242ac110002row22_col5 {\n",
       "            background-color:  #ffffff;\n",
       "            color:  #000000;\n",
       "        }    #T_4df571d6_9973_11ed_8dd7_0242ac110002row22_col6 {\n",
       "            background-color:  #f7f7f7;\n",
       "            color:  #000000;\n",
       "        }    #T_4df571d6_9973_11ed_8dd7_0242ac110002row22_col7 {\n",
       "            background-color:  #656565;\n",
       "            color:  #f1f1f1;\n",
       "        }    #T_4df571d6_9973_11ed_8dd7_0242ac110002row22_col8 {\n",
       "            background-color:  #282828;\n",
       "            color:  #f1f1f1;\n",
       "        }    #T_4df571d6_9973_11ed_8dd7_0242ac110002row22_col9 {\n",
       "            background-color:  #000000;\n",
       "            color:  #f1f1f1;\n",
       "        }    #T_4df571d6_9973_11ed_8dd7_0242ac110002row22_col10 {\n",
       "            background-color:  #000000;\n",
       "            color:  #f1f1f1;\n",
       "        }    #T_4df571d6_9973_11ed_8dd7_0242ac110002row22_col11 {\n",
       "            background-color:  #000000;\n",
       "            color:  #f1f1f1;\n",
       "        }    #T_4df571d6_9973_11ed_8dd7_0242ac110002row22_col12 {\n",
       "            background-color:  #000000;\n",
       "            color:  #f1f1f1;\n",
       "        }    #T_4df571d6_9973_11ed_8dd7_0242ac110002row22_col13 {\n",
       "            background-color:  #4a4a4a;\n",
       "            color:  #f1f1f1;\n",
       "        }    #T_4df571d6_9973_11ed_8dd7_0242ac110002row22_col14 {\n",
       "            background-color:  #cbcbcb;\n",
       "            color:  #000000;\n",
       "        }    #T_4df571d6_9973_11ed_8dd7_0242ac110002row22_col15 {\n",
       "            background-color:  #fbfbfb;\n",
       "            color:  #000000;\n",
       "        }    #T_4df571d6_9973_11ed_8dd7_0242ac110002row22_col16 {\n",
       "            background-color:  #ffffff;\n",
       "            color:  #000000;\n",
       "        }    #T_4df571d6_9973_11ed_8dd7_0242ac110002row22_col17 {\n",
       "            background-color:  #ffffff;\n",
       "            color:  #000000;\n",
       "        }    #T_4df571d6_9973_11ed_8dd7_0242ac110002row22_col18 {\n",
       "            background-color:  #ffffff;\n",
       "            color:  #000000;\n",
       "        }    #T_4df571d6_9973_11ed_8dd7_0242ac110002row22_col19 {\n",
       "            background-color:  #ffffff;\n",
       "            color:  #000000;\n",
       "        }    #T_4df571d6_9973_11ed_8dd7_0242ac110002row22_col20 {\n",
       "            background-color:  #ffffff;\n",
       "            color:  #000000;\n",
       "        }    #T_4df571d6_9973_11ed_8dd7_0242ac110002row22_col21 {\n",
       "            background-color:  #ffffff;\n",
       "            color:  #000000;\n",
       "        }    #T_4df571d6_9973_11ed_8dd7_0242ac110002row22_col22 {\n",
       "            background-color:  #ffffff;\n",
       "            color:  #000000;\n",
       "        }    #T_4df571d6_9973_11ed_8dd7_0242ac110002row22_col23 {\n",
       "            background-color:  #ffffff;\n",
       "            color:  #000000;\n",
       "        }    #T_4df571d6_9973_11ed_8dd7_0242ac110002row22_col24 {\n",
       "            background-color:  #ffffff;\n",
       "            color:  #000000;\n",
       "        }    #T_4df571d6_9973_11ed_8dd7_0242ac110002row22_col25 {\n",
       "            background-color:  #ffffff;\n",
       "            color:  #000000;\n",
       "        }    #T_4df571d6_9973_11ed_8dd7_0242ac110002row22_col26 {\n",
       "            background-color:  #ffffff;\n",
       "            color:  #000000;\n",
       "        }    #T_4df571d6_9973_11ed_8dd7_0242ac110002row22_col27 {\n",
       "            background-color:  #ffffff;\n",
       "            color:  #000000;\n",
       "        }    #T_4df571d6_9973_11ed_8dd7_0242ac110002row23_col0 {\n",
       "            background-color:  #ffffff;\n",
       "            color:  #000000;\n",
       "        }    #T_4df571d6_9973_11ed_8dd7_0242ac110002row23_col1 {\n",
       "            background-color:  #ffffff;\n",
       "            color:  #000000;\n",
       "        }    #T_4df571d6_9973_11ed_8dd7_0242ac110002row23_col2 {\n",
       "            background-color:  #ffffff;\n",
       "            color:  #000000;\n",
       "        }    #T_4df571d6_9973_11ed_8dd7_0242ac110002row23_col3 {\n",
       "            background-color:  #ffffff;\n",
       "            color:  #000000;\n",
       "        }    #T_4df571d6_9973_11ed_8dd7_0242ac110002row23_col4 {\n",
       "            background-color:  #b4b4b4;\n",
       "            color:  #000000;\n",
       "        }    #T_4df571d6_9973_11ed_8dd7_0242ac110002row23_col5 {\n",
       "            background-color:  #646464;\n",
       "            color:  #f1f1f1;\n",
       "        }    #T_4df571d6_9973_11ed_8dd7_0242ac110002row23_col6 {\n",
       "            background-color:  #1f1f1f;\n",
       "            color:  #f1f1f1;\n",
       "        }    #T_4df571d6_9973_11ed_8dd7_0242ac110002row23_col7 {\n",
       "            background-color:  #000000;\n",
       "            color:  #f1f1f1;\n",
       "        }    #T_4df571d6_9973_11ed_8dd7_0242ac110002row23_col8 {\n",
       "            background-color:  #000000;\n",
       "            color:  #f1f1f1;\n",
       "        }    #T_4df571d6_9973_11ed_8dd7_0242ac110002row23_col9 {\n",
       "            background-color:  #000000;\n",
       "            color:  #f1f1f1;\n",
       "        }    #T_4df571d6_9973_11ed_8dd7_0242ac110002row23_col10 {\n",
       "            background-color:  #000000;\n",
       "            color:  #f1f1f1;\n",
       "        }    #T_4df571d6_9973_11ed_8dd7_0242ac110002row23_col11 {\n",
       "            background-color:  #0a0a0a;\n",
       "            color:  #f1f1f1;\n",
       "        }    #T_4df571d6_9973_11ed_8dd7_0242ac110002row23_col12 {\n",
       "            background-color:  #8f8f8f;\n",
       "            color:  #000000;\n",
       "        }    #T_4df571d6_9973_11ed_8dd7_0242ac110002row23_col13 {\n",
       "            background-color:  #fafafa;\n",
       "            color:  #000000;\n",
       "        }    #T_4df571d6_9973_11ed_8dd7_0242ac110002row23_col14 {\n",
       "            background-color:  #ffffff;\n",
       "            color:  #000000;\n",
       "        }    #T_4df571d6_9973_11ed_8dd7_0242ac110002row23_col15 {\n",
       "            background-color:  #ffffff;\n",
       "            color:  #000000;\n",
       "        }    #T_4df571d6_9973_11ed_8dd7_0242ac110002row23_col16 {\n",
       "            background-color:  #ffffff;\n",
       "            color:  #000000;\n",
       "        }    #T_4df571d6_9973_11ed_8dd7_0242ac110002row23_col17 {\n",
       "            background-color:  #ffffff;\n",
       "            color:  #000000;\n",
       "        }    #T_4df571d6_9973_11ed_8dd7_0242ac110002row23_col18 {\n",
       "            background-color:  #ffffff;\n",
       "            color:  #000000;\n",
       "        }    #T_4df571d6_9973_11ed_8dd7_0242ac110002row23_col19 {\n",
       "            background-color:  #ffffff;\n",
       "            color:  #000000;\n",
       "        }    #T_4df571d6_9973_11ed_8dd7_0242ac110002row23_col20 {\n",
       "            background-color:  #ffffff;\n",
       "            color:  #000000;\n",
       "        }    #T_4df571d6_9973_11ed_8dd7_0242ac110002row23_col21 {\n",
       "            background-color:  #ffffff;\n",
       "            color:  #000000;\n",
       "        }    #T_4df571d6_9973_11ed_8dd7_0242ac110002row23_col22 {\n",
       "            background-color:  #ffffff;\n",
       "            color:  #000000;\n",
       "        }    #T_4df571d6_9973_11ed_8dd7_0242ac110002row23_col23 {\n",
       "            background-color:  #ffffff;\n",
       "            color:  #000000;\n",
       "        }    #T_4df571d6_9973_11ed_8dd7_0242ac110002row23_col24 {\n",
       "            background-color:  #ffffff;\n",
       "            color:  #000000;\n",
       "        }    #T_4df571d6_9973_11ed_8dd7_0242ac110002row23_col25 {\n",
       "            background-color:  #ffffff;\n",
       "            color:  #000000;\n",
       "        }    #T_4df571d6_9973_11ed_8dd7_0242ac110002row23_col26 {\n",
       "            background-color:  #ffffff;\n",
       "            color:  #000000;\n",
       "        }    #T_4df571d6_9973_11ed_8dd7_0242ac110002row23_col27 {\n",
       "            background-color:  #ffffff;\n",
       "            color:  #000000;\n",
       "        }    #T_4df571d6_9973_11ed_8dd7_0242ac110002row24_col0 {\n",
       "            background-color:  #ffffff;\n",
       "            color:  #000000;\n",
       "        }    #T_4df571d6_9973_11ed_8dd7_0242ac110002row24_col1 {\n",
       "            background-color:  #ffffff;\n",
       "            color:  #000000;\n",
       "        }    #T_4df571d6_9973_11ed_8dd7_0242ac110002row24_col2 {\n",
       "            background-color:  #ffffff;\n",
       "            color:  #000000;\n",
       "        }    #T_4df571d6_9973_11ed_8dd7_0242ac110002row24_col3 {\n",
       "            background-color:  #ffffff;\n",
       "            color:  #000000;\n",
       "        }    #T_4df571d6_9973_11ed_8dd7_0242ac110002row24_col4 {\n",
       "            background-color:  #000000;\n",
       "            color:  #f1f1f1;\n",
       "        }    #T_4df571d6_9973_11ed_8dd7_0242ac110002row24_col5 {\n",
       "            background-color:  #000000;\n",
       "            color:  #f1f1f1;\n",
       "        }    #T_4df571d6_9973_11ed_8dd7_0242ac110002row24_col6 {\n",
       "            background-color:  #000000;\n",
       "            color:  #f1f1f1;\n",
       "        }    #T_4df571d6_9973_11ed_8dd7_0242ac110002row24_col7 {\n",
       "            background-color:  #000000;\n",
       "            color:  #f1f1f1;\n",
       "        }    #T_4df571d6_9973_11ed_8dd7_0242ac110002row24_col8 {\n",
       "            background-color:  #323232;\n",
       "            color:  #f1f1f1;\n",
       "        }    #T_4df571d6_9973_11ed_8dd7_0242ac110002row24_col9 {\n",
       "            background-color:  #8d8d8d;\n",
       "            color:  #000000;\n",
       "        }    #T_4df571d6_9973_11ed_8dd7_0242ac110002row24_col10 {\n",
       "            background-color:  #909090;\n",
       "            color:  #000000;\n",
       "        }    #T_4df571d6_9973_11ed_8dd7_0242ac110002row24_col11 {\n",
       "            background-color:  #f7f7f7;\n",
       "            color:  #000000;\n",
       "        }    #T_4df571d6_9973_11ed_8dd7_0242ac110002row24_col12 {\n",
       "            background-color:  #ffffff;\n",
       "            color:  #000000;\n",
       "        }    #T_4df571d6_9973_11ed_8dd7_0242ac110002row24_col13 {\n",
       "            background-color:  #ffffff;\n",
       "            color:  #000000;\n",
       "        }    #T_4df571d6_9973_11ed_8dd7_0242ac110002row24_col14 {\n",
       "            background-color:  #ffffff;\n",
       "            color:  #000000;\n",
       "        }    #T_4df571d6_9973_11ed_8dd7_0242ac110002row24_col15 {\n",
       "            background-color:  #ffffff;\n",
       "            color:  #000000;\n",
       "        }    #T_4df571d6_9973_11ed_8dd7_0242ac110002row24_col16 {\n",
       "            background-color:  #ffffff;\n",
       "            color:  #000000;\n",
       "        }    #T_4df571d6_9973_11ed_8dd7_0242ac110002row24_col17 {\n",
       "            background-color:  #ffffff;\n",
       "            color:  #000000;\n",
       "        }    #T_4df571d6_9973_11ed_8dd7_0242ac110002row24_col18 {\n",
       "            background-color:  #ffffff;\n",
       "            color:  #000000;\n",
       "        }    #T_4df571d6_9973_11ed_8dd7_0242ac110002row24_col19 {\n",
       "            background-color:  #ffffff;\n",
       "            color:  #000000;\n",
       "        }    #T_4df571d6_9973_11ed_8dd7_0242ac110002row24_col20 {\n",
       "            background-color:  #ffffff;\n",
       "            color:  #000000;\n",
       "        }    #T_4df571d6_9973_11ed_8dd7_0242ac110002row24_col21 {\n",
       "            background-color:  #ffffff;\n",
       "            color:  #000000;\n",
       "        }    #T_4df571d6_9973_11ed_8dd7_0242ac110002row24_col22 {\n",
       "            background-color:  #ffffff;\n",
       "            color:  #000000;\n",
       "        }    #T_4df571d6_9973_11ed_8dd7_0242ac110002row24_col23 {\n",
       "            background-color:  #ffffff;\n",
       "            color:  #000000;\n",
       "        }    #T_4df571d6_9973_11ed_8dd7_0242ac110002row24_col24 {\n",
       "            background-color:  #ffffff;\n",
       "            color:  #000000;\n",
       "        }    #T_4df571d6_9973_11ed_8dd7_0242ac110002row24_col25 {\n",
       "            background-color:  #ffffff;\n",
       "            color:  #000000;\n",
       "        }    #T_4df571d6_9973_11ed_8dd7_0242ac110002row24_col26 {\n",
       "            background-color:  #ffffff;\n",
       "            color:  #000000;\n",
       "        }    #T_4df571d6_9973_11ed_8dd7_0242ac110002row24_col27 {\n",
       "            background-color:  #ffffff;\n",
       "            color:  #000000;\n",
       "        }    #T_4df571d6_9973_11ed_8dd7_0242ac110002row25_col0 {\n",
       "            background-color:  #ffffff;\n",
       "            color:  #000000;\n",
       "        }    #T_4df571d6_9973_11ed_8dd7_0242ac110002row25_col1 {\n",
       "            background-color:  #ffffff;\n",
       "            color:  #000000;\n",
       "        }    #T_4df571d6_9973_11ed_8dd7_0242ac110002row25_col2 {\n",
       "            background-color:  #ffffff;\n",
       "            color:  #000000;\n",
       "        }    #T_4df571d6_9973_11ed_8dd7_0242ac110002row25_col3 {\n",
       "            background-color:  #ffffff;\n",
       "            color:  #000000;\n",
       "        }    #T_4df571d6_9973_11ed_8dd7_0242ac110002row25_col4 {\n",
       "            background-color:  #ffffff;\n",
       "            color:  #000000;\n",
       "        }    #T_4df571d6_9973_11ed_8dd7_0242ac110002row25_col5 {\n",
       "            background-color:  #ffffff;\n",
       "            color:  #000000;\n",
       "        }    #T_4df571d6_9973_11ed_8dd7_0242ac110002row25_col6 {\n",
       "            background-color:  #ffffff;\n",
       "            color:  #000000;\n",
       "        }    #T_4df571d6_9973_11ed_8dd7_0242ac110002row25_col7 {\n",
       "            background-color:  #ffffff;\n",
       "            color:  #000000;\n",
       "        }    #T_4df571d6_9973_11ed_8dd7_0242ac110002row25_col8 {\n",
       "            background-color:  #ffffff;\n",
       "            color:  #000000;\n",
       "        }    #T_4df571d6_9973_11ed_8dd7_0242ac110002row25_col9 {\n",
       "            background-color:  #ffffff;\n",
       "            color:  #000000;\n",
       "        }    #T_4df571d6_9973_11ed_8dd7_0242ac110002row25_col10 {\n",
       "            background-color:  #ffffff;\n",
       "            color:  #000000;\n",
       "        }    #T_4df571d6_9973_11ed_8dd7_0242ac110002row25_col11 {\n",
       "            background-color:  #ffffff;\n",
       "            color:  #000000;\n",
       "        }    #T_4df571d6_9973_11ed_8dd7_0242ac110002row25_col12 {\n",
       "            background-color:  #ffffff;\n",
       "            color:  #000000;\n",
       "        }    #T_4df571d6_9973_11ed_8dd7_0242ac110002row25_col13 {\n",
       "            background-color:  #ffffff;\n",
       "            color:  #000000;\n",
       "        }    #T_4df571d6_9973_11ed_8dd7_0242ac110002row25_col14 {\n",
       "            background-color:  #ffffff;\n",
       "            color:  #000000;\n",
       "        }    #T_4df571d6_9973_11ed_8dd7_0242ac110002row25_col15 {\n",
       "            background-color:  #ffffff;\n",
       "            color:  #000000;\n",
       "        }    #T_4df571d6_9973_11ed_8dd7_0242ac110002row25_col16 {\n",
       "            background-color:  #ffffff;\n",
       "            color:  #000000;\n",
       "        }    #T_4df571d6_9973_11ed_8dd7_0242ac110002row25_col17 {\n",
       "            background-color:  #ffffff;\n",
       "            color:  #000000;\n",
       "        }    #T_4df571d6_9973_11ed_8dd7_0242ac110002row25_col18 {\n",
       "            background-color:  #ffffff;\n",
       "            color:  #000000;\n",
       "        }    #T_4df571d6_9973_11ed_8dd7_0242ac110002row25_col19 {\n",
       "            background-color:  #ffffff;\n",
       "            color:  #000000;\n",
       "        }    #T_4df571d6_9973_11ed_8dd7_0242ac110002row25_col20 {\n",
       "            background-color:  #ffffff;\n",
       "            color:  #000000;\n",
       "        }    #T_4df571d6_9973_11ed_8dd7_0242ac110002row25_col21 {\n",
       "            background-color:  #ffffff;\n",
       "            color:  #000000;\n",
       "        }    #T_4df571d6_9973_11ed_8dd7_0242ac110002row25_col22 {\n",
       "            background-color:  #ffffff;\n",
       "            color:  #000000;\n",
       "        }    #T_4df571d6_9973_11ed_8dd7_0242ac110002row25_col23 {\n",
       "            background-color:  #ffffff;\n",
       "            color:  #000000;\n",
       "        }    #T_4df571d6_9973_11ed_8dd7_0242ac110002row25_col24 {\n",
       "            background-color:  #ffffff;\n",
       "            color:  #000000;\n",
       "        }    #T_4df571d6_9973_11ed_8dd7_0242ac110002row25_col25 {\n",
       "            background-color:  #ffffff;\n",
       "            color:  #000000;\n",
       "        }    #T_4df571d6_9973_11ed_8dd7_0242ac110002row25_col26 {\n",
       "            background-color:  #ffffff;\n",
       "            color:  #000000;\n",
       "        }    #T_4df571d6_9973_11ed_8dd7_0242ac110002row25_col27 {\n",
       "            background-color:  #ffffff;\n",
       "            color:  #000000;\n",
       "        }    #T_4df571d6_9973_11ed_8dd7_0242ac110002row26_col0 {\n",
       "            background-color:  #ffffff;\n",
       "            color:  #000000;\n",
       "        }    #T_4df571d6_9973_11ed_8dd7_0242ac110002row26_col1 {\n",
       "            background-color:  #ffffff;\n",
       "            color:  #000000;\n",
       "        }    #T_4df571d6_9973_11ed_8dd7_0242ac110002row26_col2 {\n",
       "            background-color:  #ffffff;\n",
       "            color:  #000000;\n",
       "        }    #T_4df571d6_9973_11ed_8dd7_0242ac110002row26_col3 {\n",
       "            background-color:  #ffffff;\n",
       "            color:  #000000;\n",
       "        }    #T_4df571d6_9973_11ed_8dd7_0242ac110002row26_col4 {\n",
       "            background-color:  #ffffff;\n",
       "            color:  #000000;\n",
       "        }    #T_4df571d6_9973_11ed_8dd7_0242ac110002row26_col5 {\n",
       "            background-color:  #ffffff;\n",
       "            color:  #000000;\n",
       "        }    #T_4df571d6_9973_11ed_8dd7_0242ac110002row26_col6 {\n",
       "            background-color:  #ffffff;\n",
       "            color:  #000000;\n",
       "        }    #T_4df571d6_9973_11ed_8dd7_0242ac110002row26_col7 {\n",
       "            background-color:  #ffffff;\n",
       "            color:  #000000;\n",
       "        }    #T_4df571d6_9973_11ed_8dd7_0242ac110002row26_col8 {\n",
       "            background-color:  #ffffff;\n",
       "            color:  #000000;\n",
       "        }    #T_4df571d6_9973_11ed_8dd7_0242ac110002row26_col9 {\n",
       "            background-color:  #ffffff;\n",
       "            color:  #000000;\n",
       "        }    #T_4df571d6_9973_11ed_8dd7_0242ac110002row26_col10 {\n",
       "            background-color:  #ffffff;\n",
       "            color:  #000000;\n",
       "        }    #T_4df571d6_9973_11ed_8dd7_0242ac110002row26_col11 {\n",
       "            background-color:  #ffffff;\n",
       "            color:  #000000;\n",
       "        }    #T_4df571d6_9973_11ed_8dd7_0242ac110002row26_col12 {\n",
       "            background-color:  #ffffff;\n",
       "            color:  #000000;\n",
       "        }    #T_4df571d6_9973_11ed_8dd7_0242ac110002row26_col13 {\n",
       "            background-color:  #ffffff;\n",
       "            color:  #000000;\n",
       "        }    #T_4df571d6_9973_11ed_8dd7_0242ac110002row26_col14 {\n",
       "            background-color:  #ffffff;\n",
       "            color:  #000000;\n",
       "        }    #T_4df571d6_9973_11ed_8dd7_0242ac110002row26_col15 {\n",
       "            background-color:  #ffffff;\n",
       "            color:  #000000;\n",
       "        }    #T_4df571d6_9973_11ed_8dd7_0242ac110002row26_col16 {\n",
       "            background-color:  #ffffff;\n",
       "            color:  #000000;\n",
       "        }    #T_4df571d6_9973_11ed_8dd7_0242ac110002row26_col17 {\n",
       "            background-color:  #ffffff;\n",
       "            color:  #000000;\n",
       "        }    #T_4df571d6_9973_11ed_8dd7_0242ac110002row26_col18 {\n",
       "            background-color:  #ffffff;\n",
       "            color:  #000000;\n",
       "        }    #T_4df571d6_9973_11ed_8dd7_0242ac110002row26_col19 {\n",
       "            background-color:  #ffffff;\n",
       "            color:  #000000;\n",
       "        }    #T_4df571d6_9973_11ed_8dd7_0242ac110002row26_col20 {\n",
       "            background-color:  #ffffff;\n",
       "            color:  #000000;\n",
       "        }    #T_4df571d6_9973_11ed_8dd7_0242ac110002row26_col21 {\n",
       "            background-color:  #ffffff;\n",
       "            color:  #000000;\n",
       "        }    #T_4df571d6_9973_11ed_8dd7_0242ac110002row26_col22 {\n",
       "            background-color:  #ffffff;\n",
       "            color:  #000000;\n",
       "        }    #T_4df571d6_9973_11ed_8dd7_0242ac110002row26_col23 {\n",
       "            background-color:  #ffffff;\n",
       "            color:  #000000;\n",
       "        }    #T_4df571d6_9973_11ed_8dd7_0242ac110002row26_col24 {\n",
       "            background-color:  #ffffff;\n",
       "            color:  #000000;\n",
       "        }    #T_4df571d6_9973_11ed_8dd7_0242ac110002row26_col25 {\n",
       "            background-color:  #ffffff;\n",
       "            color:  #000000;\n",
       "        }    #T_4df571d6_9973_11ed_8dd7_0242ac110002row26_col26 {\n",
       "            background-color:  #ffffff;\n",
       "            color:  #000000;\n",
       "        }    #T_4df571d6_9973_11ed_8dd7_0242ac110002row26_col27 {\n",
       "            background-color:  #ffffff;\n",
       "            color:  #000000;\n",
       "        }    #T_4df571d6_9973_11ed_8dd7_0242ac110002row27_col0 {\n",
       "            background-color:  #ffffff;\n",
       "            color:  #000000;\n",
       "        }    #T_4df571d6_9973_11ed_8dd7_0242ac110002row27_col1 {\n",
       "            background-color:  #ffffff;\n",
       "            color:  #000000;\n",
       "        }    #T_4df571d6_9973_11ed_8dd7_0242ac110002row27_col2 {\n",
       "            background-color:  #ffffff;\n",
       "            color:  #000000;\n",
       "        }    #T_4df571d6_9973_11ed_8dd7_0242ac110002row27_col3 {\n",
       "            background-color:  #ffffff;\n",
       "            color:  #000000;\n",
       "        }    #T_4df571d6_9973_11ed_8dd7_0242ac110002row27_col4 {\n",
       "            background-color:  #ffffff;\n",
       "            color:  #000000;\n",
       "        }    #T_4df571d6_9973_11ed_8dd7_0242ac110002row27_col5 {\n",
       "            background-color:  #ffffff;\n",
       "            color:  #000000;\n",
       "        }    #T_4df571d6_9973_11ed_8dd7_0242ac110002row27_col6 {\n",
       "            background-color:  #ffffff;\n",
       "            color:  #000000;\n",
       "        }    #T_4df571d6_9973_11ed_8dd7_0242ac110002row27_col7 {\n",
       "            background-color:  #ffffff;\n",
       "            color:  #000000;\n",
       "        }    #T_4df571d6_9973_11ed_8dd7_0242ac110002row27_col8 {\n",
       "            background-color:  #ffffff;\n",
       "            color:  #000000;\n",
       "        }    #T_4df571d6_9973_11ed_8dd7_0242ac110002row27_col9 {\n",
       "            background-color:  #ffffff;\n",
       "            color:  #000000;\n",
       "        }    #T_4df571d6_9973_11ed_8dd7_0242ac110002row27_col10 {\n",
       "            background-color:  #ffffff;\n",
       "            color:  #000000;\n",
       "        }    #T_4df571d6_9973_11ed_8dd7_0242ac110002row27_col11 {\n",
       "            background-color:  #ffffff;\n",
       "            color:  #000000;\n",
       "        }    #T_4df571d6_9973_11ed_8dd7_0242ac110002row27_col12 {\n",
       "            background-color:  #ffffff;\n",
       "            color:  #000000;\n",
       "        }    #T_4df571d6_9973_11ed_8dd7_0242ac110002row27_col13 {\n",
       "            background-color:  #ffffff;\n",
       "            color:  #000000;\n",
       "        }    #T_4df571d6_9973_11ed_8dd7_0242ac110002row27_col14 {\n",
       "            background-color:  #ffffff;\n",
       "            color:  #000000;\n",
       "        }    #T_4df571d6_9973_11ed_8dd7_0242ac110002row27_col15 {\n",
       "            background-color:  #ffffff;\n",
       "            color:  #000000;\n",
       "        }    #T_4df571d6_9973_11ed_8dd7_0242ac110002row27_col16 {\n",
       "            background-color:  #ffffff;\n",
       "            color:  #000000;\n",
       "        }    #T_4df571d6_9973_11ed_8dd7_0242ac110002row27_col17 {\n",
       "            background-color:  #ffffff;\n",
       "            color:  #000000;\n",
       "        }    #T_4df571d6_9973_11ed_8dd7_0242ac110002row27_col18 {\n",
       "            background-color:  #ffffff;\n",
       "            color:  #000000;\n",
       "        }    #T_4df571d6_9973_11ed_8dd7_0242ac110002row27_col19 {\n",
       "            background-color:  #ffffff;\n",
       "            color:  #000000;\n",
       "        }    #T_4df571d6_9973_11ed_8dd7_0242ac110002row27_col20 {\n",
       "            background-color:  #ffffff;\n",
       "            color:  #000000;\n",
       "        }    #T_4df571d6_9973_11ed_8dd7_0242ac110002row27_col21 {\n",
       "            background-color:  #ffffff;\n",
       "            color:  #000000;\n",
       "        }    #T_4df571d6_9973_11ed_8dd7_0242ac110002row27_col22 {\n",
       "            background-color:  #ffffff;\n",
       "            color:  #000000;\n",
       "        }    #T_4df571d6_9973_11ed_8dd7_0242ac110002row27_col23 {\n",
       "            background-color:  #ffffff;\n",
       "            color:  #000000;\n",
       "        }    #T_4df571d6_9973_11ed_8dd7_0242ac110002row27_col24 {\n",
       "            background-color:  #ffffff;\n",
       "            color:  #000000;\n",
       "        }    #T_4df571d6_9973_11ed_8dd7_0242ac110002row27_col25 {\n",
       "            background-color:  #ffffff;\n",
       "            color:  #000000;\n",
       "        }    #T_4df571d6_9973_11ed_8dd7_0242ac110002row27_col26 {\n",
       "            background-color:  #ffffff;\n",
       "            color:  #000000;\n",
       "        }    #T_4df571d6_9973_11ed_8dd7_0242ac110002row27_col27 {\n",
       "            background-color:  #ffffff;\n",
       "            color:  #000000;\n",
       "        }</style><table id=\"T_4df571d6_9973_11ed_8dd7_0242ac110002\" ><thead>    <tr>        <th class=\"blank level0\" ></th>        <th class=\"col_heading level0 col0\" >0</th>        <th class=\"col_heading level0 col1\" >1</th>        <th class=\"col_heading level0 col2\" >2</th>        <th class=\"col_heading level0 col3\" >3</th>        <th class=\"col_heading level0 col4\" >4</th>        <th class=\"col_heading level0 col5\" >5</th>        <th class=\"col_heading level0 col6\" >6</th>        <th class=\"col_heading level0 col7\" >7</th>        <th class=\"col_heading level0 col8\" >8</th>        <th class=\"col_heading level0 col9\" >9</th>        <th class=\"col_heading level0 col10\" >10</th>        <th class=\"col_heading level0 col11\" >11</th>        <th class=\"col_heading level0 col12\" >12</th>        <th class=\"col_heading level0 col13\" >13</th>        <th class=\"col_heading level0 col14\" >14</th>        <th class=\"col_heading level0 col15\" >15</th>        <th class=\"col_heading level0 col16\" >16</th>        <th class=\"col_heading level0 col17\" >17</th>        <th class=\"col_heading level0 col18\" >18</th>        <th class=\"col_heading level0 col19\" >19</th>        <th class=\"col_heading level0 col20\" >20</th>        <th class=\"col_heading level0 col21\" >21</th>        <th class=\"col_heading level0 col22\" >22</th>        <th class=\"col_heading level0 col23\" >23</th>        <th class=\"col_heading level0 col24\" >24</th>        <th class=\"col_heading level0 col25\" >25</th>        <th class=\"col_heading level0 col26\" >26</th>        <th class=\"col_heading level0 col27\" >27</th>    </tr></thead><tbody>\n",
       "                <tr>\n",
       "                        <th id=\"T_4df571d6_9973_11ed_8dd7_0242ac110002level0_row0\" class=\"row_heading level0 row0\" >0</th>\n",
       "                        <td id=\"T_4df571d6_9973_11ed_8dd7_0242ac110002row0_col0\" class=\"data row0 col0\" >0</td>\n",
       "                        <td id=\"T_4df571d6_9973_11ed_8dd7_0242ac110002row0_col1\" class=\"data row0 col1\" >0</td>\n",
       "                        <td id=\"T_4df571d6_9973_11ed_8dd7_0242ac110002row0_col2\" class=\"data row0 col2\" >0</td>\n",
       "                        <td id=\"T_4df571d6_9973_11ed_8dd7_0242ac110002row0_col3\" class=\"data row0 col3\" >0</td>\n",
       "                        <td id=\"T_4df571d6_9973_11ed_8dd7_0242ac110002row0_col4\" class=\"data row0 col4\" >0</td>\n",
       "                        <td id=\"T_4df571d6_9973_11ed_8dd7_0242ac110002row0_col5\" class=\"data row0 col5\" >0</td>\n",
       "                        <td id=\"T_4df571d6_9973_11ed_8dd7_0242ac110002row0_col6\" class=\"data row0 col6\" >0</td>\n",
       "                        <td id=\"T_4df571d6_9973_11ed_8dd7_0242ac110002row0_col7\" class=\"data row0 col7\" >0</td>\n",
       "                        <td id=\"T_4df571d6_9973_11ed_8dd7_0242ac110002row0_col8\" class=\"data row0 col8\" >0</td>\n",
       "                        <td id=\"T_4df571d6_9973_11ed_8dd7_0242ac110002row0_col9\" class=\"data row0 col9\" >0</td>\n",
       "                        <td id=\"T_4df571d6_9973_11ed_8dd7_0242ac110002row0_col10\" class=\"data row0 col10\" >0</td>\n",
       "                        <td id=\"T_4df571d6_9973_11ed_8dd7_0242ac110002row0_col11\" class=\"data row0 col11\" >0</td>\n",
       "                        <td id=\"T_4df571d6_9973_11ed_8dd7_0242ac110002row0_col12\" class=\"data row0 col12\" >0</td>\n",
       "                        <td id=\"T_4df571d6_9973_11ed_8dd7_0242ac110002row0_col13\" class=\"data row0 col13\" >0</td>\n",
       "                        <td id=\"T_4df571d6_9973_11ed_8dd7_0242ac110002row0_col14\" class=\"data row0 col14\" >0</td>\n",
       "                        <td id=\"T_4df571d6_9973_11ed_8dd7_0242ac110002row0_col15\" class=\"data row0 col15\" >0</td>\n",
       "                        <td id=\"T_4df571d6_9973_11ed_8dd7_0242ac110002row0_col16\" class=\"data row0 col16\" >0</td>\n",
       "                        <td id=\"T_4df571d6_9973_11ed_8dd7_0242ac110002row0_col17\" class=\"data row0 col17\" >0</td>\n",
       "                        <td id=\"T_4df571d6_9973_11ed_8dd7_0242ac110002row0_col18\" class=\"data row0 col18\" >0</td>\n",
       "                        <td id=\"T_4df571d6_9973_11ed_8dd7_0242ac110002row0_col19\" class=\"data row0 col19\" >0</td>\n",
       "                        <td id=\"T_4df571d6_9973_11ed_8dd7_0242ac110002row0_col20\" class=\"data row0 col20\" >0</td>\n",
       "                        <td id=\"T_4df571d6_9973_11ed_8dd7_0242ac110002row0_col21\" class=\"data row0 col21\" >0</td>\n",
       "                        <td id=\"T_4df571d6_9973_11ed_8dd7_0242ac110002row0_col22\" class=\"data row0 col22\" >0</td>\n",
       "                        <td id=\"T_4df571d6_9973_11ed_8dd7_0242ac110002row0_col23\" class=\"data row0 col23\" >0</td>\n",
       "                        <td id=\"T_4df571d6_9973_11ed_8dd7_0242ac110002row0_col24\" class=\"data row0 col24\" >0</td>\n",
       "                        <td id=\"T_4df571d6_9973_11ed_8dd7_0242ac110002row0_col25\" class=\"data row0 col25\" >0</td>\n",
       "                        <td id=\"T_4df571d6_9973_11ed_8dd7_0242ac110002row0_col26\" class=\"data row0 col26\" >0</td>\n",
       "                        <td id=\"T_4df571d6_9973_11ed_8dd7_0242ac110002row0_col27\" class=\"data row0 col27\" >0</td>\n",
       "            </tr>\n",
       "            <tr>\n",
       "                        <th id=\"T_4df571d6_9973_11ed_8dd7_0242ac110002level0_row1\" class=\"row_heading level0 row1\" >1</th>\n",
       "                        <td id=\"T_4df571d6_9973_11ed_8dd7_0242ac110002row1_col0\" class=\"data row1 col0\" >0</td>\n",
       "                        <td id=\"T_4df571d6_9973_11ed_8dd7_0242ac110002row1_col1\" class=\"data row1 col1\" >0</td>\n",
       "                        <td id=\"T_4df571d6_9973_11ed_8dd7_0242ac110002row1_col2\" class=\"data row1 col2\" >0</td>\n",
       "                        <td id=\"T_4df571d6_9973_11ed_8dd7_0242ac110002row1_col3\" class=\"data row1 col3\" >0</td>\n",
       "                        <td id=\"T_4df571d6_9973_11ed_8dd7_0242ac110002row1_col4\" class=\"data row1 col4\" >0</td>\n",
       "                        <td id=\"T_4df571d6_9973_11ed_8dd7_0242ac110002row1_col5\" class=\"data row1 col5\" >0</td>\n",
       "                        <td id=\"T_4df571d6_9973_11ed_8dd7_0242ac110002row1_col6\" class=\"data row1 col6\" >0</td>\n",
       "                        <td id=\"T_4df571d6_9973_11ed_8dd7_0242ac110002row1_col7\" class=\"data row1 col7\" >0</td>\n",
       "                        <td id=\"T_4df571d6_9973_11ed_8dd7_0242ac110002row1_col8\" class=\"data row1 col8\" >0</td>\n",
       "                        <td id=\"T_4df571d6_9973_11ed_8dd7_0242ac110002row1_col9\" class=\"data row1 col9\" >0</td>\n",
       "                        <td id=\"T_4df571d6_9973_11ed_8dd7_0242ac110002row1_col10\" class=\"data row1 col10\" >0</td>\n",
       "                        <td id=\"T_4df571d6_9973_11ed_8dd7_0242ac110002row1_col11\" class=\"data row1 col11\" >0</td>\n",
       "                        <td id=\"T_4df571d6_9973_11ed_8dd7_0242ac110002row1_col12\" class=\"data row1 col12\" >0</td>\n",
       "                        <td id=\"T_4df571d6_9973_11ed_8dd7_0242ac110002row1_col13\" class=\"data row1 col13\" >0</td>\n",
       "                        <td id=\"T_4df571d6_9973_11ed_8dd7_0242ac110002row1_col14\" class=\"data row1 col14\" >0</td>\n",
       "                        <td id=\"T_4df571d6_9973_11ed_8dd7_0242ac110002row1_col15\" class=\"data row1 col15\" >0</td>\n",
       "                        <td id=\"T_4df571d6_9973_11ed_8dd7_0242ac110002row1_col16\" class=\"data row1 col16\" >0</td>\n",
       "                        <td id=\"T_4df571d6_9973_11ed_8dd7_0242ac110002row1_col17\" class=\"data row1 col17\" >0</td>\n",
       "                        <td id=\"T_4df571d6_9973_11ed_8dd7_0242ac110002row1_col18\" class=\"data row1 col18\" >0</td>\n",
       "                        <td id=\"T_4df571d6_9973_11ed_8dd7_0242ac110002row1_col19\" class=\"data row1 col19\" >0</td>\n",
       "                        <td id=\"T_4df571d6_9973_11ed_8dd7_0242ac110002row1_col20\" class=\"data row1 col20\" >0</td>\n",
       "                        <td id=\"T_4df571d6_9973_11ed_8dd7_0242ac110002row1_col21\" class=\"data row1 col21\" >0</td>\n",
       "                        <td id=\"T_4df571d6_9973_11ed_8dd7_0242ac110002row1_col22\" class=\"data row1 col22\" >0</td>\n",
       "                        <td id=\"T_4df571d6_9973_11ed_8dd7_0242ac110002row1_col23\" class=\"data row1 col23\" >0</td>\n",
       "                        <td id=\"T_4df571d6_9973_11ed_8dd7_0242ac110002row1_col24\" class=\"data row1 col24\" >0</td>\n",
       "                        <td id=\"T_4df571d6_9973_11ed_8dd7_0242ac110002row1_col25\" class=\"data row1 col25\" >0</td>\n",
       "                        <td id=\"T_4df571d6_9973_11ed_8dd7_0242ac110002row1_col26\" class=\"data row1 col26\" >0</td>\n",
       "                        <td id=\"T_4df571d6_9973_11ed_8dd7_0242ac110002row1_col27\" class=\"data row1 col27\" >0</td>\n",
       "            </tr>\n",
       "            <tr>\n",
       "                        <th id=\"T_4df571d6_9973_11ed_8dd7_0242ac110002level0_row2\" class=\"row_heading level0 row2\" >2</th>\n",
       "                        <td id=\"T_4df571d6_9973_11ed_8dd7_0242ac110002row2_col0\" class=\"data row2 col0\" >0</td>\n",
       "                        <td id=\"T_4df571d6_9973_11ed_8dd7_0242ac110002row2_col1\" class=\"data row2 col1\" >0</td>\n",
       "                        <td id=\"T_4df571d6_9973_11ed_8dd7_0242ac110002row2_col2\" class=\"data row2 col2\" >0</td>\n",
       "                        <td id=\"T_4df571d6_9973_11ed_8dd7_0242ac110002row2_col3\" class=\"data row2 col3\" >0</td>\n",
       "                        <td id=\"T_4df571d6_9973_11ed_8dd7_0242ac110002row2_col4\" class=\"data row2 col4\" >0</td>\n",
       "                        <td id=\"T_4df571d6_9973_11ed_8dd7_0242ac110002row2_col5\" class=\"data row2 col5\" >0</td>\n",
       "                        <td id=\"T_4df571d6_9973_11ed_8dd7_0242ac110002row2_col6\" class=\"data row2 col6\" >0</td>\n",
       "                        <td id=\"T_4df571d6_9973_11ed_8dd7_0242ac110002row2_col7\" class=\"data row2 col7\" >0</td>\n",
       "                        <td id=\"T_4df571d6_9973_11ed_8dd7_0242ac110002row2_col8\" class=\"data row2 col8\" >0</td>\n",
       "                        <td id=\"T_4df571d6_9973_11ed_8dd7_0242ac110002row2_col9\" class=\"data row2 col9\" >0</td>\n",
       "                        <td id=\"T_4df571d6_9973_11ed_8dd7_0242ac110002row2_col10\" class=\"data row2 col10\" >0</td>\n",
       "                        <td id=\"T_4df571d6_9973_11ed_8dd7_0242ac110002row2_col11\" class=\"data row2 col11\" >0</td>\n",
       "                        <td id=\"T_4df571d6_9973_11ed_8dd7_0242ac110002row2_col12\" class=\"data row2 col12\" >0</td>\n",
       "                        <td id=\"T_4df571d6_9973_11ed_8dd7_0242ac110002row2_col13\" class=\"data row2 col13\" >0</td>\n",
       "                        <td id=\"T_4df571d6_9973_11ed_8dd7_0242ac110002row2_col14\" class=\"data row2 col14\" >0</td>\n",
       "                        <td id=\"T_4df571d6_9973_11ed_8dd7_0242ac110002row2_col15\" class=\"data row2 col15\" >0</td>\n",
       "                        <td id=\"T_4df571d6_9973_11ed_8dd7_0242ac110002row2_col16\" class=\"data row2 col16\" >0</td>\n",
       "                        <td id=\"T_4df571d6_9973_11ed_8dd7_0242ac110002row2_col17\" class=\"data row2 col17\" >0</td>\n",
       "                        <td id=\"T_4df571d6_9973_11ed_8dd7_0242ac110002row2_col18\" class=\"data row2 col18\" >0</td>\n",
       "                        <td id=\"T_4df571d6_9973_11ed_8dd7_0242ac110002row2_col19\" class=\"data row2 col19\" >0</td>\n",
       "                        <td id=\"T_4df571d6_9973_11ed_8dd7_0242ac110002row2_col20\" class=\"data row2 col20\" >0</td>\n",
       "                        <td id=\"T_4df571d6_9973_11ed_8dd7_0242ac110002row2_col21\" class=\"data row2 col21\" >0</td>\n",
       "                        <td id=\"T_4df571d6_9973_11ed_8dd7_0242ac110002row2_col22\" class=\"data row2 col22\" >0</td>\n",
       "                        <td id=\"T_4df571d6_9973_11ed_8dd7_0242ac110002row2_col23\" class=\"data row2 col23\" >0</td>\n",
       "                        <td id=\"T_4df571d6_9973_11ed_8dd7_0242ac110002row2_col24\" class=\"data row2 col24\" >0</td>\n",
       "                        <td id=\"T_4df571d6_9973_11ed_8dd7_0242ac110002row2_col25\" class=\"data row2 col25\" >0</td>\n",
       "                        <td id=\"T_4df571d6_9973_11ed_8dd7_0242ac110002row2_col26\" class=\"data row2 col26\" >0</td>\n",
       "                        <td id=\"T_4df571d6_9973_11ed_8dd7_0242ac110002row2_col27\" class=\"data row2 col27\" >0</td>\n",
       "            </tr>\n",
       "            <tr>\n",
       "                        <th id=\"T_4df571d6_9973_11ed_8dd7_0242ac110002level0_row3\" class=\"row_heading level0 row3\" >3</th>\n",
       "                        <td id=\"T_4df571d6_9973_11ed_8dd7_0242ac110002row3_col0\" class=\"data row3 col0\" >0</td>\n",
       "                        <td id=\"T_4df571d6_9973_11ed_8dd7_0242ac110002row3_col1\" class=\"data row3 col1\" >0</td>\n",
       "                        <td id=\"T_4df571d6_9973_11ed_8dd7_0242ac110002row3_col2\" class=\"data row3 col2\" >0</td>\n",
       "                        <td id=\"T_4df571d6_9973_11ed_8dd7_0242ac110002row3_col3\" class=\"data row3 col3\" >0</td>\n",
       "                        <td id=\"T_4df571d6_9973_11ed_8dd7_0242ac110002row3_col4\" class=\"data row3 col4\" >0</td>\n",
       "                        <td id=\"T_4df571d6_9973_11ed_8dd7_0242ac110002row3_col5\" class=\"data row3 col5\" >0</td>\n",
       "                        <td id=\"T_4df571d6_9973_11ed_8dd7_0242ac110002row3_col6\" class=\"data row3 col6\" >0</td>\n",
       "                        <td id=\"T_4df571d6_9973_11ed_8dd7_0242ac110002row3_col7\" class=\"data row3 col7\" >0</td>\n",
       "                        <td id=\"T_4df571d6_9973_11ed_8dd7_0242ac110002row3_col8\" class=\"data row3 col8\" >0</td>\n",
       "                        <td id=\"T_4df571d6_9973_11ed_8dd7_0242ac110002row3_col9\" class=\"data row3 col9\" >0</td>\n",
       "                        <td id=\"T_4df571d6_9973_11ed_8dd7_0242ac110002row3_col10\" class=\"data row3 col10\" >0</td>\n",
       "                        <td id=\"T_4df571d6_9973_11ed_8dd7_0242ac110002row3_col11\" class=\"data row3 col11\" >0</td>\n",
       "                        <td id=\"T_4df571d6_9973_11ed_8dd7_0242ac110002row3_col12\" class=\"data row3 col12\" >0</td>\n",
       "                        <td id=\"T_4df571d6_9973_11ed_8dd7_0242ac110002row3_col13\" class=\"data row3 col13\" >0</td>\n",
       "                        <td id=\"T_4df571d6_9973_11ed_8dd7_0242ac110002row3_col14\" class=\"data row3 col14\" >0</td>\n",
       "                        <td id=\"T_4df571d6_9973_11ed_8dd7_0242ac110002row3_col15\" class=\"data row3 col15\" >0</td>\n",
       "                        <td id=\"T_4df571d6_9973_11ed_8dd7_0242ac110002row3_col16\" class=\"data row3 col16\" >0</td>\n",
       "                        <td id=\"T_4df571d6_9973_11ed_8dd7_0242ac110002row3_col17\" class=\"data row3 col17\" >0</td>\n",
       "                        <td id=\"T_4df571d6_9973_11ed_8dd7_0242ac110002row3_col18\" class=\"data row3 col18\" >0</td>\n",
       "                        <td id=\"T_4df571d6_9973_11ed_8dd7_0242ac110002row3_col19\" class=\"data row3 col19\" >0</td>\n",
       "                        <td id=\"T_4df571d6_9973_11ed_8dd7_0242ac110002row3_col20\" class=\"data row3 col20\" >0</td>\n",
       "                        <td id=\"T_4df571d6_9973_11ed_8dd7_0242ac110002row3_col21\" class=\"data row3 col21\" >0</td>\n",
       "                        <td id=\"T_4df571d6_9973_11ed_8dd7_0242ac110002row3_col22\" class=\"data row3 col22\" >0</td>\n",
       "                        <td id=\"T_4df571d6_9973_11ed_8dd7_0242ac110002row3_col23\" class=\"data row3 col23\" >0</td>\n",
       "                        <td id=\"T_4df571d6_9973_11ed_8dd7_0242ac110002row3_col24\" class=\"data row3 col24\" >0</td>\n",
       "                        <td id=\"T_4df571d6_9973_11ed_8dd7_0242ac110002row3_col25\" class=\"data row3 col25\" >0</td>\n",
       "                        <td id=\"T_4df571d6_9973_11ed_8dd7_0242ac110002row3_col26\" class=\"data row3 col26\" >0</td>\n",
       "                        <td id=\"T_4df571d6_9973_11ed_8dd7_0242ac110002row3_col27\" class=\"data row3 col27\" >0</td>\n",
       "            </tr>\n",
       "            <tr>\n",
       "                        <th id=\"T_4df571d6_9973_11ed_8dd7_0242ac110002level0_row4\" class=\"row_heading level0 row4\" >4</th>\n",
       "                        <td id=\"T_4df571d6_9973_11ed_8dd7_0242ac110002row4_col0\" class=\"data row4 col0\" >0</td>\n",
       "                        <td id=\"T_4df571d6_9973_11ed_8dd7_0242ac110002row4_col1\" class=\"data row4 col1\" >0</td>\n",
       "                        <td id=\"T_4df571d6_9973_11ed_8dd7_0242ac110002row4_col2\" class=\"data row4 col2\" >0</td>\n",
       "                        <td id=\"T_4df571d6_9973_11ed_8dd7_0242ac110002row4_col3\" class=\"data row4 col3\" >0</td>\n",
       "                        <td id=\"T_4df571d6_9973_11ed_8dd7_0242ac110002row4_col4\" class=\"data row4 col4\" >0</td>\n",
       "                        <td id=\"T_4df571d6_9973_11ed_8dd7_0242ac110002row4_col5\" class=\"data row4 col5\" >0</td>\n",
       "                        <td id=\"T_4df571d6_9973_11ed_8dd7_0242ac110002row4_col6\" class=\"data row4 col6\" >0</td>\n",
       "                        <td id=\"T_4df571d6_9973_11ed_8dd7_0242ac110002row4_col7\" class=\"data row4 col7\" >0</td>\n",
       "                        <td id=\"T_4df571d6_9973_11ed_8dd7_0242ac110002row4_col8\" class=\"data row4 col8\" >0</td>\n",
       "                        <td id=\"T_4df571d6_9973_11ed_8dd7_0242ac110002row4_col9\" class=\"data row4 col9\" >0</td>\n",
       "                        <td id=\"T_4df571d6_9973_11ed_8dd7_0242ac110002row4_col10\" class=\"data row4 col10\" >0</td>\n",
       "                        <td id=\"T_4df571d6_9973_11ed_8dd7_0242ac110002row4_col11\" class=\"data row4 col11\" >0</td>\n",
       "                        <td id=\"T_4df571d6_9973_11ed_8dd7_0242ac110002row4_col12\" class=\"data row4 col12\" >0</td>\n",
       "                        <td id=\"T_4df571d6_9973_11ed_8dd7_0242ac110002row4_col13\" class=\"data row4 col13\" >0</td>\n",
       "                        <td id=\"T_4df571d6_9973_11ed_8dd7_0242ac110002row4_col14\" class=\"data row4 col14\" >0</td>\n",
       "                        <td id=\"T_4df571d6_9973_11ed_8dd7_0242ac110002row4_col15\" class=\"data row4 col15\" >0</td>\n",
       "                        <td id=\"T_4df571d6_9973_11ed_8dd7_0242ac110002row4_col16\" class=\"data row4 col16\" >0</td>\n",
       "                        <td id=\"T_4df571d6_9973_11ed_8dd7_0242ac110002row4_col17\" class=\"data row4 col17\" >0</td>\n",
       "                        <td id=\"T_4df571d6_9973_11ed_8dd7_0242ac110002row4_col18\" class=\"data row4 col18\" >0</td>\n",
       "                        <td id=\"T_4df571d6_9973_11ed_8dd7_0242ac110002row4_col19\" class=\"data row4 col19\" >0</td>\n",
       "                        <td id=\"T_4df571d6_9973_11ed_8dd7_0242ac110002row4_col20\" class=\"data row4 col20\" >0</td>\n",
       "                        <td id=\"T_4df571d6_9973_11ed_8dd7_0242ac110002row4_col21\" class=\"data row4 col21\" >0</td>\n",
       "                        <td id=\"T_4df571d6_9973_11ed_8dd7_0242ac110002row4_col22\" class=\"data row4 col22\" >0</td>\n",
       "                        <td id=\"T_4df571d6_9973_11ed_8dd7_0242ac110002row4_col23\" class=\"data row4 col23\" >0</td>\n",
       "                        <td id=\"T_4df571d6_9973_11ed_8dd7_0242ac110002row4_col24\" class=\"data row4 col24\" >0</td>\n",
       "                        <td id=\"T_4df571d6_9973_11ed_8dd7_0242ac110002row4_col25\" class=\"data row4 col25\" >0</td>\n",
       "                        <td id=\"T_4df571d6_9973_11ed_8dd7_0242ac110002row4_col26\" class=\"data row4 col26\" >0</td>\n",
       "                        <td id=\"T_4df571d6_9973_11ed_8dd7_0242ac110002row4_col27\" class=\"data row4 col27\" >0</td>\n",
       "            </tr>\n",
       "            <tr>\n",
       "                        <th id=\"T_4df571d6_9973_11ed_8dd7_0242ac110002level0_row5\" class=\"row_heading level0 row5\" >5</th>\n",
       "                        <td id=\"T_4df571d6_9973_11ed_8dd7_0242ac110002row5_col0\" class=\"data row5 col0\" >0</td>\n",
       "                        <td id=\"T_4df571d6_9973_11ed_8dd7_0242ac110002row5_col1\" class=\"data row5 col1\" >0</td>\n",
       "                        <td id=\"T_4df571d6_9973_11ed_8dd7_0242ac110002row5_col2\" class=\"data row5 col2\" >0</td>\n",
       "                        <td id=\"T_4df571d6_9973_11ed_8dd7_0242ac110002row5_col3\" class=\"data row5 col3\" >0</td>\n",
       "                        <td id=\"T_4df571d6_9973_11ed_8dd7_0242ac110002row5_col4\" class=\"data row5 col4\" >0</td>\n",
       "                        <td id=\"T_4df571d6_9973_11ed_8dd7_0242ac110002row5_col5\" class=\"data row5 col5\" >0</td>\n",
       "                        <td id=\"T_4df571d6_9973_11ed_8dd7_0242ac110002row5_col6\" class=\"data row5 col6\" >0</td>\n",
       "                        <td id=\"T_4df571d6_9973_11ed_8dd7_0242ac110002row5_col7\" class=\"data row5 col7\" >0</td>\n",
       "                        <td id=\"T_4df571d6_9973_11ed_8dd7_0242ac110002row5_col8\" class=\"data row5 col8\" >0</td>\n",
       "                        <td id=\"T_4df571d6_9973_11ed_8dd7_0242ac110002row5_col9\" class=\"data row5 col9\" >0</td>\n",
       "                        <td id=\"T_4df571d6_9973_11ed_8dd7_0242ac110002row5_col10\" class=\"data row5 col10\" >0</td>\n",
       "                        <td id=\"T_4df571d6_9973_11ed_8dd7_0242ac110002row5_col11\" class=\"data row5 col11\" >0</td>\n",
       "                        <td id=\"T_4df571d6_9973_11ed_8dd7_0242ac110002row5_col12\" class=\"data row5 col12\" >3</td>\n",
       "                        <td id=\"T_4df571d6_9973_11ed_8dd7_0242ac110002row5_col13\" class=\"data row5 col13\" >18</td>\n",
       "                        <td id=\"T_4df571d6_9973_11ed_8dd7_0242ac110002row5_col14\" class=\"data row5 col14\" >18</td>\n",
       "                        <td id=\"T_4df571d6_9973_11ed_8dd7_0242ac110002row5_col15\" class=\"data row5 col15\" >18</td>\n",
       "                        <td id=\"T_4df571d6_9973_11ed_8dd7_0242ac110002row5_col16\" class=\"data row5 col16\" >126</td>\n",
       "                        <td id=\"T_4df571d6_9973_11ed_8dd7_0242ac110002row5_col17\" class=\"data row5 col17\" >136</td>\n",
       "                        <td id=\"T_4df571d6_9973_11ed_8dd7_0242ac110002row5_col18\" class=\"data row5 col18\" >175</td>\n",
       "                        <td id=\"T_4df571d6_9973_11ed_8dd7_0242ac110002row5_col19\" class=\"data row5 col19\" >26</td>\n",
       "                        <td id=\"T_4df571d6_9973_11ed_8dd7_0242ac110002row5_col20\" class=\"data row5 col20\" >166</td>\n",
       "                        <td id=\"T_4df571d6_9973_11ed_8dd7_0242ac110002row5_col21\" class=\"data row5 col21\" >255</td>\n",
       "                        <td id=\"T_4df571d6_9973_11ed_8dd7_0242ac110002row5_col22\" class=\"data row5 col22\" >247</td>\n",
       "                        <td id=\"T_4df571d6_9973_11ed_8dd7_0242ac110002row5_col23\" class=\"data row5 col23\" >127</td>\n",
       "                        <td id=\"T_4df571d6_9973_11ed_8dd7_0242ac110002row5_col24\" class=\"data row5 col24\" >0</td>\n",
       "                        <td id=\"T_4df571d6_9973_11ed_8dd7_0242ac110002row5_col25\" class=\"data row5 col25\" >0</td>\n",
       "                        <td id=\"T_4df571d6_9973_11ed_8dd7_0242ac110002row5_col26\" class=\"data row5 col26\" >0</td>\n",
       "                        <td id=\"T_4df571d6_9973_11ed_8dd7_0242ac110002row5_col27\" class=\"data row5 col27\" >0</td>\n",
       "            </tr>\n",
       "            <tr>\n",
       "                        <th id=\"T_4df571d6_9973_11ed_8dd7_0242ac110002level0_row6\" class=\"row_heading level0 row6\" >6</th>\n",
       "                        <td id=\"T_4df571d6_9973_11ed_8dd7_0242ac110002row6_col0\" class=\"data row6 col0\" >0</td>\n",
       "                        <td id=\"T_4df571d6_9973_11ed_8dd7_0242ac110002row6_col1\" class=\"data row6 col1\" >0</td>\n",
       "                        <td id=\"T_4df571d6_9973_11ed_8dd7_0242ac110002row6_col2\" class=\"data row6 col2\" >0</td>\n",
       "                        <td id=\"T_4df571d6_9973_11ed_8dd7_0242ac110002row6_col3\" class=\"data row6 col3\" >0</td>\n",
       "                        <td id=\"T_4df571d6_9973_11ed_8dd7_0242ac110002row6_col4\" class=\"data row6 col4\" >0</td>\n",
       "                        <td id=\"T_4df571d6_9973_11ed_8dd7_0242ac110002row6_col5\" class=\"data row6 col5\" >0</td>\n",
       "                        <td id=\"T_4df571d6_9973_11ed_8dd7_0242ac110002row6_col6\" class=\"data row6 col6\" >0</td>\n",
       "                        <td id=\"T_4df571d6_9973_11ed_8dd7_0242ac110002row6_col7\" class=\"data row6 col7\" >0</td>\n",
       "                        <td id=\"T_4df571d6_9973_11ed_8dd7_0242ac110002row6_col8\" class=\"data row6 col8\" >30</td>\n",
       "                        <td id=\"T_4df571d6_9973_11ed_8dd7_0242ac110002row6_col9\" class=\"data row6 col9\" >36</td>\n",
       "                        <td id=\"T_4df571d6_9973_11ed_8dd7_0242ac110002row6_col10\" class=\"data row6 col10\" >94</td>\n",
       "                        <td id=\"T_4df571d6_9973_11ed_8dd7_0242ac110002row6_col11\" class=\"data row6 col11\" >154</td>\n",
       "                        <td id=\"T_4df571d6_9973_11ed_8dd7_0242ac110002row6_col12\" class=\"data row6 col12\" >170</td>\n",
       "                        <td id=\"T_4df571d6_9973_11ed_8dd7_0242ac110002row6_col13\" class=\"data row6 col13\" >253</td>\n",
       "                        <td id=\"T_4df571d6_9973_11ed_8dd7_0242ac110002row6_col14\" class=\"data row6 col14\" >253</td>\n",
       "                        <td id=\"T_4df571d6_9973_11ed_8dd7_0242ac110002row6_col15\" class=\"data row6 col15\" >253</td>\n",
       "                        <td id=\"T_4df571d6_9973_11ed_8dd7_0242ac110002row6_col16\" class=\"data row6 col16\" >253</td>\n",
       "                        <td id=\"T_4df571d6_9973_11ed_8dd7_0242ac110002row6_col17\" class=\"data row6 col17\" >253</td>\n",
       "                        <td id=\"T_4df571d6_9973_11ed_8dd7_0242ac110002row6_col18\" class=\"data row6 col18\" >225</td>\n",
       "                        <td id=\"T_4df571d6_9973_11ed_8dd7_0242ac110002row6_col19\" class=\"data row6 col19\" >172</td>\n",
       "                        <td id=\"T_4df571d6_9973_11ed_8dd7_0242ac110002row6_col20\" class=\"data row6 col20\" >253</td>\n",
       "                        <td id=\"T_4df571d6_9973_11ed_8dd7_0242ac110002row6_col21\" class=\"data row6 col21\" >242</td>\n",
       "                        <td id=\"T_4df571d6_9973_11ed_8dd7_0242ac110002row6_col22\" class=\"data row6 col22\" >195</td>\n",
       "                        <td id=\"T_4df571d6_9973_11ed_8dd7_0242ac110002row6_col23\" class=\"data row6 col23\" >64</td>\n",
       "                        <td id=\"T_4df571d6_9973_11ed_8dd7_0242ac110002row6_col24\" class=\"data row6 col24\" >0</td>\n",
       "                        <td id=\"T_4df571d6_9973_11ed_8dd7_0242ac110002row6_col25\" class=\"data row6 col25\" >0</td>\n",
       "                        <td id=\"T_4df571d6_9973_11ed_8dd7_0242ac110002row6_col26\" class=\"data row6 col26\" >0</td>\n",
       "                        <td id=\"T_4df571d6_9973_11ed_8dd7_0242ac110002row6_col27\" class=\"data row6 col27\" >0</td>\n",
       "            </tr>\n",
       "            <tr>\n",
       "                        <th id=\"T_4df571d6_9973_11ed_8dd7_0242ac110002level0_row7\" class=\"row_heading level0 row7\" >7</th>\n",
       "                        <td id=\"T_4df571d6_9973_11ed_8dd7_0242ac110002row7_col0\" class=\"data row7 col0\" >0</td>\n",
       "                        <td id=\"T_4df571d6_9973_11ed_8dd7_0242ac110002row7_col1\" class=\"data row7 col1\" >0</td>\n",
       "                        <td id=\"T_4df571d6_9973_11ed_8dd7_0242ac110002row7_col2\" class=\"data row7 col2\" >0</td>\n",
       "                        <td id=\"T_4df571d6_9973_11ed_8dd7_0242ac110002row7_col3\" class=\"data row7 col3\" >0</td>\n",
       "                        <td id=\"T_4df571d6_9973_11ed_8dd7_0242ac110002row7_col4\" class=\"data row7 col4\" >0</td>\n",
       "                        <td id=\"T_4df571d6_9973_11ed_8dd7_0242ac110002row7_col5\" class=\"data row7 col5\" >0</td>\n",
       "                        <td id=\"T_4df571d6_9973_11ed_8dd7_0242ac110002row7_col6\" class=\"data row7 col6\" >0</td>\n",
       "                        <td id=\"T_4df571d6_9973_11ed_8dd7_0242ac110002row7_col7\" class=\"data row7 col7\" >49</td>\n",
       "                        <td id=\"T_4df571d6_9973_11ed_8dd7_0242ac110002row7_col8\" class=\"data row7 col8\" >238</td>\n",
       "                        <td id=\"T_4df571d6_9973_11ed_8dd7_0242ac110002row7_col9\" class=\"data row7 col9\" >253</td>\n",
       "                        <td id=\"T_4df571d6_9973_11ed_8dd7_0242ac110002row7_col10\" class=\"data row7 col10\" >253</td>\n",
       "                        <td id=\"T_4df571d6_9973_11ed_8dd7_0242ac110002row7_col11\" class=\"data row7 col11\" >253</td>\n",
       "                        <td id=\"T_4df571d6_9973_11ed_8dd7_0242ac110002row7_col12\" class=\"data row7 col12\" >253</td>\n",
       "                        <td id=\"T_4df571d6_9973_11ed_8dd7_0242ac110002row7_col13\" class=\"data row7 col13\" >253</td>\n",
       "                        <td id=\"T_4df571d6_9973_11ed_8dd7_0242ac110002row7_col14\" class=\"data row7 col14\" >253</td>\n",
       "                        <td id=\"T_4df571d6_9973_11ed_8dd7_0242ac110002row7_col15\" class=\"data row7 col15\" >253</td>\n",
       "                        <td id=\"T_4df571d6_9973_11ed_8dd7_0242ac110002row7_col16\" class=\"data row7 col16\" >253</td>\n",
       "                        <td id=\"T_4df571d6_9973_11ed_8dd7_0242ac110002row7_col17\" class=\"data row7 col17\" >251</td>\n",
       "                        <td id=\"T_4df571d6_9973_11ed_8dd7_0242ac110002row7_col18\" class=\"data row7 col18\" >93</td>\n",
       "                        <td id=\"T_4df571d6_9973_11ed_8dd7_0242ac110002row7_col19\" class=\"data row7 col19\" >82</td>\n",
       "                        <td id=\"T_4df571d6_9973_11ed_8dd7_0242ac110002row7_col20\" class=\"data row7 col20\" >82</td>\n",
       "                        <td id=\"T_4df571d6_9973_11ed_8dd7_0242ac110002row7_col21\" class=\"data row7 col21\" >56</td>\n",
       "                        <td id=\"T_4df571d6_9973_11ed_8dd7_0242ac110002row7_col22\" class=\"data row7 col22\" >39</td>\n",
       "                        <td id=\"T_4df571d6_9973_11ed_8dd7_0242ac110002row7_col23\" class=\"data row7 col23\" >0</td>\n",
       "                        <td id=\"T_4df571d6_9973_11ed_8dd7_0242ac110002row7_col24\" class=\"data row7 col24\" >0</td>\n",
       "                        <td id=\"T_4df571d6_9973_11ed_8dd7_0242ac110002row7_col25\" class=\"data row7 col25\" >0</td>\n",
       "                        <td id=\"T_4df571d6_9973_11ed_8dd7_0242ac110002row7_col26\" class=\"data row7 col26\" >0</td>\n",
       "                        <td id=\"T_4df571d6_9973_11ed_8dd7_0242ac110002row7_col27\" class=\"data row7 col27\" >0</td>\n",
       "            </tr>\n",
       "            <tr>\n",
       "                        <th id=\"T_4df571d6_9973_11ed_8dd7_0242ac110002level0_row8\" class=\"row_heading level0 row8\" >8</th>\n",
       "                        <td id=\"T_4df571d6_9973_11ed_8dd7_0242ac110002row8_col0\" class=\"data row8 col0\" >0</td>\n",
       "                        <td id=\"T_4df571d6_9973_11ed_8dd7_0242ac110002row8_col1\" class=\"data row8 col1\" >0</td>\n",
       "                        <td id=\"T_4df571d6_9973_11ed_8dd7_0242ac110002row8_col2\" class=\"data row8 col2\" >0</td>\n",
       "                        <td id=\"T_4df571d6_9973_11ed_8dd7_0242ac110002row8_col3\" class=\"data row8 col3\" >0</td>\n",
       "                        <td id=\"T_4df571d6_9973_11ed_8dd7_0242ac110002row8_col4\" class=\"data row8 col4\" >0</td>\n",
       "                        <td id=\"T_4df571d6_9973_11ed_8dd7_0242ac110002row8_col5\" class=\"data row8 col5\" >0</td>\n",
       "                        <td id=\"T_4df571d6_9973_11ed_8dd7_0242ac110002row8_col6\" class=\"data row8 col6\" >0</td>\n",
       "                        <td id=\"T_4df571d6_9973_11ed_8dd7_0242ac110002row8_col7\" class=\"data row8 col7\" >18</td>\n",
       "                        <td id=\"T_4df571d6_9973_11ed_8dd7_0242ac110002row8_col8\" class=\"data row8 col8\" >219</td>\n",
       "                        <td id=\"T_4df571d6_9973_11ed_8dd7_0242ac110002row8_col9\" class=\"data row8 col9\" >253</td>\n",
       "                        <td id=\"T_4df571d6_9973_11ed_8dd7_0242ac110002row8_col10\" class=\"data row8 col10\" >253</td>\n",
       "                        <td id=\"T_4df571d6_9973_11ed_8dd7_0242ac110002row8_col11\" class=\"data row8 col11\" >253</td>\n",
       "                        <td id=\"T_4df571d6_9973_11ed_8dd7_0242ac110002row8_col12\" class=\"data row8 col12\" >253</td>\n",
       "                        <td id=\"T_4df571d6_9973_11ed_8dd7_0242ac110002row8_col13\" class=\"data row8 col13\" >253</td>\n",
       "                        <td id=\"T_4df571d6_9973_11ed_8dd7_0242ac110002row8_col14\" class=\"data row8 col14\" >198</td>\n",
       "                        <td id=\"T_4df571d6_9973_11ed_8dd7_0242ac110002row8_col15\" class=\"data row8 col15\" >182</td>\n",
       "                        <td id=\"T_4df571d6_9973_11ed_8dd7_0242ac110002row8_col16\" class=\"data row8 col16\" >247</td>\n",
       "                        <td id=\"T_4df571d6_9973_11ed_8dd7_0242ac110002row8_col17\" class=\"data row8 col17\" >241</td>\n",
       "                        <td id=\"T_4df571d6_9973_11ed_8dd7_0242ac110002row8_col18\" class=\"data row8 col18\" >0</td>\n",
       "                        <td id=\"T_4df571d6_9973_11ed_8dd7_0242ac110002row8_col19\" class=\"data row8 col19\" >0</td>\n",
       "                        <td id=\"T_4df571d6_9973_11ed_8dd7_0242ac110002row8_col20\" class=\"data row8 col20\" >0</td>\n",
       "                        <td id=\"T_4df571d6_9973_11ed_8dd7_0242ac110002row8_col21\" class=\"data row8 col21\" >0</td>\n",
       "                        <td id=\"T_4df571d6_9973_11ed_8dd7_0242ac110002row8_col22\" class=\"data row8 col22\" >0</td>\n",
       "                        <td id=\"T_4df571d6_9973_11ed_8dd7_0242ac110002row8_col23\" class=\"data row8 col23\" >0</td>\n",
       "                        <td id=\"T_4df571d6_9973_11ed_8dd7_0242ac110002row8_col24\" class=\"data row8 col24\" >0</td>\n",
       "                        <td id=\"T_4df571d6_9973_11ed_8dd7_0242ac110002row8_col25\" class=\"data row8 col25\" >0</td>\n",
       "                        <td id=\"T_4df571d6_9973_11ed_8dd7_0242ac110002row8_col26\" class=\"data row8 col26\" >0</td>\n",
       "                        <td id=\"T_4df571d6_9973_11ed_8dd7_0242ac110002row8_col27\" class=\"data row8 col27\" >0</td>\n",
       "            </tr>\n",
       "            <tr>\n",
       "                        <th id=\"T_4df571d6_9973_11ed_8dd7_0242ac110002level0_row9\" class=\"row_heading level0 row9\" >9</th>\n",
       "                        <td id=\"T_4df571d6_9973_11ed_8dd7_0242ac110002row9_col0\" class=\"data row9 col0\" >0</td>\n",
       "                        <td id=\"T_4df571d6_9973_11ed_8dd7_0242ac110002row9_col1\" class=\"data row9 col1\" >0</td>\n",
       "                        <td id=\"T_4df571d6_9973_11ed_8dd7_0242ac110002row9_col2\" class=\"data row9 col2\" >0</td>\n",
       "                        <td id=\"T_4df571d6_9973_11ed_8dd7_0242ac110002row9_col3\" class=\"data row9 col3\" >0</td>\n",
       "                        <td id=\"T_4df571d6_9973_11ed_8dd7_0242ac110002row9_col4\" class=\"data row9 col4\" >0</td>\n",
       "                        <td id=\"T_4df571d6_9973_11ed_8dd7_0242ac110002row9_col5\" class=\"data row9 col5\" >0</td>\n",
       "                        <td id=\"T_4df571d6_9973_11ed_8dd7_0242ac110002row9_col6\" class=\"data row9 col6\" >0</td>\n",
       "                        <td id=\"T_4df571d6_9973_11ed_8dd7_0242ac110002row9_col7\" class=\"data row9 col7\" >0</td>\n",
       "                        <td id=\"T_4df571d6_9973_11ed_8dd7_0242ac110002row9_col8\" class=\"data row9 col8\" >80</td>\n",
       "                        <td id=\"T_4df571d6_9973_11ed_8dd7_0242ac110002row9_col9\" class=\"data row9 col9\" >156</td>\n",
       "                        <td id=\"T_4df571d6_9973_11ed_8dd7_0242ac110002row9_col10\" class=\"data row9 col10\" >107</td>\n",
       "                        <td id=\"T_4df571d6_9973_11ed_8dd7_0242ac110002row9_col11\" class=\"data row9 col11\" >253</td>\n",
       "                        <td id=\"T_4df571d6_9973_11ed_8dd7_0242ac110002row9_col12\" class=\"data row9 col12\" >253</td>\n",
       "                        <td id=\"T_4df571d6_9973_11ed_8dd7_0242ac110002row9_col13\" class=\"data row9 col13\" >205</td>\n",
       "                        <td id=\"T_4df571d6_9973_11ed_8dd7_0242ac110002row9_col14\" class=\"data row9 col14\" >11</td>\n",
       "                        <td id=\"T_4df571d6_9973_11ed_8dd7_0242ac110002row9_col15\" class=\"data row9 col15\" >0</td>\n",
       "                        <td id=\"T_4df571d6_9973_11ed_8dd7_0242ac110002row9_col16\" class=\"data row9 col16\" >43</td>\n",
       "                        <td id=\"T_4df571d6_9973_11ed_8dd7_0242ac110002row9_col17\" class=\"data row9 col17\" >154</td>\n",
       "                        <td id=\"T_4df571d6_9973_11ed_8dd7_0242ac110002row9_col18\" class=\"data row9 col18\" >0</td>\n",
       "                        <td id=\"T_4df571d6_9973_11ed_8dd7_0242ac110002row9_col19\" class=\"data row9 col19\" >0</td>\n",
       "                        <td id=\"T_4df571d6_9973_11ed_8dd7_0242ac110002row9_col20\" class=\"data row9 col20\" >0</td>\n",
       "                        <td id=\"T_4df571d6_9973_11ed_8dd7_0242ac110002row9_col21\" class=\"data row9 col21\" >0</td>\n",
       "                        <td id=\"T_4df571d6_9973_11ed_8dd7_0242ac110002row9_col22\" class=\"data row9 col22\" >0</td>\n",
       "                        <td id=\"T_4df571d6_9973_11ed_8dd7_0242ac110002row9_col23\" class=\"data row9 col23\" >0</td>\n",
       "                        <td id=\"T_4df571d6_9973_11ed_8dd7_0242ac110002row9_col24\" class=\"data row9 col24\" >0</td>\n",
       "                        <td id=\"T_4df571d6_9973_11ed_8dd7_0242ac110002row9_col25\" class=\"data row9 col25\" >0</td>\n",
       "                        <td id=\"T_4df571d6_9973_11ed_8dd7_0242ac110002row9_col26\" class=\"data row9 col26\" >0</td>\n",
       "                        <td id=\"T_4df571d6_9973_11ed_8dd7_0242ac110002row9_col27\" class=\"data row9 col27\" >0</td>\n",
       "            </tr>\n",
       "            <tr>\n",
       "                        <th id=\"T_4df571d6_9973_11ed_8dd7_0242ac110002level0_row10\" class=\"row_heading level0 row10\" >10</th>\n",
       "                        <td id=\"T_4df571d6_9973_11ed_8dd7_0242ac110002row10_col0\" class=\"data row10 col0\" >0</td>\n",
       "                        <td id=\"T_4df571d6_9973_11ed_8dd7_0242ac110002row10_col1\" class=\"data row10 col1\" >0</td>\n",
       "                        <td id=\"T_4df571d6_9973_11ed_8dd7_0242ac110002row10_col2\" class=\"data row10 col2\" >0</td>\n",
       "                        <td id=\"T_4df571d6_9973_11ed_8dd7_0242ac110002row10_col3\" class=\"data row10 col3\" >0</td>\n",
       "                        <td id=\"T_4df571d6_9973_11ed_8dd7_0242ac110002row10_col4\" class=\"data row10 col4\" >0</td>\n",
       "                        <td id=\"T_4df571d6_9973_11ed_8dd7_0242ac110002row10_col5\" class=\"data row10 col5\" >0</td>\n",
       "                        <td id=\"T_4df571d6_9973_11ed_8dd7_0242ac110002row10_col6\" class=\"data row10 col6\" >0</td>\n",
       "                        <td id=\"T_4df571d6_9973_11ed_8dd7_0242ac110002row10_col7\" class=\"data row10 col7\" >0</td>\n",
       "                        <td id=\"T_4df571d6_9973_11ed_8dd7_0242ac110002row10_col8\" class=\"data row10 col8\" >0</td>\n",
       "                        <td id=\"T_4df571d6_9973_11ed_8dd7_0242ac110002row10_col9\" class=\"data row10 col9\" >14</td>\n",
       "                        <td id=\"T_4df571d6_9973_11ed_8dd7_0242ac110002row10_col10\" class=\"data row10 col10\" >1</td>\n",
       "                        <td id=\"T_4df571d6_9973_11ed_8dd7_0242ac110002row10_col11\" class=\"data row10 col11\" >154</td>\n",
       "                        <td id=\"T_4df571d6_9973_11ed_8dd7_0242ac110002row10_col12\" class=\"data row10 col12\" >253</td>\n",
       "                        <td id=\"T_4df571d6_9973_11ed_8dd7_0242ac110002row10_col13\" class=\"data row10 col13\" >90</td>\n",
       "                        <td id=\"T_4df571d6_9973_11ed_8dd7_0242ac110002row10_col14\" class=\"data row10 col14\" >0</td>\n",
       "                        <td id=\"T_4df571d6_9973_11ed_8dd7_0242ac110002row10_col15\" class=\"data row10 col15\" >0</td>\n",
       "                        <td id=\"T_4df571d6_9973_11ed_8dd7_0242ac110002row10_col16\" class=\"data row10 col16\" >0</td>\n",
       "                        <td id=\"T_4df571d6_9973_11ed_8dd7_0242ac110002row10_col17\" class=\"data row10 col17\" >0</td>\n",
       "                        <td id=\"T_4df571d6_9973_11ed_8dd7_0242ac110002row10_col18\" class=\"data row10 col18\" >0</td>\n",
       "                        <td id=\"T_4df571d6_9973_11ed_8dd7_0242ac110002row10_col19\" class=\"data row10 col19\" >0</td>\n",
       "                        <td id=\"T_4df571d6_9973_11ed_8dd7_0242ac110002row10_col20\" class=\"data row10 col20\" >0</td>\n",
       "                        <td id=\"T_4df571d6_9973_11ed_8dd7_0242ac110002row10_col21\" class=\"data row10 col21\" >0</td>\n",
       "                        <td id=\"T_4df571d6_9973_11ed_8dd7_0242ac110002row10_col22\" class=\"data row10 col22\" >0</td>\n",
       "                        <td id=\"T_4df571d6_9973_11ed_8dd7_0242ac110002row10_col23\" class=\"data row10 col23\" >0</td>\n",
       "                        <td id=\"T_4df571d6_9973_11ed_8dd7_0242ac110002row10_col24\" class=\"data row10 col24\" >0</td>\n",
       "                        <td id=\"T_4df571d6_9973_11ed_8dd7_0242ac110002row10_col25\" class=\"data row10 col25\" >0</td>\n",
       "                        <td id=\"T_4df571d6_9973_11ed_8dd7_0242ac110002row10_col26\" class=\"data row10 col26\" >0</td>\n",
       "                        <td id=\"T_4df571d6_9973_11ed_8dd7_0242ac110002row10_col27\" class=\"data row10 col27\" >0</td>\n",
       "            </tr>\n",
       "            <tr>\n",
       "                        <th id=\"T_4df571d6_9973_11ed_8dd7_0242ac110002level0_row11\" class=\"row_heading level0 row11\" >11</th>\n",
       "                        <td id=\"T_4df571d6_9973_11ed_8dd7_0242ac110002row11_col0\" class=\"data row11 col0\" >0</td>\n",
       "                        <td id=\"T_4df571d6_9973_11ed_8dd7_0242ac110002row11_col1\" class=\"data row11 col1\" >0</td>\n",
       "                        <td id=\"T_4df571d6_9973_11ed_8dd7_0242ac110002row11_col2\" class=\"data row11 col2\" >0</td>\n",
       "                        <td id=\"T_4df571d6_9973_11ed_8dd7_0242ac110002row11_col3\" class=\"data row11 col3\" >0</td>\n",
       "                        <td id=\"T_4df571d6_9973_11ed_8dd7_0242ac110002row11_col4\" class=\"data row11 col4\" >0</td>\n",
       "                        <td id=\"T_4df571d6_9973_11ed_8dd7_0242ac110002row11_col5\" class=\"data row11 col5\" >0</td>\n",
       "                        <td id=\"T_4df571d6_9973_11ed_8dd7_0242ac110002row11_col6\" class=\"data row11 col6\" >0</td>\n",
       "                        <td id=\"T_4df571d6_9973_11ed_8dd7_0242ac110002row11_col7\" class=\"data row11 col7\" >0</td>\n",
       "                        <td id=\"T_4df571d6_9973_11ed_8dd7_0242ac110002row11_col8\" class=\"data row11 col8\" >0</td>\n",
       "                        <td id=\"T_4df571d6_9973_11ed_8dd7_0242ac110002row11_col9\" class=\"data row11 col9\" >0</td>\n",
       "                        <td id=\"T_4df571d6_9973_11ed_8dd7_0242ac110002row11_col10\" class=\"data row11 col10\" >0</td>\n",
       "                        <td id=\"T_4df571d6_9973_11ed_8dd7_0242ac110002row11_col11\" class=\"data row11 col11\" >139</td>\n",
       "                        <td id=\"T_4df571d6_9973_11ed_8dd7_0242ac110002row11_col12\" class=\"data row11 col12\" >253</td>\n",
       "                        <td id=\"T_4df571d6_9973_11ed_8dd7_0242ac110002row11_col13\" class=\"data row11 col13\" >190</td>\n",
       "                        <td id=\"T_4df571d6_9973_11ed_8dd7_0242ac110002row11_col14\" class=\"data row11 col14\" >2</td>\n",
       "                        <td id=\"T_4df571d6_9973_11ed_8dd7_0242ac110002row11_col15\" class=\"data row11 col15\" >0</td>\n",
       "                        <td id=\"T_4df571d6_9973_11ed_8dd7_0242ac110002row11_col16\" class=\"data row11 col16\" >0</td>\n",
       "                        <td id=\"T_4df571d6_9973_11ed_8dd7_0242ac110002row11_col17\" class=\"data row11 col17\" >0</td>\n",
       "                        <td id=\"T_4df571d6_9973_11ed_8dd7_0242ac110002row11_col18\" class=\"data row11 col18\" >0</td>\n",
       "                        <td id=\"T_4df571d6_9973_11ed_8dd7_0242ac110002row11_col19\" class=\"data row11 col19\" >0</td>\n",
       "                        <td id=\"T_4df571d6_9973_11ed_8dd7_0242ac110002row11_col20\" class=\"data row11 col20\" >0</td>\n",
       "                        <td id=\"T_4df571d6_9973_11ed_8dd7_0242ac110002row11_col21\" class=\"data row11 col21\" >0</td>\n",
       "                        <td id=\"T_4df571d6_9973_11ed_8dd7_0242ac110002row11_col22\" class=\"data row11 col22\" >0</td>\n",
       "                        <td id=\"T_4df571d6_9973_11ed_8dd7_0242ac110002row11_col23\" class=\"data row11 col23\" >0</td>\n",
       "                        <td id=\"T_4df571d6_9973_11ed_8dd7_0242ac110002row11_col24\" class=\"data row11 col24\" >0</td>\n",
       "                        <td id=\"T_4df571d6_9973_11ed_8dd7_0242ac110002row11_col25\" class=\"data row11 col25\" >0</td>\n",
       "                        <td id=\"T_4df571d6_9973_11ed_8dd7_0242ac110002row11_col26\" class=\"data row11 col26\" >0</td>\n",
       "                        <td id=\"T_4df571d6_9973_11ed_8dd7_0242ac110002row11_col27\" class=\"data row11 col27\" >0</td>\n",
       "            </tr>\n",
       "            <tr>\n",
       "                        <th id=\"T_4df571d6_9973_11ed_8dd7_0242ac110002level0_row12\" class=\"row_heading level0 row12\" >12</th>\n",
       "                        <td id=\"T_4df571d6_9973_11ed_8dd7_0242ac110002row12_col0\" class=\"data row12 col0\" >0</td>\n",
       "                        <td id=\"T_4df571d6_9973_11ed_8dd7_0242ac110002row12_col1\" class=\"data row12 col1\" >0</td>\n",
       "                        <td id=\"T_4df571d6_9973_11ed_8dd7_0242ac110002row12_col2\" class=\"data row12 col2\" >0</td>\n",
       "                        <td id=\"T_4df571d6_9973_11ed_8dd7_0242ac110002row12_col3\" class=\"data row12 col3\" >0</td>\n",
       "                        <td id=\"T_4df571d6_9973_11ed_8dd7_0242ac110002row12_col4\" class=\"data row12 col4\" >0</td>\n",
       "                        <td id=\"T_4df571d6_9973_11ed_8dd7_0242ac110002row12_col5\" class=\"data row12 col5\" >0</td>\n",
       "                        <td id=\"T_4df571d6_9973_11ed_8dd7_0242ac110002row12_col6\" class=\"data row12 col6\" >0</td>\n",
       "                        <td id=\"T_4df571d6_9973_11ed_8dd7_0242ac110002row12_col7\" class=\"data row12 col7\" >0</td>\n",
       "                        <td id=\"T_4df571d6_9973_11ed_8dd7_0242ac110002row12_col8\" class=\"data row12 col8\" >0</td>\n",
       "                        <td id=\"T_4df571d6_9973_11ed_8dd7_0242ac110002row12_col9\" class=\"data row12 col9\" >0</td>\n",
       "                        <td id=\"T_4df571d6_9973_11ed_8dd7_0242ac110002row12_col10\" class=\"data row12 col10\" >0</td>\n",
       "                        <td id=\"T_4df571d6_9973_11ed_8dd7_0242ac110002row12_col11\" class=\"data row12 col11\" >11</td>\n",
       "                        <td id=\"T_4df571d6_9973_11ed_8dd7_0242ac110002row12_col12\" class=\"data row12 col12\" >190</td>\n",
       "                        <td id=\"T_4df571d6_9973_11ed_8dd7_0242ac110002row12_col13\" class=\"data row12 col13\" >253</td>\n",
       "                        <td id=\"T_4df571d6_9973_11ed_8dd7_0242ac110002row12_col14\" class=\"data row12 col14\" >70</td>\n",
       "                        <td id=\"T_4df571d6_9973_11ed_8dd7_0242ac110002row12_col15\" class=\"data row12 col15\" >0</td>\n",
       "                        <td id=\"T_4df571d6_9973_11ed_8dd7_0242ac110002row12_col16\" class=\"data row12 col16\" >0</td>\n",
       "                        <td id=\"T_4df571d6_9973_11ed_8dd7_0242ac110002row12_col17\" class=\"data row12 col17\" >0</td>\n",
       "                        <td id=\"T_4df571d6_9973_11ed_8dd7_0242ac110002row12_col18\" class=\"data row12 col18\" >0</td>\n",
       "                        <td id=\"T_4df571d6_9973_11ed_8dd7_0242ac110002row12_col19\" class=\"data row12 col19\" >0</td>\n",
       "                        <td id=\"T_4df571d6_9973_11ed_8dd7_0242ac110002row12_col20\" class=\"data row12 col20\" >0</td>\n",
       "                        <td id=\"T_4df571d6_9973_11ed_8dd7_0242ac110002row12_col21\" class=\"data row12 col21\" >0</td>\n",
       "                        <td id=\"T_4df571d6_9973_11ed_8dd7_0242ac110002row12_col22\" class=\"data row12 col22\" >0</td>\n",
       "                        <td id=\"T_4df571d6_9973_11ed_8dd7_0242ac110002row12_col23\" class=\"data row12 col23\" >0</td>\n",
       "                        <td id=\"T_4df571d6_9973_11ed_8dd7_0242ac110002row12_col24\" class=\"data row12 col24\" >0</td>\n",
       "                        <td id=\"T_4df571d6_9973_11ed_8dd7_0242ac110002row12_col25\" class=\"data row12 col25\" >0</td>\n",
       "                        <td id=\"T_4df571d6_9973_11ed_8dd7_0242ac110002row12_col26\" class=\"data row12 col26\" >0</td>\n",
       "                        <td id=\"T_4df571d6_9973_11ed_8dd7_0242ac110002row12_col27\" class=\"data row12 col27\" >0</td>\n",
       "            </tr>\n",
       "            <tr>\n",
       "                        <th id=\"T_4df571d6_9973_11ed_8dd7_0242ac110002level0_row13\" class=\"row_heading level0 row13\" >13</th>\n",
       "                        <td id=\"T_4df571d6_9973_11ed_8dd7_0242ac110002row13_col0\" class=\"data row13 col0\" >0</td>\n",
       "                        <td id=\"T_4df571d6_9973_11ed_8dd7_0242ac110002row13_col1\" class=\"data row13 col1\" >0</td>\n",
       "                        <td id=\"T_4df571d6_9973_11ed_8dd7_0242ac110002row13_col2\" class=\"data row13 col2\" >0</td>\n",
       "                        <td id=\"T_4df571d6_9973_11ed_8dd7_0242ac110002row13_col3\" class=\"data row13 col3\" >0</td>\n",
       "                        <td id=\"T_4df571d6_9973_11ed_8dd7_0242ac110002row13_col4\" class=\"data row13 col4\" >0</td>\n",
       "                        <td id=\"T_4df571d6_9973_11ed_8dd7_0242ac110002row13_col5\" class=\"data row13 col5\" >0</td>\n",
       "                        <td id=\"T_4df571d6_9973_11ed_8dd7_0242ac110002row13_col6\" class=\"data row13 col6\" >0</td>\n",
       "                        <td id=\"T_4df571d6_9973_11ed_8dd7_0242ac110002row13_col7\" class=\"data row13 col7\" >0</td>\n",
       "                        <td id=\"T_4df571d6_9973_11ed_8dd7_0242ac110002row13_col8\" class=\"data row13 col8\" >0</td>\n",
       "                        <td id=\"T_4df571d6_9973_11ed_8dd7_0242ac110002row13_col9\" class=\"data row13 col9\" >0</td>\n",
       "                        <td id=\"T_4df571d6_9973_11ed_8dd7_0242ac110002row13_col10\" class=\"data row13 col10\" >0</td>\n",
       "                        <td id=\"T_4df571d6_9973_11ed_8dd7_0242ac110002row13_col11\" class=\"data row13 col11\" >0</td>\n",
       "                        <td id=\"T_4df571d6_9973_11ed_8dd7_0242ac110002row13_col12\" class=\"data row13 col12\" >35</td>\n",
       "                        <td id=\"T_4df571d6_9973_11ed_8dd7_0242ac110002row13_col13\" class=\"data row13 col13\" >241</td>\n",
       "                        <td id=\"T_4df571d6_9973_11ed_8dd7_0242ac110002row13_col14\" class=\"data row13 col14\" >225</td>\n",
       "                        <td id=\"T_4df571d6_9973_11ed_8dd7_0242ac110002row13_col15\" class=\"data row13 col15\" >160</td>\n",
       "                        <td id=\"T_4df571d6_9973_11ed_8dd7_0242ac110002row13_col16\" class=\"data row13 col16\" >108</td>\n",
       "                        <td id=\"T_4df571d6_9973_11ed_8dd7_0242ac110002row13_col17\" class=\"data row13 col17\" >1</td>\n",
       "                        <td id=\"T_4df571d6_9973_11ed_8dd7_0242ac110002row13_col18\" class=\"data row13 col18\" >0</td>\n",
       "                        <td id=\"T_4df571d6_9973_11ed_8dd7_0242ac110002row13_col19\" class=\"data row13 col19\" >0</td>\n",
       "                        <td id=\"T_4df571d6_9973_11ed_8dd7_0242ac110002row13_col20\" class=\"data row13 col20\" >0</td>\n",
       "                        <td id=\"T_4df571d6_9973_11ed_8dd7_0242ac110002row13_col21\" class=\"data row13 col21\" >0</td>\n",
       "                        <td id=\"T_4df571d6_9973_11ed_8dd7_0242ac110002row13_col22\" class=\"data row13 col22\" >0</td>\n",
       "                        <td id=\"T_4df571d6_9973_11ed_8dd7_0242ac110002row13_col23\" class=\"data row13 col23\" >0</td>\n",
       "                        <td id=\"T_4df571d6_9973_11ed_8dd7_0242ac110002row13_col24\" class=\"data row13 col24\" >0</td>\n",
       "                        <td id=\"T_4df571d6_9973_11ed_8dd7_0242ac110002row13_col25\" class=\"data row13 col25\" >0</td>\n",
       "                        <td id=\"T_4df571d6_9973_11ed_8dd7_0242ac110002row13_col26\" class=\"data row13 col26\" >0</td>\n",
       "                        <td id=\"T_4df571d6_9973_11ed_8dd7_0242ac110002row13_col27\" class=\"data row13 col27\" >0</td>\n",
       "            </tr>\n",
       "            <tr>\n",
       "                        <th id=\"T_4df571d6_9973_11ed_8dd7_0242ac110002level0_row14\" class=\"row_heading level0 row14\" >14</th>\n",
       "                        <td id=\"T_4df571d6_9973_11ed_8dd7_0242ac110002row14_col0\" class=\"data row14 col0\" >0</td>\n",
       "                        <td id=\"T_4df571d6_9973_11ed_8dd7_0242ac110002row14_col1\" class=\"data row14 col1\" >0</td>\n",
       "                        <td id=\"T_4df571d6_9973_11ed_8dd7_0242ac110002row14_col2\" class=\"data row14 col2\" >0</td>\n",
       "                        <td id=\"T_4df571d6_9973_11ed_8dd7_0242ac110002row14_col3\" class=\"data row14 col3\" >0</td>\n",
       "                        <td id=\"T_4df571d6_9973_11ed_8dd7_0242ac110002row14_col4\" class=\"data row14 col4\" >0</td>\n",
       "                        <td id=\"T_4df571d6_9973_11ed_8dd7_0242ac110002row14_col5\" class=\"data row14 col5\" >0</td>\n",
       "                        <td id=\"T_4df571d6_9973_11ed_8dd7_0242ac110002row14_col6\" class=\"data row14 col6\" >0</td>\n",
       "                        <td id=\"T_4df571d6_9973_11ed_8dd7_0242ac110002row14_col7\" class=\"data row14 col7\" >0</td>\n",
       "                        <td id=\"T_4df571d6_9973_11ed_8dd7_0242ac110002row14_col8\" class=\"data row14 col8\" >0</td>\n",
       "                        <td id=\"T_4df571d6_9973_11ed_8dd7_0242ac110002row14_col9\" class=\"data row14 col9\" >0</td>\n",
       "                        <td id=\"T_4df571d6_9973_11ed_8dd7_0242ac110002row14_col10\" class=\"data row14 col10\" >0</td>\n",
       "                        <td id=\"T_4df571d6_9973_11ed_8dd7_0242ac110002row14_col11\" class=\"data row14 col11\" >0</td>\n",
       "                        <td id=\"T_4df571d6_9973_11ed_8dd7_0242ac110002row14_col12\" class=\"data row14 col12\" >0</td>\n",
       "                        <td id=\"T_4df571d6_9973_11ed_8dd7_0242ac110002row14_col13\" class=\"data row14 col13\" >81</td>\n",
       "                        <td id=\"T_4df571d6_9973_11ed_8dd7_0242ac110002row14_col14\" class=\"data row14 col14\" >240</td>\n",
       "                        <td id=\"T_4df571d6_9973_11ed_8dd7_0242ac110002row14_col15\" class=\"data row14 col15\" >253</td>\n",
       "                        <td id=\"T_4df571d6_9973_11ed_8dd7_0242ac110002row14_col16\" class=\"data row14 col16\" >253</td>\n",
       "                        <td id=\"T_4df571d6_9973_11ed_8dd7_0242ac110002row14_col17\" class=\"data row14 col17\" >119</td>\n",
       "                        <td id=\"T_4df571d6_9973_11ed_8dd7_0242ac110002row14_col18\" class=\"data row14 col18\" >25</td>\n",
       "                        <td id=\"T_4df571d6_9973_11ed_8dd7_0242ac110002row14_col19\" class=\"data row14 col19\" >0</td>\n",
       "                        <td id=\"T_4df571d6_9973_11ed_8dd7_0242ac110002row14_col20\" class=\"data row14 col20\" >0</td>\n",
       "                        <td id=\"T_4df571d6_9973_11ed_8dd7_0242ac110002row14_col21\" class=\"data row14 col21\" >0</td>\n",
       "                        <td id=\"T_4df571d6_9973_11ed_8dd7_0242ac110002row14_col22\" class=\"data row14 col22\" >0</td>\n",
       "                        <td id=\"T_4df571d6_9973_11ed_8dd7_0242ac110002row14_col23\" class=\"data row14 col23\" >0</td>\n",
       "                        <td id=\"T_4df571d6_9973_11ed_8dd7_0242ac110002row14_col24\" class=\"data row14 col24\" >0</td>\n",
       "                        <td id=\"T_4df571d6_9973_11ed_8dd7_0242ac110002row14_col25\" class=\"data row14 col25\" >0</td>\n",
       "                        <td id=\"T_4df571d6_9973_11ed_8dd7_0242ac110002row14_col26\" class=\"data row14 col26\" >0</td>\n",
       "                        <td id=\"T_4df571d6_9973_11ed_8dd7_0242ac110002row14_col27\" class=\"data row14 col27\" >0</td>\n",
       "            </tr>\n",
       "            <tr>\n",
       "                        <th id=\"T_4df571d6_9973_11ed_8dd7_0242ac110002level0_row15\" class=\"row_heading level0 row15\" >15</th>\n",
       "                        <td id=\"T_4df571d6_9973_11ed_8dd7_0242ac110002row15_col0\" class=\"data row15 col0\" >0</td>\n",
       "                        <td id=\"T_4df571d6_9973_11ed_8dd7_0242ac110002row15_col1\" class=\"data row15 col1\" >0</td>\n",
       "                        <td id=\"T_4df571d6_9973_11ed_8dd7_0242ac110002row15_col2\" class=\"data row15 col2\" >0</td>\n",
       "                        <td id=\"T_4df571d6_9973_11ed_8dd7_0242ac110002row15_col3\" class=\"data row15 col3\" >0</td>\n",
       "                        <td id=\"T_4df571d6_9973_11ed_8dd7_0242ac110002row15_col4\" class=\"data row15 col4\" >0</td>\n",
       "                        <td id=\"T_4df571d6_9973_11ed_8dd7_0242ac110002row15_col5\" class=\"data row15 col5\" >0</td>\n",
       "                        <td id=\"T_4df571d6_9973_11ed_8dd7_0242ac110002row15_col6\" class=\"data row15 col6\" >0</td>\n",
       "                        <td id=\"T_4df571d6_9973_11ed_8dd7_0242ac110002row15_col7\" class=\"data row15 col7\" >0</td>\n",
       "                        <td id=\"T_4df571d6_9973_11ed_8dd7_0242ac110002row15_col8\" class=\"data row15 col8\" >0</td>\n",
       "                        <td id=\"T_4df571d6_9973_11ed_8dd7_0242ac110002row15_col9\" class=\"data row15 col9\" >0</td>\n",
       "                        <td id=\"T_4df571d6_9973_11ed_8dd7_0242ac110002row15_col10\" class=\"data row15 col10\" >0</td>\n",
       "                        <td id=\"T_4df571d6_9973_11ed_8dd7_0242ac110002row15_col11\" class=\"data row15 col11\" >0</td>\n",
       "                        <td id=\"T_4df571d6_9973_11ed_8dd7_0242ac110002row15_col12\" class=\"data row15 col12\" >0</td>\n",
       "                        <td id=\"T_4df571d6_9973_11ed_8dd7_0242ac110002row15_col13\" class=\"data row15 col13\" >0</td>\n",
       "                        <td id=\"T_4df571d6_9973_11ed_8dd7_0242ac110002row15_col14\" class=\"data row15 col14\" >45</td>\n",
       "                        <td id=\"T_4df571d6_9973_11ed_8dd7_0242ac110002row15_col15\" class=\"data row15 col15\" >186</td>\n",
       "                        <td id=\"T_4df571d6_9973_11ed_8dd7_0242ac110002row15_col16\" class=\"data row15 col16\" >253</td>\n",
       "                        <td id=\"T_4df571d6_9973_11ed_8dd7_0242ac110002row15_col17\" class=\"data row15 col17\" >253</td>\n",
       "                        <td id=\"T_4df571d6_9973_11ed_8dd7_0242ac110002row15_col18\" class=\"data row15 col18\" >150</td>\n",
       "                        <td id=\"T_4df571d6_9973_11ed_8dd7_0242ac110002row15_col19\" class=\"data row15 col19\" >27</td>\n",
       "                        <td id=\"T_4df571d6_9973_11ed_8dd7_0242ac110002row15_col20\" class=\"data row15 col20\" >0</td>\n",
       "                        <td id=\"T_4df571d6_9973_11ed_8dd7_0242ac110002row15_col21\" class=\"data row15 col21\" >0</td>\n",
       "                        <td id=\"T_4df571d6_9973_11ed_8dd7_0242ac110002row15_col22\" class=\"data row15 col22\" >0</td>\n",
       "                        <td id=\"T_4df571d6_9973_11ed_8dd7_0242ac110002row15_col23\" class=\"data row15 col23\" >0</td>\n",
       "                        <td id=\"T_4df571d6_9973_11ed_8dd7_0242ac110002row15_col24\" class=\"data row15 col24\" >0</td>\n",
       "                        <td id=\"T_4df571d6_9973_11ed_8dd7_0242ac110002row15_col25\" class=\"data row15 col25\" >0</td>\n",
       "                        <td id=\"T_4df571d6_9973_11ed_8dd7_0242ac110002row15_col26\" class=\"data row15 col26\" >0</td>\n",
       "                        <td id=\"T_4df571d6_9973_11ed_8dd7_0242ac110002row15_col27\" class=\"data row15 col27\" >0</td>\n",
       "            </tr>\n",
       "            <tr>\n",
       "                        <th id=\"T_4df571d6_9973_11ed_8dd7_0242ac110002level0_row16\" class=\"row_heading level0 row16\" >16</th>\n",
       "                        <td id=\"T_4df571d6_9973_11ed_8dd7_0242ac110002row16_col0\" class=\"data row16 col0\" >0</td>\n",
       "                        <td id=\"T_4df571d6_9973_11ed_8dd7_0242ac110002row16_col1\" class=\"data row16 col1\" >0</td>\n",
       "                        <td id=\"T_4df571d6_9973_11ed_8dd7_0242ac110002row16_col2\" class=\"data row16 col2\" >0</td>\n",
       "                        <td id=\"T_4df571d6_9973_11ed_8dd7_0242ac110002row16_col3\" class=\"data row16 col3\" >0</td>\n",
       "                        <td id=\"T_4df571d6_9973_11ed_8dd7_0242ac110002row16_col4\" class=\"data row16 col4\" >0</td>\n",
       "                        <td id=\"T_4df571d6_9973_11ed_8dd7_0242ac110002row16_col5\" class=\"data row16 col5\" >0</td>\n",
       "                        <td id=\"T_4df571d6_9973_11ed_8dd7_0242ac110002row16_col6\" class=\"data row16 col6\" >0</td>\n",
       "                        <td id=\"T_4df571d6_9973_11ed_8dd7_0242ac110002row16_col7\" class=\"data row16 col7\" >0</td>\n",
       "                        <td id=\"T_4df571d6_9973_11ed_8dd7_0242ac110002row16_col8\" class=\"data row16 col8\" >0</td>\n",
       "                        <td id=\"T_4df571d6_9973_11ed_8dd7_0242ac110002row16_col9\" class=\"data row16 col9\" >0</td>\n",
       "                        <td id=\"T_4df571d6_9973_11ed_8dd7_0242ac110002row16_col10\" class=\"data row16 col10\" >0</td>\n",
       "                        <td id=\"T_4df571d6_9973_11ed_8dd7_0242ac110002row16_col11\" class=\"data row16 col11\" >0</td>\n",
       "                        <td id=\"T_4df571d6_9973_11ed_8dd7_0242ac110002row16_col12\" class=\"data row16 col12\" >0</td>\n",
       "                        <td id=\"T_4df571d6_9973_11ed_8dd7_0242ac110002row16_col13\" class=\"data row16 col13\" >0</td>\n",
       "                        <td id=\"T_4df571d6_9973_11ed_8dd7_0242ac110002row16_col14\" class=\"data row16 col14\" >0</td>\n",
       "                        <td id=\"T_4df571d6_9973_11ed_8dd7_0242ac110002row16_col15\" class=\"data row16 col15\" >16</td>\n",
       "                        <td id=\"T_4df571d6_9973_11ed_8dd7_0242ac110002row16_col16\" class=\"data row16 col16\" >93</td>\n",
       "                        <td id=\"T_4df571d6_9973_11ed_8dd7_0242ac110002row16_col17\" class=\"data row16 col17\" >252</td>\n",
       "                        <td id=\"T_4df571d6_9973_11ed_8dd7_0242ac110002row16_col18\" class=\"data row16 col18\" >253</td>\n",
       "                        <td id=\"T_4df571d6_9973_11ed_8dd7_0242ac110002row16_col19\" class=\"data row16 col19\" >187</td>\n",
       "                        <td id=\"T_4df571d6_9973_11ed_8dd7_0242ac110002row16_col20\" class=\"data row16 col20\" >0</td>\n",
       "                        <td id=\"T_4df571d6_9973_11ed_8dd7_0242ac110002row16_col21\" class=\"data row16 col21\" >0</td>\n",
       "                        <td id=\"T_4df571d6_9973_11ed_8dd7_0242ac110002row16_col22\" class=\"data row16 col22\" >0</td>\n",
       "                        <td id=\"T_4df571d6_9973_11ed_8dd7_0242ac110002row16_col23\" class=\"data row16 col23\" >0</td>\n",
       "                        <td id=\"T_4df571d6_9973_11ed_8dd7_0242ac110002row16_col24\" class=\"data row16 col24\" >0</td>\n",
       "                        <td id=\"T_4df571d6_9973_11ed_8dd7_0242ac110002row16_col25\" class=\"data row16 col25\" >0</td>\n",
       "                        <td id=\"T_4df571d6_9973_11ed_8dd7_0242ac110002row16_col26\" class=\"data row16 col26\" >0</td>\n",
       "                        <td id=\"T_4df571d6_9973_11ed_8dd7_0242ac110002row16_col27\" class=\"data row16 col27\" >0</td>\n",
       "            </tr>\n",
       "            <tr>\n",
       "                        <th id=\"T_4df571d6_9973_11ed_8dd7_0242ac110002level0_row17\" class=\"row_heading level0 row17\" >17</th>\n",
       "                        <td id=\"T_4df571d6_9973_11ed_8dd7_0242ac110002row17_col0\" class=\"data row17 col0\" >0</td>\n",
       "                        <td id=\"T_4df571d6_9973_11ed_8dd7_0242ac110002row17_col1\" class=\"data row17 col1\" >0</td>\n",
       "                        <td id=\"T_4df571d6_9973_11ed_8dd7_0242ac110002row17_col2\" class=\"data row17 col2\" >0</td>\n",
       "                        <td id=\"T_4df571d6_9973_11ed_8dd7_0242ac110002row17_col3\" class=\"data row17 col3\" >0</td>\n",
       "                        <td id=\"T_4df571d6_9973_11ed_8dd7_0242ac110002row17_col4\" class=\"data row17 col4\" >0</td>\n",
       "                        <td id=\"T_4df571d6_9973_11ed_8dd7_0242ac110002row17_col5\" class=\"data row17 col5\" >0</td>\n",
       "                        <td id=\"T_4df571d6_9973_11ed_8dd7_0242ac110002row17_col6\" class=\"data row17 col6\" >0</td>\n",
       "                        <td id=\"T_4df571d6_9973_11ed_8dd7_0242ac110002row17_col7\" class=\"data row17 col7\" >0</td>\n",
       "                        <td id=\"T_4df571d6_9973_11ed_8dd7_0242ac110002row17_col8\" class=\"data row17 col8\" >0</td>\n",
       "                        <td id=\"T_4df571d6_9973_11ed_8dd7_0242ac110002row17_col9\" class=\"data row17 col9\" >0</td>\n",
       "                        <td id=\"T_4df571d6_9973_11ed_8dd7_0242ac110002row17_col10\" class=\"data row17 col10\" >0</td>\n",
       "                        <td id=\"T_4df571d6_9973_11ed_8dd7_0242ac110002row17_col11\" class=\"data row17 col11\" >0</td>\n",
       "                        <td id=\"T_4df571d6_9973_11ed_8dd7_0242ac110002row17_col12\" class=\"data row17 col12\" >0</td>\n",
       "                        <td id=\"T_4df571d6_9973_11ed_8dd7_0242ac110002row17_col13\" class=\"data row17 col13\" >0</td>\n",
       "                        <td id=\"T_4df571d6_9973_11ed_8dd7_0242ac110002row17_col14\" class=\"data row17 col14\" >0</td>\n",
       "                        <td id=\"T_4df571d6_9973_11ed_8dd7_0242ac110002row17_col15\" class=\"data row17 col15\" >0</td>\n",
       "                        <td id=\"T_4df571d6_9973_11ed_8dd7_0242ac110002row17_col16\" class=\"data row17 col16\" >0</td>\n",
       "                        <td id=\"T_4df571d6_9973_11ed_8dd7_0242ac110002row17_col17\" class=\"data row17 col17\" >249</td>\n",
       "                        <td id=\"T_4df571d6_9973_11ed_8dd7_0242ac110002row17_col18\" class=\"data row17 col18\" >253</td>\n",
       "                        <td id=\"T_4df571d6_9973_11ed_8dd7_0242ac110002row17_col19\" class=\"data row17 col19\" >249</td>\n",
       "                        <td id=\"T_4df571d6_9973_11ed_8dd7_0242ac110002row17_col20\" class=\"data row17 col20\" >64</td>\n",
       "                        <td id=\"T_4df571d6_9973_11ed_8dd7_0242ac110002row17_col21\" class=\"data row17 col21\" >0</td>\n",
       "                        <td id=\"T_4df571d6_9973_11ed_8dd7_0242ac110002row17_col22\" class=\"data row17 col22\" >0</td>\n",
       "                        <td id=\"T_4df571d6_9973_11ed_8dd7_0242ac110002row17_col23\" class=\"data row17 col23\" >0</td>\n",
       "                        <td id=\"T_4df571d6_9973_11ed_8dd7_0242ac110002row17_col24\" class=\"data row17 col24\" >0</td>\n",
       "                        <td id=\"T_4df571d6_9973_11ed_8dd7_0242ac110002row17_col25\" class=\"data row17 col25\" >0</td>\n",
       "                        <td id=\"T_4df571d6_9973_11ed_8dd7_0242ac110002row17_col26\" class=\"data row17 col26\" >0</td>\n",
       "                        <td id=\"T_4df571d6_9973_11ed_8dd7_0242ac110002row17_col27\" class=\"data row17 col27\" >0</td>\n",
       "            </tr>\n",
       "            <tr>\n",
       "                        <th id=\"T_4df571d6_9973_11ed_8dd7_0242ac110002level0_row18\" class=\"row_heading level0 row18\" >18</th>\n",
       "                        <td id=\"T_4df571d6_9973_11ed_8dd7_0242ac110002row18_col0\" class=\"data row18 col0\" >0</td>\n",
       "                        <td id=\"T_4df571d6_9973_11ed_8dd7_0242ac110002row18_col1\" class=\"data row18 col1\" >0</td>\n",
       "                        <td id=\"T_4df571d6_9973_11ed_8dd7_0242ac110002row18_col2\" class=\"data row18 col2\" >0</td>\n",
       "                        <td id=\"T_4df571d6_9973_11ed_8dd7_0242ac110002row18_col3\" class=\"data row18 col3\" >0</td>\n",
       "                        <td id=\"T_4df571d6_9973_11ed_8dd7_0242ac110002row18_col4\" class=\"data row18 col4\" >0</td>\n",
       "                        <td id=\"T_4df571d6_9973_11ed_8dd7_0242ac110002row18_col5\" class=\"data row18 col5\" >0</td>\n",
       "                        <td id=\"T_4df571d6_9973_11ed_8dd7_0242ac110002row18_col6\" class=\"data row18 col6\" >0</td>\n",
       "                        <td id=\"T_4df571d6_9973_11ed_8dd7_0242ac110002row18_col7\" class=\"data row18 col7\" >0</td>\n",
       "                        <td id=\"T_4df571d6_9973_11ed_8dd7_0242ac110002row18_col8\" class=\"data row18 col8\" >0</td>\n",
       "                        <td id=\"T_4df571d6_9973_11ed_8dd7_0242ac110002row18_col9\" class=\"data row18 col9\" >0</td>\n",
       "                        <td id=\"T_4df571d6_9973_11ed_8dd7_0242ac110002row18_col10\" class=\"data row18 col10\" >0</td>\n",
       "                        <td id=\"T_4df571d6_9973_11ed_8dd7_0242ac110002row18_col11\" class=\"data row18 col11\" >0</td>\n",
       "                        <td id=\"T_4df571d6_9973_11ed_8dd7_0242ac110002row18_col12\" class=\"data row18 col12\" >0</td>\n",
       "                        <td id=\"T_4df571d6_9973_11ed_8dd7_0242ac110002row18_col13\" class=\"data row18 col13\" >0</td>\n",
       "                        <td id=\"T_4df571d6_9973_11ed_8dd7_0242ac110002row18_col14\" class=\"data row18 col14\" >46</td>\n",
       "                        <td id=\"T_4df571d6_9973_11ed_8dd7_0242ac110002row18_col15\" class=\"data row18 col15\" >130</td>\n",
       "                        <td id=\"T_4df571d6_9973_11ed_8dd7_0242ac110002row18_col16\" class=\"data row18 col16\" >183</td>\n",
       "                        <td id=\"T_4df571d6_9973_11ed_8dd7_0242ac110002row18_col17\" class=\"data row18 col17\" >253</td>\n",
       "                        <td id=\"T_4df571d6_9973_11ed_8dd7_0242ac110002row18_col18\" class=\"data row18 col18\" >253</td>\n",
       "                        <td id=\"T_4df571d6_9973_11ed_8dd7_0242ac110002row18_col19\" class=\"data row18 col19\" >207</td>\n",
       "                        <td id=\"T_4df571d6_9973_11ed_8dd7_0242ac110002row18_col20\" class=\"data row18 col20\" >2</td>\n",
       "                        <td id=\"T_4df571d6_9973_11ed_8dd7_0242ac110002row18_col21\" class=\"data row18 col21\" >0</td>\n",
       "                        <td id=\"T_4df571d6_9973_11ed_8dd7_0242ac110002row18_col22\" class=\"data row18 col22\" >0</td>\n",
       "                        <td id=\"T_4df571d6_9973_11ed_8dd7_0242ac110002row18_col23\" class=\"data row18 col23\" >0</td>\n",
       "                        <td id=\"T_4df571d6_9973_11ed_8dd7_0242ac110002row18_col24\" class=\"data row18 col24\" >0</td>\n",
       "                        <td id=\"T_4df571d6_9973_11ed_8dd7_0242ac110002row18_col25\" class=\"data row18 col25\" >0</td>\n",
       "                        <td id=\"T_4df571d6_9973_11ed_8dd7_0242ac110002row18_col26\" class=\"data row18 col26\" >0</td>\n",
       "                        <td id=\"T_4df571d6_9973_11ed_8dd7_0242ac110002row18_col27\" class=\"data row18 col27\" >0</td>\n",
       "            </tr>\n",
       "            <tr>\n",
       "                        <th id=\"T_4df571d6_9973_11ed_8dd7_0242ac110002level0_row19\" class=\"row_heading level0 row19\" >19</th>\n",
       "                        <td id=\"T_4df571d6_9973_11ed_8dd7_0242ac110002row19_col0\" class=\"data row19 col0\" >0</td>\n",
       "                        <td id=\"T_4df571d6_9973_11ed_8dd7_0242ac110002row19_col1\" class=\"data row19 col1\" >0</td>\n",
       "                        <td id=\"T_4df571d6_9973_11ed_8dd7_0242ac110002row19_col2\" class=\"data row19 col2\" >0</td>\n",
       "                        <td id=\"T_4df571d6_9973_11ed_8dd7_0242ac110002row19_col3\" class=\"data row19 col3\" >0</td>\n",
       "                        <td id=\"T_4df571d6_9973_11ed_8dd7_0242ac110002row19_col4\" class=\"data row19 col4\" >0</td>\n",
       "                        <td id=\"T_4df571d6_9973_11ed_8dd7_0242ac110002row19_col5\" class=\"data row19 col5\" >0</td>\n",
       "                        <td id=\"T_4df571d6_9973_11ed_8dd7_0242ac110002row19_col6\" class=\"data row19 col6\" >0</td>\n",
       "                        <td id=\"T_4df571d6_9973_11ed_8dd7_0242ac110002row19_col7\" class=\"data row19 col7\" >0</td>\n",
       "                        <td id=\"T_4df571d6_9973_11ed_8dd7_0242ac110002row19_col8\" class=\"data row19 col8\" >0</td>\n",
       "                        <td id=\"T_4df571d6_9973_11ed_8dd7_0242ac110002row19_col9\" class=\"data row19 col9\" >0</td>\n",
       "                        <td id=\"T_4df571d6_9973_11ed_8dd7_0242ac110002row19_col10\" class=\"data row19 col10\" >0</td>\n",
       "                        <td id=\"T_4df571d6_9973_11ed_8dd7_0242ac110002row19_col11\" class=\"data row19 col11\" >0</td>\n",
       "                        <td id=\"T_4df571d6_9973_11ed_8dd7_0242ac110002row19_col12\" class=\"data row19 col12\" >39</td>\n",
       "                        <td id=\"T_4df571d6_9973_11ed_8dd7_0242ac110002row19_col13\" class=\"data row19 col13\" >148</td>\n",
       "                        <td id=\"T_4df571d6_9973_11ed_8dd7_0242ac110002row19_col14\" class=\"data row19 col14\" >229</td>\n",
       "                        <td id=\"T_4df571d6_9973_11ed_8dd7_0242ac110002row19_col15\" class=\"data row19 col15\" >253</td>\n",
       "                        <td id=\"T_4df571d6_9973_11ed_8dd7_0242ac110002row19_col16\" class=\"data row19 col16\" >253</td>\n",
       "                        <td id=\"T_4df571d6_9973_11ed_8dd7_0242ac110002row19_col17\" class=\"data row19 col17\" >253</td>\n",
       "                        <td id=\"T_4df571d6_9973_11ed_8dd7_0242ac110002row19_col18\" class=\"data row19 col18\" >250</td>\n",
       "                        <td id=\"T_4df571d6_9973_11ed_8dd7_0242ac110002row19_col19\" class=\"data row19 col19\" >182</td>\n",
       "                        <td id=\"T_4df571d6_9973_11ed_8dd7_0242ac110002row19_col20\" class=\"data row19 col20\" >0</td>\n",
       "                        <td id=\"T_4df571d6_9973_11ed_8dd7_0242ac110002row19_col21\" class=\"data row19 col21\" >0</td>\n",
       "                        <td id=\"T_4df571d6_9973_11ed_8dd7_0242ac110002row19_col22\" class=\"data row19 col22\" >0</td>\n",
       "                        <td id=\"T_4df571d6_9973_11ed_8dd7_0242ac110002row19_col23\" class=\"data row19 col23\" >0</td>\n",
       "                        <td id=\"T_4df571d6_9973_11ed_8dd7_0242ac110002row19_col24\" class=\"data row19 col24\" >0</td>\n",
       "                        <td id=\"T_4df571d6_9973_11ed_8dd7_0242ac110002row19_col25\" class=\"data row19 col25\" >0</td>\n",
       "                        <td id=\"T_4df571d6_9973_11ed_8dd7_0242ac110002row19_col26\" class=\"data row19 col26\" >0</td>\n",
       "                        <td id=\"T_4df571d6_9973_11ed_8dd7_0242ac110002row19_col27\" class=\"data row19 col27\" >0</td>\n",
       "            </tr>\n",
       "            <tr>\n",
       "                        <th id=\"T_4df571d6_9973_11ed_8dd7_0242ac110002level0_row20\" class=\"row_heading level0 row20\" >20</th>\n",
       "                        <td id=\"T_4df571d6_9973_11ed_8dd7_0242ac110002row20_col0\" class=\"data row20 col0\" >0</td>\n",
       "                        <td id=\"T_4df571d6_9973_11ed_8dd7_0242ac110002row20_col1\" class=\"data row20 col1\" >0</td>\n",
       "                        <td id=\"T_4df571d6_9973_11ed_8dd7_0242ac110002row20_col2\" class=\"data row20 col2\" >0</td>\n",
       "                        <td id=\"T_4df571d6_9973_11ed_8dd7_0242ac110002row20_col3\" class=\"data row20 col3\" >0</td>\n",
       "                        <td id=\"T_4df571d6_9973_11ed_8dd7_0242ac110002row20_col4\" class=\"data row20 col4\" >0</td>\n",
       "                        <td id=\"T_4df571d6_9973_11ed_8dd7_0242ac110002row20_col5\" class=\"data row20 col5\" >0</td>\n",
       "                        <td id=\"T_4df571d6_9973_11ed_8dd7_0242ac110002row20_col6\" class=\"data row20 col6\" >0</td>\n",
       "                        <td id=\"T_4df571d6_9973_11ed_8dd7_0242ac110002row20_col7\" class=\"data row20 col7\" >0</td>\n",
       "                        <td id=\"T_4df571d6_9973_11ed_8dd7_0242ac110002row20_col8\" class=\"data row20 col8\" >0</td>\n",
       "                        <td id=\"T_4df571d6_9973_11ed_8dd7_0242ac110002row20_col9\" class=\"data row20 col9\" >0</td>\n",
       "                        <td id=\"T_4df571d6_9973_11ed_8dd7_0242ac110002row20_col10\" class=\"data row20 col10\" >24</td>\n",
       "                        <td id=\"T_4df571d6_9973_11ed_8dd7_0242ac110002row20_col11\" class=\"data row20 col11\" >114</td>\n",
       "                        <td id=\"T_4df571d6_9973_11ed_8dd7_0242ac110002row20_col12\" class=\"data row20 col12\" >221</td>\n",
       "                        <td id=\"T_4df571d6_9973_11ed_8dd7_0242ac110002row20_col13\" class=\"data row20 col13\" >253</td>\n",
       "                        <td id=\"T_4df571d6_9973_11ed_8dd7_0242ac110002row20_col14\" class=\"data row20 col14\" >253</td>\n",
       "                        <td id=\"T_4df571d6_9973_11ed_8dd7_0242ac110002row20_col15\" class=\"data row20 col15\" >253</td>\n",
       "                        <td id=\"T_4df571d6_9973_11ed_8dd7_0242ac110002row20_col16\" class=\"data row20 col16\" >253</td>\n",
       "                        <td id=\"T_4df571d6_9973_11ed_8dd7_0242ac110002row20_col17\" class=\"data row20 col17\" >201</td>\n",
       "                        <td id=\"T_4df571d6_9973_11ed_8dd7_0242ac110002row20_col18\" class=\"data row20 col18\" >78</td>\n",
       "                        <td id=\"T_4df571d6_9973_11ed_8dd7_0242ac110002row20_col19\" class=\"data row20 col19\" >0</td>\n",
       "                        <td id=\"T_4df571d6_9973_11ed_8dd7_0242ac110002row20_col20\" class=\"data row20 col20\" >0</td>\n",
       "                        <td id=\"T_4df571d6_9973_11ed_8dd7_0242ac110002row20_col21\" class=\"data row20 col21\" >0</td>\n",
       "                        <td id=\"T_4df571d6_9973_11ed_8dd7_0242ac110002row20_col22\" class=\"data row20 col22\" >0</td>\n",
       "                        <td id=\"T_4df571d6_9973_11ed_8dd7_0242ac110002row20_col23\" class=\"data row20 col23\" >0</td>\n",
       "                        <td id=\"T_4df571d6_9973_11ed_8dd7_0242ac110002row20_col24\" class=\"data row20 col24\" >0</td>\n",
       "                        <td id=\"T_4df571d6_9973_11ed_8dd7_0242ac110002row20_col25\" class=\"data row20 col25\" >0</td>\n",
       "                        <td id=\"T_4df571d6_9973_11ed_8dd7_0242ac110002row20_col26\" class=\"data row20 col26\" >0</td>\n",
       "                        <td id=\"T_4df571d6_9973_11ed_8dd7_0242ac110002row20_col27\" class=\"data row20 col27\" >0</td>\n",
       "            </tr>\n",
       "            <tr>\n",
       "                        <th id=\"T_4df571d6_9973_11ed_8dd7_0242ac110002level0_row21\" class=\"row_heading level0 row21\" >21</th>\n",
       "                        <td id=\"T_4df571d6_9973_11ed_8dd7_0242ac110002row21_col0\" class=\"data row21 col0\" >0</td>\n",
       "                        <td id=\"T_4df571d6_9973_11ed_8dd7_0242ac110002row21_col1\" class=\"data row21 col1\" >0</td>\n",
       "                        <td id=\"T_4df571d6_9973_11ed_8dd7_0242ac110002row21_col2\" class=\"data row21 col2\" >0</td>\n",
       "                        <td id=\"T_4df571d6_9973_11ed_8dd7_0242ac110002row21_col3\" class=\"data row21 col3\" >0</td>\n",
       "                        <td id=\"T_4df571d6_9973_11ed_8dd7_0242ac110002row21_col4\" class=\"data row21 col4\" >0</td>\n",
       "                        <td id=\"T_4df571d6_9973_11ed_8dd7_0242ac110002row21_col5\" class=\"data row21 col5\" >0</td>\n",
       "                        <td id=\"T_4df571d6_9973_11ed_8dd7_0242ac110002row21_col6\" class=\"data row21 col6\" >0</td>\n",
       "                        <td id=\"T_4df571d6_9973_11ed_8dd7_0242ac110002row21_col7\" class=\"data row21 col7\" >0</td>\n",
       "                        <td id=\"T_4df571d6_9973_11ed_8dd7_0242ac110002row21_col8\" class=\"data row21 col8\" >23</td>\n",
       "                        <td id=\"T_4df571d6_9973_11ed_8dd7_0242ac110002row21_col9\" class=\"data row21 col9\" >66</td>\n",
       "                        <td id=\"T_4df571d6_9973_11ed_8dd7_0242ac110002row21_col10\" class=\"data row21 col10\" >213</td>\n",
       "                        <td id=\"T_4df571d6_9973_11ed_8dd7_0242ac110002row21_col11\" class=\"data row21 col11\" >253</td>\n",
       "                        <td id=\"T_4df571d6_9973_11ed_8dd7_0242ac110002row21_col12\" class=\"data row21 col12\" >253</td>\n",
       "                        <td id=\"T_4df571d6_9973_11ed_8dd7_0242ac110002row21_col13\" class=\"data row21 col13\" >253</td>\n",
       "                        <td id=\"T_4df571d6_9973_11ed_8dd7_0242ac110002row21_col14\" class=\"data row21 col14\" >253</td>\n",
       "                        <td id=\"T_4df571d6_9973_11ed_8dd7_0242ac110002row21_col15\" class=\"data row21 col15\" >198</td>\n",
       "                        <td id=\"T_4df571d6_9973_11ed_8dd7_0242ac110002row21_col16\" class=\"data row21 col16\" >81</td>\n",
       "                        <td id=\"T_4df571d6_9973_11ed_8dd7_0242ac110002row21_col17\" class=\"data row21 col17\" >2</td>\n",
       "                        <td id=\"T_4df571d6_9973_11ed_8dd7_0242ac110002row21_col18\" class=\"data row21 col18\" >0</td>\n",
       "                        <td id=\"T_4df571d6_9973_11ed_8dd7_0242ac110002row21_col19\" class=\"data row21 col19\" >0</td>\n",
       "                        <td id=\"T_4df571d6_9973_11ed_8dd7_0242ac110002row21_col20\" class=\"data row21 col20\" >0</td>\n",
       "                        <td id=\"T_4df571d6_9973_11ed_8dd7_0242ac110002row21_col21\" class=\"data row21 col21\" >0</td>\n",
       "                        <td id=\"T_4df571d6_9973_11ed_8dd7_0242ac110002row21_col22\" class=\"data row21 col22\" >0</td>\n",
       "                        <td id=\"T_4df571d6_9973_11ed_8dd7_0242ac110002row21_col23\" class=\"data row21 col23\" >0</td>\n",
       "                        <td id=\"T_4df571d6_9973_11ed_8dd7_0242ac110002row21_col24\" class=\"data row21 col24\" >0</td>\n",
       "                        <td id=\"T_4df571d6_9973_11ed_8dd7_0242ac110002row21_col25\" class=\"data row21 col25\" >0</td>\n",
       "                        <td id=\"T_4df571d6_9973_11ed_8dd7_0242ac110002row21_col26\" class=\"data row21 col26\" >0</td>\n",
       "                        <td id=\"T_4df571d6_9973_11ed_8dd7_0242ac110002row21_col27\" class=\"data row21 col27\" >0</td>\n",
       "            </tr>\n",
       "            <tr>\n",
       "                        <th id=\"T_4df571d6_9973_11ed_8dd7_0242ac110002level0_row22\" class=\"row_heading level0 row22\" >22</th>\n",
       "                        <td id=\"T_4df571d6_9973_11ed_8dd7_0242ac110002row22_col0\" class=\"data row22 col0\" >0</td>\n",
       "                        <td id=\"T_4df571d6_9973_11ed_8dd7_0242ac110002row22_col1\" class=\"data row22 col1\" >0</td>\n",
       "                        <td id=\"T_4df571d6_9973_11ed_8dd7_0242ac110002row22_col2\" class=\"data row22 col2\" >0</td>\n",
       "                        <td id=\"T_4df571d6_9973_11ed_8dd7_0242ac110002row22_col3\" class=\"data row22 col3\" >0</td>\n",
       "                        <td id=\"T_4df571d6_9973_11ed_8dd7_0242ac110002row22_col4\" class=\"data row22 col4\" >0</td>\n",
       "                        <td id=\"T_4df571d6_9973_11ed_8dd7_0242ac110002row22_col5\" class=\"data row22 col5\" >0</td>\n",
       "                        <td id=\"T_4df571d6_9973_11ed_8dd7_0242ac110002row22_col6\" class=\"data row22 col6\" >18</td>\n",
       "                        <td id=\"T_4df571d6_9973_11ed_8dd7_0242ac110002row22_col7\" class=\"data row22 col7\" >171</td>\n",
       "                        <td id=\"T_4df571d6_9973_11ed_8dd7_0242ac110002row22_col8\" class=\"data row22 col8\" >219</td>\n",
       "                        <td id=\"T_4df571d6_9973_11ed_8dd7_0242ac110002row22_col9\" class=\"data row22 col9\" >253</td>\n",
       "                        <td id=\"T_4df571d6_9973_11ed_8dd7_0242ac110002row22_col10\" class=\"data row22 col10\" >253</td>\n",
       "                        <td id=\"T_4df571d6_9973_11ed_8dd7_0242ac110002row22_col11\" class=\"data row22 col11\" >253</td>\n",
       "                        <td id=\"T_4df571d6_9973_11ed_8dd7_0242ac110002row22_col12\" class=\"data row22 col12\" >253</td>\n",
       "                        <td id=\"T_4df571d6_9973_11ed_8dd7_0242ac110002row22_col13\" class=\"data row22 col13\" >195</td>\n",
       "                        <td id=\"T_4df571d6_9973_11ed_8dd7_0242ac110002row22_col14\" class=\"data row22 col14\" >80</td>\n",
       "                        <td id=\"T_4df571d6_9973_11ed_8dd7_0242ac110002row22_col15\" class=\"data row22 col15\" >9</td>\n",
       "                        <td id=\"T_4df571d6_9973_11ed_8dd7_0242ac110002row22_col16\" class=\"data row22 col16\" >0</td>\n",
       "                        <td id=\"T_4df571d6_9973_11ed_8dd7_0242ac110002row22_col17\" class=\"data row22 col17\" >0</td>\n",
       "                        <td id=\"T_4df571d6_9973_11ed_8dd7_0242ac110002row22_col18\" class=\"data row22 col18\" >0</td>\n",
       "                        <td id=\"T_4df571d6_9973_11ed_8dd7_0242ac110002row22_col19\" class=\"data row22 col19\" >0</td>\n",
       "                        <td id=\"T_4df571d6_9973_11ed_8dd7_0242ac110002row22_col20\" class=\"data row22 col20\" >0</td>\n",
       "                        <td id=\"T_4df571d6_9973_11ed_8dd7_0242ac110002row22_col21\" class=\"data row22 col21\" >0</td>\n",
       "                        <td id=\"T_4df571d6_9973_11ed_8dd7_0242ac110002row22_col22\" class=\"data row22 col22\" >0</td>\n",
       "                        <td id=\"T_4df571d6_9973_11ed_8dd7_0242ac110002row22_col23\" class=\"data row22 col23\" >0</td>\n",
       "                        <td id=\"T_4df571d6_9973_11ed_8dd7_0242ac110002row22_col24\" class=\"data row22 col24\" >0</td>\n",
       "                        <td id=\"T_4df571d6_9973_11ed_8dd7_0242ac110002row22_col25\" class=\"data row22 col25\" >0</td>\n",
       "                        <td id=\"T_4df571d6_9973_11ed_8dd7_0242ac110002row22_col26\" class=\"data row22 col26\" >0</td>\n",
       "                        <td id=\"T_4df571d6_9973_11ed_8dd7_0242ac110002row22_col27\" class=\"data row22 col27\" >0</td>\n",
       "            </tr>\n",
       "            <tr>\n",
       "                        <th id=\"T_4df571d6_9973_11ed_8dd7_0242ac110002level0_row23\" class=\"row_heading level0 row23\" >23</th>\n",
       "                        <td id=\"T_4df571d6_9973_11ed_8dd7_0242ac110002row23_col0\" class=\"data row23 col0\" >0</td>\n",
       "                        <td id=\"T_4df571d6_9973_11ed_8dd7_0242ac110002row23_col1\" class=\"data row23 col1\" >0</td>\n",
       "                        <td id=\"T_4df571d6_9973_11ed_8dd7_0242ac110002row23_col2\" class=\"data row23 col2\" >0</td>\n",
       "                        <td id=\"T_4df571d6_9973_11ed_8dd7_0242ac110002row23_col3\" class=\"data row23 col3\" >0</td>\n",
       "                        <td id=\"T_4df571d6_9973_11ed_8dd7_0242ac110002row23_col4\" class=\"data row23 col4\" >55</td>\n",
       "                        <td id=\"T_4df571d6_9973_11ed_8dd7_0242ac110002row23_col5\" class=\"data row23 col5\" >172</td>\n",
       "                        <td id=\"T_4df571d6_9973_11ed_8dd7_0242ac110002row23_col6\" class=\"data row23 col6\" >226</td>\n",
       "                        <td id=\"T_4df571d6_9973_11ed_8dd7_0242ac110002row23_col7\" class=\"data row23 col7\" >253</td>\n",
       "                        <td id=\"T_4df571d6_9973_11ed_8dd7_0242ac110002row23_col8\" class=\"data row23 col8\" >253</td>\n",
       "                        <td id=\"T_4df571d6_9973_11ed_8dd7_0242ac110002row23_col9\" class=\"data row23 col9\" >253</td>\n",
       "                        <td id=\"T_4df571d6_9973_11ed_8dd7_0242ac110002row23_col10\" class=\"data row23 col10\" >253</td>\n",
       "                        <td id=\"T_4df571d6_9973_11ed_8dd7_0242ac110002row23_col11\" class=\"data row23 col11\" >244</td>\n",
       "                        <td id=\"T_4df571d6_9973_11ed_8dd7_0242ac110002row23_col12\" class=\"data row23 col12\" >133</td>\n",
       "                        <td id=\"T_4df571d6_9973_11ed_8dd7_0242ac110002row23_col13\" class=\"data row23 col13\" >11</td>\n",
       "                        <td id=\"T_4df571d6_9973_11ed_8dd7_0242ac110002row23_col14\" class=\"data row23 col14\" >0</td>\n",
       "                        <td id=\"T_4df571d6_9973_11ed_8dd7_0242ac110002row23_col15\" class=\"data row23 col15\" >0</td>\n",
       "                        <td id=\"T_4df571d6_9973_11ed_8dd7_0242ac110002row23_col16\" class=\"data row23 col16\" >0</td>\n",
       "                        <td id=\"T_4df571d6_9973_11ed_8dd7_0242ac110002row23_col17\" class=\"data row23 col17\" >0</td>\n",
       "                        <td id=\"T_4df571d6_9973_11ed_8dd7_0242ac110002row23_col18\" class=\"data row23 col18\" >0</td>\n",
       "                        <td id=\"T_4df571d6_9973_11ed_8dd7_0242ac110002row23_col19\" class=\"data row23 col19\" >0</td>\n",
       "                        <td id=\"T_4df571d6_9973_11ed_8dd7_0242ac110002row23_col20\" class=\"data row23 col20\" >0</td>\n",
       "                        <td id=\"T_4df571d6_9973_11ed_8dd7_0242ac110002row23_col21\" class=\"data row23 col21\" >0</td>\n",
       "                        <td id=\"T_4df571d6_9973_11ed_8dd7_0242ac110002row23_col22\" class=\"data row23 col22\" >0</td>\n",
       "                        <td id=\"T_4df571d6_9973_11ed_8dd7_0242ac110002row23_col23\" class=\"data row23 col23\" >0</td>\n",
       "                        <td id=\"T_4df571d6_9973_11ed_8dd7_0242ac110002row23_col24\" class=\"data row23 col24\" >0</td>\n",
       "                        <td id=\"T_4df571d6_9973_11ed_8dd7_0242ac110002row23_col25\" class=\"data row23 col25\" >0</td>\n",
       "                        <td id=\"T_4df571d6_9973_11ed_8dd7_0242ac110002row23_col26\" class=\"data row23 col26\" >0</td>\n",
       "                        <td id=\"T_4df571d6_9973_11ed_8dd7_0242ac110002row23_col27\" class=\"data row23 col27\" >0</td>\n",
       "            </tr>\n",
       "            <tr>\n",
       "                        <th id=\"T_4df571d6_9973_11ed_8dd7_0242ac110002level0_row24\" class=\"row_heading level0 row24\" >24</th>\n",
       "                        <td id=\"T_4df571d6_9973_11ed_8dd7_0242ac110002row24_col0\" class=\"data row24 col0\" >0</td>\n",
       "                        <td id=\"T_4df571d6_9973_11ed_8dd7_0242ac110002row24_col1\" class=\"data row24 col1\" >0</td>\n",
       "                        <td id=\"T_4df571d6_9973_11ed_8dd7_0242ac110002row24_col2\" class=\"data row24 col2\" >0</td>\n",
       "                        <td id=\"T_4df571d6_9973_11ed_8dd7_0242ac110002row24_col3\" class=\"data row24 col3\" >0</td>\n",
       "                        <td id=\"T_4df571d6_9973_11ed_8dd7_0242ac110002row24_col4\" class=\"data row24 col4\" >136</td>\n",
       "                        <td id=\"T_4df571d6_9973_11ed_8dd7_0242ac110002row24_col5\" class=\"data row24 col5\" >253</td>\n",
       "                        <td id=\"T_4df571d6_9973_11ed_8dd7_0242ac110002row24_col6\" class=\"data row24 col6\" >253</td>\n",
       "                        <td id=\"T_4df571d6_9973_11ed_8dd7_0242ac110002row24_col7\" class=\"data row24 col7\" >253</td>\n",
       "                        <td id=\"T_4df571d6_9973_11ed_8dd7_0242ac110002row24_col8\" class=\"data row24 col8\" >212</td>\n",
       "                        <td id=\"T_4df571d6_9973_11ed_8dd7_0242ac110002row24_col9\" class=\"data row24 col9\" >135</td>\n",
       "                        <td id=\"T_4df571d6_9973_11ed_8dd7_0242ac110002row24_col10\" class=\"data row24 col10\" >132</td>\n",
       "                        <td id=\"T_4df571d6_9973_11ed_8dd7_0242ac110002row24_col11\" class=\"data row24 col11\" >16</td>\n",
       "                        <td id=\"T_4df571d6_9973_11ed_8dd7_0242ac110002row24_col12\" class=\"data row24 col12\" >0</td>\n",
       "                        <td id=\"T_4df571d6_9973_11ed_8dd7_0242ac110002row24_col13\" class=\"data row24 col13\" >0</td>\n",
       "                        <td id=\"T_4df571d6_9973_11ed_8dd7_0242ac110002row24_col14\" class=\"data row24 col14\" >0</td>\n",
       "                        <td id=\"T_4df571d6_9973_11ed_8dd7_0242ac110002row24_col15\" class=\"data row24 col15\" >0</td>\n",
       "                        <td id=\"T_4df571d6_9973_11ed_8dd7_0242ac110002row24_col16\" class=\"data row24 col16\" >0</td>\n",
       "                        <td id=\"T_4df571d6_9973_11ed_8dd7_0242ac110002row24_col17\" class=\"data row24 col17\" >0</td>\n",
       "                        <td id=\"T_4df571d6_9973_11ed_8dd7_0242ac110002row24_col18\" class=\"data row24 col18\" >0</td>\n",
       "                        <td id=\"T_4df571d6_9973_11ed_8dd7_0242ac110002row24_col19\" class=\"data row24 col19\" >0</td>\n",
       "                        <td id=\"T_4df571d6_9973_11ed_8dd7_0242ac110002row24_col20\" class=\"data row24 col20\" >0</td>\n",
       "                        <td id=\"T_4df571d6_9973_11ed_8dd7_0242ac110002row24_col21\" class=\"data row24 col21\" >0</td>\n",
       "                        <td id=\"T_4df571d6_9973_11ed_8dd7_0242ac110002row24_col22\" class=\"data row24 col22\" >0</td>\n",
       "                        <td id=\"T_4df571d6_9973_11ed_8dd7_0242ac110002row24_col23\" class=\"data row24 col23\" >0</td>\n",
       "                        <td id=\"T_4df571d6_9973_11ed_8dd7_0242ac110002row24_col24\" class=\"data row24 col24\" >0</td>\n",
       "                        <td id=\"T_4df571d6_9973_11ed_8dd7_0242ac110002row24_col25\" class=\"data row24 col25\" >0</td>\n",
       "                        <td id=\"T_4df571d6_9973_11ed_8dd7_0242ac110002row24_col26\" class=\"data row24 col26\" >0</td>\n",
       "                        <td id=\"T_4df571d6_9973_11ed_8dd7_0242ac110002row24_col27\" class=\"data row24 col27\" >0</td>\n",
       "            </tr>\n",
       "            <tr>\n",
       "                        <th id=\"T_4df571d6_9973_11ed_8dd7_0242ac110002level0_row25\" class=\"row_heading level0 row25\" >25</th>\n",
       "                        <td id=\"T_4df571d6_9973_11ed_8dd7_0242ac110002row25_col0\" class=\"data row25 col0\" >0</td>\n",
       "                        <td id=\"T_4df571d6_9973_11ed_8dd7_0242ac110002row25_col1\" class=\"data row25 col1\" >0</td>\n",
       "                        <td id=\"T_4df571d6_9973_11ed_8dd7_0242ac110002row25_col2\" class=\"data row25 col2\" >0</td>\n",
       "                        <td id=\"T_4df571d6_9973_11ed_8dd7_0242ac110002row25_col3\" class=\"data row25 col3\" >0</td>\n",
       "                        <td id=\"T_4df571d6_9973_11ed_8dd7_0242ac110002row25_col4\" class=\"data row25 col4\" >0</td>\n",
       "                        <td id=\"T_4df571d6_9973_11ed_8dd7_0242ac110002row25_col5\" class=\"data row25 col5\" >0</td>\n",
       "                        <td id=\"T_4df571d6_9973_11ed_8dd7_0242ac110002row25_col6\" class=\"data row25 col6\" >0</td>\n",
       "                        <td id=\"T_4df571d6_9973_11ed_8dd7_0242ac110002row25_col7\" class=\"data row25 col7\" >0</td>\n",
       "                        <td id=\"T_4df571d6_9973_11ed_8dd7_0242ac110002row25_col8\" class=\"data row25 col8\" >0</td>\n",
       "                        <td id=\"T_4df571d6_9973_11ed_8dd7_0242ac110002row25_col9\" class=\"data row25 col9\" >0</td>\n",
       "                        <td id=\"T_4df571d6_9973_11ed_8dd7_0242ac110002row25_col10\" class=\"data row25 col10\" >0</td>\n",
       "                        <td id=\"T_4df571d6_9973_11ed_8dd7_0242ac110002row25_col11\" class=\"data row25 col11\" >0</td>\n",
       "                        <td id=\"T_4df571d6_9973_11ed_8dd7_0242ac110002row25_col12\" class=\"data row25 col12\" >0</td>\n",
       "                        <td id=\"T_4df571d6_9973_11ed_8dd7_0242ac110002row25_col13\" class=\"data row25 col13\" >0</td>\n",
       "                        <td id=\"T_4df571d6_9973_11ed_8dd7_0242ac110002row25_col14\" class=\"data row25 col14\" >0</td>\n",
       "                        <td id=\"T_4df571d6_9973_11ed_8dd7_0242ac110002row25_col15\" class=\"data row25 col15\" >0</td>\n",
       "                        <td id=\"T_4df571d6_9973_11ed_8dd7_0242ac110002row25_col16\" class=\"data row25 col16\" >0</td>\n",
       "                        <td id=\"T_4df571d6_9973_11ed_8dd7_0242ac110002row25_col17\" class=\"data row25 col17\" >0</td>\n",
       "                        <td id=\"T_4df571d6_9973_11ed_8dd7_0242ac110002row25_col18\" class=\"data row25 col18\" >0</td>\n",
       "                        <td id=\"T_4df571d6_9973_11ed_8dd7_0242ac110002row25_col19\" class=\"data row25 col19\" >0</td>\n",
       "                        <td id=\"T_4df571d6_9973_11ed_8dd7_0242ac110002row25_col20\" class=\"data row25 col20\" >0</td>\n",
       "                        <td id=\"T_4df571d6_9973_11ed_8dd7_0242ac110002row25_col21\" class=\"data row25 col21\" >0</td>\n",
       "                        <td id=\"T_4df571d6_9973_11ed_8dd7_0242ac110002row25_col22\" class=\"data row25 col22\" >0</td>\n",
       "                        <td id=\"T_4df571d6_9973_11ed_8dd7_0242ac110002row25_col23\" class=\"data row25 col23\" >0</td>\n",
       "                        <td id=\"T_4df571d6_9973_11ed_8dd7_0242ac110002row25_col24\" class=\"data row25 col24\" >0</td>\n",
       "                        <td id=\"T_4df571d6_9973_11ed_8dd7_0242ac110002row25_col25\" class=\"data row25 col25\" >0</td>\n",
       "                        <td id=\"T_4df571d6_9973_11ed_8dd7_0242ac110002row25_col26\" class=\"data row25 col26\" >0</td>\n",
       "                        <td id=\"T_4df571d6_9973_11ed_8dd7_0242ac110002row25_col27\" class=\"data row25 col27\" >0</td>\n",
       "            </tr>\n",
       "            <tr>\n",
       "                        <th id=\"T_4df571d6_9973_11ed_8dd7_0242ac110002level0_row26\" class=\"row_heading level0 row26\" >26</th>\n",
       "                        <td id=\"T_4df571d6_9973_11ed_8dd7_0242ac110002row26_col0\" class=\"data row26 col0\" >0</td>\n",
       "                        <td id=\"T_4df571d6_9973_11ed_8dd7_0242ac110002row26_col1\" class=\"data row26 col1\" >0</td>\n",
       "                        <td id=\"T_4df571d6_9973_11ed_8dd7_0242ac110002row26_col2\" class=\"data row26 col2\" >0</td>\n",
       "                        <td id=\"T_4df571d6_9973_11ed_8dd7_0242ac110002row26_col3\" class=\"data row26 col3\" >0</td>\n",
       "                        <td id=\"T_4df571d6_9973_11ed_8dd7_0242ac110002row26_col4\" class=\"data row26 col4\" >0</td>\n",
       "                        <td id=\"T_4df571d6_9973_11ed_8dd7_0242ac110002row26_col5\" class=\"data row26 col5\" >0</td>\n",
       "                        <td id=\"T_4df571d6_9973_11ed_8dd7_0242ac110002row26_col6\" class=\"data row26 col6\" >0</td>\n",
       "                        <td id=\"T_4df571d6_9973_11ed_8dd7_0242ac110002row26_col7\" class=\"data row26 col7\" >0</td>\n",
       "                        <td id=\"T_4df571d6_9973_11ed_8dd7_0242ac110002row26_col8\" class=\"data row26 col8\" >0</td>\n",
       "                        <td id=\"T_4df571d6_9973_11ed_8dd7_0242ac110002row26_col9\" class=\"data row26 col9\" >0</td>\n",
       "                        <td id=\"T_4df571d6_9973_11ed_8dd7_0242ac110002row26_col10\" class=\"data row26 col10\" >0</td>\n",
       "                        <td id=\"T_4df571d6_9973_11ed_8dd7_0242ac110002row26_col11\" class=\"data row26 col11\" >0</td>\n",
       "                        <td id=\"T_4df571d6_9973_11ed_8dd7_0242ac110002row26_col12\" class=\"data row26 col12\" >0</td>\n",
       "                        <td id=\"T_4df571d6_9973_11ed_8dd7_0242ac110002row26_col13\" class=\"data row26 col13\" >0</td>\n",
       "                        <td id=\"T_4df571d6_9973_11ed_8dd7_0242ac110002row26_col14\" class=\"data row26 col14\" >0</td>\n",
       "                        <td id=\"T_4df571d6_9973_11ed_8dd7_0242ac110002row26_col15\" class=\"data row26 col15\" >0</td>\n",
       "                        <td id=\"T_4df571d6_9973_11ed_8dd7_0242ac110002row26_col16\" class=\"data row26 col16\" >0</td>\n",
       "                        <td id=\"T_4df571d6_9973_11ed_8dd7_0242ac110002row26_col17\" class=\"data row26 col17\" >0</td>\n",
       "                        <td id=\"T_4df571d6_9973_11ed_8dd7_0242ac110002row26_col18\" class=\"data row26 col18\" >0</td>\n",
       "                        <td id=\"T_4df571d6_9973_11ed_8dd7_0242ac110002row26_col19\" class=\"data row26 col19\" >0</td>\n",
       "                        <td id=\"T_4df571d6_9973_11ed_8dd7_0242ac110002row26_col20\" class=\"data row26 col20\" >0</td>\n",
       "                        <td id=\"T_4df571d6_9973_11ed_8dd7_0242ac110002row26_col21\" class=\"data row26 col21\" >0</td>\n",
       "                        <td id=\"T_4df571d6_9973_11ed_8dd7_0242ac110002row26_col22\" class=\"data row26 col22\" >0</td>\n",
       "                        <td id=\"T_4df571d6_9973_11ed_8dd7_0242ac110002row26_col23\" class=\"data row26 col23\" >0</td>\n",
       "                        <td id=\"T_4df571d6_9973_11ed_8dd7_0242ac110002row26_col24\" class=\"data row26 col24\" >0</td>\n",
       "                        <td id=\"T_4df571d6_9973_11ed_8dd7_0242ac110002row26_col25\" class=\"data row26 col25\" >0</td>\n",
       "                        <td id=\"T_4df571d6_9973_11ed_8dd7_0242ac110002row26_col26\" class=\"data row26 col26\" >0</td>\n",
       "                        <td id=\"T_4df571d6_9973_11ed_8dd7_0242ac110002row26_col27\" class=\"data row26 col27\" >0</td>\n",
       "            </tr>\n",
       "            <tr>\n",
       "                        <th id=\"T_4df571d6_9973_11ed_8dd7_0242ac110002level0_row27\" class=\"row_heading level0 row27\" >27</th>\n",
       "                        <td id=\"T_4df571d6_9973_11ed_8dd7_0242ac110002row27_col0\" class=\"data row27 col0\" >0</td>\n",
       "                        <td id=\"T_4df571d6_9973_11ed_8dd7_0242ac110002row27_col1\" class=\"data row27 col1\" >0</td>\n",
       "                        <td id=\"T_4df571d6_9973_11ed_8dd7_0242ac110002row27_col2\" class=\"data row27 col2\" >0</td>\n",
       "                        <td id=\"T_4df571d6_9973_11ed_8dd7_0242ac110002row27_col3\" class=\"data row27 col3\" >0</td>\n",
       "                        <td id=\"T_4df571d6_9973_11ed_8dd7_0242ac110002row27_col4\" class=\"data row27 col4\" >0</td>\n",
       "                        <td id=\"T_4df571d6_9973_11ed_8dd7_0242ac110002row27_col5\" class=\"data row27 col5\" >0</td>\n",
       "                        <td id=\"T_4df571d6_9973_11ed_8dd7_0242ac110002row27_col6\" class=\"data row27 col6\" >0</td>\n",
       "                        <td id=\"T_4df571d6_9973_11ed_8dd7_0242ac110002row27_col7\" class=\"data row27 col7\" >0</td>\n",
       "                        <td id=\"T_4df571d6_9973_11ed_8dd7_0242ac110002row27_col8\" class=\"data row27 col8\" >0</td>\n",
       "                        <td id=\"T_4df571d6_9973_11ed_8dd7_0242ac110002row27_col9\" class=\"data row27 col9\" >0</td>\n",
       "                        <td id=\"T_4df571d6_9973_11ed_8dd7_0242ac110002row27_col10\" class=\"data row27 col10\" >0</td>\n",
       "                        <td id=\"T_4df571d6_9973_11ed_8dd7_0242ac110002row27_col11\" class=\"data row27 col11\" >0</td>\n",
       "                        <td id=\"T_4df571d6_9973_11ed_8dd7_0242ac110002row27_col12\" class=\"data row27 col12\" >0</td>\n",
       "                        <td id=\"T_4df571d6_9973_11ed_8dd7_0242ac110002row27_col13\" class=\"data row27 col13\" >0</td>\n",
       "                        <td id=\"T_4df571d6_9973_11ed_8dd7_0242ac110002row27_col14\" class=\"data row27 col14\" >0</td>\n",
       "                        <td id=\"T_4df571d6_9973_11ed_8dd7_0242ac110002row27_col15\" class=\"data row27 col15\" >0</td>\n",
       "                        <td id=\"T_4df571d6_9973_11ed_8dd7_0242ac110002row27_col16\" class=\"data row27 col16\" >0</td>\n",
       "                        <td id=\"T_4df571d6_9973_11ed_8dd7_0242ac110002row27_col17\" class=\"data row27 col17\" >0</td>\n",
       "                        <td id=\"T_4df571d6_9973_11ed_8dd7_0242ac110002row27_col18\" class=\"data row27 col18\" >0</td>\n",
       "                        <td id=\"T_4df571d6_9973_11ed_8dd7_0242ac110002row27_col19\" class=\"data row27 col19\" >0</td>\n",
       "                        <td id=\"T_4df571d6_9973_11ed_8dd7_0242ac110002row27_col20\" class=\"data row27 col20\" >0</td>\n",
       "                        <td id=\"T_4df571d6_9973_11ed_8dd7_0242ac110002row27_col21\" class=\"data row27 col21\" >0</td>\n",
       "                        <td id=\"T_4df571d6_9973_11ed_8dd7_0242ac110002row27_col22\" class=\"data row27 col22\" >0</td>\n",
       "                        <td id=\"T_4df571d6_9973_11ed_8dd7_0242ac110002row27_col23\" class=\"data row27 col23\" >0</td>\n",
       "                        <td id=\"T_4df571d6_9973_11ed_8dd7_0242ac110002row27_col24\" class=\"data row27 col24\" >0</td>\n",
       "                        <td id=\"T_4df571d6_9973_11ed_8dd7_0242ac110002row27_col25\" class=\"data row27 col25\" >0</td>\n",
       "                        <td id=\"T_4df571d6_9973_11ed_8dd7_0242ac110002row27_col26\" class=\"data row27 col26\" >0</td>\n",
       "                        <td id=\"T_4df571d6_9973_11ed_8dd7_0242ac110002row27_col27\" class=\"data row27 col27\" >0</td>\n",
       "            </tr>\n",
       "    </tbody></table>"
      ],
      "text/plain": [
       "<pandas.io.formats.style.Styler at 0x7f86bda46f60>"
      ]
     },
     "execution_count": 15,
     "metadata": {},
     "output_type": "execute_result"
    }
   ],
   "source": [
    "df_one.style.background_gradient('Greys')\n",
    "\n"
   ]
  },
  {
   "cell_type": "code",
   "execution_count": 37,
   "metadata": {},
   "outputs": [],
   "source": [
    "seven_tensors = torch.Tensor(df[df.label == 7][df.columns[1:]].values).int().reshape(-1,28,28)\n",
    "three_tensors = torch.Tensor(df[df.label == 3][df.columns[1:]].values).int().reshape(-1,28,28)"
   ]
  },
  {
   "cell_type": "code",
   "execution_count": 18,
   "metadata": {},
   "outputs": [
    {
     "data": {
      "text/plain": [
       "(6131, 6265)"
      ]
     },
     "execution_count": 18,
     "metadata": {},
     "output_type": "execute_result"
    }
   ],
   "source": [
    "len(three_tensors),len(seven_tensors)"
   ]
  },
  {
   "cell_type": "code",
   "execution_count": 19,
   "metadata": {},
   "outputs": [],
   "source": [
    "import matplotlib.pyplot as plt"
   ]
  },
  {
   "cell_type": "code",
   "execution_count": 20,
   "metadata": {},
   "outputs": [
    {
     "data": {
      "text/plain": [
       "<matplotlib.image.AxesImage at 0x7f86a45c9e80>"
      ]
     },
     "execution_count": 20,
     "metadata": {},
     "output_type": "execute_result"
    },
    {
     "data": {
      "image/png": "[encoded data removed]",
      "text/plain": [
       "<Figure size 432x288 with 1 Axes>"
      ]
     },
     "metadata": {
      "needs_background": "light"
     },
     "output_type": "display_data"
    }
   ],
   "source": [
    "plt.imshow(three_tensors[500])"
   ]
  },
  {
   "cell_type": "code",
   "execution_count": 21,
   "metadata": {},
   "outputs": [
    {
     "data": {
      "text/plain": [
       "<matplotlib.image.AxesImage at 0x7f86a44f3278>"
      ]
     },
     "execution_count": 21,
     "metadata": {},
     "output_type": "execute_result"
    },
    {
     "data": {
      "image/png": "[encoded data removed]",
      "text/plain": [
       "<Figure size 432x288 with 1 Axes>"
      ]
     },
     "metadata": {
      "needs_background": "light"
     },
     "output_type": "display_data"
    }
   ],
   "source": [
    "plt.imshow(seven_tensors[200], cmap='gray')"
   ]
  },
  {
   "cell_type": "code",
   "execution_count": 28,
   "metadata": {},
   "outputs": [
    {
     "data": {
      "text/plain": [
       "torch.Size([6131, 28, 28])"
      ]
     },
     "execution_count": 28,
     "metadata": {},
     "output_type": "execute_result"
    }
   ],
   "source": [
    "stacked_sevens = seven_tensors.float()/255\n",
    "stacked_threes = three_tensors.float()/255\n",
    "stacked_threes.shape"
   ]
  },
  {
   "cell_type": "code",
   "execution_count": 29,
   "metadata": {},
   "outputs": [
    {
     "data": {
      "text/plain": [
       "3"
      ]
     },
     "execution_count": 29,
     "metadata": {},
     "output_type": "execute_result"
    }
   ],
   "source": [
    "len(stacked_threes.shape)"
   ]
  },
  {
   "cell_type": "code",
   "execution_count": 30,
   "metadata": {},
   "outputs": [
    {
     "data": {
      "text/plain": [
       "3"
      ]
     },
     "execution_count": 30,
     "metadata": {},
     "output_type": "execute_result"
    }
   ],
   "source": [
    "stacked_threes.ndim"
   ]
  },
  {
   "cell_type": "code",
   "execution_count": 35,
   "metadata": {},
   "outputs": [],
   "source": [
    "mean3 = stacked_threes.mean(0)"
   ]
  },
  {
   "cell_type": "code",
   "execution_count": 34,
   "metadata": {},
   "outputs": [
    {
     "data": {
      "text/plain": [
       "<matplotlib.image.AxesImage at 0x7f86a44627f0>"
      ]
     },
     "execution_count": 34,
     "metadata": {},
     "output_type": "execute_result"
    },
    {
     "data": {
      "image/png": "[encoded data removed]",
      "text/plain": [
       "<Figure size 432x288 with 1 Axes>"
      ]
     },
     "metadata": {
      "needs_background": "light"
     },
     "output_type": "display_data"
    }
   ],
   "source": [
    "plt.imshow(stacked_threes.mean(0), cmap='gray')"
   ]
  },
  {
   "cell_type": "code",
   "execution_count": 36,
   "metadata": {},
   "outputs": [
    {
     "data": {
      "text/plain": [
       "<matplotlib.image.AxesImage at 0x7f86a4447358>"
      ]
     },
     "execution_count": 36,
     "metadata": {},
     "output_type": "execute_result"
    },
    {
     "data": {
      "image/png": "[encoded data removed]",
      "text/plain": [
       "<Figure size 432x288 with 1 Axes>"
      ]
     },
     "metadata": {
      "needs_background": "light"
     },
     "output_type": "display_data"
    }
   ],
   "source": [
    "mean7 = stacked_sevens.mean(0)\n",
    "plt.imshow(mean7, cmap='gray')"
   ]
  },
  {
   "cell_type": "code",
   "execution_count": 50,
   "metadata": {},
   "outputs": [],
   "source": [
    "a_3 = stacked_threes[6]"
   ]
  },
  {
   "cell_type": "code",
   "execution_count": 51,
   "metadata": {},
   "outputs": [
    {
     "data": {
      "text/plain": [
       "<matplotlib.image.AxesImage at 0x7f86a4246c50>"
      ]
     },
     "execution_count": 51,
     "metadata": {},
     "output_type": "execute_result"
    },
    {
     "data": {
      "image/png": "[encoded data removed]",
      "text/plain": [
       "<Figure size 432x288 with 1 Axes>"
      ]
     },
     "metadata": {
      "needs_background": "light"
     },
     "output_type": "display_data"
    }
   ],
   "source": [
    "plt.imshow(a_3, cmap='gray')"
   ]
  },
  {
   "cell_type": "code",
   "execution_count": 52,
   "metadata": {},
   "outputs": [
    {
     "data": {
      "text/plain": [
       "<matplotlib.image.AxesImage at 0x7f869cf7b668>"
      ]
     },
     "execution_count": 52,
     "metadata": {},
     "output_type": "execute_result"
    },
    {
     "data": {
      "image/png": "[encoded data removed]",
      "text/plain": [
       "<Figure size 432x288 with 1 Axes>"
      ]
     },
     "metadata": {
      "needs_background": "light"
     },
     "output_type": "display_data"
    }
   ],
   "source": [
    "dist_3_abs_tensor = (a_3-mean3).abs()\n",
    "plt.imshow(dist_3_abs_tensor, cmap='gray')"
   ]
  },
  {
   "cell_type": "code",
   "execution_count": 59,
   "metadata": {},
   "outputs": [
    {
     "data": {
      "text/plain": [
       "(tensor(0.1147), tensor(0.0427))"
      ]
     },
     "execution_count": 59,
     "metadata": {},
     "output_type": "execute_result"
    }
   ],
   "source": [
    "dist_3_abs = dist_3_abs_tensor.mean()\n",
    "dist_3_sqr = ((a_3 - mean3)**2).mean()\n",
    "dist_3_abs,dist_3_sqr"
   ]
  },
  {
   "cell_type": "code",
   "execution_count": 54,
   "metadata": {},
   "outputs": [
    {
     "data": {
      "text/plain": [
       "(tensor(0.1558), tensor(0.2998))"
      ]
     },
     "execution_count": 54,
     "metadata": {},
     "output_type": "execute_result"
    }
   ],
   "source": [
    "dist_7_abs = (a_3 - mean7).abs().mean()\n",
    "dist_7_sqr = ((a_3 - mean7)**2).mean().sqrt()\n",
    "dist_7_abs,dist_7_sqr"
   ]
  },
  {
   "cell_type": "code",
   "execution_count": 55,
   "metadata": {},
   "outputs": [],
   "source": [
    "import torch.nn.functional as F"
   ]
  },
  {
   "cell_type": "code",
   "execution_count": 60,
   "metadata": {},
   "outputs": [
    {
     "data": {
      "text/plain": [
       "(tensor(0.1147), tensor(0.0427))"
      ]
     },
     "execution_count": 60,
     "metadata": {},
     "output_type": "execute_result"
    }
   ],
   "source": [
    "F.l1_loss(a_3,mean3),F.mse_loss(a_3,mean3)"
   ]
  },
  {
   "cell_type": "code",
   "execution_count": 61,
   "metadata": {},
   "outputs": [],
   "source": [
    "data = [[1,2,3],[4,5,6]]\n",
    "arr = np.array (data)\n",
    "tns = torch.tensor(data)"
   ]
  },
  {
   "cell_type": "code",
   "execution_count": 62,
   "metadata": {},
   "outputs": [
    {
     "data": {
      "text/plain": [
       "'torch.LongTensor'"
      ]
     },
     "execution_count": 62,
     "metadata": {},
     "output_type": "execute_result"
    }
   ],
   "source": [
    "tns.type()"
   ]
  },
  {
   "cell_type": "code",
   "execution_count": 65,
   "metadata": {},
   "outputs": [
    {
     "data": {
      "text/plain": [
       "'torch.FloatTensor'"
      ]
     },
     "execution_count": 65,
     "metadata": {},
     "output_type": "execute_result"
    }
   ],
   "source": [
    "(tns*1.5).type()"
   ]
  },
  {
   "cell_type": "code",
   "execution_count": 66,
   "metadata": {},
   "outputs": [
    {
     "name": "stdout",
     "output_type": "stream",
     "text": [
      "README.md\t examples\t mnist_train.csv\n",
      "docker-examples  mnist_test.csv  tutorials\n"
     ]
    }
   ],
   "source": [
    "!ls"
   ]
  },
  {
   "cell_type": "code",
   "execution_count": 75,
   "metadata": {},
   "outputs": [],
   "source": [
    "df_valid = pd.read_csv('mnist_test.csv')"
   ]
  },
  {
   "cell_type": "code",
   "execution_count": 76,
   "metadata": {},
   "outputs": [
    {
     "data": {
      "text/plain": [
       "(torch.Size([6131, 28, 28]), torch.Size([6265, 28, 28]))"
      ]
     },
     "execution_count": 76,
     "metadata": {},
     "output_type": "execute_result"
    }
   ],
   "source": [
    "valid_3_tens = torch.Tensor(df[df.label == 3][df_valid.columns[1:]].values).int().reshape(-1,28,28)\n",
    "valid_3_tens = valid_3_tens.float()/255\n",
    "valid_7_tens = torch.Tensor(df[df.label == 7][df_valid.columns[1:]].values).int().reshape(-1,28,28)\n",
    "valid_7_tens = valid_7_tens.float()/255\n",
    "valid_3_tens.shape,valid_7_tens.shape"
   ]
  },
  {
   "cell_type": "code",
   "execution_count": 77,
   "metadata": {},
   "outputs": [
    {
     "data": {
      "text/plain": [
       "tensor(0.1147)"
      ]
     },
     "execution_count": 77,
     "metadata": {},
     "output_type": "execute_result"
    }
   ],
   "source": [
    "def mnist_distance(a,b): return (a-b).abs().mean((-1,-2))\n",
    "mnist_distance(a_3, mean3)"
   ]
  },
  {
   "cell_type": "code",
   "execution_count": 78,
   "metadata": {},
   "outputs": [
    {
     "data": {
      "text/plain": [
       "(torch.Size([6131, 28, 28]), torch.Size([28, 28]))"
      ]
     },
     "execution_count": 78,
     "metadata": {},
     "output_type": "execute_result"
    }
   ],
   "source": [
    "valid_3_tens.shape, mean3.shape"
   ]
  },
  {
   "cell_type": "code",
   "execution_count": 79,
   "metadata": {},
   "outputs": [
    {
     "data": {
      "text/plain": [
       "(tensor([0.1261, 0.1074, 0.1310,  ..., 0.1178, 0.1564, 0.1182]),\n",
       " torch.Size([6131]))"
      ]
     },
     "execution_count": 79,
     "metadata": {},
     "output_type": "execute_result"
    }
   ],
   "source": [
    "valid_3_dist = mnist_distance(valid_3_tens, mean3)\n",
    "valid_3_dist, valid_3_dist.shape"
   ]
  },
  {
   "cell_type": "code",
   "execution_count": 80,
   "metadata": {},
   "outputs": [],
   "source": [
    "def is_3(x): return mnist_distance(x,mean3) < mnist_distance(x,mean7)"
   ]
  },
  {
   "cell_type": "code",
   "execution_count": 81,
   "metadata": {},
   "outputs": [
    {
     "data": {
      "text/plain": [
       "(tensor(True), tensor(1.))"
      ]
     },
     "execution_count": 81,
     "metadata": {},
     "output_type": "execute_result"
    }
   ],
   "source": [
    "is_3(a_3), is_3(a_3).float()"
   ]
  },
  {
   "cell_type": "code",
   "execution_count": 82,
   "metadata": {},
   "outputs": [],
   "source": [
    "accuracy_3s =      is_3(valid_3_tens).float() .mean()\n",
    "accuracy_7s = (1 - is_3(valid_7_tens).float()).mean()"
   ]
  },
  {
   "cell_type": "code",
   "execution_count": 83,
   "metadata": {},
   "outputs": [
    {
     "data": {
      "text/plain": [
       "(tensor(0.8912), tensor(0.9962), tensor(0.9437))"
      ]
     },
     "execution_count": 83,
     "metadata": {},
     "output_type": "execute_result"
    }
   ],
   "source": [
    "accuracy_3s,accuracy_7s,(accuracy_3s+accuracy_7s)/2"
   ]
  },
  {
   "cell_type": "code",
   "execution_count": 112,
   "metadata": {},
   "outputs": [],
   "source": [
    "xt = torch.tensor(2.)"
   ]
  },
  {
   "cell_type": "code",
   "execution_count": 113,
   "metadata": {},
   "outputs": [
    {
     "data": {
      "text/plain": [
       "tensor(2., requires_grad=True)"
      ]
     },
     "execution_count": 113,
     "metadata": {},
     "output_type": "execute_result"
    }
   ],
   "source": [
    "xt.requires_grad_()"
   ]
  },
  {
   "cell_type": "code",
   "execution_count": 114,
   "metadata": {},
   "outputs": [
    {
     "data": {
      "text/plain": [
       "tensor(2., requires_grad=True)"
      ]
     },
     "execution_count": 114,
     "metadata": {},
     "output_type": "execute_result"
    }
   ],
   "source": [
    "xt"
   ]
  },
  {
   "cell_type": "code",
   "execution_count": 115,
   "metadata": {},
   "outputs": [],
   "source": [
    "def f(x): return x**3"
   ]
  },
  {
   "cell_type": "code",
   "execution_count": 116,
   "metadata": {},
   "outputs": [
    {
     "data": {
      "text/plain": [
       "tensor(8., grad_fn=<PowBackward0>)"
      ]
     },
     "execution_count": 116,
     "metadata": {},
     "output_type": "execute_result"
    }
   ],
   "source": [
    "yt = f(xt)\n",
    "yt"
   ]
  },
  {
   "cell_type": "code",
   "execution_count": 117,
   "metadata": {},
   "outputs": [],
   "source": [
    "yt.backward()"
   ]
  },
  {
   "cell_type": "code",
   "execution_count": 118,
   "metadata": {},
   "outputs": [
    {
     "data": {
      "text/plain": [
       "tensor(12.)"
      ]
     },
     "execution_count": 118,
     "metadata": {},
     "output_type": "execute_result"
    }
   ],
   "source": [
    "xt.grad"
   ]
  },
  {
   "cell_type": "code",
   "execution_count": 120,
   "metadata": {},
   "outputs": [
    {
     "data": {
      "text/plain": [
       "tensor([ 3.,  4., 10.], requires_grad=True)"
      ]
     },
     "execution_count": 120,
     "metadata": {},
     "output_type": "execute_result"
    }
   ],
   "source": [
    "xt = torch.tensor([3.,4.,10.]).requires_grad_()\n",
    "xt"
   ]
  },
  {
   "cell_type": "code",
   "execution_count": 121,
   "metadata": {},
   "outputs": [
    {
     "data": {
      "text/plain": [
       "tensor(125., grad_fn=<SumBackward0>)"
      ]
     },
     "execution_count": 121,
     "metadata": {},
     "output_type": "execute_result"
    }
   ],
   "source": [
    "def f(x): return (x**2).sum()\n",
    "\n",
    "yt = f(xt)\n",
    "yt"
   ]
  },
  {
   "cell_type": "code",
   "execution_count": 122,
   "metadata": {},
   "outputs": [
    {
     "data": {
      "text/plain": [
       "tensor([ 6.,  8., 20.])"
      ]
     },
     "execution_count": 122,
     "metadata": {},
     "output_type": "execute_result"
    }
   ],
   "source": [
    "yt.backward()\n",
    "xt.grad"
   ]
  },
  {
   "cell_type": "code",
   "execution_count": 123,
   "metadata": {},
   "outputs": [
    {
     "data": {
      "text/plain": [
       "tensor([ 0.,  1.,  2.,  3.,  4.,  5.,  6.,  7.,  8.,  9., 10., 11., 12., 13.,\n",
       "        14., 15., 16., 17., 18., 19.])"
      ]
     },
     "execution_count": 123,
     "metadata": {},
     "output_type": "execute_result"
    }
   ],
   "source": [
    "time = torch.arange(0,20).float(); time"
   ]
  },
  {
   "cell_type": "code",
   "execution_count": 263,
   "metadata": {},
   "outputs": [],
   "source": [
    "aa=2; bb=4"
   ]
  },
  {
   "cell_type": "code",
   "execution_count": 264,
   "metadata": {},
   "outputs": [
    {
     "data": {
      "text/plain": [
       "tensor([ 0.,  1.,  2.,  3.,  4.,  5.,  6.,  7.,  8.,  9., 10., 11., 12., 13.,\n",
       "        14., 15., 16., 17., 18., 19.])"
      ]
     },
     "execution_count": 264,
     "metadata": {},
     "output_type": "execute_result"
    }
   ],
   "source": [
    "time = torch.arange(0,20).float()\n",
    "time"
   ]
  },
  {
   "cell_type": "code",
   "execution_count": 265,
   "metadata": {},
   "outputs": [
    {
     "name": "stdout",
     "output_type": "stream",
     "text": [
      "\u001b[0;31mDocstring:\u001b[0m\n",
      "randn(*size, out=None, dtype=None, layout=torch.strided, device=None, requires_grad=False) -> Tensor\n",
      "\n",
      "Returns a tensor filled with random numbers from a normal distribution\n",
      "with mean `0` and variance `1` (also called the standard normal\n",
      "distribution).\n",
      "\n",
      ".. math::\n",
      "    \\text{out}_{i} \\sim \\mathcal{N}(0, 1)\n",
      "\n",
      "The shape of the tensor is defined by the variable argument :attr:`size`.\n",
      "\n",
      "Args:\n",
      "    size (int...): a sequence of integers defining the shape of the output tensor.\n",
      "        Can be a variable number of arguments or a collection like a list or tuple.\n",
      "    out (Tensor, optional): the output tensor.\n",
      "    dtype (:class:`torch.dtype`, optional): the desired data type of returned tensor.\n",
      "        Default: if ``None``, uses a global default (see :func:`torch.set_default_tensor_type`).\n",
      "    layout (:class:`torch.layout`, optional): the desired layout of returned Tensor.\n",
      "        Default: ``torch.strided``.\n",
      "    device (:class:`torch.device`, optional): the desired device of returned tensor.\n",
      "        Default: if ``None``, uses the current device for the default tensor type\n",
      "        (see :func:`torch.set_default_tensor_type`). :attr:`device` will be the CPU\n",
      "        for CPU tensor types and the current CUDA device for CUDA tensor types.\n",
      "    requires_grad (bool, optional): If autograd should record operations on the\n",
      "        returned tensor. Default: ``False``.\n",
      "\n",
      "Example::\n",
      "\n",
      "    >>> torch.randn(4)\n",
      "    tensor([-2.1436,  0.9966,  2.3426, -0.6366])\n",
      "    >>> torch.randn(2, 3)\n",
      "    tensor([[ 1.5954,  2.8929, -1.0923],\n",
      "            [ 1.1719, -0.4709, -0.1996]])\n",
      "\u001b[0;31mType:\u001b[0m      builtin_function_or_method\n"
     ]
    }
   ],
   "source": [
    "??torch.randn"
   ]
  },
  {
   "cell_type": "code",
   "execution_count": 266,
   "metadata": {},
   "outputs": [
    {
     "data": {
      "image/png": "[encoded data removed]",
      "text/plain": [
       "<Figure size 432x288 with 1 Axes>"
      ]
     },
     "metadata": {
      "needs_background": "light"
     },
     "output_type": "display_data"
    }
   ],
   "source": [
    "speed = torch.randn(20)*3 + 0.75*(time-9.5)**2 + 1\n",
    "plt.scatter(time,speed);"
   ]
  },
  {
   "cell_type": "code",
   "execution_count": 267,
   "metadata": {},
   "outputs": [],
   "source": [
    "def f(t, params):\n",
    "    a,b,c = params\n",
    "    return a*(t**2) + (b*t) + c"
   ]
  },
  {
   "cell_type": "code",
   "execution_count": 268,
   "metadata": {},
   "outputs": [],
   "source": [
    "def mse(preds, targets): return ((preds-targets)**2).mean()"
   ]
  },
  {
   "cell_type": "code",
   "execution_count": 269,
   "metadata": {},
   "outputs": [],
   "source": [
    "params = torch.randn(3).requires_grad_()"
   ]
  },
  {
   "cell_type": "code",
   "execution_count": 270,
   "metadata": {},
   "outputs": [],
   "source": [
    "orig_params = params.clone()"
   ]
  },
  {
   "cell_type": "code",
   "execution_count": 271,
   "metadata": {},
   "outputs": [],
   "source": [
    "preds = f(time, params)"
   ]
  },
  {
   "cell_type": "code",
   "execution_count": 272,
   "metadata": {},
   "outputs": [
    {
     "name": "stdout",
     "output_type": "stream",
     "text": [
      "\u001b[0;31mDocstring:\u001b[0m\n",
      "Returns a new Tensor, detached from the current graph.\n",
      "\n",
      "The result will never require gradient.\n",
      "\n",
      ".. note::\n",
      "\n",
      "  Returned Tensor shares the same storage with the original one.\n",
      "  In-place modifications on either of them will be seen, and may trigger\n",
      "  errors in correctness checks.\n",
      "  IMPORTANT NOTE: Previously, in-place size / stride / storage changes\n",
      "  (such as `resize_` / `resize_as_` / `set_` / `transpose_`) to the returned tensor\n",
      "  also update the original tensor. Now, these in-place changes will not update the\n",
      "  original tensor anymore, and will instead trigger an error.\n",
      "  For sparse tensors:\n",
      "  In-place indices / values changes (such as `zero_` / `copy_` / `add_`) to the\n",
      "  returned tensor will not update the original tensor anymore, and will instead\n",
      "  trigger an error.\n",
      "\u001b[0;31mType:\u001b[0m      method_descriptor\n"
     ]
    }
   ],
   "source": [
    "??torch.Tensor.detach"
   ]
  },
  {
   "cell_type": "code",
   "execution_count": 273,
   "metadata": {},
   "outputs": [],
   "source": [
    "def show_preds(preds, ax=None):\n",
    "    if ax is None: ax=plt.subplots()[1]\n",
    "    ax.scatter(time, speed)\n",
    "    ax.scatter(time, preds.detach().numpy(), color='red')\n",
    "    #ax.set_ylim(-300,100)"
   ]
  },
  {
   "cell_type": "code",
   "execution_count": 274,
   "metadata": {},
   "outputs": [
    {
     "data": {
      "image/png": "[encoded data removed]",
      "text/plain": [
       "<Figure size 432x288 with 1 Axes>"
      ]
     },
     "metadata": {
      "needs_background": "light"
     },
     "output_type": "display_data"
    }
   ],
   "source": [
    "show_preds(preds)"
   ]
  },
  {
   "cell_type": "code",
   "execution_count": 275,
   "metadata": {},
   "outputs": [
    {
     "data": {
      "text/plain": [
       "tensor(12487.7500, grad_fn=<MeanBackward0>)"
      ]
     },
     "execution_count": 275,
     "metadata": {},
     "output_type": "execute_result"
    }
   ],
   "source": [
    "loss = mse(preds, speed)\n",
    "loss"
   ]
  },
  {
   "cell_type": "code",
   "execution_count": 276,
   "metadata": {},
   "outputs": [
    {
     "data": {
      "text/plain": [
       "tensor([-36495.8281,  -2348.0811,   -180.2215])"
      ]
     },
     "execution_count": 276,
     "metadata": {},
     "output_type": "execute_result"
    }
   ],
   "source": [
    "loss.backward()\n",
    "params.grad"
   ]
  },
  {
   "cell_type": "code",
   "execution_count": 277,
   "metadata": {},
   "outputs": [
    {
     "data": {
      "text/plain": [
       "tensor([-0.3650, -0.0235, -0.0018])"
      ]
     },
     "execution_count": 277,
     "metadata": {},
     "output_type": "execute_result"
    }
   ],
   "source": [
    "params.grad * 1e-5"
   ]
  },
  {
   "cell_type": "code",
   "execution_count": 314,
   "metadata": {},
   "outputs": [
    {
     "data": {
      "text/plain": [
       "tensor([ 0.1717, -0.6160,  0.5363], requires_grad=True)"
      ]
     },
     "execution_count": 314,
     "metadata": {},
     "output_type": "execute_result"
    }
   ],
   "source": [
    "params"
   ]
  },
  {
   "cell_type": "code",
   "execution_count": 279,
   "metadata": {},
   "outputs": [],
   "source": [
    "# params -= lr * params.grad.data\n",
    "# ---------------------------------------------------------------------------\n",
    "# RuntimeError                              Traceback (most recent call last)\n",
    "# <ipython-input-177-e02ba1ef5d50> in <module>\n",
    "# ----> 1 params -= lr * params.grad.data\n",
    "\n",
    "# RuntimeError: a leaf Variable that requires grad is being used in an in-place operation"
   ]
  },
  {
   "cell_type": "code",
   "execution_count": 280,
   "metadata": {},
   "outputs": [],
   "source": [
    "lr = 1e-5\n",
    "params.data -= lr * params.grad.data\n",
    "params.grad = None"
   ]
  },
  {
   "cell_type": "code",
   "execution_count": 281,
   "metadata": {},
   "outputs": [],
   "source": [
    "def apply_step(params, prn=True):\n",
    "    preds = f(time, params)\n",
    "    loss = mse(preds, speed)\n",
    "    loss.backward()\n",
    "    params.data -= lr * params.grad.data\n",
    "    params.grad = None\n",
    "    if prn: print(loss.item())\n",
    "    return preds"
   ]
  },
  {
   "cell_type": "code",
   "execution_count": 282,
   "metadata": {},
   "outputs": [],
   "source": [
    "lr = 1e-6"
   ]
  },
  {
   "cell_type": "code",
   "execution_count": 315,
   "metadata": {},
   "outputs": [
    {
     "name": "stdout",
     "output_type": "stream",
     "text": [
      "651.3079833984375\n",
      "651.3075561523438\n",
      "651.3070678710938\n",
      "651.3067626953125\n",
      "651.3062744140625\n",
      "651.3057861328125\n",
      "651.3053588867188\n",
      "651.3049926757812\n",
      "651.3046264648438\n",
      "651.3040771484375\n"
     ]
    }
   ],
   "source": [
    "for i in range(10): apply_step(params)"
   ]
  },
  {
   "cell_type": "code",
   "execution_count": 284,
   "metadata": {},
   "outputs": [],
   "source": [
    "#hide\n",
    "params = orig_params.detach().requires_grad_()"
   ]
  },
  {
   "cell_type": "code",
   "execution_count": 316,
   "metadata": {},
   "outputs": [
    {
     "data": {
      "image/png": "[encoded data removed]",
      "text/plain": [
       "<Figure size 864x216 with 4 Axes>"
      ]
     },
     "metadata": {
      "needs_background": "light"
     },
     "output_type": "display_data"
    }
   ],
   "source": [
    "_,axs = plt.subplots(1,4,figsize=(12,3))\n",
    "for ax in axs: show_preds(apply_step(params, False), ax)\n",
    "plt.tight_layout()"
   ]
  },
  {
   "cell_type": "code",
   "execution_count": 292,
   "metadata": {},
   "outputs": [],
   "source": [
    "train_x = torch.cat([stacked_threes, stacked_sevens]).view(-1, 28*28)"
   ]
  },
  {
   "cell_type": "code",
   "execution_count": 318,
   "metadata": {},
   "outputs": [
    {
     "data": {
      "text/plain": [
       "(torch.Size([12396, 784]), torch.Size([12396, 1]))"
      ]
     },
     "execution_count": 318,
     "metadata": {},
     "output_type": "execute_result"
    }
   ],
   "source": [
    "train_y = torch.tensor([1]*len(stacked_threes) + [0]*len(stacked_sevens)).unsqueeze(1)\n",
    "train_x.shape,train_y.shape"
   ]
  },
  {
   "cell_type": "code",
   "execution_count": 326,
   "metadata": {},
   "outputs": [
    {
     "data": {
      "text/plain": [
       "tensor([[1],\n",
       "        [1],\n",
       "        [0],\n",
       "        [0],\n",
       "        [0]])"
      ]
     },
     "execution_count": 326,
     "metadata": {},
     "output_type": "execute_result"
    }
   ],
   "source": [
    "torch.tensor([1]*2 + [0]*3).unsqueeze(1)"
   ]
  },
  {
   "cell_type": "code",
   "execution_count": 333,
   "metadata": {},
   "outputs": [
    {
     "data": {
      "text/plain": [
       "(torch.Size([784]), tensor([1]))"
      ]
     },
     "execution_count": 333,
     "metadata": {},
     "output_type": "execute_result"
    }
   ],
   "source": [
    "dset = list(zip(train_x,train_y))\n",
    "x,y = dset[0]\n",
    "x.shape,y"
   ]
  },
  {
   "cell_type": "code",
   "execution_count": 337,
   "metadata": {},
   "outputs": [
    {
     "data": {
      "text/plain": [
       "array([32])"
      ]
     },
     "execution_count": 337,
     "metadata": {},
     "output_type": "execute_result"
    }
   ],
   "source": [
    "np.array([1,2,3])@np.array([[4],[5],[6]])"
   ]
  },
  {
   "cell_type": "code",
   "execution_count": 338,
   "metadata": {},
   "outputs": [],
   "source": [
    "valid_x = torch.cat([valid_3_tens, valid_7_tens]).view(-1, 28*28)\n",
    "valid_y = torch.tensor([1]*len(valid_3_tens) + [0]*len(valid_7_tens)).unsqueeze(1)\n",
    "valid_dset = list(zip(valid_x,valid_y))"
   ]
  },
  {
   "cell_type": "code",
   "execution_count": 340,
   "metadata": {},
   "outputs": [],
   "source": [
    "def init_params(size, std=1.0): return (torch.randn(size)*std).requires_grad_()"
   ]
  },
  {
   "cell_type": "code",
   "execution_count": 362,
   "metadata": {},
   "outputs": [],
   "source": [
    "weights = init_params((28*28,1))"
   ]
  },
  {
   "cell_type": "code",
   "execution_count": 363,
   "metadata": {},
   "outputs": [],
   "source": [
    "bias = init_params(1)"
   ]
  },
  {
   "cell_type": "code",
   "execution_count": 364,
   "metadata": {},
   "outputs": [
    {
     "data": {
      "text/plain": [
       "tensor([-11.8828], grad_fn=<AddBackward0>)"
      ]
     },
     "execution_count": 364,
     "metadata": {},
     "output_type": "execute_result"
    }
   ],
   "source": [
    "(train_x[0]*weights.T).sum() + bias"
   ]
  },
  {
   "cell_type": "code",
   "execution_count": 365,
   "metadata": {},
   "outputs": [
    {
     "data": {
      "text/plain": [
       "tensor([[-11.8828],\n",
       "        [ -8.6760],\n",
       "        [ -6.7320],\n",
       "        ...,\n",
       "        [-12.3247],\n",
       "        [ -5.9367],\n",
       "        [ -7.0124]], grad_fn=<AddBackward0>)"
      ]
     },
     "execution_count": 365,
     "metadata": {},
     "output_type": "execute_result"
    }
   ],
   "source": [
    "def linear1(xb): return xb@weights + bias\n",
    "preds = linear1(train_x)\n",
    "preds"
   ]
  },
  {
   "cell_type": "code",
   "execution_count": 366,
   "metadata": {},
   "outputs": [
    {
     "data": {
      "text/plain": [
       "tensor([[False],\n",
       "        [False],\n",
       "        [False],\n",
       "        ...,\n",
       "        [ True],\n",
       "        [ True],\n",
       "        [ True]])"
      ]
     },
     "execution_count": 366,
     "metadata": {},
     "output_type": "execute_result"
    }
   ],
   "source": [
    "corrects = (preds>0.0).float() == train_y\n",
    "corrects"
   ]
  },
  {
   "cell_type": "code",
   "execution_count": 367,
   "metadata": {},
   "outputs": [
    {
     "data": {
      "text/plain": [
       "0.5636495351791382"
      ]
     },
     "execution_count": 367,
     "metadata": {},
     "output_type": "execute_result"
    }
   ],
   "source": [
    "corrects.float().mean().item()"
   ]
  },
  {
   "cell_type": "code",
   "execution_count": 411,
   "metadata": {},
   "outputs": [],
   "source": [
    "with torch.no_grad(): weights *= 2"
   ]
  },
  {
   "cell_type": "code",
   "execution_count": 417,
   "metadata": {},
   "outputs": [
    {
     "data": {
      "text/plain": [
       "tensor(-79.5371, grad_fn=<SumBackward0>)"
      ]
     },
     "execution_count": 417,
     "metadata": {},
     "output_type": "execute_result"
    }
   ],
   "source": [
    "weights.sum()"
   ]
  },
  {
   "cell_type": "code",
   "execution_count": 418,
   "metadata": {},
   "outputs": [
    {
     "data": {
      "text/plain": [
       "0.5653436779975891"
      ]
     },
     "execution_count": 418,
     "metadata": {},
     "output_type": "execute_result"
    }
   ],
   "source": [
    "preds = linear1(train_x)\n",
    "((preds>0.0).float() == train_y).float().mean().item()"
   ]
  },
  {
   "cell_type": "code",
   "execution_count": 419,
   "metadata": {},
   "outputs": [
    {
     "data": {
      "text/plain": [
       "tensor([-46.2316], grad_fn=<AddBackward0>)"
      ]
     },
     "execution_count": 419,
     "metadata": {},
     "output_type": "execute_result"
    }
   ],
   "source": [
    "linear1(train_x[0])"
   ]
  },
  {
   "cell_type": "code",
   "execution_count": 420,
   "metadata": {},
   "outputs": [],
   "source": [
    "def mnist_loss(predictions, targets):\n",
    "    predictions = predictions.sigmoid()\n",
    "    return torch.where(targets==1, 1-predictions, predictions).mean()"
   ]
  },
  {
   "cell_type": "code",
   "execution_count": 422,
   "metadata": {},
   "outputs": [],
   "source": [
    "from torch.utils.data import DataLoader\n",
    "\n",
    "# train_dataloader = DataLoader(training_data, batch_size=64, shuffle=True)\n",
    "# test_dataloader = DataLoader(test_data, batch_size=64, shuffle=True)"
   ]
  },
  {
   "cell_type": "code",
   "execution_count": 423,
   "metadata": {},
   "outputs": [
    {
     "data": {
      "text/plain": [
       "[tensor([7, 5, 0, 9, 1]),\n",
       " tensor([11,  2,  6,  8, 13]),\n",
       " tensor([12,  3, 14,  4, 10])]"
      ]
     },
     "execution_count": 423,
     "metadata": {},
     "output_type": "execute_result"
    }
   ],
   "source": [
    "coll = range(15)\n",
    "dl = DataLoader(coll, batch_size=5, shuffle=True)\n",
    "list(dl)"
   ]
  },
  {
   "cell_type": "code",
   "execution_count": 430,
   "metadata": {},
   "outputs": [],
   "source": [
    "ds = [(char, ord(char)-97) for char in 'abcdefghijklmno']\n"
   ]
  },
  {
   "cell_type": "code",
   "execution_count": 431,
   "metadata": {},
   "outputs": [
    {
     "ename": "NameError",
     "evalue": "name 'L' is not defined",
     "output_type": "error",
     "traceback": [
      "\u001b[0;31m---------------------------------------------------------------------------\u001b[0m",
      "\u001b[0;31mNameError\u001b[0m                                 Traceback (most recent call last)",
      "\u001b[0;32m<ipython-input-431-29c783224730>\u001b[0m in \u001b[0;36m<module>\u001b[0;34m\u001b[0m\n\u001b[0;32m----> 1\u001b[0;31m \u001b[0mds\u001b[0m \u001b[0;34m=\u001b[0m \u001b[0mL\u001b[0m\u001b[0;34m(\u001b[0m\u001b[0menumerate\u001b[0m\u001b[0;34m(\u001b[0m\u001b[0mstring\u001b[0m\u001b[0;34m.\u001b[0m\u001b[0mascii_lowercase\u001b[0m\u001b[0;34m)\u001b[0m\u001b[0;34m)\u001b[0m\u001b[0;34m\u001b[0m\u001b[0;34m\u001b[0m\u001b[0m\n\u001b[0m\u001b[1;32m      2\u001b[0m \u001b[0mds\u001b[0m\u001b[0;34m\u001b[0m\u001b[0;34m\u001b[0m\u001b[0m\n",
      "\u001b[0;31mNameError\u001b[0m: name 'L' is not defined"
     ]
    }
   ],
   "source": [
    "ds = L(enumerate(string.ascii_lowercase))\n",
    "ds"
   ]
  },
  {
   "cell_type": "code",
   "execution_count": 433,
   "metadata": {},
   "outputs": [
    {
     "data": {
      "text/plain": [
       "<torch.utils.data.dataloader.DataLoader at 0x7f86e5f5e080>"
      ]
     },
     "execution_count": 433,
     "metadata": {},
     "output_type": "execute_result"
    }
   ],
   "source": [
    "dl = DataLoader(ds, batch_size=6, shuffle=True)\n",
    "dl"
   ]
  },
  {
   "attachments": {},
   "cell_type": "markdown",
   "metadata": {},
   "source": [
    "## Finale"
   ]
  },
  {
   "cell_type": "code",
   "execution_count": 434,
   "metadata": {},
   "outputs": [],
   "source": [
    "weights = init_params((28*28,1))\n",
    "bias = init_params(1)"
   ]
  },
  {
   "cell_type": "code",
   "execution_count": 443,
   "metadata": {},
   "outputs": [
    {
     "data": {
      "text/plain": [
       "(torch.Size([256, 784]), torch.Size([256, 1]))"
      ]
     },
     "execution_count": 443,
     "metadata": {},
     "output_type": "execute_result"
    }
   ],
   "source": [
    "dl = DataLoader(dset, batch_size=256)\n",
    "xb,yb = list(dl)[0]\n",
    "xb.shape,yb.shape"
   ]
  },
  {
   "cell_type": "code",
   "execution_count": 444,
   "metadata": {},
   "outputs": [],
   "source": [
    "valid_dl = DataLoader(valid_dset, batch_size=256)"
   ]
  },
  {
   "cell_type": "code",
   "execution_count": 445,
   "metadata": {},
   "outputs": [
    {
     "data": {
      "text/plain": [
       "torch.Size([4, 784])"
      ]
     },
     "execution_count": 445,
     "metadata": {},
     "output_type": "execute_result"
    }
   ],
   "source": [
    "batch = train_x[:4]\n",
    "batch.shape"
   ]
  },
  {
   "cell_type": "code",
   "execution_count": 446,
   "metadata": {},
   "outputs": [
    {
     "data": {
      "text/plain": [
       "tensor([[8.0896],\n",
       "        [7.8730],\n",
       "        [2.1192],\n",
       "        [6.8070]], grad_fn=<AddBackward0>)"
      ]
     },
     "execution_count": 446,
     "metadata": {},
     "output_type": "execute_result"
    }
   ],
   "source": [
    "preds = linear1(batch)\n",
    "preds"
   ]
  },
  {
   "cell_type": "code",
   "execution_count": 447,
   "metadata": {},
   "outputs": [
    {
     "data": {
      "text/plain": [
       "tensor(0.0273, grad_fn=<MeanBackward0>)"
      ]
     },
     "execution_count": 447,
     "metadata": {},
     "output_type": "execute_result"
    }
   ],
   "source": [
    "loss = mnist_loss(preds, train_y[:4])\n",
    "loss"
   ]
  },
  {
   "cell_type": "code",
   "execution_count": 448,
   "metadata": {},
   "outputs": [
    {
     "data": {
      "text/plain": [
       "(torch.Size([784, 1]), tensor(-0.0044), tensor([-0.0244]))"
      ]
     },
     "execution_count": 448,
     "metadata": {},
     "output_type": "execute_result"
    }
   ],
   "source": [
    "loss.backward()\n",
    "weights.grad.shape,weights.grad.mean(),bias.grad"
   ]
  },
  {
   "cell_type": "code",
   "execution_count": 449,
   "metadata": {},
   "outputs": [],
   "source": [
    "def calc_grad(xb, yb, model):\n",
    "    preds = model(xb)\n",
    "    loss = mnist_loss(preds, yb)\n",
    "    loss.backward()"
   ]
  },
  {
   "cell_type": "code",
   "execution_count": 450,
   "metadata": {},
   "outputs": [
    {
     "data": {
      "text/plain": [
       "(tensor(-0.0087), tensor([-0.0488]))"
      ]
     },
     "execution_count": 450,
     "metadata": {},
     "output_type": "execute_result"
    }
   ],
   "source": [
    "calc_grad(batch, train_y[:4], linear1)\n",
    "weights.grad.mean(),bias.grad"
   ]
  },
  {
   "cell_type": "code",
   "execution_count": 451,
   "metadata": {},
   "outputs": [
    {
     "data": {
      "text/plain": [
       "(tensor(-0.0131), tensor([-0.0732]))"
      ]
     },
     "execution_count": 451,
     "metadata": {},
     "output_type": "execute_result"
    }
   ],
   "source": [
    "calc_grad(batch, train_y[:4], linear1)\n",
    "weights.grad.mean(),bias.grad"
   ]
  },
  {
   "cell_type": "code",
   "execution_count": 452,
   "metadata": {},
   "outputs": [],
   "source": [
    "weights.grad.zero_()\n",
    "bias.grad.zero_()"
   ]
  },
  {
   "cell_type": "code",
   "execution_count": 453,
   "metadata": {},
   "outputs": [],
   "source": [
    "def train_epoch(model, lr, params):\n",
    "    for xb,yb in dl:\n",
    "        calc_grad(xb, yb, model)\n",
    "        for p in params:\n",
    "            p.data -= p.grad*lr\n",
    "            p.grad.zero_()"
   ]
  },
  {
   "cell_type": "code",
   "execution_count": 454,
   "metadata": {},
   "outputs": [
    {
     "data": {
      "text/plain": [
       "tensor([[True],\n",
       "        [True],\n",
       "        [True],\n",
       "        [True]])"
      ]
     },
     "execution_count": 454,
     "metadata": {},
     "output_type": "execute_result"
    }
   ],
   "source": [
    "(preds>0.0).float() == train_y[:4]"
   ]
  },
  {
   "cell_type": "code",
   "execution_count": 455,
   "metadata": {},
   "outputs": [],
   "source": [
    "def batch_accuracy(xb, yb):\n",
    "    preds = xb.sigmoid()\n",
    "    correct = (preds>0.5) == yb\n",
    "    return correct.float().mean()"
   ]
  },
  {
   "cell_type": "code",
   "execution_count": 456,
   "metadata": {},
   "outputs": [
    {
     "data": {
      "text/plain": [
       "tensor(1.)"
      ]
     },
     "execution_count": 456,
     "metadata": {},
     "output_type": "execute_result"
    }
   ],
   "source": [
    "batch_accuracy(linear1(batch), train_y[:4])"
   ]
  },
  {
   "cell_type": "code",
   "execution_count": 457,
   "metadata": {},
   "outputs": [],
   "source": [
    "def validate_epoch(model):\n",
    "    accs = [batch_accuracy(model(xb), yb) for xb,yb in valid_dl]\n",
    "    return round(torch.stack(accs).mean().item(), 4)"
   ]
  },
  {
   "cell_type": "code",
   "execution_count": 458,
   "metadata": {},
   "outputs": [
    {
     "data": {
      "text/plain": [
       "0.4792"
      ]
     },
     "execution_count": 458,
     "metadata": {},
     "output_type": "execute_result"
    }
   ],
   "source": [
    "validate_epoch(linear1)"
   ]
  },
  {
   "cell_type": "code",
   "execution_count": 459,
   "metadata": {},
   "outputs": [
    {
     "data": {
      "text/plain": [
       "0.7075"
      ]
     },
     "execution_count": 459,
     "metadata": {},
     "output_type": "execute_result"
    }
   ],
   "source": [
    "lr = 1.\n",
    "params = weights,bias\n",
    "train_epoch(linear1, lr, params)\n",
    "validate_epoch(linear1)"
   ]
  },
  {
   "cell_type": "code",
   "execution_count": 460,
   "metadata": {},
   "outputs": [
    {
     "name": "stdout",
     "output_type": "stream",
     "text": [
      "0.8388 0.9056 0.929 0.9425 0.9484 0.9538 0.9571 0.9607 0.9628 0.965 0.9669 0.9686 0.9697 0.9705 0.9711 0.972 0.973 0.9735 0.9743 0.9752 "
     ]
    }
   ],
   "source": [
    "for i in range(20):\n",
    "    train_epoch(linear1, lr, params)\n",
    "    print(validate_epoch(linear1), end=' ')"
   ]
  },
  {
   "cell_type": "code",
   "execution_count": null,
   "metadata": {},
   "outputs": [],
   "source": []
  },
  {
   "attachments": {},
   "cell_type": "markdown",
   "metadata": {},
   "source": [
    "## optimizer"
   ]
  },
  {
   "cell_type": "code",
   "execution_count": 461,
   "metadata": {},
   "outputs": [],
   "source": [
    "linear_model = torch.nn.Linear(28*28,1)"
   ]
  },
  {
   "cell_type": "code",
   "execution_count": 462,
   "metadata": {},
   "outputs": [
    {
     "data": {
      "text/plain": [
       "(torch.Size([1, 784]), torch.Size([1]))"
      ]
     },
     "execution_count": 462,
     "metadata": {},
     "output_type": "execute_result"
    }
   ],
   "source": [
    "w,b = linear_model.parameters()\n",
    "w.shape,b.shape"
   ]
  },
  {
   "cell_type": "code",
   "execution_count": 463,
   "metadata": {},
   "outputs": [],
   "source": [
    "class BasicOptim:\n",
    "    def __init__(self,params,lr): self.params,self.lr = list(params),lr\n",
    "\n",
    "    def step(self, *args, **kwargs):\n",
    "        for p in self.params: p.data -= p.grad.data * self.lr\n",
    "\n",
    "    def zero_grad(self, *args, **kwargs):\n",
    "        for p in self.params: p.grad = None"
   ]
  },
  {
   "cell_type": "code",
   "execution_count": 464,
   "metadata": {},
   "outputs": [],
   "source": [
    "opt = BasicOptim(linear_model.parameters(), lr)"
   ]
  },
  {
   "cell_type": "code",
   "execution_count": 489,
   "metadata": {},
   "outputs": [],
   "source": [
    "def train_epoch(model):\n",
    "    for xb,yb in dl:\n",
    "        calc_grad(xb, yb, model)\n",
    "        opt.step()\n",
    "        opt.zero_grad()"
   ]
  },
  {
   "cell_type": "code",
   "execution_count": 490,
   "metadata": {},
   "outputs": [
    {
     "data": {
      "text/plain": [
       "0.9847"
      ]
     },
     "execution_count": 490,
     "metadata": {},
     "output_type": "execute_result"
    }
   ],
   "source": [
    "validate_epoch(linear_model)"
   ]
  },
  {
   "cell_type": "code",
   "execution_count": 467,
   "metadata": {},
   "outputs": [],
   "source": [
    "def train_model(model, epochs):\n",
    "    for i in range(epochs):\n",
    "        train_epoch(model)\n",
    "        print(validate_epoch(model), end=' ')"
   ]
  },
  {
   "cell_type": "code",
   "execution_count": 468,
   "metadata": {},
   "outputs": [
    {
     "name": "stdout",
     "output_type": "stream",
     "text": [
      "0.4888 0.7552 0.849 0.9098 0.9357 0.9483 0.9558 0.9613 0.9648 0.9695 0.9711 0.9728 0.974 0.975 0.9763 0.977 0.9779 0.9782 0.9786 0.979 "
     ]
    }
   ],
   "source": [
    "train_model(linear_model, 20)"
   ]
  },
  {
   "cell_type": "code",
   "execution_count": 469,
   "metadata": {},
   "outputs": [],
   "source": [
    "opt = torch.optim.SGD(linear_model.parameters(), lr=lr)\n"
   ]
  },
  {
   "cell_type": "code",
   "execution_count": 470,
   "metadata": {},
   "outputs": [
    {
     "name": "stdout",
     "output_type": "stream",
     "text": [
      "0.9796 0.9801 0.9808 0.981 0.981 0.9817 0.9819 0.9822 0.9825 0.9825 0.9829 0.9831 0.9835 0.9837 0.9839 0.984 0.9842 0.9845 0.9847 0.9847 "
     ]
    }
   ],
   "source": [
    "train_model(linear_model, 20)"
   ]
  },
  {
   "cell_type": "code",
   "execution_count": 473,
   "metadata": {},
   "outputs": [],
   "source": [
    "w1 = init_params((28*28,30))\n",
    "b1 = init_params(30)\n",
    "w2 = init_params((30,1))\n",
    "b2 = init_params(1)"
   ]
  },
  {
   "cell_type": "code",
   "execution_count": 509,
   "metadata": {},
   "outputs": [],
   "source": [
    "simple_net = torch.nn.Sequential(\n",
    "    torch.nn.Linear(28*28,30),\n",
    "    torch.nn.ReLU(),\n",
    "    torch.nn.Linear(30,1)\n",
    ")\n",
    "opt = torch.optim.SGD(simple_net.parameters(), lr=lr)"
   ]
  },
  {
   "cell_type": "code",
   "execution_count": null,
   "metadata": {},
   "outputs": [],
   "source": [
    "\n"
   ]
  },
  {
   "cell_type": "code",
   "execution_count": 510,
   "metadata": {},
   "outputs": [
    {
     "name": "stdout",
     "output_type": "stream",
     "text": [
      "0.5112 0.7356 0.8912 0.925 0.9404 0.9481 0.9537 0.9584 0.9622 0.9653 0.9672 0.9688 0.9699 0.9712 0.9719 0.9725 0.9738 0.9746 0.975 0.9756 "
     ]
    }
   ],
   "source": [
    "train_model(simple_net, 20)"
   ]
  },
  {
   "cell_type": "code",
   "execution_count": 508,
   "metadata": {},
   "outputs": [
    {
     "name": "stdout",
     "output_type": "stream",
     "text": [
      "0.9266 "
     ]
    }
   ],
   "source": [
    "for xb,yb in dl:\n",
    "    preds = simple_net(xb)\n",
    "    loss = mnist_loss(preds, yb)\n",
    "    loss.backward()\n",
    "    opt.step()\n",
    "    opt.zero_grad()\n",
    "print(validate_epoch(simple_net), end=' ')"
   ]
  },
  {
   "cell_type": "code",
   "execution_count": 488,
   "metadata": {},
   "outputs": [
    {
     "name": "stdout",
     "output_type": "stream",
     "text": [
      "0.4888 "
     ]
    }
   ],
   "source": [
    "train_epoch(simple_net)\n",
    "print(validate_epoch(simple_net), end=' ')"
   ]
  },
  {
   "cell_type": "code",
   "execution_count": 487,
   "metadata": {},
   "outputs": [],
   "source": [
    "# for epoch in range(20):\n",
    "#     pred_y = simple_net(data_x)\n",
    "#     loss = loss_function(pred_y, data_y)\n",
    "#     losses.append(loss.item())\n",
    "\n",
    "#     model.zero_grad()\n",
    "#     loss.backward()\n",
    "\n",
    "#     opt.step()\n",
    "\n",
    "#     print(validate_epoch(simple_net), end=' ')"
   ]
  },
  {
   "cell_type": "code",
   "execution_count": null,
   "metadata": {},
   "outputs": [],
   "source": []
  }
 ],
 "metadata": {
  "kernelspec": {
   "display_name": "Python 3",
   "language": "python",
   "name": "python3"
  },
  "language_info": {
   "codemirror_mode": {
    "name": "ipython",
    "version": 3
   },
   "file_extension": ".py",
   "mimetype": "text/x-python",
   "name": "python",
   "nbconvert_exporter": "python",
   "pygments_lexer": "ipython3",
   "version": "3.6.10"
  },
  "orig_nbformat": 4
 },
 "nbformat": 4,
 "nbformat_minor": 2
}
